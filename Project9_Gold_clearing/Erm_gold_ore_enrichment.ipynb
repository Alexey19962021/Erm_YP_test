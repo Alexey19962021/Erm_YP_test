{
 "cells": [
  {
   "cell_type": "markdown",
   "metadata": {
    "toc": true
   },
   "source": [
    "<h1>Содержание<span class=\"tocSkip\"></span></h1>\n",
    "<div class=\"toc\"><ul class=\"toc-item\"><li><span><a href=\"#Подготовка-данных\" data-toc-modified-id=\"Подготовка-данных-1\"><span class=\"toc-item-num\">1&nbsp;&nbsp;</span>Подготовка данных</a></span><ul class=\"toc-item\"><li><span><a href=\"#Знакомство-с-данными\" data-toc-modified-id=\"Знакомство-с-данными-1.1\"><span class=\"toc-item-num\">1.1&nbsp;&nbsp;</span>Знакомство с данными</a></span></li><li><span><a href=\"#Проверка-зависимости-для-определения-эффективности-обогащения\" data-toc-modified-id=\"Проверка-зависимости-для-определения-эффективности-обогащения-1.2\"><span class=\"toc-item-num\">1.2&nbsp;&nbsp;</span>Проверка зависимости для определения эффективности обогащения</a></span></li><li><span><a href=\"#Анализ-признаков,-отсутствующих-в-тестовой-выборке\" data-toc-modified-id=\"Анализ-признаков,-отсутствующих-в-тестовой-выборке-1.3\"><span class=\"toc-item-num\">1.3&nbsp;&nbsp;</span>Анализ признаков, отсутствующих в тестовой выборке</a></span></li><li><span><a href=\"#Предобработка-данных\" data-toc-modified-id=\"Предобработка-данных-1.4\"><span class=\"toc-item-num\">1.4&nbsp;&nbsp;</span>Предобработка данных</a></span></li></ul></li><li><span><a href=\"#Анализ-данных\" data-toc-modified-id=\"Анализ-данных-2\"><span class=\"toc-item-num\">2&nbsp;&nbsp;</span>Анализ данных</a></span><ul class=\"toc-item\"><li><span><a href=\"#Изменение-концентрации-металлов\" data-toc-modified-id=\"Изменение-концентрации-металлов-2.1\"><span class=\"toc-item-num\">2.1&nbsp;&nbsp;</span>Изменение концентрации металлов</a></span></li><li><span><a href=\"#Исследование-размеров-гранул-сырья\" data-toc-modified-id=\"Исследование-размеров-гранул-сырья-2.2\"><span class=\"toc-item-num\">2.2&nbsp;&nbsp;</span>Исследование размеров гранул сырья</a></span></li><li><span><a href=\"#Определение-суммарной-концентрации-веществ\" data-toc-modified-id=\"Определение-суммарной-концентрации-веществ-2.3\"><span class=\"toc-item-num\">2.3&nbsp;&nbsp;</span>Определение суммарной концентрации веществ</a></span></li></ul></li><li><span><a href=\"#Модель\" data-toc-modified-id=\"Модель-3\"><span class=\"toc-item-num\">3&nbsp;&nbsp;</span>Модель</a></span><ul class=\"toc-item\"><li><span><a href=\"#Преобразование-данных\" data-toc-modified-id=\"Преобразование-данных-3.1\"><span class=\"toc-item-num\">3.1&nbsp;&nbsp;</span>Преобразование данных</a></span></li><li><span><a href=\"#Функция-симметричного-среднего-абсолютного-процентного-отклонения\" data-toc-modified-id=\"Функция-симметричного-среднего-абсолютного-процентного-отклонения-3.2\"><span class=\"toc-item-num\">3.2&nbsp;&nbsp;</span>Функция симметричного среднего абсолютного процентного отклонения</a></span></li><li><span><a href=\"#Модель-рандомного-леса\" data-toc-modified-id=\"Модель-рандомного-леса-3.3\"><span class=\"toc-item-num\">3.3&nbsp;&nbsp;</span>Модель рандомного леса</a></span></li><li><span><a href=\"#Регрессионные-модели\" data-toc-modified-id=\"Регрессионные-модели-3.4\"><span class=\"toc-item-num\">3.4&nbsp;&nbsp;</span>Регрессионные модели</a></span></li><li><span><a href=\"#Градиентный-бустинг\" data-toc-modified-id=\"Градиентный-бустинг-3.5\"><span class=\"toc-item-num\">3.5&nbsp;&nbsp;</span>Градиентный бустинг</a></span></li><li><span><a href=\"#Стохастический-градиентный-спуск\" data-toc-modified-id=\"Стохастический-градиентный-спуск-3.6\"><span class=\"toc-item-num\">3.6&nbsp;&nbsp;</span>Стохастический градиентный спуск</a></span></li></ul></li><li><span><a href=\"#Вывод\" data-toc-modified-id=\"Вывод-4\"><span class=\"toc-item-num\">4&nbsp;&nbsp;</span>Вывод</a></span></li></ul></div>"
   ]
  },
  {
   "cell_type": "markdown",
   "metadata": {},
   "source": [
    "# Восстановление золота из руды"
   ]
  },
  {
   "cell_type": "markdown",
   "metadata": {},
   "source": [
    "Необходимо подготовить эффективную модель для некой компании разрабатывающей решения для промышленных предприятий.\n",
    "\n",
    "Модель должна предсказать коэффициент восстановления золота из золотосодержащей руды. В использовании имеются данные с параметрами добычи и очистки.\n",
    "\n",
    "Модель поможет оптимизировать производство, чтобы не запускать предприятие с убыточными характеристиками.\n",
    "\n",
    "Необходимо:\n",
    "\n",
    "1. Подготовить данные;\n",
    "2. Провести исследовательский анализ данных;\n",
    "3. Построить и обучить модель, используя кросс-валидацию.\n",
    "\n",
    "Нужно учесть концентрацию золота как после флотации, так и после финальной очистки при расчете заданной метрики (sMAPE)."
   ]
  },
  {
   "cell_type": "code",
   "execution_count": 37,
   "metadata": {},
   "outputs": [],
   "source": [
    "import pandas as pd\n",
    "import seaborn as sns\n",
    "import numpy as np\n",
    "import matplotlib.pyplot as plt\n",
    "import warnings\n",
    "\n",
    "from sklearn.model_selection import cross_val_score\n",
    "from sklearn import svm\n",
    "from sklearn.linear_model import ElasticNet, LinearRegression, SGDRegressor\n",
    "from sklearn.pipeline import make_pipeline\n",
    "from sklearn.tree import DecisionTreeRegressor\n",
    "from sklearn.ensemble import RandomForestRegressor, GradientBoostingRegressor\n",
    "from sklearn.preprocessing import StandardScaler, PolynomialFeatures, OneHotEncoder\n",
    "from sklearn.model_selection import train_test_split, cross_val_score\n",
    "from sklearn.feature_selection import RFECV\n",
    "from sklearn.utils import shuffle\n",
    "from sklearn.metrics import mean_squared_error, make_scorer, get_scorer\n",
    "from scipy import stats as st\n",
    "from tqdm import tqdm\n",
    "\n",
    "from sklearn.dummy import DummyRegressor\n",
    "#from random import shuffle\n",
    "\n",
    "warnings.filterwarnings('ignore')\n",
    "%matplotlib inline"
   ]
  },
  {
   "cell_type": "markdown",
   "metadata": {},
   "source": [
    "Из описания проекта понимаем, что для целевых признаков у нас есть формула для расчета и значения в целом мы можем предсказывать по ней, но, видимо, для лучших результатов нужно попробовать обучить модель для решения задачи."
   ]
  },
  {
   "cell_type": "markdown",
   "metadata": {},
   "source": [
    "##  Подготовка данных"
   ]
  },
  {
   "cell_type": "markdown",
   "metadata": {},
   "source": [
    "### Знакомство с данными"
   ]
  },
  {
   "cell_type": "code",
   "execution_count": 38,
   "metadata": {},
   "outputs": [],
   "source": [
    "try:\n",
    "    gold_full = pd.read_csv('gold_recovery_full_new.csv')\n",
    "except:\n",
    "    gold_full = pd.read_csv('/YP/gold_recovery_full_new.csv')\n",
    "\n",
    "try:\n",
    "    gold_train = pd.read_csv('gold_recovery_train_new.csv')\n",
    "except:\n",
    "    gold_train = pd.read_csv('/YP/gold_recovery_train_new.csv')\n",
    "    \n",
    "try:\n",
    "    gold_test = pd.read_csv('gold_recovery_test_new.csv')\n",
    "except:\n",
    "    gold_test = pd.read_csv('/YP/gold_recovery_test_new.csv')"
   ]
  },
  {
   "cell_type": "markdown",
   "metadata": {},
   "source": [
    "Проверим общий вид данных, что у нас есть в датасетах."
   ]
  },
  {
   "cell_type": "code",
   "execution_count": 39,
   "metadata": {
    "scrolled": true
   },
   "outputs": [
    {
     "name": "stdout",
     "output_type": "stream",
     "text": [
      "<class 'pandas.core.frame.DataFrame'>\n",
      "RangeIndex: 19439 entries, 0 to 19438\n",
      "Data columns (total 87 columns):\n",
      " #   Column                                              Non-Null Count  Dtype  \n",
      "---  ------                                              --------------  -----  \n",
      " 0   date                                                19439 non-null  object \n",
      " 1   final.output.concentrate_ag                         19438 non-null  float64\n",
      " 2   final.output.concentrate_pb                         19438 non-null  float64\n",
      " 3   final.output.concentrate_sol                        19228 non-null  float64\n",
      " 4   final.output.concentrate_au                         19439 non-null  float64\n",
      " 5   final.output.recovery                               19439 non-null  float64\n",
      " 6   final.output.tail_ag                                19438 non-null  float64\n",
      " 7   final.output.tail_pb                                19338 non-null  float64\n",
      " 8   final.output.tail_sol                               19433 non-null  float64\n",
      " 9   final.output.tail_au                                19439 non-null  float64\n",
      " 10  primary_cleaner.input.sulfate                       19415 non-null  float64\n",
      " 11  primary_cleaner.input.depressant                    19402 non-null  float64\n",
      " 12  primary_cleaner.input.feed_size                     19439 non-null  float64\n",
      " 13  primary_cleaner.input.xanthate                      19335 non-null  float64\n",
      " 14  primary_cleaner.output.concentrate_ag               19439 non-null  float64\n",
      " 15  primary_cleaner.output.concentrate_pb               19323 non-null  float64\n",
      " 16  primary_cleaner.output.concentrate_sol              19069 non-null  float64\n",
      " 17  primary_cleaner.output.concentrate_au               19439 non-null  float64\n",
      " 18  primary_cleaner.output.tail_ag                      19435 non-null  float64\n",
      " 19  primary_cleaner.output.tail_pb                      19418 non-null  float64\n",
      " 20  primary_cleaner.output.tail_sol                     19377 non-null  float64\n",
      " 21  primary_cleaner.output.tail_au                      19439 non-null  float64\n",
      " 22  primary_cleaner.state.floatbank8_a_air              19435 non-null  float64\n",
      " 23  primary_cleaner.state.floatbank8_a_level            19438 non-null  float64\n",
      " 24  primary_cleaner.state.floatbank8_b_air              19435 non-null  float64\n",
      " 25  primary_cleaner.state.floatbank8_b_level            19438 non-null  float64\n",
      " 26  primary_cleaner.state.floatbank8_c_air              19437 non-null  float64\n",
      " 27  primary_cleaner.state.floatbank8_c_level            19438 non-null  float64\n",
      " 28  primary_cleaner.state.floatbank8_d_air              19436 non-null  float64\n",
      " 29  primary_cleaner.state.floatbank8_d_level            19438 non-null  float64\n",
      " 30  rougher.calculation.sulfate_to_au_concentrate       19437 non-null  float64\n",
      " 31  rougher.calculation.floatbank10_sulfate_to_au_feed  19437 non-null  float64\n",
      " 32  rougher.calculation.floatbank11_sulfate_to_au_feed  19437 non-null  float64\n",
      " 33  rougher.calculation.au_pb_ratio                     19439 non-null  float64\n",
      " 34  rougher.input.feed_ag                               19439 non-null  float64\n",
      " 35  rougher.input.feed_pb                               19339 non-null  float64\n",
      " 36  rougher.input.feed_rate                             19428 non-null  float64\n",
      " 37  rougher.input.feed_size                             19294 non-null  float64\n",
      " 38  rougher.input.feed_sol                              19340 non-null  float64\n",
      " 39  rougher.input.feed_au                               19439 non-null  float64\n",
      " 40  rougher.input.floatbank10_sulfate                   19405 non-null  float64\n",
      " 41  rougher.input.floatbank10_xanthate                  19431 non-null  float64\n",
      " 42  rougher.input.floatbank11_sulfate                   19395 non-null  float64\n",
      " 43  rougher.input.floatbank11_xanthate                  18986 non-null  float64\n",
      " 44  rougher.output.concentrate_ag                       19439 non-null  float64\n",
      " 45  rougher.output.concentrate_pb                       19439 non-null  float64\n",
      " 46  rougher.output.concentrate_sol                      19416 non-null  float64\n",
      " 47  rougher.output.concentrate_au                       19439 non-null  float64\n",
      " 48  rougher.output.recovery                             19439 non-null  float64\n",
      " 49  rougher.output.tail_ag                              19438 non-null  float64\n",
      " 50  rougher.output.tail_pb                              19439 non-null  float64\n",
      " 51  rougher.output.tail_sol                             19439 non-null  float64\n",
      " 52  rougher.output.tail_au                              19439 non-null  float64\n",
      " 53  rougher.state.floatbank10_a_air                     19438 non-null  float64\n",
      " 54  rougher.state.floatbank10_a_level                   19438 non-null  float64\n",
      " 55  rougher.state.floatbank10_b_air                     19438 non-null  float64\n",
      " 56  rougher.state.floatbank10_b_level                   19438 non-null  float64\n",
      " 57  rougher.state.floatbank10_c_air                     19438 non-null  float64\n",
      " 58  rougher.state.floatbank10_c_level                   19438 non-null  float64\n",
      " 59  rougher.state.floatbank10_d_air                     19439 non-null  float64\n",
      " 60  rougher.state.floatbank10_d_level                   19439 non-null  float64\n",
      " 61  rougher.state.floatbank10_e_air                     19003 non-null  float64\n",
      " 62  rougher.state.floatbank10_e_level                   19439 non-null  float64\n",
      " 63  rougher.state.floatbank10_f_air                     19439 non-null  float64\n",
      " 64  rougher.state.floatbank10_f_level                   19439 non-null  float64\n",
      " 65  secondary_cleaner.output.tail_ag                    19437 non-null  float64\n",
      " 66  secondary_cleaner.output.tail_pb                    19427 non-null  float64\n",
      " 67  secondary_cleaner.output.tail_sol                   17691 non-null  float64\n",
      " 68  secondary_cleaner.output.tail_au                    19439 non-null  float64\n",
      " 69  secondary_cleaner.state.floatbank2_a_air            19219 non-null  float64\n",
      " 70  secondary_cleaner.state.floatbank2_a_level          19438 non-null  float64\n",
      " 71  secondary_cleaner.state.floatbank2_b_air            19416 non-null  float64\n",
      " 72  secondary_cleaner.state.floatbank2_b_level          19438 non-null  float64\n",
      " 73  secondary_cleaner.state.floatbank3_a_air            19426 non-null  float64\n",
      " 74  secondary_cleaner.state.floatbank3_a_level          19438 non-null  float64\n",
      " 75  secondary_cleaner.state.floatbank3_b_air            19438 non-null  float64\n",
      " 76  secondary_cleaner.state.floatbank3_b_level          19438 non-null  float64\n",
      " 77  secondary_cleaner.state.floatbank4_a_air            19433 non-null  float64\n",
      " 78  secondary_cleaner.state.floatbank4_a_level          19438 non-null  float64\n",
      " 79  secondary_cleaner.state.floatbank4_b_air            19438 non-null  float64\n",
      " 80  secondary_cleaner.state.floatbank4_b_level          19438 non-null  float64\n",
      " 81  secondary_cleaner.state.floatbank5_a_air            19438 non-null  float64\n",
      " 82  secondary_cleaner.state.floatbank5_a_level          19438 non-null  float64\n",
      " 83  secondary_cleaner.state.floatbank5_b_air            19438 non-null  float64\n",
      " 84  secondary_cleaner.state.floatbank5_b_level          19438 non-null  float64\n",
      " 85  secondary_cleaner.state.floatbank6_a_air            19437 non-null  float64\n",
      " 86  secondary_cleaner.state.floatbank6_a_level          19438 non-null  float64\n",
      "dtypes: float64(86), object(1)\n",
      "memory usage: 12.9+ MB\n"
     ]
    },
    {
     "data": {
      "text/html": [
       "<div>\n",
       "<style scoped>\n",
       "    .dataframe tbody tr th:only-of-type {\n",
       "        vertical-align: middle;\n",
       "    }\n",
       "\n",
       "    .dataframe tbody tr th {\n",
       "        vertical-align: top;\n",
       "    }\n",
       "\n",
       "    .dataframe thead th {\n",
       "        text-align: right;\n",
       "    }\n",
       "</style>\n",
       "<table border=\"1\" class=\"dataframe\">\n",
       "  <thead>\n",
       "    <tr style=\"text-align: right;\">\n",
       "      <th></th>\n",
       "      <th>date</th>\n",
       "      <th>final.output.concentrate_ag</th>\n",
       "      <th>final.output.concentrate_pb</th>\n",
       "      <th>final.output.concentrate_sol</th>\n",
       "      <th>final.output.concentrate_au</th>\n",
       "      <th>final.output.recovery</th>\n",
       "      <th>final.output.tail_ag</th>\n",
       "      <th>final.output.tail_pb</th>\n",
       "      <th>final.output.tail_sol</th>\n",
       "      <th>final.output.tail_au</th>\n",
       "      <th>...</th>\n",
       "      <th>secondary_cleaner.state.floatbank4_a_air</th>\n",
       "      <th>secondary_cleaner.state.floatbank4_a_level</th>\n",
       "      <th>secondary_cleaner.state.floatbank4_b_air</th>\n",
       "      <th>secondary_cleaner.state.floatbank4_b_level</th>\n",
       "      <th>secondary_cleaner.state.floatbank5_a_air</th>\n",
       "      <th>secondary_cleaner.state.floatbank5_a_level</th>\n",
       "      <th>secondary_cleaner.state.floatbank5_b_air</th>\n",
       "      <th>secondary_cleaner.state.floatbank5_b_level</th>\n",
       "      <th>secondary_cleaner.state.floatbank6_a_air</th>\n",
       "      <th>secondary_cleaner.state.floatbank6_a_level</th>\n",
       "    </tr>\n",
       "  </thead>\n",
       "  <tbody>\n",
       "    <tr>\n",
       "      <th>0</th>\n",
       "      <td>2016-01-15 00:00:00</td>\n",
       "      <td>6.055403</td>\n",
       "      <td>9.889648</td>\n",
       "      <td>5.507324</td>\n",
       "      <td>42.192020</td>\n",
       "      <td>70.541216</td>\n",
       "      <td>10.411962</td>\n",
       "      <td>0.895447</td>\n",
       "      <td>16.904297</td>\n",
       "      <td>2.143149</td>\n",
       "      <td>...</td>\n",
       "      <td>14.016835</td>\n",
       "      <td>-502.488007</td>\n",
       "      <td>12.099931</td>\n",
       "      <td>-504.715942</td>\n",
       "      <td>9.925633</td>\n",
       "      <td>-498.310211</td>\n",
       "      <td>8.079666</td>\n",
       "      <td>-500.470978</td>\n",
       "      <td>14.151341</td>\n",
       "      <td>-605.841980</td>\n",
       "    </tr>\n",
       "    <tr>\n",
       "      <th>1</th>\n",
       "      <td>2016-01-15 01:00:00</td>\n",
       "      <td>6.029369</td>\n",
       "      <td>9.968944</td>\n",
       "      <td>5.257781</td>\n",
       "      <td>42.701629</td>\n",
       "      <td>69.266198</td>\n",
       "      <td>10.462676</td>\n",
       "      <td>0.927452</td>\n",
       "      <td>16.634514</td>\n",
       "      <td>2.224930</td>\n",
       "      <td>...</td>\n",
       "      <td>13.992281</td>\n",
       "      <td>-505.503262</td>\n",
       "      <td>11.950531</td>\n",
       "      <td>-501.331529</td>\n",
       "      <td>10.039245</td>\n",
       "      <td>-500.169983</td>\n",
       "      <td>7.984757</td>\n",
       "      <td>-500.582168</td>\n",
       "      <td>13.998353</td>\n",
       "      <td>-599.787184</td>\n",
       "    </tr>\n",
       "    <tr>\n",
       "      <th>2</th>\n",
       "      <td>2016-01-15 02:00:00</td>\n",
       "      <td>6.055926</td>\n",
       "      <td>10.213995</td>\n",
       "      <td>5.383759</td>\n",
       "      <td>42.657501</td>\n",
       "      <td>68.116445</td>\n",
       "      <td>10.507046</td>\n",
       "      <td>0.953716</td>\n",
       "      <td>16.208849</td>\n",
       "      <td>2.257889</td>\n",
       "      <td>...</td>\n",
       "      <td>14.015015</td>\n",
       "      <td>-502.520901</td>\n",
       "      <td>11.912783</td>\n",
       "      <td>-501.133383</td>\n",
       "      <td>10.070913</td>\n",
       "      <td>-500.129135</td>\n",
       "      <td>8.013877</td>\n",
       "      <td>-500.517572</td>\n",
       "      <td>14.028663</td>\n",
       "      <td>-601.427363</td>\n",
       "    </tr>\n",
       "    <tr>\n",
       "      <th>3</th>\n",
       "      <td>2016-01-15 03:00:00</td>\n",
       "      <td>6.047977</td>\n",
       "      <td>9.977019</td>\n",
       "      <td>4.858634</td>\n",
       "      <td>42.689819</td>\n",
       "      <td>68.347543</td>\n",
       "      <td>10.422762</td>\n",
       "      <td>0.883763</td>\n",
       "      <td>16.532835</td>\n",
       "      <td>2.146849</td>\n",
       "      <td>...</td>\n",
       "      <td>14.036510</td>\n",
       "      <td>-500.857308</td>\n",
       "      <td>11.999550</td>\n",
       "      <td>-501.193686</td>\n",
       "      <td>9.970366</td>\n",
       "      <td>-499.201640</td>\n",
       "      <td>7.977324</td>\n",
       "      <td>-500.255908</td>\n",
       "      <td>14.005551</td>\n",
       "      <td>-599.996129</td>\n",
       "    </tr>\n",
       "    <tr>\n",
       "      <th>4</th>\n",
       "      <td>2016-01-15 04:00:00</td>\n",
       "      <td>6.148599</td>\n",
       "      <td>10.142511</td>\n",
       "      <td>4.939416</td>\n",
       "      <td>42.774141</td>\n",
       "      <td>66.927016</td>\n",
       "      <td>10.360302</td>\n",
       "      <td>0.792826</td>\n",
       "      <td>16.525686</td>\n",
       "      <td>2.055292</td>\n",
       "      <td>...</td>\n",
       "      <td>14.027298</td>\n",
       "      <td>-499.838632</td>\n",
       "      <td>11.953070</td>\n",
       "      <td>-501.053894</td>\n",
       "      <td>9.925709</td>\n",
       "      <td>-501.686727</td>\n",
       "      <td>7.894242</td>\n",
       "      <td>-500.356035</td>\n",
       "      <td>13.996647</td>\n",
       "      <td>-601.496691</td>\n",
       "    </tr>\n",
       "  </tbody>\n",
       "</table>\n",
       "<p>5 rows × 87 columns</p>\n",
       "</div>"
      ],
      "text/plain": [
       "                  date  final.output.concentrate_ag  \\\n",
       "0  2016-01-15 00:00:00                     6.055403   \n",
       "1  2016-01-15 01:00:00                     6.029369   \n",
       "2  2016-01-15 02:00:00                     6.055926   \n",
       "3  2016-01-15 03:00:00                     6.047977   \n",
       "4  2016-01-15 04:00:00                     6.148599   \n",
       "\n",
       "   final.output.concentrate_pb  final.output.concentrate_sol  \\\n",
       "0                     9.889648                      5.507324   \n",
       "1                     9.968944                      5.257781   \n",
       "2                    10.213995                      5.383759   \n",
       "3                     9.977019                      4.858634   \n",
       "4                    10.142511                      4.939416   \n",
       "\n",
       "   final.output.concentrate_au  final.output.recovery  final.output.tail_ag  \\\n",
       "0                    42.192020              70.541216             10.411962   \n",
       "1                    42.701629              69.266198             10.462676   \n",
       "2                    42.657501              68.116445             10.507046   \n",
       "3                    42.689819              68.347543             10.422762   \n",
       "4                    42.774141              66.927016             10.360302   \n",
       "\n",
       "   final.output.tail_pb  final.output.tail_sol  final.output.tail_au  ...  \\\n",
       "0              0.895447              16.904297              2.143149  ...   \n",
       "1              0.927452              16.634514              2.224930  ...   \n",
       "2              0.953716              16.208849              2.257889  ...   \n",
       "3              0.883763              16.532835              2.146849  ...   \n",
       "4              0.792826              16.525686              2.055292  ...   \n",
       "\n",
       "   secondary_cleaner.state.floatbank4_a_air  \\\n",
       "0                                 14.016835   \n",
       "1                                 13.992281   \n",
       "2                                 14.015015   \n",
       "3                                 14.036510   \n",
       "4                                 14.027298   \n",
       "\n",
       "   secondary_cleaner.state.floatbank4_a_level  \\\n",
       "0                                 -502.488007   \n",
       "1                                 -505.503262   \n",
       "2                                 -502.520901   \n",
       "3                                 -500.857308   \n",
       "4                                 -499.838632   \n",
       "\n",
       "   secondary_cleaner.state.floatbank4_b_air  \\\n",
       "0                                 12.099931   \n",
       "1                                 11.950531   \n",
       "2                                 11.912783   \n",
       "3                                 11.999550   \n",
       "4                                 11.953070   \n",
       "\n",
       "   secondary_cleaner.state.floatbank4_b_level  \\\n",
       "0                                 -504.715942   \n",
       "1                                 -501.331529   \n",
       "2                                 -501.133383   \n",
       "3                                 -501.193686   \n",
       "4                                 -501.053894   \n",
       "\n",
       "   secondary_cleaner.state.floatbank5_a_air  \\\n",
       "0                                  9.925633   \n",
       "1                                 10.039245   \n",
       "2                                 10.070913   \n",
       "3                                  9.970366   \n",
       "4                                  9.925709   \n",
       "\n",
       "   secondary_cleaner.state.floatbank5_a_level  \\\n",
       "0                                 -498.310211   \n",
       "1                                 -500.169983   \n",
       "2                                 -500.129135   \n",
       "3                                 -499.201640   \n",
       "4                                 -501.686727   \n",
       "\n",
       "   secondary_cleaner.state.floatbank5_b_air  \\\n",
       "0                                  8.079666   \n",
       "1                                  7.984757   \n",
       "2                                  8.013877   \n",
       "3                                  7.977324   \n",
       "4                                  7.894242   \n",
       "\n",
       "   secondary_cleaner.state.floatbank5_b_level  \\\n",
       "0                                 -500.470978   \n",
       "1                                 -500.582168   \n",
       "2                                 -500.517572   \n",
       "3                                 -500.255908   \n",
       "4                                 -500.356035   \n",
       "\n",
       "   secondary_cleaner.state.floatbank6_a_air  \\\n",
       "0                                 14.151341   \n",
       "1                                 13.998353   \n",
       "2                                 14.028663   \n",
       "3                                 14.005551   \n",
       "4                                 13.996647   \n",
       "\n",
       "   secondary_cleaner.state.floatbank6_a_level  \n",
       "0                                 -605.841980  \n",
       "1                                 -599.787184  \n",
       "2                                 -601.427363  \n",
       "3                                 -599.996129  \n",
       "4                                 -601.496691  \n",
       "\n",
       "[5 rows x 87 columns]"
      ]
     },
     "execution_count": 39,
     "metadata": {},
     "output_type": "execute_result"
    }
   ],
   "source": [
    "gold_full.info()\n",
    "gold_full.head()"
   ]
  },
  {
   "cell_type": "code",
   "execution_count": 40,
   "metadata": {
    "scrolled": true
   },
   "outputs": [
    {
     "name": "stdout",
     "output_type": "stream",
     "text": [
      "<class 'pandas.core.frame.DataFrame'>\n",
      "RangeIndex: 14149 entries, 0 to 14148\n",
      "Data columns (total 87 columns):\n",
      " #   Column                                              Non-Null Count  Dtype  \n",
      "---  ------                                              --------------  -----  \n",
      " 0   date                                                14149 non-null  object \n",
      " 1   final.output.concentrate_ag                         14148 non-null  float64\n",
      " 2   final.output.concentrate_pb                         14148 non-null  float64\n",
      " 3   final.output.concentrate_sol                        13938 non-null  float64\n",
      " 4   final.output.concentrate_au                         14149 non-null  float64\n",
      " 5   final.output.recovery                               14149 non-null  float64\n",
      " 6   final.output.tail_ag                                14149 non-null  float64\n",
      " 7   final.output.tail_pb                                14049 non-null  float64\n",
      " 8   final.output.tail_sol                               14144 non-null  float64\n",
      " 9   final.output.tail_au                                14149 non-null  float64\n",
      " 10  primary_cleaner.input.sulfate                       14129 non-null  float64\n",
      " 11  primary_cleaner.input.depressant                    14117 non-null  float64\n",
      " 12  primary_cleaner.input.feed_size                     14149 non-null  float64\n",
      " 13  primary_cleaner.input.xanthate                      14049 non-null  float64\n",
      " 14  primary_cleaner.output.concentrate_ag               14149 non-null  float64\n",
      " 15  primary_cleaner.output.concentrate_pb               14063 non-null  float64\n",
      " 16  primary_cleaner.output.concentrate_sol              13863 non-null  float64\n",
      " 17  primary_cleaner.output.concentrate_au               14149 non-null  float64\n",
      " 18  primary_cleaner.output.tail_ag                      14148 non-null  float64\n",
      " 19  primary_cleaner.output.tail_pb                      14134 non-null  float64\n",
      " 20  primary_cleaner.output.tail_sol                     14103 non-null  float64\n",
      " 21  primary_cleaner.output.tail_au                      14149 non-null  float64\n",
      " 22  primary_cleaner.state.floatbank8_a_air              14145 non-null  float64\n",
      " 23  primary_cleaner.state.floatbank8_a_level            14148 non-null  float64\n",
      " 24  primary_cleaner.state.floatbank8_b_air              14145 non-null  float64\n",
      " 25  primary_cleaner.state.floatbank8_b_level            14148 non-null  float64\n",
      " 26  primary_cleaner.state.floatbank8_c_air              14147 non-null  float64\n",
      " 27  primary_cleaner.state.floatbank8_c_level            14148 non-null  float64\n",
      " 28  primary_cleaner.state.floatbank8_d_air              14146 non-null  float64\n",
      " 29  primary_cleaner.state.floatbank8_d_level            14148 non-null  float64\n",
      " 30  rougher.calculation.sulfate_to_au_concentrate       14148 non-null  float64\n",
      " 31  rougher.calculation.floatbank10_sulfate_to_au_feed  14148 non-null  float64\n",
      " 32  rougher.calculation.floatbank11_sulfate_to_au_feed  14148 non-null  float64\n",
      " 33  rougher.calculation.au_pb_ratio                     14149 non-null  float64\n",
      " 34  rougher.input.feed_ag                               14149 non-null  float64\n",
      " 35  rougher.input.feed_pb                               14049 non-null  float64\n",
      " 36  rougher.input.feed_rate                             14141 non-null  float64\n",
      " 37  rougher.input.feed_size                             14005 non-null  float64\n",
      " 38  rougher.input.feed_sol                              14071 non-null  float64\n",
      " 39  rougher.input.feed_au                               14149 non-null  float64\n",
      " 40  rougher.input.floatbank10_sulfate                   14120 non-null  float64\n",
      " 41  rougher.input.floatbank10_xanthate                  14141 non-null  float64\n",
      " 42  rougher.input.floatbank11_sulfate                   14113 non-null  float64\n",
      " 43  rougher.input.floatbank11_xanthate                  13721 non-null  float64\n",
      " 44  rougher.output.concentrate_ag                       14149 non-null  float64\n",
      " 45  rougher.output.concentrate_pb                       14149 non-null  float64\n",
      " 46  rougher.output.concentrate_sol                      14127 non-null  float64\n",
      " 47  rougher.output.concentrate_au                       14149 non-null  float64\n",
      " 48  rougher.output.recovery                             14149 non-null  float64\n",
      " 49  rougher.output.tail_ag                              14148 non-null  float64\n",
      " 50  rougher.output.tail_pb                              14149 non-null  float64\n",
      " 51  rougher.output.tail_sol                             14149 non-null  float64\n",
      " 52  rougher.output.tail_au                              14149 non-null  float64\n",
      " 53  rougher.state.floatbank10_a_air                     14148 non-null  float64\n",
      " 54  rougher.state.floatbank10_a_level                   14148 non-null  float64\n",
      " 55  rougher.state.floatbank10_b_air                     14148 non-null  float64\n",
      " 56  rougher.state.floatbank10_b_level                   14148 non-null  float64\n",
      " 57  rougher.state.floatbank10_c_air                     14148 non-null  float64\n",
      " 58  rougher.state.floatbank10_c_level                   14148 non-null  float64\n",
      " 59  rougher.state.floatbank10_d_air                     14149 non-null  float64\n",
      " 60  rougher.state.floatbank10_d_level                   14149 non-null  float64\n",
      " 61  rougher.state.floatbank10_e_air                     13713 non-null  float64\n",
      " 62  rougher.state.floatbank10_e_level                   14149 non-null  float64\n",
      " 63  rougher.state.floatbank10_f_air                     14149 non-null  float64\n",
      " 64  rougher.state.floatbank10_f_level                   14149 non-null  float64\n",
      " 65  secondary_cleaner.output.tail_ag                    14147 non-null  float64\n",
      " 66  secondary_cleaner.output.tail_pb                    14139 non-null  float64\n",
      " 67  secondary_cleaner.output.tail_sol                   12544 non-null  float64\n",
      " 68  secondary_cleaner.output.tail_au                    14149 non-null  float64\n",
      " 69  secondary_cleaner.state.floatbank2_a_air            13932 non-null  float64\n",
      " 70  secondary_cleaner.state.floatbank2_a_level          14148 non-null  float64\n",
      " 71  secondary_cleaner.state.floatbank2_b_air            14128 non-null  float64\n",
      " 72  secondary_cleaner.state.floatbank2_b_level          14148 non-null  float64\n",
      " 73  secondary_cleaner.state.floatbank3_a_air            14145 non-null  float64\n",
      " 74  secondary_cleaner.state.floatbank3_a_level          14148 non-null  float64\n",
      " 75  secondary_cleaner.state.floatbank3_b_air            14148 non-null  float64\n",
      " 76  secondary_cleaner.state.floatbank3_b_level          14148 non-null  float64\n",
      " 77  secondary_cleaner.state.floatbank4_a_air            14143 non-null  float64\n",
      " 78  secondary_cleaner.state.floatbank4_a_level          14148 non-null  float64\n",
      " 79  secondary_cleaner.state.floatbank4_b_air            14148 non-null  float64\n",
      " 80  secondary_cleaner.state.floatbank4_b_level          14148 non-null  float64\n",
      " 81  secondary_cleaner.state.floatbank5_a_air            14148 non-null  float64\n",
      " 82  secondary_cleaner.state.floatbank5_a_level          14148 non-null  float64\n",
      " 83  secondary_cleaner.state.floatbank5_b_air            14148 non-null  float64\n",
      " 84  secondary_cleaner.state.floatbank5_b_level          14148 non-null  float64\n",
      " 85  secondary_cleaner.state.floatbank6_a_air            14147 non-null  float64\n",
      " 86  secondary_cleaner.state.floatbank6_a_level          14148 non-null  float64\n",
      "dtypes: float64(86), object(1)\n",
      "memory usage: 9.4+ MB\n"
     ]
    },
    {
     "data": {
      "text/html": [
       "<div>\n",
       "<style scoped>\n",
       "    .dataframe tbody tr th:only-of-type {\n",
       "        vertical-align: middle;\n",
       "    }\n",
       "\n",
       "    .dataframe tbody tr th {\n",
       "        vertical-align: top;\n",
       "    }\n",
       "\n",
       "    .dataframe thead th {\n",
       "        text-align: right;\n",
       "    }\n",
       "</style>\n",
       "<table border=\"1\" class=\"dataframe\">\n",
       "  <thead>\n",
       "    <tr style=\"text-align: right;\">\n",
       "      <th></th>\n",
       "      <th>date</th>\n",
       "      <th>final.output.concentrate_ag</th>\n",
       "      <th>final.output.concentrate_pb</th>\n",
       "      <th>final.output.concentrate_sol</th>\n",
       "      <th>final.output.concentrate_au</th>\n",
       "      <th>final.output.recovery</th>\n",
       "      <th>final.output.tail_ag</th>\n",
       "      <th>final.output.tail_pb</th>\n",
       "      <th>final.output.tail_sol</th>\n",
       "      <th>final.output.tail_au</th>\n",
       "      <th>...</th>\n",
       "      <th>secondary_cleaner.state.floatbank4_a_air</th>\n",
       "      <th>secondary_cleaner.state.floatbank4_a_level</th>\n",
       "      <th>secondary_cleaner.state.floatbank4_b_air</th>\n",
       "      <th>secondary_cleaner.state.floatbank4_b_level</th>\n",
       "      <th>secondary_cleaner.state.floatbank5_a_air</th>\n",
       "      <th>secondary_cleaner.state.floatbank5_a_level</th>\n",
       "      <th>secondary_cleaner.state.floatbank5_b_air</th>\n",
       "      <th>secondary_cleaner.state.floatbank5_b_level</th>\n",
       "      <th>secondary_cleaner.state.floatbank6_a_air</th>\n",
       "      <th>secondary_cleaner.state.floatbank6_a_level</th>\n",
       "    </tr>\n",
       "  </thead>\n",
       "  <tbody>\n",
       "    <tr>\n",
       "      <th>0</th>\n",
       "      <td>2016-01-15 00:00:00</td>\n",
       "      <td>6.055403</td>\n",
       "      <td>9.889648</td>\n",
       "      <td>5.507324</td>\n",
       "      <td>42.192020</td>\n",
       "      <td>70.541216</td>\n",
       "      <td>10.411962</td>\n",
       "      <td>0.895447</td>\n",
       "      <td>16.904297</td>\n",
       "      <td>2.143149</td>\n",
       "      <td>...</td>\n",
       "      <td>14.016835</td>\n",
       "      <td>-502.488007</td>\n",
       "      <td>12.099931</td>\n",
       "      <td>-504.715942</td>\n",
       "      <td>9.925633</td>\n",
       "      <td>-498.310211</td>\n",
       "      <td>8.079666</td>\n",
       "      <td>-500.470978</td>\n",
       "      <td>14.151341</td>\n",
       "      <td>-605.841980</td>\n",
       "    </tr>\n",
       "    <tr>\n",
       "      <th>1</th>\n",
       "      <td>2016-01-15 01:00:00</td>\n",
       "      <td>6.029369</td>\n",
       "      <td>9.968944</td>\n",
       "      <td>5.257781</td>\n",
       "      <td>42.701629</td>\n",
       "      <td>69.266198</td>\n",
       "      <td>10.462676</td>\n",
       "      <td>0.927452</td>\n",
       "      <td>16.634514</td>\n",
       "      <td>2.224930</td>\n",
       "      <td>...</td>\n",
       "      <td>13.992281</td>\n",
       "      <td>-505.503262</td>\n",
       "      <td>11.950531</td>\n",
       "      <td>-501.331529</td>\n",
       "      <td>10.039245</td>\n",
       "      <td>-500.169983</td>\n",
       "      <td>7.984757</td>\n",
       "      <td>-500.582168</td>\n",
       "      <td>13.998353</td>\n",
       "      <td>-599.787184</td>\n",
       "    </tr>\n",
       "    <tr>\n",
       "      <th>2</th>\n",
       "      <td>2016-01-15 02:00:00</td>\n",
       "      <td>6.055926</td>\n",
       "      <td>10.213995</td>\n",
       "      <td>5.383759</td>\n",
       "      <td>42.657501</td>\n",
       "      <td>68.116445</td>\n",
       "      <td>10.507046</td>\n",
       "      <td>0.953716</td>\n",
       "      <td>16.208849</td>\n",
       "      <td>2.257889</td>\n",
       "      <td>...</td>\n",
       "      <td>14.015015</td>\n",
       "      <td>-502.520901</td>\n",
       "      <td>11.912783</td>\n",
       "      <td>-501.133383</td>\n",
       "      <td>10.070913</td>\n",
       "      <td>-500.129135</td>\n",
       "      <td>8.013877</td>\n",
       "      <td>-500.517572</td>\n",
       "      <td>14.028663</td>\n",
       "      <td>-601.427363</td>\n",
       "    </tr>\n",
       "    <tr>\n",
       "      <th>3</th>\n",
       "      <td>2016-01-15 03:00:00</td>\n",
       "      <td>6.047977</td>\n",
       "      <td>9.977019</td>\n",
       "      <td>4.858634</td>\n",
       "      <td>42.689819</td>\n",
       "      <td>68.347543</td>\n",
       "      <td>10.422762</td>\n",
       "      <td>0.883763</td>\n",
       "      <td>16.532835</td>\n",
       "      <td>2.146849</td>\n",
       "      <td>...</td>\n",
       "      <td>14.036510</td>\n",
       "      <td>-500.857308</td>\n",
       "      <td>11.999550</td>\n",
       "      <td>-501.193686</td>\n",
       "      <td>9.970366</td>\n",
       "      <td>-499.201640</td>\n",
       "      <td>7.977324</td>\n",
       "      <td>-500.255908</td>\n",
       "      <td>14.005551</td>\n",
       "      <td>-599.996129</td>\n",
       "    </tr>\n",
       "    <tr>\n",
       "      <th>4</th>\n",
       "      <td>2016-01-15 04:00:00</td>\n",
       "      <td>6.148599</td>\n",
       "      <td>10.142511</td>\n",
       "      <td>4.939416</td>\n",
       "      <td>42.774141</td>\n",
       "      <td>66.927016</td>\n",
       "      <td>10.360302</td>\n",
       "      <td>0.792826</td>\n",
       "      <td>16.525686</td>\n",
       "      <td>2.055292</td>\n",
       "      <td>...</td>\n",
       "      <td>14.027298</td>\n",
       "      <td>-499.838632</td>\n",
       "      <td>11.953070</td>\n",
       "      <td>-501.053894</td>\n",
       "      <td>9.925709</td>\n",
       "      <td>-501.686727</td>\n",
       "      <td>7.894242</td>\n",
       "      <td>-500.356035</td>\n",
       "      <td>13.996647</td>\n",
       "      <td>-601.496691</td>\n",
       "    </tr>\n",
       "  </tbody>\n",
       "</table>\n",
       "<p>5 rows × 87 columns</p>\n",
       "</div>"
      ],
      "text/plain": [
       "                  date  final.output.concentrate_ag  \\\n",
       "0  2016-01-15 00:00:00                     6.055403   \n",
       "1  2016-01-15 01:00:00                     6.029369   \n",
       "2  2016-01-15 02:00:00                     6.055926   \n",
       "3  2016-01-15 03:00:00                     6.047977   \n",
       "4  2016-01-15 04:00:00                     6.148599   \n",
       "\n",
       "   final.output.concentrate_pb  final.output.concentrate_sol  \\\n",
       "0                     9.889648                      5.507324   \n",
       "1                     9.968944                      5.257781   \n",
       "2                    10.213995                      5.383759   \n",
       "3                     9.977019                      4.858634   \n",
       "4                    10.142511                      4.939416   \n",
       "\n",
       "   final.output.concentrate_au  final.output.recovery  final.output.tail_ag  \\\n",
       "0                    42.192020              70.541216             10.411962   \n",
       "1                    42.701629              69.266198             10.462676   \n",
       "2                    42.657501              68.116445             10.507046   \n",
       "3                    42.689819              68.347543             10.422762   \n",
       "4                    42.774141              66.927016             10.360302   \n",
       "\n",
       "   final.output.tail_pb  final.output.tail_sol  final.output.tail_au  ...  \\\n",
       "0              0.895447              16.904297              2.143149  ...   \n",
       "1              0.927452              16.634514              2.224930  ...   \n",
       "2              0.953716              16.208849              2.257889  ...   \n",
       "3              0.883763              16.532835              2.146849  ...   \n",
       "4              0.792826              16.525686              2.055292  ...   \n",
       "\n",
       "   secondary_cleaner.state.floatbank4_a_air  \\\n",
       "0                                 14.016835   \n",
       "1                                 13.992281   \n",
       "2                                 14.015015   \n",
       "3                                 14.036510   \n",
       "4                                 14.027298   \n",
       "\n",
       "   secondary_cleaner.state.floatbank4_a_level  \\\n",
       "0                                 -502.488007   \n",
       "1                                 -505.503262   \n",
       "2                                 -502.520901   \n",
       "3                                 -500.857308   \n",
       "4                                 -499.838632   \n",
       "\n",
       "   secondary_cleaner.state.floatbank4_b_air  \\\n",
       "0                                 12.099931   \n",
       "1                                 11.950531   \n",
       "2                                 11.912783   \n",
       "3                                 11.999550   \n",
       "4                                 11.953070   \n",
       "\n",
       "   secondary_cleaner.state.floatbank4_b_level  \\\n",
       "0                                 -504.715942   \n",
       "1                                 -501.331529   \n",
       "2                                 -501.133383   \n",
       "3                                 -501.193686   \n",
       "4                                 -501.053894   \n",
       "\n",
       "   secondary_cleaner.state.floatbank5_a_air  \\\n",
       "0                                  9.925633   \n",
       "1                                 10.039245   \n",
       "2                                 10.070913   \n",
       "3                                  9.970366   \n",
       "4                                  9.925709   \n",
       "\n",
       "   secondary_cleaner.state.floatbank5_a_level  \\\n",
       "0                                 -498.310211   \n",
       "1                                 -500.169983   \n",
       "2                                 -500.129135   \n",
       "3                                 -499.201640   \n",
       "4                                 -501.686727   \n",
       "\n",
       "   secondary_cleaner.state.floatbank5_b_air  \\\n",
       "0                                  8.079666   \n",
       "1                                  7.984757   \n",
       "2                                  8.013877   \n",
       "3                                  7.977324   \n",
       "4                                  7.894242   \n",
       "\n",
       "   secondary_cleaner.state.floatbank5_b_level  \\\n",
       "0                                 -500.470978   \n",
       "1                                 -500.582168   \n",
       "2                                 -500.517572   \n",
       "3                                 -500.255908   \n",
       "4                                 -500.356035   \n",
       "\n",
       "   secondary_cleaner.state.floatbank6_a_air  \\\n",
       "0                                 14.151341   \n",
       "1                                 13.998353   \n",
       "2                                 14.028663   \n",
       "3                                 14.005551   \n",
       "4                                 13.996647   \n",
       "\n",
       "   secondary_cleaner.state.floatbank6_a_level  \n",
       "0                                 -605.841980  \n",
       "1                                 -599.787184  \n",
       "2                                 -601.427363  \n",
       "3                                 -599.996129  \n",
       "4                                 -601.496691  \n",
       "\n",
       "[5 rows x 87 columns]"
      ]
     },
     "execution_count": 40,
     "metadata": {},
     "output_type": "execute_result"
    }
   ],
   "source": [
    "gold_train.info()\n",
    "gold_train.head()"
   ]
  },
  {
   "cell_type": "code",
   "execution_count": 41,
   "metadata": {},
   "outputs": [
    {
     "name": "stdout",
     "output_type": "stream",
     "text": [
      "<class 'pandas.core.frame.DataFrame'>\n",
      "RangeIndex: 5290 entries, 0 to 5289\n",
      "Data columns (total 53 columns):\n",
      " #   Column                                      Non-Null Count  Dtype  \n",
      "---  ------                                      --------------  -----  \n",
      " 0   date                                        5290 non-null   object \n",
      " 1   primary_cleaner.input.sulfate               5286 non-null   float64\n",
      " 2   primary_cleaner.input.depressant            5285 non-null   float64\n",
      " 3   primary_cleaner.input.feed_size             5290 non-null   float64\n",
      " 4   primary_cleaner.input.xanthate              5286 non-null   float64\n",
      " 5   primary_cleaner.state.floatbank8_a_air      5290 non-null   float64\n",
      " 6   primary_cleaner.state.floatbank8_a_level    5290 non-null   float64\n",
      " 7   primary_cleaner.state.floatbank8_b_air      5290 non-null   float64\n",
      " 8   primary_cleaner.state.floatbank8_b_level    5290 non-null   float64\n",
      " 9   primary_cleaner.state.floatbank8_c_air      5290 non-null   float64\n",
      " 10  primary_cleaner.state.floatbank8_c_level    5290 non-null   float64\n",
      " 11  primary_cleaner.state.floatbank8_d_air      5290 non-null   float64\n",
      " 12  primary_cleaner.state.floatbank8_d_level    5290 non-null   float64\n",
      " 13  rougher.input.feed_ag                       5290 non-null   float64\n",
      " 14  rougher.input.feed_pb                       5290 non-null   float64\n",
      " 15  rougher.input.feed_rate                     5287 non-null   float64\n",
      " 16  rougher.input.feed_size                     5289 non-null   float64\n",
      " 17  rougher.input.feed_sol                      5269 non-null   float64\n",
      " 18  rougher.input.feed_au                       5290 non-null   float64\n",
      " 19  rougher.input.floatbank10_sulfate           5285 non-null   float64\n",
      " 20  rougher.input.floatbank10_xanthate          5290 non-null   float64\n",
      " 21  rougher.input.floatbank11_sulfate           5282 non-null   float64\n",
      " 22  rougher.input.floatbank11_xanthate          5265 non-null   float64\n",
      " 23  rougher.state.floatbank10_a_air             5290 non-null   float64\n",
      " 24  rougher.state.floatbank10_a_level           5290 non-null   float64\n",
      " 25  rougher.state.floatbank10_b_air             5290 non-null   float64\n",
      " 26  rougher.state.floatbank10_b_level           5290 non-null   float64\n",
      " 27  rougher.state.floatbank10_c_air             5290 non-null   float64\n",
      " 28  rougher.state.floatbank10_c_level           5290 non-null   float64\n",
      " 29  rougher.state.floatbank10_d_air             5290 non-null   float64\n",
      " 30  rougher.state.floatbank10_d_level           5290 non-null   float64\n",
      " 31  rougher.state.floatbank10_e_air             5290 non-null   float64\n",
      " 32  rougher.state.floatbank10_e_level           5290 non-null   float64\n",
      " 33  rougher.state.floatbank10_f_air             5290 non-null   float64\n",
      " 34  rougher.state.floatbank10_f_level           5290 non-null   float64\n",
      " 35  secondary_cleaner.state.floatbank2_a_air    5287 non-null   float64\n",
      " 36  secondary_cleaner.state.floatbank2_a_level  5290 non-null   float64\n",
      " 37  secondary_cleaner.state.floatbank2_b_air    5288 non-null   float64\n",
      " 38  secondary_cleaner.state.floatbank2_b_level  5290 non-null   float64\n",
      " 39  secondary_cleaner.state.floatbank3_a_air    5281 non-null   float64\n",
      " 40  secondary_cleaner.state.floatbank3_a_level  5290 non-null   float64\n",
      " 41  secondary_cleaner.state.floatbank3_b_air    5290 non-null   float64\n",
      " 42  secondary_cleaner.state.floatbank3_b_level  5290 non-null   float64\n",
      " 43  secondary_cleaner.state.floatbank4_a_air    5290 non-null   float64\n",
      " 44  secondary_cleaner.state.floatbank4_a_level  5290 non-null   float64\n",
      " 45  secondary_cleaner.state.floatbank4_b_air    5290 non-null   float64\n",
      " 46  secondary_cleaner.state.floatbank4_b_level  5290 non-null   float64\n",
      " 47  secondary_cleaner.state.floatbank5_a_air    5290 non-null   float64\n",
      " 48  secondary_cleaner.state.floatbank5_a_level  5290 non-null   float64\n",
      " 49  secondary_cleaner.state.floatbank5_b_air    5290 non-null   float64\n",
      " 50  secondary_cleaner.state.floatbank5_b_level  5290 non-null   float64\n",
      " 51  secondary_cleaner.state.floatbank6_a_air    5290 non-null   float64\n",
      " 52  secondary_cleaner.state.floatbank6_a_level  5290 non-null   float64\n",
      "dtypes: float64(52), object(1)\n",
      "memory usage: 2.1+ MB\n"
     ]
    },
    {
     "data": {
      "text/html": [
       "<div>\n",
       "<style scoped>\n",
       "    .dataframe tbody tr th:only-of-type {\n",
       "        vertical-align: middle;\n",
       "    }\n",
       "\n",
       "    .dataframe tbody tr th {\n",
       "        vertical-align: top;\n",
       "    }\n",
       "\n",
       "    .dataframe thead th {\n",
       "        text-align: right;\n",
       "    }\n",
       "</style>\n",
       "<table border=\"1\" class=\"dataframe\">\n",
       "  <thead>\n",
       "    <tr style=\"text-align: right;\">\n",
       "      <th></th>\n",
       "      <th>date</th>\n",
       "      <th>primary_cleaner.input.sulfate</th>\n",
       "      <th>primary_cleaner.input.depressant</th>\n",
       "      <th>primary_cleaner.input.feed_size</th>\n",
       "      <th>primary_cleaner.input.xanthate</th>\n",
       "      <th>primary_cleaner.state.floatbank8_a_air</th>\n",
       "      <th>primary_cleaner.state.floatbank8_a_level</th>\n",
       "      <th>primary_cleaner.state.floatbank8_b_air</th>\n",
       "      <th>primary_cleaner.state.floatbank8_b_level</th>\n",
       "      <th>primary_cleaner.state.floatbank8_c_air</th>\n",
       "      <th>...</th>\n",
       "      <th>secondary_cleaner.state.floatbank4_a_air</th>\n",
       "      <th>secondary_cleaner.state.floatbank4_a_level</th>\n",
       "      <th>secondary_cleaner.state.floatbank4_b_air</th>\n",
       "      <th>secondary_cleaner.state.floatbank4_b_level</th>\n",
       "      <th>secondary_cleaner.state.floatbank5_a_air</th>\n",
       "      <th>secondary_cleaner.state.floatbank5_a_level</th>\n",
       "      <th>secondary_cleaner.state.floatbank5_b_air</th>\n",
       "      <th>secondary_cleaner.state.floatbank5_b_level</th>\n",
       "      <th>secondary_cleaner.state.floatbank6_a_air</th>\n",
       "      <th>secondary_cleaner.state.floatbank6_a_level</th>\n",
       "    </tr>\n",
       "  </thead>\n",
       "  <tbody>\n",
       "    <tr>\n",
       "      <th>0</th>\n",
       "      <td>2016-09-01 00:59:59</td>\n",
       "      <td>210.800909</td>\n",
       "      <td>14.993118</td>\n",
       "      <td>8.080000</td>\n",
       "      <td>1.005021</td>\n",
       "      <td>1398.981301</td>\n",
       "      <td>-500.225577</td>\n",
       "      <td>1399.144926</td>\n",
       "      <td>-499.919735</td>\n",
       "      <td>1400.102998</td>\n",
       "      <td>...</td>\n",
       "      <td>12.023554</td>\n",
       "      <td>-497.795834</td>\n",
       "      <td>8.016656</td>\n",
       "      <td>-501.289139</td>\n",
       "      <td>7.946562</td>\n",
       "      <td>-432.317850</td>\n",
       "      <td>4.872511</td>\n",
       "      <td>-500.037437</td>\n",
       "      <td>26.705889</td>\n",
       "      <td>-499.709414</td>\n",
       "    </tr>\n",
       "    <tr>\n",
       "      <th>1</th>\n",
       "      <td>2016-09-01 01:59:59</td>\n",
       "      <td>215.392455</td>\n",
       "      <td>14.987471</td>\n",
       "      <td>8.080000</td>\n",
       "      <td>0.990469</td>\n",
       "      <td>1398.777912</td>\n",
       "      <td>-500.057435</td>\n",
       "      <td>1398.055362</td>\n",
       "      <td>-499.778182</td>\n",
       "      <td>1396.151033</td>\n",
       "      <td>...</td>\n",
       "      <td>12.058140</td>\n",
       "      <td>-498.695773</td>\n",
       "      <td>8.130979</td>\n",
       "      <td>-499.634209</td>\n",
       "      <td>7.958270</td>\n",
       "      <td>-525.839648</td>\n",
       "      <td>4.878850</td>\n",
       "      <td>-500.162375</td>\n",
       "      <td>25.019940</td>\n",
       "      <td>-499.819438</td>\n",
       "    </tr>\n",
       "    <tr>\n",
       "      <th>2</th>\n",
       "      <td>2016-09-01 02:59:59</td>\n",
       "      <td>215.259946</td>\n",
       "      <td>12.884934</td>\n",
       "      <td>7.786667</td>\n",
       "      <td>0.996043</td>\n",
       "      <td>1398.493666</td>\n",
       "      <td>-500.868360</td>\n",
       "      <td>1398.860436</td>\n",
       "      <td>-499.764529</td>\n",
       "      <td>1398.075709</td>\n",
       "      <td>...</td>\n",
       "      <td>11.962366</td>\n",
       "      <td>-498.767484</td>\n",
       "      <td>8.096893</td>\n",
       "      <td>-500.827423</td>\n",
       "      <td>8.071056</td>\n",
       "      <td>-500.801673</td>\n",
       "      <td>4.905125</td>\n",
       "      <td>-499.828510</td>\n",
       "      <td>24.994862</td>\n",
       "      <td>-500.622559</td>\n",
       "    </tr>\n",
       "    <tr>\n",
       "      <th>3</th>\n",
       "      <td>2016-09-01 03:59:59</td>\n",
       "      <td>215.336236</td>\n",
       "      <td>12.006805</td>\n",
       "      <td>7.640000</td>\n",
       "      <td>0.863514</td>\n",
       "      <td>1399.618111</td>\n",
       "      <td>-498.863574</td>\n",
       "      <td>1397.440120</td>\n",
       "      <td>-499.211024</td>\n",
       "      <td>1400.129303</td>\n",
       "      <td>...</td>\n",
       "      <td>12.033091</td>\n",
       "      <td>-498.350935</td>\n",
       "      <td>8.074946</td>\n",
       "      <td>-499.474407</td>\n",
       "      <td>7.897085</td>\n",
       "      <td>-500.868509</td>\n",
       "      <td>4.931400</td>\n",
       "      <td>-499.963623</td>\n",
       "      <td>24.948919</td>\n",
       "      <td>-498.709987</td>\n",
       "    </tr>\n",
       "    <tr>\n",
       "      <th>4</th>\n",
       "      <td>2016-09-01 04:59:59</td>\n",
       "      <td>199.099327</td>\n",
       "      <td>10.682530</td>\n",
       "      <td>7.530000</td>\n",
       "      <td>0.805575</td>\n",
       "      <td>1401.268123</td>\n",
       "      <td>-500.808305</td>\n",
       "      <td>1398.128818</td>\n",
       "      <td>-499.504543</td>\n",
       "      <td>1402.172226</td>\n",
       "      <td>...</td>\n",
       "      <td>12.025367</td>\n",
       "      <td>-500.786497</td>\n",
       "      <td>8.054678</td>\n",
       "      <td>-500.397500</td>\n",
       "      <td>8.107890</td>\n",
       "      <td>-509.526725</td>\n",
       "      <td>4.957674</td>\n",
       "      <td>-500.360026</td>\n",
       "      <td>25.003331</td>\n",
       "      <td>-500.856333</td>\n",
       "    </tr>\n",
       "  </tbody>\n",
       "</table>\n",
       "<p>5 rows × 53 columns</p>\n",
       "</div>"
      ],
      "text/plain": [
       "                  date  primary_cleaner.input.sulfate  \\\n",
       "0  2016-09-01 00:59:59                     210.800909   \n",
       "1  2016-09-01 01:59:59                     215.392455   \n",
       "2  2016-09-01 02:59:59                     215.259946   \n",
       "3  2016-09-01 03:59:59                     215.336236   \n",
       "4  2016-09-01 04:59:59                     199.099327   \n",
       "\n",
       "   primary_cleaner.input.depressant  primary_cleaner.input.feed_size  \\\n",
       "0                         14.993118                         8.080000   \n",
       "1                         14.987471                         8.080000   \n",
       "2                         12.884934                         7.786667   \n",
       "3                         12.006805                         7.640000   \n",
       "4                         10.682530                         7.530000   \n",
       "\n",
       "   primary_cleaner.input.xanthate  primary_cleaner.state.floatbank8_a_air  \\\n",
       "0                        1.005021                             1398.981301   \n",
       "1                        0.990469                             1398.777912   \n",
       "2                        0.996043                             1398.493666   \n",
       "3                        0.863514                             1399.618111   \n",
       "4                        0.805575                             1401.268123   \n",
       "\n",
       "   primary_cleaner.state.floatbank8_a_level  \\\n",
       "0                               -500.225577   \n",
       "1                               -500.057435   \n",
       "2                               -500.868360   \n",
       "3                               -498.863574   \n",
       "4                               -500.808305   \n",
       "\n",
       "   primary_cleaner.state.floatbank8_b_air  \\\n",
       "0                             1399.144926   \n",
       "1                             1398.055362   \n",
       "2                             1398.860436   \n",
       "3                             1397.440120   \n",
       "4                             1398.128818   \n",
       "\n",
       "   primary_cleaner.state.floatbank8_b_level  \\\n",
       "0                               -499.919735   \n",
       "1                               -499.778182   \n",
       "2                               -499.764529   \n",
       "3                               -499.211024   \n",
       "4                               -499.504543   \n",
       "\n",
       "   primary_cleaner.state.floatbank8_c_air  ...  \\\n",
       "0                             1400.102998  ...   \n",
       "1                             1396.151033  ...   \n",
       "2                             1398.075709  ...   \n",
       "3                             1400.129303  ...   \n",
       "4                             1402.172226  ...   \n",
       "\n",
       "   secondary_cleaner.state.floatbank4_a_air  \\\n",
       "0                                 12.023554   \n",
       "1                                 12.058140   \n",
       "2                                 11.962366   \n",
       "3                                 12.033091   \n",
       "4                                 12.025367   \n",
       "\n",
       "   secondary_cleaner.state.floatbank4_a_level  \\\n",
       "0                                 -497.795834   \n",
       "1                                 -498.695773   \n",
       "2                                 -498.767484   \n",
       "3                                 -498.350935   \n",
       "4                                 -500.786497   \n",
       "\n",
       "   secondary_cleaner.state.floatbank4_b_air  \\\n",
       "0                                  8.016656   \n",
       "1                                  8.130979   \n",
       "2                                  8.096893   \n",
       "3                                  8.074946   \n",
       "4                                  8.054678   \n",
       "\n",
       "   secondary_cleaner.state.floatbank4_b_level  \\\n",
       "0                                 -501.289139   \n",
       "1                                 -499.634209   \n",
       "2                                 -500.827423   \n",
       "3                                 -499.474407   \n",
       "4                                 -500.397500   \n",
       "\n",
       "   secondary_cleaner.state.floatbank5_a_air  \\\n",
       "0                                  7.946562   \n",
       "1                                  7.958270   \n",
       "2                                  8.071056   \n",
       "3                                  7.897085   \n",
       "4                                  8.107890   \n",
       "\n",
       "   secondary_cleaner.state.floatbank5_a_level  \\\n",
       "0                                 -432.317850   \n",
       "1                                 -525.839648   \n",
       "2                                 -500.801673   \n",
       "3                                 -500.868509   \n",
       "4                                 -509.526725   \n",
       "\n",
       "   secondary_cleaner.state.floatbank5_b_air  \\\n",
       "0                                  4.872511   \n",
       "1                                  4.878850   \n",
       "2                                  4.905125   \n",
       "3                                  4.931400   \n",
       "4                                  4.957674   \n",
       "\n",
       "   secondary_cleaner.state.floatbank5_b_level  \\\n",
       "0                                 -500.037437   \n",
       "1                                 -500.162375   \n",
       "2                                 -499.828510   \n",
       "3                                 -499.963623   \n",
       "4                                 -500.360026   \n",
       "\n",
       "   secondary_cleaner.state.floatbank6_a_air  \\\n",
       "0                                 26.705889   \n",
       "1                                 25.019940   \n",
       "2                                 24.994862   \n",
       "3                                 24.948919   \n",
       "4                                 25.003331   \n",
       "\n",
       "   secondary_cleaner.state.floatbank6_a_level  \n",
       "0                                 -499.709414  \n",
       "1                                 -499.819438  \n",
       "2                                 -500.622559  \n",
       "3                                 -498.709987  \n",
       "4                                 -500.856333  \n",
       "\n",
       "[5 rows x 53 columns]"
      ]
     },
     "execution_count": 41,
     "metadata": {},
     "output_type": "execute_result"
    }
   ],
   "source": [
    "gold_test.info()\n",
    "gold_test.head()"
   ]
  },
  {
   "cell_type": "code",
   "execution_count": 42,
   "metadata": {},
   "outputs": [
    {
     "name": "stdout",
     "output_type": "stream",
     "text": [
      "0.7278666598076032\n",
      "0.2721333401923967\n"
     ]
    }
   ],
   "source": [
    "print(gold_train.shape[0] / gold_full.shape[0])\n",
    "print(gold_test.shape[0] / gold_full.shape[0])"
   ]
  },
  {
   "cell_type": "markdown",
   "metadata": {},
   "source": [
    "Пока очевидны два факта: тестовая и тренировочная выборки действительно формировались из полной, а также то, что есть признаки с нулевыми значениями для некоторых образцов. Кроме того, в тестовой выборке 53 из 87 признаков. Явно не видно этапа final, но и из других что-то отсутствует. Лучше вывести список, конечно, с такими признаками, но пока будем действовать по порядку в задании. Рассчитаем эффективность и сравним ее с той, что указана в обучающей выборке."
   ]
  },
  {
   "cell_type": "markdown",
   "metadata": {},
   "source": [
    "### Проверка зависимости для определения эффективности обогащения"
   ]
  },
  {
   "cell_type": "markdown",
   "metadata": {},
   "source": [
    "Коэффициент обогащения можно установить и по зависимости:\n",
    "\n",
    " $$ Recovery = \\frac{C * (F - T)}  {F * (C - T)},$$ \n",
    " \n",
    " где С - доля золота в концентрате после флотации/очистки; \n",
    " \n",
    " F — доля золота в сырье/концентрате до флотации/очистки;\n",
    " \n",
    " T - доля золота в отвальных хвостах после флотации/очистки.\n",
    " \n",
    "В данном случае используем, чтобы приблизительно знать recovery до запуска для понимания, а стоит ли включать установку или сначала изменить входные показатели."
   ]
  },
  {
   "cell_type": "code",
   "execution_count": 43,
   "metadata": {},
   "outputs": [],
   "source": [
    "c = gold_train['rougher.output.concentrate_au'] \n",
    "f = gold_train['rougher.input.feed_au']\n",
    "t = gold_train['rougher.output.tail_au'] \n",
    "\n",
    "gold_train['rougher.output.recovery_calc'] = (c * (f - t) * 100) / (f * (c - t)) "
   ]
  },
  {
   "cell_type": "code",
   "execution_count": 44,
   "metadata": {
    "scrolled": true
   },
   "outputs": [],
   "source": [
    "gold_train['rougher.output.recovery_mae'] = abs(gold_train['rougher.output.recovery'] - gold_train['rougher.output.recovery_calc'])"
   ]
  },
  {
   "cell_type": "code",
   "execution_count": 45,
   "metadata": {
    "scrolled": true
   },
   "outputs": [
    {
     "data": {
      "text/html": [
       "<div>\n",
       "<style scoped>\n",
       "    .dataframe tbody tr th:only-of-type {\n",
       "        vertical-align: middle;\n",
       "    }\n",
       "\n",
       "    .dataframe tbody tr th {\n",
       "        vertical-align: top;\n",
       "    }\n",
       "\n",
       "    .dataframe thead th {\n",
       "        text-align: right;\n",
       "    }\n",
       "</style>\n",
       "<table border=\"1\" class=\"dataframe\">\n",
       "  <thead>\n",
       "    <tr style=\"text-align: right;\">\n",
       "      <th></th>\n",
       "      <th>rougher.output.recovery_calc</th>\n",
       "      <th>rougher.output.recovery</th>\n",
       "      <th>rougher.output.recovery_mae</th>\n",
       "    </tr>\n",
       "  </thead>\n",
       "  <tbody>\n",
       "    <tr>\n",
       "      <th>0</th>\n",
       "      <td>87.107763</td>\n",
       "      <td>87.107763</td>\n",
       "      <td>0.000000e+00</td>\n",
       "    </tr>\n",
       "    <tr>\n",
       "      <th>1</th>\n",
       "      <td>86.843261</td>\n",
       "      <td>86.843261</td>\n",
       "      <td>1.421085e-14</td>\n",
       "    </tr>\n",
       "    <tr>\n",
       "      <th>2</th>\n",
       "      <td>86.842308</td>\n",
       "      <td>86.842308</td>\n",
       "      <td>2.842171e-14</td>\n",
       "    </tr>\n",
       "    <tr>\n",
       "      <th>3</th>\n",
       "      <td>87.226430</td>\n",
       "      <td>87.226430</td>\n",
       "      <td>0.000000e+00</td>\n",
       "    </tr>\n",
       "    <tr>\n",
       "      <th>4</th>\n",
       "      <td>86.688794</td>\n",
       "      <td>86.688794</td>\n",
       "      <td>0.000000e+00</td>\n",
       "    </tr>\n",
       "    <tr>\n",
       "      <th>...</th>\n",
       "      <td>...</td>\n",
       "      <td>...</td>\n",
       "      <td>...</td>\n",
       "    </tr>\n",
       "    <tr>\n",
       "      <th>14144</th>\n",
       "      <td>89.574376</td>\n",
       "      <td>89.574376</td>\n",
       "      <td>1.421085e-14</td>\n",
       "    </tr>\n",
       "    <tr>\n",
       "      <th>14145</th>\n",
       "      <td>87.724007</td>\n",
       "      <td>87.724007</td>\n",
       "      <td>0.000000e+00</td>\n",
       "    </tr>\n",
       "    <tr>\n",
       "      <th>14146</th>\n",
       "      <td>88.890579</td>\n",
       "      <td>88.890579</td>\n",
       "      <td>0.000000e+00</td>\n",
       "    </tr>\n",
       "    <tr>\n",
       "      <th>14147</th>\n",
       "      <td>89.858126</td>\n",
       "      <td>89.858126</td>\n",
       "      <td>1.421085e-14</td>\n",
       "    </tr>\n",
       "    <tr>\n",
       "      <th>14148</th>\n",
       "      <td>89.514960</td>\n",
       "      <td>89.514960</td>\n",
       "      <td>2.842171e-14</td>\n",
       "    </tr>\n",
       "  </tbody>\n",
       "</table>\n",
       "<p>14149 rows × 3 columns</p>\n",
       "</div>"
      ],
      "text/plain": [
       "       rougher.output.recovery_calc  rougher.output.recovery  \\\n",
       "0                         87.107763                87.107763   \n",
       "1                         86.843261                86.843261   \n",
       "2                         86.842308                86.842308   \n",
       "3                         87.226430                87.226430   \n",
       "4                         86.688794                86.688794   \n",
       "...                             ...                      ...   \n",
       "14144                     89.574376                89.574376   \n",
       "14145                     87.724007                87.724007   \n",
       "14146                     88.890579                88.890579   \n",
       "14147                     89.858126                89.858126   \n",
       "14148                     89.514960                89.514960   \n",
       "\n",
       "       rougher.output.recovery_mae  \n",
       "0                     0.000000e+00  \n",
       "1                     1.421085e-14  \n",
       "2                     2.842171e-14  \n",
       "3                     0.000000e+00  \n",
       "4                     0.000000e+00  \n",
       "...                            ...  \n",
       "14144                 1.421085e-14  \n",
       "14145                 0.000000e+00  \n",
       "14146                 0.000000e+00  \n",
       "14147                 1.421085e-14  \n",
       "14148                 2.842171e-14  \n",
       "\n",
       "[14149 rows x 3 columns]"
      ]
     },
     "metadata": {},
     "output_type": "display_data"
    }
   ],
   "source": [
    "display(gold_train[['rougher.output.recovery_calc', 'rougher.output.recovery', 'rougher.output.recovery_mae']])"
   ]
  },
  {
   "cell_type": "code",
   "execution_count": 46,
   "metadata": {},
   "outputs": [
    {
     "name": "stdout",
     "output_type": "stream",
     "text": [
      "MAE для обучающей выборки: 1.1131451184435918e-14\n"
     ]
    }
   ],
   "source": [
    "print('MAE для обучающей выборки:', gold_train['rougher.output.recovery_mae'].mean())"
   ]
  },
  {
   "cell_type": "markdown",
   "metadata": {},
   "source": [
    "Очевидно, что в таком случае формула полностью корректна (образовавшиеся отклонения могли просто получиться при округлениях)."
   ]
  },
  {
   "cell_type": "markdown",
   "metadata": {},
   "source": [
    "### Анализ признаков, отсутствующих в тестовой выборке"
   ]
  },
  {
   "cell_type": "code",
   "execution_count": 47,
   "metadata": {},
   "outputs": [
    {
     "data": {
      "text/plain": [
       "['secondary_cleaner.output.tail_ag',\n",
       " 'final.output.recovery',\n",
       " 'primary_cleaner.output.concentrate_pb',\n",
       " 'final.output.concentrate_ag',\n",
       " 'final.output.concentrate_au',\n",
       " 'rougher.output.concentrate_au',\n",
       " 'rougher.output.concentrate_ag',\n",
       " 'rougher.output.concentrate_sol',\n",
       " 'primary_cleaner.output.tail_pb',\n",
       " 'final.output.concentrate_sol',\n",
       " 'rougher.output.tail_ag',\n",
       " 'rougher.calculation.floatbank11_sulfate_to_au_feed',\n",
       " 'rougher.calculation.sulfate_to_au_concentrate',\n",
       " 'rougher.output.tail_au',\n",
       " 'primary_cleaner.output.concentrate_sol',\n",
       " 'secondary_cleaner.output.tail_au',\n",
       " 'secondary_cleaner.output.tail_sol',\n",
       " 'primary_cleaner.output.tail_ag',\n",
       " 'final.output.concentrate_pb',\n",
       " 'rougher.calculation.floatbank10_sulfate_to_au_feed',\n",
       " 'rougher.output.tail_pb',\n",
       " 'final.output.tail_au',\n",
       " 'primary_cleaner.output.concentrate_au',\n",
       " 'rougher.calculation.au_pb_ratio',\n",
       " 'rougher.output.recovery',\n",
       " 'primary_cleaner.output.tail_au',\n",
       " 'rougher.output.tail_sol',\n",
       " 'final.output.tail_ag',\n",
       " 'final.output.tail_sol',\n",
       " 'primary_cleaner.output.concentrate_ag',\n",
       " 'final.output.tail_pb',\n",
       " 'primary_cleaner.output.tail_sol',\n",
       " 'rougher.output.concentrate_pb',\n",
       " 'secondary_cleaner.output.tail_pb']"
      ]
     },
     "execution_count": 47,
     "metadata": {},
     "output_type": "execute_result"
    }
   ],
   "source": [
    "missing_t_features = list(set(gold_full.columns) - set(gold_test.columns))\n",
    "missing_t_features"
   ]
  },
  {
   "cell_type": "markdown",
   "metadata": {},
   "source": [
    "В основном пропущены выходные параметры для этапов (плюс для этапа флотации некоторых расчетных характеристик не хватает). По всей видимости использовать в обучающей выборке мы их не можем (кроме целевых признаков). Тогда их придется оттуда удалить. А целевые признаки из полного датафрейма по дате наоборот вставить в тестовую выборку."
   ]
  },
  {
   "cell_type": "code",
   "execution_count": 48,
   "metadata": {
    "scrolled": false
   },
   "outputs": [
    {
     "data": {
      "text/plain": [
       "19439"
      ]
     },
     "execution_count": 48,
     "metadata": {},
     "output_type": "execute_result"
    }
   ],
   "source": [
    "gold_full['date'].nunique()"
   ]
  },
  {
   "cell_type": "code",
   "execution_count": 49,
   "metadata": {},
   "outputs": [],
   "source": [
    "gold_full['date'] = pd.to_datetime(gold_full['date'], format='%Y-%m-%d %H:%M:%S')\n",
    "gold_test['date'] = pd.to_datetime(gold_test['date'], format='%Y-%m-%d %H:%M:%S')\n",
    "gold_train['date'] = pd.to_datetime(gold_train['date'], format='%Y-%m-%d %H:%M:%S')"
   ]
  },
  {
   "cell_type": "markdown",
   "metadata": {},
   "source": [
    "Объединяем таблицы по дате."
   ]
  },
  {
   "cell_type": "code",
   "execution_count": 50,
   "metadata": {
    "scrolled": true
   },
   "outputs": [
    {
     "name": "stdout",
     "output_type": "stream",
     "text": [
      "Проверка числа совпадений: 5290\n"
     ]
    },
    {
     "data": {
      "text/html": [
       "<div>\n",
       "<style scoped>\n",
       "    .dataframe tbody tr th:only-of-type {\n",
       "        vertical-align: middle;\n",
       "    }\n",
       "\n",
       "    .dataframe tbody tr th {\n",
       "        vertical-align: top;\n",
       "    }\n",
       "\n",
       "    .dataframe thead th {\n",
       "        text-align: right;\n",
       "    }\n",
       "</style>\n",
       "<table border=\"1\" class=\"dataframe\">\n",
       "  <thead>\n",
       "    <tr style=\"text-align: right;\">\n",
       "      <th></th>\n",
       "      <th>date</th>\n",
       "      <th>final.output.concentrate_ag</th>\n",
       "      <th>final.output.concentrate_pb</th>\n",
       "      <th>final.output.concentrate_sol</th>\n",
       "      <th>final.output.concentrate_au</th>\n",
       "      <th>final.output.recovery</th>\n",
       "      <th>final.output.tail_ag</th>\n",
       "      <th>final.output.tail_pb</th>\n",
       "      <th>final.output.tail_sol</th>\n",
       "      <th>final.output.tail_au</th>\n",
       "      <th>...</th>\n",
       "      <th>secondary_cleaner.state.floatbank4_a_airrougher.output.recovery</th>\n",
       "      <th>secondary_cleaner.state.floatbank4_a_levelrougher.output.recovery</th>\n",
       "      <th>secondary_cleaner.state.floatbank4_b_airrougher.output.recovery</th>\n",
       "      <th>secondary_cleaner.state.floatbank4_b_levelrougher.output.recovery</th>\n",
       "      <th>secondary_cleaner.state.floatbank5_a_airrougher.output.recovery</th>\n",
       "      <th>secondary_cleaner.state.floatbank5_a_levelrougher.output.recovery</th>\n",
       "      <th>secondary_cleaner.state.floatbank5_b_airrougher.output.recovery</th>\n",
       "      <th>secondary_cleaner.state.floatbank5_b_levelrougher.output.recovery</th>\n",
       "      <th>secondary_cleaner.state.floatbank6_a_airrougher.output.recovery</th>\n",
       "      <th>secondary_cleaner.state.floatbank6_a_levelrougher.output.recovery</th>\n",
       "    </tr>\n",
       "  </thead>\n",
       "  <tbody>\n",
       "    <tr>\n",
       "      <th>0</th>\n",
       "      <td>2016-09-01 00:59:59</td>\n",
       "      <td>7.578381</td>\n",
       "      <td>10.466295</td>\n",
       "      <td>11.990938</td>\n",
       "      <td>40.743891</td>\n",
       "      <td>70.273583</td>\n",
       "      <td>12.688885</td>\n",
       "      <td>3.844413</td>\n",
       "      <td>11.075686</td>\n",
       "      <td>4.537988</td>\n",
       "      <td>...</td>\n",
       "      <td>12.023554</td>\n",
       "      <td>-497.795834</td>\n",
       "      <td>8.016656</td>\n",
       "      <td>-501.289139</td>\n",
       "      <td>7.946562</td>\n",
       "      <td>-432.317850</td>\n",
       "      <td>4.872511</td>\n",
       "      <td>-500.037437</td>\n",
       "      <td>26.705889</td>\n",
       "      <td>-499.709414</td>\n",
       "    </tr>\n",
       "    <tr>\n",
       "      <th>1</th>\n",
       "      <td>2016-09-01 01:59:59</td>\n",
       "      <td>7.813838</td>\n",
       "      <td>10.581152</td>\n",
       "      <td>12.216172</td>\n",
       "      <td>39.604292</td>\n",
       "      <td>68.910432</td>\n",
       "      <td>12.829171</td>\n",
       "      <td>3.918901</td>\n",
       "      <td>11.132824</td>\n",
       "      <td>4.675117</td>\n",
       "      <td>...</td>\n",
       "      <td>12.058140</td>\n",
       "      <td>-498.695773</td>\n",
       "      <td>8.130979</td>\n",
       "      <td>-499.634209</td>\n",
       "      <td>7.958270</td>\n",
       "      <td>-525.839648</td>\n",
       "      <td>4.878850</td>\n",
       "      <td>-500.162375</td>\n",
       "      <td>25.019940</td>\n",
       "      <td>-499.819438</td>\n",
       "    </tr>\n",
       "    <tr>\n",
       "      <th>2</th>\n",
       "      <td>2016-09-01 02:59:59</td>\n",
       "      <td>7.623392</td>\n",
       "      <td>10.424024</td>\n",
       "      <td>12.313710</td>\n",
       "      <td>40.724190</td>\n",
       "      <td>68.143213</td>\n",
       "      <td>12.977846</td>\n",
       "      <td>4.026561</td>\n",
       "      <td>10.990134</td>\n",
       "      <td>4.828907</td>\n",
       "      <td>...</td>\n",
       "      <td>11.962366</td>\n",
       "      <td>-498.767484</td>\n",
       "      <td>8.096893</td>\n",
       "      <td>-500.827423</td>\n",
       "      <td>8.071056</td>\n",
       "      <td>-500.801673</td>\n",
       "      <td>4.905125</td>\n",
       "      <td>-499.828510</td>\n",
       "      <td>24.994862</td>\n",
       "      <td>-500.622559</td>\n",
       "    </tr>\n",
       "    <tr>\n",
       "      <th>3</th>\n",
       "      <td>2016-09-01 03:59:59</td>\n",
       "      <td>8.552457</td>\n",
       "      <td>10.503229</td>\n",
       "      <td>13.074570</td>\n",
       "      <td>39.290997</td>\n",
       "      <td>67.776393</td>\n",
       "      <td>12.451947</td>\n",
       "      <td>3.780702</td>\n",
       "      <td>11.155935</td>\n",
       "      <td>4.969620</td>\n",
       "      <td>...</td>\n",
       "      <td>12.033091</td>\n",
       "      <td>-498.350935</td>\n",
       "      <td>8.074946</td>\n",
       "      <td>-499.474407</td>\n",
       "      <td>7.897085</td>\n",
       "      <td>-500.868509</td>\n",
       "      <td>4.931400</td>\n",
       "      <td>-499.963623</td>\n",
       "      <td>24.948919</td>\n",
       "      <td>-498.709987</td>\n",
       "    </tr>\n",
       "    <tr>\n",
       "      <th>4</th>\n",
       "      <td>2016-09-01 04:59:59</td>\n",
       "      <td>8.078781</td>\n",
       "      <td>10.222788</td>\n",
       "      <td>12.475427</td>\n",
       "      <td>40.254524</td>\n",
       "      <td>61.467078</td>\n",
       "      <td>11.827846</td>\n",
       "      <td>3.632272</td>\n",
       "      <td>11.403663</td>\n",
       "      <td>5.256806</td>\n",
       "      <td>...</td>\n",
       "      <td>12.025367</td>\n",
       "      <td>-500.786497</td>\n",
       "      <td>8.054678</td>\n",
       "      <td>-500.397500</td>\n",
       "      <td>8.107890</td>\n",
       "      <td>-509.526725</td>\n",
       "      <td>4.957674</td>\n",
       "      <td>-500.360026</td>\n",
       "      <td>25.003331</td>\n",
       "      <td>-500.856333</td>\n",
       "    </tr>\n",
       "  </tbody>\n",
       "</table>\n",
       "<p>5 rows × 139 columns</p>\n",
       "</div>"
      ],
      "text/plain": [
       "                 date  final.output.concentrate_ag  \\\n",
       "0 2016-09-01 00:59:59                     7.578381   \n",
       "1 2016-09-01 01:59:59                     7.813838   \n",
       "2 2016-09-01 02:59:59                     7.623392   \n",
       "3 2016-09-01 03:59:59                     8.552457   \n",
       "4 2016-09-01 04:59:59                     8.078781   \n",
       "\n",
       "   final.output.concentrate_pb  final.output.concentrate_sol  \\\n",
       "0                    10.466295                     11.990938   \n",
       "1                    10.581152                     12.216172   \n",
       "2                    10.424024                     12.313710   \n",
       "3                    10.503229                     13.074570   \n",
       "4                    10.222788                     12.475427   \n",
       "\n",
       "   final.output.concentrate_au  final.output.recovery  final.output.tail_ag  \\\n",
       "0                    40.743891              70.273583             12.688885   \n",
       "1                    39.604292              68.910432             12.829171   \n",
       "2                    40.724190              68.143213             12.977846   \n",
       "3                    39.290997              67.776393             12.451947   \n",
       "4                    40.254524              61.467078             11.827846   \n",
       "\n",
       "   final.output.tail_pb  final.output.tail_sol  final.output.tail_au  ...  \\\n",
       "0              3.844413              11.075686              4.537988  ...   \n",
       "1              3.918901              11.132824              4.675117  ...   \n",
       "2              4.026561              10.990134              4.828907  ...   \n",
       "3              3.780702              11.155935              4.969620  ...   \n",
       "4              3.632272              11.403663              5.256806  ...   \n",
       "\n",
       "   secondary_cleaner.state.floatbank4_a_airrougher.output.recovery  \\\n",
       "0                                          12.023554                 \n",
       "1                                          12.058140                 \n",
       "2                                          11.962366                 \n",
       "3                                          12.033091                 \n",
       "4                                          12.025367                 \n",
       "\n",
       "   secondary_cleaner.state.floatbank4_a_levelrougher.output.recovery  \\\n",
       "0                                        -497.795834                   \n",
       "1                                        -498.695773                   \n",
       "2                                        -498.767484                   \n",
       "3                                        -498.350935                   \n",
       "4                                        -500.786497                   \n",
       "\n",
       "   secondary_cleaner.state.floatbank4_b_airrougher.output.recovery  \\\n",
       "0                                           8.016656                 \n",
       "1                                           8.130979                 \n",
       "2                                           8.096893                 \n",
       "3                                           8.074946                 \n",
       "4                                           8.054678                 \n",
       "\n",
       "   secondary_cleaner.state.floatbank4_b_levelrougher.output.recovery  \\\n",
       "0                                        -501.289139                   \n",
       "1                                        -499.634209                   \n",
       "2                                        -500.827423                   \n",
       "3                                        -499.474407                   \n",
       "4                                        -500.397500                   \n",
       "\n",
       "   secondary_cleaner.state.floatbank5_a_airrougher.output.recovery  \\\n",
       "0                                           7.946562                 \n",
       "1                                           7.958270                 \n",
       "2                                           8.071056                 \n",
       "3                                           7.897085                 \n",
       "4                                           8.107890                 \n",
       "\n",
       "   secondary_cleaner.state.floatbank5_a_levelrougher.output.recovery  \\\n",
       "0                                        -432.317850                   \n",
       "1                                        -525.839648                   \n",
       "2                                        -500.801673                   \n",
       "3                                        -500.868509                   \n",
       "4                                        -509.526725                   \n",
       "\n",
       "   secondary_cleaner.state.floatbank5_b_airrougher.output.recovery  \\\n",
       "0                                           4.872511                 \n",
       "1                                           4.878850                 \n",
       "2                                           4.905125                 \n",
       "3                                           4.931400                 \n",
       "4                                           4.957674                 \n",
       "\n",
       "   secondary_cleaner.state.floatbank5_b_levelrougher.output.recovery  \\\n",
       "0                                        -500.037437                   \n",
       "1                                        -500.162375                   \n",
       "2                                        -499.828510                   \n",
       "3                                        -499.963623                   \n",
       "4                                        -500.360026                   \n",
       "\n",
       "   secondary_cleaner.state.floatbank6_a_airrougher.output.recovery  \\\n",
       "0                                          26.705889                 \n",
       "1                                          25.019940                 \n",
       "2                                          24.994862                 \n",
       "3                                          24.948919                 \n",
       "4                                          25.003331                 \n",
       "\n",
       "   secondary_cleaner.state.floatbank6_a_levelrougher.output.recovery  \n",
       "0                                        -499.709414                  \n",
       "1                                        -499.819438                  \n",
       "2                                        -500.622559                  \n",
       "3                                        -498.709987                  \n",
       "4                                        -500.856333                  \n",
       "\n",
       "[5 rows x 139 columns]"
      ]
     },
     "execution_count": 50,
     "metadata": {},
     "output_type": "execute_result"
    }
   ],
   "source": [
    "gold_temp = pd.merge(gold_full, gold_test, on='date', how='inner',\n",
    "                     suffixes=('final.output.recovery', 'rougher.output.recovery'))\n",
    "print('Проверка числа совпадений:', (gold_test['date'] == gold_temp['date']).count())\n",
    "\n",
    "gold_test.loc[gold_test['date'] == gold_temp['date'],\n",
    "              'final.output.recovery'] = gold_temp['final.output.recovery']\n",
    "gold_test.loc[gold_test['date'] == gold_temp['date'],\n",
    "              'rougher.output.recovery'] = gold_temp['rougher.output.recovery']\n",
    "\n",
    "gold_temp.head()"
   ]
  },
  {
   "cell_type": "code",
   "execution_count": 51,
   "metadata": {
    "scrolled": false
   },
   "outputs": [],
   "source": [
    "missing_t_features.remove('rougher.output.recovery')\n",
    "missing_t_features.remove('final.output.recovery')"
   ]
  },
  {
   "cell_type": "markdown",
   "metadata": {},
   "source": [
    "Удалим из выборки лишние поля."
   ]
  },
  {
   "cell_type": "code",
   "execution_count": 52,
   "metadata": {},
   "outputs": [
    {
     "name": "stdout",
     "output_type": "stream",
     "text": [
      "<class 'pandas.core.frame.DataFrame'>\n",
      "RangeIndex: 14149 entries, 0 to 14148\n",
      "Data columns (total 55 columns):\n",
      " #   Column                                      Non-Null Count  Dtype         \n",
      "---  ------                                      --------------  -----         \n",
      " 0   date                                        14149 non-null  datetime64[ns]\n",
      " 1   final.output.recovery                       14149 non-null  float64       \n",
      " 2   primary_cleaner.input.sulfate               14129 non-null  float64       \n",
      " 3   primary_cleaner.input.depressant            14117 non-null  float64       \n",
      " 4   primary_cleaner.input.feed_size             14149 non-null  float64       \n",
      " 5   primary_cleaner.input.xanthate              14049 non-null  float64       \n",
      " 6   primary_cleaner.state.floatbank8_a_air      14145 non-null  float64       \n",
      " 7   primary_cleaner.state.floatbank8_a_level    14148 non-null  float64       \n",
      " 8   primary_cleaner.state.floatbank8_b_air      14145 non-null  float64       \n",
      " 9   primary_cleaner.state.floatbank8_b_level    14148 non-null  float64       \n",
      " 10  primary_cleaner.state.floatbank8_c_air      14147 non-null  float64       \n",
      " 11  primary_cleaner.state.floatbank8_c_level    14148 non-null  float64       \n",
      " 12  primary_cleaner.state.floatbank8_d_air      14146 non-null  float64       \n",
      " 13  primary_cleaner.state.floatbank8_d_level    14148 non-null  float64       \n",
      " 14  rougher.input.feed_ag                       14149 non-null  float64       \n",
      " 15  rougher.input.feed_pb                       14049 non-null  float64       \n",
      " 16  rougher.input.feed_rate                     14141 non-null  float64       \n",
      " 17  rougher.input.feed_size                     14005 non-null  float64       \n",
      " 18  rougher.input.feed_sol                      14071 non-null  float64       \n",
      " 19  rougher.input.feed_au                       14149 non-null  float64       \n",
      " 20  rougher.input.floatbank10_sulfate           14120 non-null  float64       \n",
      " 21  rougher.input.floatbank10_xanthate          14141 non-null  float64       \n",
      " 22  rougher.input.floatbank11_sulfate           14113 non-null  float64       \n",
      " 23  rougher.input.floatbank11_xanthate          13721 non-null  float64       \n",
      " 24  rougher.output.recovery                     14149 non-null  float64       \n",
      " 25  rougher.state.floatbank10_a_air             14148 non-null  float64       \n",
      " 26  rougher.state.floatbank10_a_level           14148 non-null  float64       \n",
      " 27  rougher.state.floatbank10_b_air             14148 non-null  float64       \n",
      " 28  rougher.state.floatbank10_b_level           14148 non-null  float64       \n",
      " 29  rougher.state.floatbank10_c_air             14148 non-null  float64       \n",
      " 30  rougher.state.floatbank10_c_level           14148 non-null  float64       \n",
      " 31  rougher.state.floatbank10_d_air             14149 non-null  float64       \n",
      " 32  rougher.state.floatbank10_d_level           14149 non-null  float64       \n",
      " 33  rougher.state.floatbank10_e_air             13713 non-null  float64       \n",
      " 34  rougher.state.floatbank10_e_level           14149 non-null  float64       \n",
      " 35  rougher.state.floatbank10_f_air             14149 non-null  float64       \n",
      " 36  rougher.state.floatbank10_f_level           14149 non-null  float64       \n",
      " 37  secondary_cleaner.state.floatbank2_a_air    13932 non-null  float64       \n",
      " 38  secondary_cleaner.state.floatbank2_a_level  14148 non-null  float64       \n",
      " 39  secondary_cleaner.state.floatbank2_b_air    14128 non-null  float64       \n",
      " 40  secondary_cleaner.state.floatbank2_b_level  14148 non-null  float64       \n",
      " 41  secondary_cleaner.state.floatbank3_a_air    14145 non-null  float64       \n",
      " 42  secondary_cleaner.state.floatbank3_a_level  14148 non-null  float64       \n",
      " 43  secondary_cleaner.state.floatbank3_b_air    14148 non-null  float64       \n",
      " 44  secondary_cleaner.state.floatbank3_b_level  14148 non-null  float64       \n",
      " 45  secondary_cleaner.state.floatbank4_a_air    14143 non-null  float64       \n",
      " 46  secondary_cleaner.state.floatbank4_a_level  14148 non-null  float64       \n",
      " 47  secondary_cleaner.state.floatbank4_b_air    14148 non-null  float64       \n",
      " 48  secondary_cleaner.state.floatbank4_b_level  14148 non-null  float64       \n",
      " 49  secondary_cleaner.state.floatbank5_a_air    14148 non-null  float64       \n",
      " 50  secondary_cleaner.state.floatbank5_a_level  14148 non-null  float64       \n",
      " 51  secondary_cleaner.state.floatbank5_b_air    14148 non-null  float64       \n",
      " 52  secondary_cleaner.state.floatbank5_b_level  14148 non-null  float64       \n",
      " 53  secondary_cleaner.state.floatbank6_a_air    14147 non-null  float64       \n",
      " 54  secondary_cleaner.state.floatbank6_a_level  14148 non-null  float64       \n",
      "dtypes: datetime64[ns](1), float64(54)\n",
      "memory usage: 5.9 MB\n"
     ]
    }
   ],
   "source": [
    "gold_train = gold_train.drop(missing_t_features, axis=1)\n",
    "gold_train = gold_train.drop(['rougher.output.recovery_calc', 'rougher.output.recovery_mae'], axis=1)\n",
    "gold_train.info()"
   ]
  },
  {
   "cell_type": "code",
   "execution_count": 53,
   "metadata": {
    "scrolled": true
   },
   "outputs": [
    {
     "name": "stdout",
     "output_type": "stream",
     "text": [
      "<class 'pandas.core.frame.DataFrame'>\n",
      "RangeIndex: 5290 entries, 0 to 5289\n",
      "Data columns (total 55 columns):\n",
      " #   Column                                      Non-Null Count  Dtype         \n",
      "---  ------                                      --------------  -----         \n",
      " 0   date                                        5290 non-null   datetime64[ns]\n",
      " 1   primary_cleaner.input.sulfate               5286 non-null   float64       \n",
      " 2   primary_cleaner.input.depressant            5285 non-null   float64       \n",
      " 3   primary_cleaner.input.feed_size             5290 non-null   float64       \n",
      " 4   primary_cleaner.input.xanthate              5286 non-null   float64       \n",
      " 5   primary_cleaner.state.floatbank8_a_air      5290 non-null   float64       \n",
      " 6   primary_cleaner.state.floatbank8_a_level    5290 non-null   float64       \n",
      " 7   primary_cleaner.state.floatbank8_b_air      5290 non-null   float64       \n",
      " 8   primary_cleaner.state.floatbank8_b_level    5290 non-null   float64       \n",
      " 9   primary_cleaner.state.floatbank8_c_air      5290 non-null   float64       \n",
      " 10  primary_cleaner.state.floatbank8_c_level    5290 non-null   float64       \n",
      " 11  primary_cleaner.state.floatbank8_d_air      5290 non-null   float64       \n",
      " 12  primary_cleaner.state.floatbank8_d_level    5290 non-null   float64       \n",
      " 13  rougher.input.feed_ag                       5290 non-null   float64       \n",
      " 14  rougher.input.feed_pb                       5290 non-null   float64       \n",
      " 15  rougher.input.feed_rate                     5287 non-null   float64       \n",
      " 16  rougher.input.feed_size                     5289 non-null   float64       \n",
      " 17  rougher.input.feed_sol                      5269 non-null   float64       \n",
      " 18  rougher.input.feed_au                       5290 non-null   float64       \n",
      " 19  rougher.input.floatbank10_sulfate           5285 non-null   float64       \n",
      " 20  rougher.input.floatbank10_xanthate          5290 non-null   float64       \n",
      " 21  rougher.input.floatbank11_sulfate           5282 non-null   float64       \n",
      " 22  rougher.input.floatbank11_xanthate          5265 non-null   float64       \n",
      " 23  rougher.state.floatbank10_a_air             5290 non-null   float64       \n",
      " 24  rougher.state.floatbank10_a_level           5290 non-null   float64       \n",
      " 25  rougher.state.floatbank10_b_air             5290 non-null   float64       \n",
      " 26  rougher.state.floatbank10_b_level           5290 non-null   float64       \n",
      " 27  rougher.state.floatbank10_c_air             5290 non-null   float64       \n",
      " 28  rougher.state.floatbank10_c_level           5290 non-null   float64       \n",
      " 29  rougher.state.floatbank10_d_air             5290 non-null   float64       \n",
      " 30  rougher.state.floatbank10_d_level           5290 non-null   float64       \n",
      " 31  rougher.state.floatbank10_e_air             5290 non-null   float64       \n",
      " 32  rougher.state.floatbank10_e_level           5290 non-null   float64       \n",
      " 33  rougher.state.floatbank10_f_air             5290 non-null   float64       \n",
      " 34  rougher.state.floatbank10_f_level           5290 non-null   float64       \n",
      " 35  secondary_cleaner.state.floatbank2_a_air    5287 non-null   float64       \n",
      " 36  secondary_cleaner.state.floatbank2_a_level  5290 non-null   float64       \n",
      " 37  secondary_cleaner.state.floatbank2_b_air    5288 non-null   float64       \n",
      " 38  secondary_cleaner.state.floatbank2_b_level  5290 non-null   float64       \n",
      " 39  secondary_cleaner.state.floatbank3_a_air    5281 non-null   float64       \n",
      " 40  secondary_cleaner.state.floatbank3_a_level  5290 non-null   float64       \n",
      " 41  secondary_cleaner.state.floatbank3_b_air    5290 non-null   float64       \n",
      " 42  secondary_cleaner.state.floatbank3_b_level  5290 non-null   float64       \n",
      " 43  secondary_cleaner.state.floatbank4_a_air    5290 non-null   float64       \n",
      " 44  secondary_cleaner.state.floatbank4_a_level  5290 non-null   float64       \n",
      " 45  secondary_cleaner.state.floatbank4_b_air    5290 non-null   float64       \n",
      " 46  secondary_cleaner.state.floatbank4_b_level  5290 non-null   float64       \n",
      " 47  secondary_cleaner.state.floatbank5_a_air    5290 non-null   float64       \n",
      " 48  secondary_cleaner.state.floatbank5_a_level  5290 non-null   float64       \n",
      " 49  secondary_cleaner.state.floatbank5_b_air    5290 non-null   float64       \n",
      " 50  secondary_cleaner.state.floatbank5_b_level  5290 non-null   float64       \n",
      " 51  secondary_cleaner.state.floatbank6_a_air    5290 non-null   float64       \n",
      " 52  secondary_cleaner.state.floatbank6_a_level  5290 non-null   float64       \n",
      " 53  final.output.recovery                       5290 non-null   float64       \n",
      " 54  rougher.output.recovery                     5290 non-null   float64       \n",
      "dtypes: datetime64[ns](1), float64(54)\n",
      "memory usage: 2.2 MB\n"
     ]
    }
   ],
   "source": [
    "gold_test.info()"
   ]
  },
  {
   "cell_type": "markdown",
   "metadata": {
    "scrolled": true
   },
   "source": [
    "### Предобработка данных"
   ]
  },
  {
   "cell_type": "markdown",
   "metadata": {},
   "source": [
    "Для нас по факту этап заключается в замене пропусков на необходимые значения, изначальном понимании сколько их. Возможно проще и эффективнее будет удалить образцы с пропусками.\n",
    " "
   ]
  },
  {
   "cell_type": "code",
   "execution_count": 54,
   "metadata": {
    "scrolled": true
   },
   "outputs": [
    {
     "name": "stdout",
     "output_type": "stream",
     "text": [
      "Максимальная доля пропусков в обучающей выборке 3.0814898579404906\n",
      "Максимальная доля пропусков в тестовой выборке 0.4725897920604915\n"
     ]
    }
   ],
   "source": [
    "train_null_ratio = []\n",
    "test_null_ratio = []\n",
    "for col in gold_train.columns:\n",
    "    train_null_ratio.append(100 * gold_train[col].isna().sum() / gold_train.shape[0])\n",
    "print('Максимальная доля пропусков в обучающей выборке', max(train_null_ratio))\n",
    "\n",
    "for col in gold_test.columns:\n",
    "    test_null_ratio.append(100 * gold_test[col].isna().sum() / gold_test.shape[0])\n",
    "print('Максимальная доля пропусков в тестовой выборке', max(test_null_ratio))"
   ]
  },
  {
   "cell_type": "markdown",
   "metadata": {},
   "source": [
    "Доля пропусков небольшая везде, в связи с чем можем спокойнол от образцов, где есть эти пропуски (да, признаков, где они имеются немало и может эти маленькие доли в сумме дадут большое число, посмотрим)."
   ]
  },
  {
   "cell_type": "code",
   "execution_count": 55,
   "metadata": {
    "scrolled": true
   },
   "outputs": [
    {
     "name": "stdout",
     "output_type": "stream",
     "text": [
      "12679\n",
      "12679\n"
     ]
    }
   ],
   "source": [
    "gold_train_1 = gold_train.dropna()\n",
    "print(gold_train_1.shape[0])\n",
    "gold_test_1 = gold_train.dropna()\n",
    "print(gold_test_1.shape[0])"
   ]
  },
  {
   "cell_type": "markdown",
   "metadata": {},
   "source": [
    "В итоге удаляем около полутора тысяч строк, что даже чуть больше 10% данных. Это не очень хорошо. Попробуем заполнить интерполяцией пропуски (у нас есть время - пусть оно в качестве аргумента выступает). Правда для этого надо бы понимать, как наши признаким изменяются во времени. Возьмем каких-нибудь 2 признака и посмотрим (сделаем это на сохраненном датасете без пропусков) их зависимость от этого параметра."
   ]
  },
  {
   "cell_type": "code",
   "execution_count": 56,
   "metadata": {
    "scrolled": true
   },
   "outputs": [
    {
     "name": "stdout",
     "output_type": "stream",
     "text": [
      "436\n"
     ]
    },
    {
     "data": {
      "text/plain": [
       "9843    2018-01-13 06:59:59\n",
       "9844    2018-01-13 07:59:59\n",
       "9845    2018-01-13 08:59:59\n",
       "9846    2018-01-13 09:59:59\n",
       "9847    2018-01-13 10:59:59\n",
       "                ...        \n",
       "10565   2018-02-23 10:59:59\n",
       "10566   2018-02-23 11:59:59\n",
       "10567   2018-02-23 12:59:59\n",
       "10568   2018-02-23 13:59:59\n",
       "10569   2018-02-23 14:59:59\n",
       "Name: date, Length: 436, dtype: datetime64[ns]"
      ]
     },
     "execution_count": 56,
     "metadata": {},
     "output_type": "execute_result"
    }
   ],
   "source": [
    "print(gold_train['rougher.state.floatbank10_e_air'].isna().sum())\n",
    "gold_train.loc[gold_train['rougher.state.floatbank10_e_air'].isna() == True]['date']"
   ]
  },
  {
   "cell_type": "markdown",
   "metadata": {},
   "source": [
    "Очевидно, что пропуски идут почти вподряд и разумность использования интерполяции встает под вопрос."
   ]
  },
  {
   "cell_type": "code",
   "execution_count": 57,
   "metadata": {
    "scrolled": true
   },
   "outputs": [
    {
     "data": {
      "image/png": "[encoded data removed]",
      "text/plain": [
       "<Figure size 640x480 with 1 Axes>"
      ]
     },
     "metadata": {
      "needs_background": "light"
     },
     "output_type": "display_data"
    }
   ],
   "source": [
    "plt.figure(figsize=(8, 6), dpi=80)\n",
    "plt.grid(True)\n",
    "plt.plot(gold_train_1.loc[:500,'date'], gold_train_1.loc[:500,'rougher.state.floatbank10_e_air'])\n",
    "plt.xlabel('Дата')\n",
    "plt.ylabel('Количество введенной добавки (параметр текущего состояния этапа)')\n",
    "plt.title('Зависимость ввода некоторой добавки в период флотации')\n",
    "plt.show()"
   ]
  },
  {
   "cell_type": "code",
   "execution_count": 58,
   "metadata": {
    "scrolled": true
   },
   "outputs": [
    {
     "data": {
      "image/png": "[encoded data removed]",
      "text/plain": [
       "<Figure size 640x480 with 1 Axes>"
      ]
     },
     "metadata": {
      "needs_background": "light"
     },
     "output_type": "display_data"
    }
   ],
   "source": [
    "plt.figure(figsize=(8, 6), dpi=80)\n",
    "plt.grid(True)\n",
    "plt.plot(gold_train_1.loc[:500,'date'],\n",
    "         gold_train_1.loc[:500,'rougher.input.floatbank11_xanthate'])\n",
    "plt.xlabel('Дата')\n",
    "plt.ylabel('Количество введенной добавки  (параметр сырья)')\n",
    "plt.title('Зависимость ввода некоторой добавки в период флотации')\n",
    "plt.show()"
   ]
  },
  {
   "cell_type": "markdown",
   "metadata": {},
   "source": [
    "Как-то не заметно опредеелнных зависимостей - где-то со временем никаких изменений и не было, а где-то штормило прямо конкретно. Ну, в принципе линейная интерполяция просто построит линию между аргументами с известными значениями и на этой линии отметит значение искомого аргумента. Все же попробуем.\n"
   ]
  },
  {
   "cell_type": "code",
   "execution_count": 59,
   "metadata": {},
   "outputs": [],
   "source": [
    "gold_train_2 = gold_train.copy()\n",
    "gold_train_2['rougher.state.floatbank10_e_air'] =\\\n",
    "gold_train_2['rougher.state.floatbank10_e_air'].interpolate()"
   ]
  },
  {
   "cell_type": "code",
   "execution_count": 60,
   "metadata": {
    "scrolled": true
   },
   "outputs": [
    {
     "data": {
      "image/png": "[encoded data removed]",
      "text/plain": [
       "<Figure size 640x480 with 1 Axes>"
      ]
     },
     "metadata": {
      "needs_background": "light"
     },
     "output_type": "display_data"
    }
   ],
   "source": [
    "plt.figure(figsize=(8, 6), dpi=80)\n",
    "plt.grid(True)\n",
    "plt.plot(gold_train_2.loc[9800:10600,'date'],\n",
    "         gold_train_2.loc[9800:10600,'rougher.state.floatbank10_e_air'])\n",
    "plt.xlabel('Дата')\n",
    "plt.ylabel('Количество введенной добавки (параметр текущего состояния этапа)')\n",
    "plt.title('Зависимость ввода некоторой добавки в период флотации после интерполяции')\n",
    "plt.show()"
   ]
  },
  {
   "cell_type": "markdown",
   "metadata": {},
   "source": [
    "Выглядит не совсем естественно (у реальных данных разброс фактически в течение дня(по крайней мере маленького срока) может скакнуть от 500 до 1900 фактически - этот кусок сразу выделяется)... Из-за того, что у нас большие куски, где значения для соседних точек неопределены, скорее всего от пропусков все же просто придется избавиться. Может показаться, что здесь стоит использовать группировку по датам (без часов и т.п.) а потом подставлять среднее по дате в пропуски, но по факту у нас как бы из-за пропусков \"идущих вподряд\", выпадают целые дни..."
   ]
  },
  {
   "cell_type": "code",
   "execution_count": 61,
   "metadata": {},
   "outputs": [
    {
     "data": {
      "text/plain": [
       "657"
      ]
     },
     "execution_count": 61,
     "metadata": {},
     "output_type": "execute_result"
    }
   ],
   "source": [
    "gold_train_3 = gold_train.copy()\n",
    "gold_train_3['date_without_time'] = gold_train_3['date'].dt.date\n",
    "#gold_full.groupby('date_date')[gold_full.columns].mean()\n",
    "gold_train_3['date_without_time'].nunique()\n"
   ]
  },
  {
   "cell_type": "markdown",
   "metadata": {},
   "source": [
    "Получаем, что из 14 с лишним тысяч строк у нас 657 уникальных дней - следовательно, земеры идут почти каждый час. А у нас число пропусков вподряд яввно достигает больше 24, т.е. замеров параметра может не быть больше суток (датчик сломался или еще что-то там), тогда и теория с заполнением средним по дню тоже как-то отпадает.\n",
    "\n",
    " Так как ни к чему толковому мы не приходим - пользуемся подстановкой предыдущего значения в текущее (пропущенное). В конце концов датафреймы у нас и так большие. Теперь наш основной обучающий датафрейм - gold_train_4. Соответствующее имя дадим и тестовому."
   ]
  },
  {
   "cell_type": "code",
   "execution_count": 62,
   "metadata": {},
   "outputs": [],
   "source": [
    "gold_train_4 = gold_train.copy()"
   ]
  },
  {
   "cell_type": "code",
   "execution_count": 63,
   "metadata": {},
   "outputs": [
    {
     "name": "stdout",
     "output_type": "stream",
     "text": [
      "<class 'pandas.core.frame.DataFrame'>\n",
      "RangeIndex: 14149 entries, 0 to 14148\n",
      "Data columns (total 55 columns):\n",
      " #   Column                                      Non-Null Count  Dtype         \n",
      "---  ------                                      --------------  -----         \n",
      " 0   date                                        14149 non-null  datetime64[ns]\n",
      " 1   final.output.recovery                       14149 non-null  float64       \n",
      " 2   primary_cleaner.input.sulfate               14149 non-null  float64       \n",
      " 3   primary_cleaner.input.depressant            14149 non-null  float64       \n",
      " 4   primary_cleaner.input.feed_size             14149 non-null  float64       \n",
      " 5   primary_cleaner.input.xanthate              14149 non-null  float64       \n",
      " 6   primary_cleaner.state.floatbank8_a_air      14149 non-null  float64       \n",
      " 7   primary_cleaner.state.floatbank8_a_level    14149 non-null  float64       \n",
      " 8   primary_cleaner.state.floatbank8_b_air      14149 non-null  float64       \n",
      " 9   primary_cleaner.state.floatbank8_b_level    14149 non-null  float64       \n",
      " 10  primary_cleaner.state.floatbank8_c_air      14149 non-null  float64       \n",
      " 11  primary_cleaner.state.floatbank8_c_level    14149 non-null  float64       \n",
      " 12  primary_cleaner.state.floatbank8_d_air      14149 non-null  float64       \n",
      " 13  primary_cleaner.state.floatbank8_d_level    14149 non-null  float64       \n",
      " 14  rougher.input.feed_ag                       14149 non-null  float64       \n",
      " 15  rougher.input.feed_pb                       14149 non-null  float64       \n",
      " 16  rougher.input.feed_rate                     14149 non-null  float64       \n",
      " 17  rougher.input.feed_size                     14149 non-null  float64       \n",
      " 18  rougher.input.feed_sol                      14149 non-null  float64       \n",
      " 19  rougher.input.feed_au                       14149 non-null  float64       \n",
      " 20  rougher.input.floatbank10_sulfate           14149 non-null  float64       \n",
      " 21  rougher.input.floatbank10_xanthate          14149 non-null  float64       \n",
      " 22  rougher.input.floatbank11_sulfate           14149 non-null  float64       \n",
      " 23  rougher.input.floatbank11_xanthate          14149 non-null  float64       \n",
      " 24  rougher.output.recovery                     14149 non-null  float64       \n",
      " 25  rougher.state.floatbank10_a_air             14149 non-null  float64       \n",
      " 26  rougher.state.floatbank10_a_level           14149 non-null  float64       \n",
      " 27  rougher.state.floatbank10_b_air             14149 non-null  float64       \n",
      " 28  rougher.state.floatbank10_b_level           14149 non-null  float64       \n",
      " 29  rougher.state.floatbank10_c_air             14149 non-null  float64       \n",
      " 30  rougher.state.floatbank10_c_level           14149 non-null  float64       \n",
      " 31  rougher.state.floatbank10_d_air             14149 non-null  float64       \n",
      " 32  rougher.state.floatbank10_d_level           14149 non-null  float64       \n",
      " 33  rougher.state.floatbank10_e_air             14149 non-null  float64       \n",
      " 34  rougher.state.floatbank10_e_level           14149 non-null  float64       \n",
      " 35  rougher.state.floatbank10_f_air             14149 non-null  float64       \n",
      " 36  rougher.state.floatbank10_f_level           14149 non-null  float64       \n",
      " 37  secondary_cleaner.state.floatbank2_a_air    14149 non-null  float64       \n",
      " 38  secondary_cleaner.state.floatbank2_a_level  14149 non-null  float64       \n",
      " 39  secondary_cleaner.state.floatbank2_b_air    14149 non-null  float64       \n",
      " 40  secondary_cleaner.state.floatbank2_b_level  14149 non-null  float64       \n",
      " 41  secondary_cleaner.state.floatbank3_a_air    14149 non-null  float64       \n",
      " 42  secondary_cleaner.state.floatbank3_a_level  14149 non-null  float64       \n",
      " 43  secondary_cleaner.state.floatbank3_b_air    14149 non-null  float64       \n",
      " 44  secondary_cleaner.state.floatbank3_b_level  14149 non-null  float64       \n",
      " 45  secondary_cleaner.state.floatbank4_a_air    14149 non-null  float64       \n",
      " 46  secondary_cleaner.state.floatbank4_a_level  14149 non-null  float64       \n",
      " 47  secondary_cleaner.state.floatbank4_b_air    14149 non-null  float64       \n",
      " 48  secondary_cleaner.state.floatbank4_b_level  14149 non-null  float64       \n",
      " 49  secondary_cleaner.state.floatbank5_a_air    14149 non-null  float64       \n",
      " 50  secondary_cleaner.state.floatbank5_a_level  14149 non-null  float64       \n",
      " 51  secondary_cleaner.state.floatbank5_b_air    14149 non-null  float64       \n",
      " 52  secondary_cleaner.state.floatbank5_b_level  14149 non-null  float64       \n",
      " 53  secondary_cleaner.state.floatbank6_a_air    14149 non-null  float64       \n",
      " 54  secondary_cleaner.state.floatbank6_a_level  14149 non-null  float64       \n",
      "dtypes: datetime64[ns](1), float64(54)\n",
      "memory usage: 5.9 MB\n"
     ]
    }
   ],
   "source": [
    "for col in gold_train_4.columns:\n",
    "    gold_train_4[col] = gold_train[col].ffill()\n",
    "    \n",
    "gold_train_4.isna().sum()\n",
    "gold_train_4.info()"
   ]
  },
  {
   "cell_type": "code",
   "execution_count": 64,
   "metadata": {},
   "outputs": [
    {
     "data": {
      "text/plain": [
       "date                                           0\n",
       "primary_cleaner.input.sulfate                  4\n",
       "primary_cleaner.input.depressant               5\n",
       "primary_cleaner.input.feed_size                0\n",
       "primary_cleaner.input.xanthate                 4\n",
       "primary_cleaner.state.floatbank8_a_air         0\n",
       "primary_cleaner.state.floatbank8_a_level       0\n",
       "primary_cleaner.state.floatbank8_b_air         0\n",
       "primary_cleaner.state.floatbank8_b_level       0\n",
       "primary_cleaner.state.floatbank8_c_air         0\n",
       "primary_cleaner.state.floatbank8_c_level       0\n",
       "primary_cleaner.state.floatbank8_d_air         0\n",
       "primary_cleaner.state.floatbank8_d_level       0\n",
       "rougher.input.feed_ag                          0\n",
       "rougher.input.feed_pb                          0\n",
       "rougher.input.feed_rate                        3\n",
       "rougher.input.feed_size                        1\n",
       "rougher.input.feed_sol                        21\n",
       "rougher.input.feed_au                          0\n",
       "rougher.input.floatbank10_sulfate              5\n",
       "rougher.input.floatbank10_xanthate             0\n",
       "rougher.input.floatbank11_sulfate              8\n",
       "rougher.input.floatbank11_xanthate            25\n",
       "rougher.state.floatbank10_a_air                0\n",
       "rougher.state.floatbank10_a_level              0\n",
       "rougher.state.floatbank10_b_air                0\n",
       "rougher.state.floatbank10_b_level              0\n",
       "rougher.state.floatbank10_c_air                0\n",
       "rougher.state.floatbank10_c_level              0\n",
       "rougher.state.floatbank10_d_air                0\n",
       "rougher.state.floatbank10_d_level              0\n",
       "rougher.state.floatbank10_e_air                0\n",
       "rougher.state.floatbank10_e_level              0\n",
       "rougher.state.floatbank10_f_air                0\n",
       "rougher.state.floatbank10_f_level              0\n",
       "secondary_cleaner.state.floatbank2_a_air       3\n",
       "secondary_cleaner.state.floatbank2_a_level     0\n",
       "secondary_cleaner.state.floatbank2_b_air       2\n",
       "secondary_cleaner.state.floatbank2_b_level     0\n",
       "secondary_cleaner.state.floatbank3_a_air       9\n",
       "secondary_cleaner.state.floatbank3_a_level     0\n",
       "secondary_cleaner.state.floatbank3_b_air       0\n",
       "secondary_cleaner.state.floatbank3_b_level     0\n",
       "secondary_cleaner.state.floatbank4_a_air       0\n",
       "secondary_cleaner.state.floatbank4_a_level     0\n",
       "secondary_cleaner.state.floatbank4_b_air       0\n",
       "secondary_cleaner.state.floatbank4_b_level     0\n",
       "secondary_cleaner.state.floatbank5_a_air       0\n",
       "secondary_cleaner.state.floatbank5_a_level     0\n",
       "secondary_cleaner.state.floatbank5_b_air       0\n",
       "secondary_cleaner.state.floatbank5_b_level     0\n",
       "secondary_cleaner.state.floatbank6_a_air       0\n",
       "secondary_cleaner.state.floatbank6_a_level     0\n",
       "final.output.recovery                          0\n",
       "rougher.output.recovery                        0\n",
       "dtype: int64"
      ]
     },
     "execution_count": 64,
     "metadata": {},
     "output_type": "execute_result"
    }
   ],
   "source": [
    "gold_test_4 = gold_test.copy()\n",
    "gold_test_4.isna().sum()"
   ]
  },
  {
   "cell_type": "code",
   "execution_count": 65,
   "metadata": {},
   "outputs": [
    {
     "data": {
      "text/plain": [
       "date                                          0\n",
       "primary_cleaner.input.sulfate                 0\n",
       "primary_cleaner.input.depressant              0\n",
       "primary_cleaner.input.feed_size               0\n",
       "primary_cleaner.input.xanthate                0\n",
       "primary_cleaner.state.floatbank8_a_air        0\n",
       "primary_cleaner.state.floatbank8_a_level      0\n",
       "primary_cleaner.state.floatbank8_b_air        0\n",
       "primary_cleaner.state.floatbank8_b_level      0\n",
       "primary_cleaner.state.floatbank8_c_air        0\n",
       "primary_cleaner.state.floatbank8_c_level      0\n",
       "primary_cleaner.state.floatbank8_d_air        0\n",
       "primary_cleaner.state.floatbank8_d_level      0\n",
       "rougher.input.feed_ag                         0\n",
       "rougher.input.feed_pb                         0\n",
       "rougher.input.feed_rate                       0\n",
       "rougher.input.feed_size                       0\n",
       "rougher.input.feed_sol                        0\n",
       "rougher.input.feed_au                         0\n",
       "rougher.input.floatbank10_sulfate             0\n",
       "rougher.input.floatbank10_xanthate            0\n",
       "rougher.input.floatbank11_sulfate             0\n",
       "rougher.input.floatbank11_xanthate            0\n",
       "rougher.state.floatbank10_a_air               0\n",
       "rougher.state.floatbank10_a_level             0\n",
       "rougher.state.floatbank10_b_air               0\n",
       "rougher.state.floatbank10_b_level             0\n",
       "rougher.state.floatbank10_c_air               0\n",
       "rougher.state.floatbank10_c_level             0\n",
       "rougher.state.floatbank10_d_air               0\n",
       "rougher.state.floatbank10_d_level             0\n",
       "rougher.state.floatbank10_e_air               0\n",
       "rougher.state.floatbank10_e_level             0\n",
       "rougher.state.floatbank10_f_air               0\n",
       "rougher.state.floatbank10_f_level             0\n",
       "secondary_cleaner.state.floatbank2_a_air      0\n",
       "secondary_cleaner.state.floatbank2_a_level    0\n",
       "secondary_cleaner.state.floatbank2_b_air      0\n",
       "secondary_cleaner.state.floatbank2_b_level    0\n",
       "secondary_cleaner.state.floatbank3_a_air      0\n",
       "secondary_cleaner.state.floatbank3_a_level    0\n",
       "secondary_cleaner.state.floatbank3_b_air      0\n",
       "secondary_cleaner.state.floatbank3_b_level    0\n",
       "secondary_cleaner.state.floatbank4_a_air      0\n",
       "secondary_cleaner.state.floatbank4_a_level    0\n",
       "secondary_cleaner.state.floatbank4_b_air      0\n",
       "secondary_cleaner.state.floatbank4_b_level    0\n",
       "secondary_cleaner.state.floatbank5_a_air      0\n",
       "secondary_cleaner.state.floatbank5_a_level    0\n",
       "secondary_cleaner.state.floatbank5_b_air      0\n",
       "secondary_cleaner.state.floatbank5_b_level    0\n",
       "secondary_cleaner.state.floatbank6_a_air      0\n",
       "secondary_cleaner.state.floatbank6_a_level    0\n",
       "final.output.recovery                         0\n",
       "rougher.output.recovery                       0\n",
       "dtype: int64"
      ]
     },
     "execution_count": 65,
     "metadata": {},
     "output_type": "execute_result"
    }
   ],
   "source": [
    "#gold_test_4 = gold_test_4.drop(['date'], axis=1)\n",
    "for col in gold_test_4.columns:\n",
    "    gold_test_4[col] = gold_test_4[col].ffill()\n",
    "\n",
    "gold_test_4.isna().sum()"
   ]
  },
  {
   "cell_type": "code",
   "execution_count": 66,
   "metadata": {},
   "outputs": [
    {
     "data": {
      "text/plain": [
       "(14149, 55)"
      ]
     },
     "execution_count": 66,
     "metadata": {},
     "output_type": "execute_result"
    }
   ],
   "source": [
    "gold_train_4.shape"
   ]
  },
  {
   "cell_type": "markdown",
   "metadata": {},
   "source": [
    "Пропуски заполнены, таким образом удалось избежать потери данных."
   ]
  },
  {
   "cell_type": "markdown",
   "metadata": {},
   "source": [
    "## Анализ данных"
   ]
  },
  {
   "cell_type": "markdown",
   "metadata": {},
   "source": [
    "### Изменение концентрации металлов"
   ]
  },
  {
   "cell_type": "markdown",
   "metadata": {},
   "source": [
    "Этот этап проведем на полном датасете, т.к. из обучающего и тестового мы многое удалили.\n",
    "\n",
    "В принципе, чтобы понять, что происходило с концентрацией металлов именно по этапам (посмотрим по всем, включая сырье) должно хватить средних значений. Поэтому найдем их для конкретного этапа и металла (млжет стоит смотреть металлы в общем, но это нетрудно сложить из 3 составляющих)."
   ]
  },
  {
   "cell_type": "code",
   "execution_count": 67,
   "metadata": {},
   "outputs": [
    {
     "name": "stdout",
     "output_type": "stream",
     "text": [
      "<class 'pandas.core.frame.DataFrame'>\n",
      "RangeIndex: 19439 entries, 0 to 19438\n",
      "Data columns (total 87 columns):\n",
      " #   Column                                              Non-Null Count  Dtype         \n",
      "---  ------                                              --------------  -----         \n",
      " 0   date                                                19439 non-null  datetime64[ns]\n",
      " 1   final.output.concentrate_ag                         19438 non-null  float64       \n",
      " 2   final.output.concentrate_pb                         19438 non-null  float64       \n",
      " 3   final.output.concentrate_sol                        19228 non-null  float64       \n",
      " 4   final.output.concentrate_au                         19439 non-null  float64       \n",
      " 5   final.output.recovery                               19439 non-null  float64       \n",
      " 6   final.output.tail_ag                                19438 non-null  float64       \n",
      " 7   final.output.tail_pb                                19338 non-null  float64       \n",
      " 8   final.output.tail_sol                               19433 non-null  float64       \n",
      " 9   final.output.tail_au                                19439 non-null  float64       \n",
      " 10  primary_cleaner.input.sulfate                       19415 non-null  float64       \n",
      " 11  primary_cleaner.input.depressant                    19402 non-null  float64       \n",
      " 12  primary_cleaner.input.feed_size                     19439 non-null  float64       \n",
      " 13  primary_cleaner.input.xanthate                      19335 non-null  float64       \n",
      " 14  primary_cleaner.output.concentrate_ag               19439 non-null  float64       \n",
      " 15  primary_cleaner.output.concentrate_pb               19323 non-null  float64       \n",
      " 16  primary_cleaner.output.concentrate_sol              19069 non-null  float64       \n",
      " 17  primary_cleaner.output.concentrate_au               19439 non-null  float64       \n",
      " 18  primary_cleaner.output.tail_ag                      19435 non-null  float64       \n",
      " 19  primary_cleaner.output.tail_pb                      19418 non-null  float64       \n",
      " 20  primary_cleaner.output.tail_sol                     19377 non-null  float64       \n",
      " 21  primary_cleaner.output.tail_au                      19439 non-null  float64       \n",
      " 22  primary_cleaner.state.floatbank8_a_air              19435 non-null  float64       \n",
      " 23  primary_cleaner.state.floatbank8_a_level            19438 non-null  float64       \n",
      " 24  primary_cleaner.state.floatbank8_b_air              19435 non-null  float64       \n",
      " 25  primary_cleaner.state.floatbank8_b_level            19438 non-null  float64       \n",
      " 26  primary_cleaner.state.floatbank8_c_air              19437 non-null  float64       \n",
      " 27  primary_cleaner.state.floatbank8_c_level            19438 non-null  float64       \n",
      " 28  primary_cleaner.state.floatbank8_d_air              19436 non-null  float64       \n",
      " 29  primary_cleaner.state.floatbank8_d_level            19438 non-null  float64       \n",
      " 30  rougher.calculation.sulfate_to_au_concentrate       19437 non-null  float64       \n",
      " 31  rougher.calculation.floatbank10_sulfate_to_au_feed  19437 non-null  float64       \n",
      " 32  rougher.calculation.floatbank11_sulfate_to_au_feed  19437 non-null  float64       \n",
      " 33  rougher.calculation.au_pb_ratio                     19439 non-null  float64       \n",
      " 34  rougher.input.feed_ag                               19439 non-null  float64       \n",
      " 35  rougher.input.feed_pb                               19339 non-null  float64       \n",
      " 36  rougher.input.feed_rate                             19428 non-null  float64       \n",
      " 37  rougher.input.feed_size                             19294 non-null  float64       \n",
      " 38  rougher.input.feed_sol                              19340 non-null  float64       \n",
      " 39  rougher.input.feed_au                               19439 non-null  float64       \n",
      " 40  rougher.input.floatbank10_sulfate                   19405 non-null  float64       \n",
      " 41  rougher.input.floatbank10_xanthate                  19431 non-null  float64       \n",
      " 42  rougher.input.floatbank11_sulfate                   19395 non-null  float64       \n",
      " 43  rougher.input.floatbank11_xanthate                  18986 non-null  float64       \n",
      " 44  rougher.output.concentrate_ag                       19439 non-null  float64       \n",
      " 45  rougher.output.concentrate_pb                       19439 non-null  float64       \n",
      " 46  rougher.output.concentrate_sol                      19416 non-null  float64       \n",
      " 47  rougher.output.concentrate_au                       19439 non-null  float64       \n",
      " 48  rougher.output.recovery                             19439 non-null  float64       \n",
      " 49  rougher.output.tail_ag                              19438 non-null  float64       \n",
      " 50  rougher.output.tail_pb                              19439 non-null  float64       \n",
      " 51  rougher.output.tail_sol                             19439 non-null  float64       \n",
      " 52  rougher.output.tail_au                              19439 non-null  float64       \n",
      " 53  rougher.state.floatbank10_a_air                     19438 non-null  float64       \n",
      " 54  rougher.state.floatbank10_a_level                   19438 non-null  float64       \n",
      " 55  rougher.state.floatbank10_b_air                     19438 non-null  float64       \n",
      " 56  rougher.state.floatbank10_b_level                   19438 non-null  float64       \n",
      " 57  rougher.state.floatbank10_c_air                     19438 non-null  float64       \n",
      " 58  rougher.state.floatbank10_c_level                   19438 non-null  float64       \n",
      " 59  rougher.state.floatbank10_d_air                     19439 non-null  float64       \n",
      " 60  rougher.state.floatbank10_d_level                   19439 non-null  float64       \n",
      " 61  rougher.state.floatbank10_e_air                     19003 non-null  float64       \n",
      " 62  rougher.state.floatbank10_e_level                   19439 non-null  float64       \n",
      " 63  rougher.state.floatbank10_f_air                     19439 non-null  float64       \n",
      " 64  rougher.state.floatbank10_f_level                   19439 non-null  float64       \n",
      " 65  secondary_cleaner.output.tail_ag                    19437 non-null  float64       \n",
      " 66  secondary_cleaner.output.tail_pb                    19427 non-null  float64       \n",
      " 67  secondary_cleaner.output.tail_sol                   17691 non-null  float64       \n",
      " 68  secondary_cleaner.output.tail_au                    19439 non-null  float64       \n",
      " 69  secondary_cleaner.state.floatbank2_a_air            19219 non-null  float64       \n",
      " 70  secondary_cleaner.state.floatbank2_a_level          19438 non-null  float64       \n",
      " 71  secondary_cleaner.state.floatbank2_b_air            19416 non-null  float64       \n",
      " 72  secondary_cleaner.state.floatbank2_b_level          19438 non-null  float64       \n",
      " 73  secondary_cleaner.state.floatbank3_a_air            19426 non-null  float64       \n",
      " 74  secondary_cleaner.state.floatbank3_a_level          19438 non-null  float64       \n",
      " 75  secondary_cleaner.state.floatbank3_b_air            19438 non-null  float64       \n",
      " 76  secondary_cleaner.state.floatbank3_b_level          19438 non-null  float64       \n",
      " 77  secondary_cleaner.state.floatbank4_a_air            19433 non-null  float64       \n",
      " 78  secondary_cleaner.state.floatbank4_a_level          19438 non-null  float64       \n",
      " 79  secondary_cleaner.state.floatbank4_b_air            19438 non-null  float64       \n",
      " 80  secondary_cleaner.state.floatbank4_b_level          19438 non-null  float64       \n",
      " 81  secondary_cleaner.state.floatbank5_a_air            19438 non-null  float64       \n",
      " 82  secondary_cleaner.state.floatbank5_a_level          19438 non-null  float64       \n",
      " 83  secondary_cleaner.state.floatbank5_b_air            19438 non-null  float64       \n",
      " 84  secondary_cleaner.state.floatbank5_b_level          19438 non-null  float64       \n",
      " 85  secondary_cleaner.state.floatbank6_a_air            19437 non-null  float64       \n",
      " 86  secondary_cleaner.state.floatbank6_a_level          19438 non-null  float64       \n",
      "dtypes: datetime64[ns](1), float64(86)\n",
      "memory usage: 12.9 MB\n"
     ]
    }
   ],
   "source": [
    "gold_full.info()"
   ]
  },
  {
   "cell_type": "code",
   "execution_count": 68,
   "metadata": {
    "scrolled": true
   },
   "outputs": [
    {
     "data": {
      "image/png": "[encoded data removed]",
      "text/plain": [
       "<Figure size 432x288 with 1 Axes>"
      ]
     },
     "metadata": {},
     "output_type": "display_data"
    },
    {
     "data": {
      "image/png": "[encoded data removed]",
      "text/plain": [
       "<Figure size 432x288 with 1 Axes>"
      ]
     },
     "metadata": {},
     "output_type": "display_data"
    },
    {
     "data": {
      "image/png": "[encoded data removed]",
      "text/plain": [
       "<Figure size 432x288 with 1 Axes>"
      ]
     },
     "metadata": {},
     "output_type": "display_data"
    },
    {
     "data": {
      "image/png": "[encoded data removed]",
      "text/plain": [
       "<Figure size 432x288 with 1 Axes>"
      ]
     },
     "metadata": {},
     "output_type": "display_data"
    },
    {
     "data": {
      "text/plain": [
       "[rougher.input.feed_ag      8.794927\n",
       " rougher.input.feed_pb      3.598085\n",
       " rougher.input.feed_au      8.266097\n",
       " rougher.input.feed_sol    36.695114\n",
       " dtype: float64,\n",
       " other_comp    42.645776\n",
       " dtype: float64,\n",
       " rougher.output.concentrate_ag     11.994759\n",
       " rougher.output.concentrate_pb      7.606272\n",
       " rougher.output.concentrate_au     19.772000\n",
       " rougher.output.concentrate_sol    28.805571\n",
       " dtype: float64,\n",
       " other_comp    31.821397\n",
       " dtype: float64,\n",
       " primary_cleaner.output.concentrate_ag      8.442408\n",
       " primary_cleaner.output.concentrate_pb      9.829530\n",
       " primary_cleaner.output.concentrate_au     32.119400\n",
       " primary_cleaner.output.concentrate_sol    10.489499\n",
       " dtype: float64,\n",
       " other_comp    39.119162\n",
       " dtype: float64,\n",
       " final.output.concentrate_ag      5.168470\n",
       " final.output.concentrate_pb      9.978895\n",
       " final.output.concentrate_au     44.076513\n",
       " final.output.concentrate_sol     9.501224\n",
       " dtype: float64,\n",
       " other_comp    31.274898\n",
       " dtype: float64]"
      ]
     },
     "execution_count": 68,
     "metadata": {},
     "output_type": "execute_result"
    }
   ],
   "source": [
    "feed_conc = gold_full[['date',\n",
    "                       'rougher.input.feed_ag',\n",
    "                      'rougher.input.feed_pb',\n",
    "                      'rougher.input.feed_au',\n",
    "                      'rougher.input.feed_sol']].copy()\n",
    "rougher_conc = gold_full[['date',\n",
    "                          'rougher.output.concentrate_ag',\n",
    "                          'rougher.output.concentrate_pb',\n",
    "                          'rougher.output.concentrate_au',\n",
    "                          'rougher.output.concentrate_sol']].copy()\n",
    "primary_cleaner_conc = gold_full[['date',\n",
    "                                  'primary_cleaner.output.concentrate_ag',\n",
    "                                  'primary_cleaner.output.concentrate_pb',\n",
    "                                  'primary_cleaner.output.concentrate_au',\n",
    "                                  'primary_cleaner.output.concentrate_sol']].copy()\n",
    "final_conc = gold_full[['date',\n",
    "                        'final.output.concentrate_ag',\n",
    "                        'final.output.concentrate_pb',\n",
    "                        'final.output.concentrate_au',\n",
    "                        'final.output.concentrate_sol']].copy()\n",
    "\n",
    "stage_conc = [feed_conc, rougher_conc, primary_cleaner_conc, final_conc]\n",
    "means_conc = []\n",
    "#fig, axs = plt.plot()\n",
    "for frame in stage_conc:\n",
    "    stage_means = frame.mean()\n",
    "    means_conc.append(stage_means)\n",
    "    others_comp = (100-sum(stage_means))\n",
    "    means_conc.append(pd.Series({'other_comp':others_comp}))\n",
    "    stage_means = pd.concat([stage_means, pd.Series({'other_comp':others_comp})])\n",
    "    frame = frame.drop(['date'], axis=1)\n",
    "    plt.pie(stage_means,\n",
    "            labels=['Ag', \"Pb\", 'Au', 'sol', 'other comp'], autopct='%1.1f%%')\n",
    "    plt.title(f'Соедержание элементов в обрабатываемом материале на этапе: {str(frame.columns[0])[:-3]}')\n",
    "    plt.show()\n",
    "means_conc\n"
   ]
  },
  {
   "cell_type": "markdown",
   "metadata": {},
   "source": [
    "Очевидный и самый важный для нас факт - это рост концентрации золота (по факту за счет очищения от примесей) на каждом этапе. Значит весь техпроцесс оправдан. Также видно, что в целом концентрация свинца тоже повышается (т.е. видно, что от него мы как бы не избавляемся) на пару процентов, кроме последенй очистки, где она фактически не изменилась. Концентрация серебра после флотации повышается, однако 2 псоледующие очистки помогают его снизить. "
   ]
  },
  {
   "cell_type": "markdown",
   "metadata": {},
   "source": [
    "### Исследование размеров гранул сырья"
   ]
  },
  {
   "cell_type": "markdown",
   "metadata": {},
   "source": [
    "Данный вопрос рассмотрим, как и сказано в задании на двух выборках, с которыми будет взаимодействовать модель."
   ]
  },
  {
   "cell_type": "code",
   "execution_count": 69,
   "metadata": {
    "scrolled": true
   },
   "outputs": [
    {
     "data": {
      "image/png": "[encoded data removed]",
      "text/plain": [
       "<Figure size 432x288 with 1 Axes>"
      ]
     },
     "metadata": {
      "needs_background": "light"
     },
     "output_type": "display_data"
    }
   ],
   "source": [
    "#gold_train_1.plot(kind='hist', y='rougher.input.feed_size', bins=25, range=(0, 200), grid=True)\n",
    "sns.distplot(gold_train_1['rougher.input.feed_size'], hist=True, kde=True, \n",
    "             bins=20, color = 'darkblue', \n",
    "             hist_kws={'edgecolor':'black'},\n",
    "             kde_kws={'linewidth': 4})\n",
    "plt.show()"
   ]
  },
  {
   "cell_type": "code",
   "execution_count": 70,
   "metadata": {},
   "outputs": [
    {
     "data": {
      "image/png": "[encoded data removed]",
      "text/plain": [
       "<Figure size 432x288 with 1 Axes>"
      ]
     },
     "metadata": {
      "needs_background": "light"
     },
     "output_type": "display_data"
    }
   ],
   "source": [
    "#gold_test_1.plot(kind='hist', y='rougher.input.feed_size', bins=25, range=(0, 200), grid=True)\n",
    "sns.distplot(gold_test_1['rougher.input.feed_size'], hist=True, kde=True, \n",
    "             bins=20, color = 'darkblue', \n",
    "             hist_kws={'edgecolor':'black'},\n",
    "             kde_kws={'linewidth': 4})\n",
    "plt.show()"
   ]
  },
  {
   "cell_type": "markdown",
   "metadata": {},
   "source": [
    "Судить о схожести распределений всегда непросто. Данный случай в принципе не исключение: видно что средние могли бы быть максимально близко, если б у тестовой выборкИ не присутсвовало так много значений в интервале от 40 до 50. В целом распределения несколько напоминают нормальные но если посмотреть на частоты в большем масштабе (как минимум для тренировочного датасета), будут видны выбросы. Очень крупные гранулы имеют место - это факт"
   ]
  },
  {
   "cell_type": "code",
   "execution_count": 71,
   "metadata": {
    "scrolled": true
   },
   "outputs": [
    {
     "data": {
      "text/plain": [
       "count    12679.000000\n",
       "mean        58.414412\n",
       "std         20.441275\n",
       "min          9.659576\n",
       "25%         48.721041\n",
       "50%         54.651129\n",
       "75%         63.719220\n",
       "max        484.967466\n",
       "Name: rougher.input.feed_size, dtype: float64"
      ]
     },
     "execution_count": 71,
     "metadata": {},
     "output_type": "execute_result"
    }
   ],
   "source": [
    "gold_train_1['rougher.input.feed_size'].describe()"
   ]
  },
  {
   "cell_type": "code",
   "execution_count": 72,
   "metadata": {
    "scrolled": true
   },
   "outputs": [
    {
     "data": {
      "text/plain": [
       "count    12679.000000\n",
       "mean        58.414412\n",
       "std         20.441275\n",
       "min          9.659576\n",
       "25%         48.721041\n",
       "50%         54.651129\n",
       "75%         63.719220\n",
       "max        484.967466\n",
       "Name: rougher.input.feed_size, dtype: float64"
      ]
     },
     "execution_count": 72,
     "metadata": {},
     "output_type": "execute_result"
    }
   ],
   "source": [
    "gold_test_1['rougher.input.feed_size'].describe()"
   ]
  },
  {
   "cell_type": "markdown",
   "metadata": {},
   "source": [
    "Хоты вот по кол-ым оценкам уже заметно, что большинство показателей близко к друг другу (можно, конечно, пойти дальше и проверить средние на равенство, но этого вроде не требуется).\n",
    "Максимальные значения - высокие (это было заметно на гистограммах), но не превышают средние и стандартное отклонение на несколько порядков, соответсвенно, считать их неинформативными аномалиями не станем."
   ]
  },
  {
   "cell_type": "code",
   "execution_count": 73,
   "metadata": {
    "scrolled": false
   },
   "outputs": [
    {
     "data": {
      "text/html": [
       "<div>\n",
       "<style scoped>\n",
       "    .dataframe tbody tr th:only-of-type {\n",
       "        vertical-align: middle;\n",
       "    }\n",
       "\n",
       "    .dataframe tbody tr th {\n",
       "        vertical-align: top;\n",
       "    }\n",
       "\n",
       "    .dataframe thead th {\n",
       "        text-align: right;\n",
       "    }\n",
       "</style>\n",
       "<table border=\"1\" class=\"dataframe\">\n",
       "  <thead>\n",
       "    <tr style=\"text-align: right;\">\n",
       "      <th></th>\n",
       "      <th>date</th>\n",
       "      <th>final.output.recovery</th>\n",
       "      <th>primary_cleaner.input.sulfate</th>\n",
       "      <th>primary_cleaner.input.depressant</th>\n",
       "      <th>primary_cleaner.input.feed_size</th>\n",
       "      <th>primary_cleaner.input.xanthate</th>\n",
       "      <th>primary_cleaner.state.floatbank8_a_air</th>\n",
       "      <th>primary_cleaner.state.floatbank8_a_level</th>\n",
       "      <th>primary_cleaner.state.floatbank8_b_air</th>\n",
       "      <th>primary_cleaner.state.floatbank8_b_level</th>\n",
       "      <th>...</th>\n",
       "      <th>secondary_cleaner.state.floatbank4_a_air</th>\n",
       "      <th>secondary_cleaner.state.floatbank4_a_level</th>\n",
       "      <th>secondary_cleaner.state.floatbank4_b_air</th>\n",
       "      <th>secondary_cleaner.state.floatbank4_b_level</th>\n",
       "      <th>secondary_cleaner.state.floatbank5_a_air</th>\n",
       "      <th>secondary_cleaner.state.floatbank5_a_level</th>\n",
       "      <th>secondary_cleaner.state.floatbank5_b_air</th>\n",
       "      <th>secondary_cleaner.state.floatbank5_b_level</th>\n",
       "      <th>secondary_cleaner.state.floatbank6_a_air</th>\n",
       "      <th>secondary_cleaner.state.floatbank6_a_level</th>\n",
       "    </tr>\n",
       "  </thead>\n",
       "  <tbody>\n",
       "    <tr>\n",
       "      <th>3822</th>\n",
       "      <td>2016-07-24 20:59:59</td>\n",
       "      <td>75.970054</td>\n",
       "      <td>161.870102</td>\n",
       "      <td>5.933739</td>\n",
       "      <td>7.090000</td>\n",
       "      <td>0.892548</td>\n",
       "      <td>1604.854533</td>\n",
       "      <td>-499.752507</td>\n",
       "      <td>1598.925128</td>\n",
       "      <td>-499.376023</td>\n",
       "      <td>...</td>\n",
       "      <td>19.961226</td>\n",
       "      <td>-400.031109</td>\n",
       "      <td>10.049537</td>\n",
       "      <td>-400.051057</td>\n",
       "      <td>10.075446</td>\n",
       "      <td>-403.132817</td>\n",
       "      <td>5.069262</td>\n",
       "      <td>-399.842160</td>\n",
       "      <td>22.957628</td>\n",
       "      <td>-499.893416</td>\n",
       "    </tr>\n",
       "    <tr>\n",
       "      <th>3823</th>\n",
       "      <td>2016-07-24 21:59:59</td>\n",
       "      <td>75.176570</td>\n",
       "      <td>166.215091</td>\n",
       "      <td>6.019960</td>\n",
       "      <td>7.090000</td>\n",
       "      <td>0.882270</td>\n",
       "      <td>1603.482566</td>\n",
       "      <td>-500.094262</td>\n",
       "      <td>1600.032554</td>\n",
       "      <td>-499.760869</td>\n",
       "      <td>...</td>\n",
       "      <td>19.961526</td>\n",
       "      <td>-399.466202</td>\n",
       "      <td>10.078152</td>\n",
       "      <td>-399.626030</td>\n",
       "      <td>9.924182</td>\n",
       "      <td>-401.918437</td>\n",
       "      <td>5.056349</td>\n",
       "      <td>-400.339648</td>\n",
       "      <td>23.026902</td>\n",
       "      <td>-500.377175</td>\n",
       "    </tr>\n",
       "    <tr>\n",
       "      <th>3824</th>\n",
       "      <td>2016-07-24 22:59:59</td>\n",
       "      <td>72.377504</td>\n",
       "      <td>164.728297</td>\n",
       "      <td>5.946583</td>\n",
       "      <td>7.090000</td>\n",
       "      <td>0.909782</td>\n",
       "      <td>1600.246151</td>\n",
       "      <td>-499.000434</td>\n",
       "      <td>1599.664611</td>\n",
       "      <td>-500.476636</td>\n",
       "      <td>...</td>\n",
       "      <td>19.974082</td>\n",
       "      <td>-400.059471</td>\n",
       "      <td>10.073479</td>\n",
       "      <td>-399.484238</td>\n",
       "      <td>10.085450</td>\n",
       "      <td>-396.352199</td>\n",
       "      <td>5.043436</td>\n",
       "      <td>-400.047765</td>\n",
       "      <td>23.009404</td>\n",
       "      <td>-498.765393</td>\n",
       "    </tr>\n",
       "    <tr>\n",
       "      <th>3825</th>\n",
       "      <td>2016-07-24 23:59:59</td>\n",
       "      <td>74.283799</td>\n",
       "      <td>160.037160</td>\n",
       "      <td>5.974965</td>\n",
       "      <td>7.090000</td>\n",
       "      <td>0.894223</td>\n",
       "      <td>1599.972130</td>\n",
       "      <td>-500.822268</td>\n",
       "      <td>1596.592688</td>\n",
       "      <td>-499.888768</td>\n",
       "      <td>...</td>\n",
       "      <td>20.077289</td>\n",
       "      <td>-400.008470</td>\n",
       "      <td>10.050483</td>\n",
       "      <td>-399.616687</td>\n",
       "      <td>10.002298</td>\n",
       "      <td>-399.176719</td>\n",
       "      <td>5.030524</td>\n",
       "      <td>-401.203124</td>\n",
       "      <td>22.942014</td>\n",
       "      <td>-501.415173</td>\n",
       "    </tr>\n",
       "    <tr>\n",
       "      <th>3826</th>\n",
       "      <td>2016-07-25 00:59:59</td>\n",
       "      <td>74.234284</td>\n",
       "      <td>162.553492</td>\n",
       "      <td>5.980691</td>\n",
       "      <td>7.090000</td>\n",
       "      <td>0.884435</td>\n",
       "      <td>1601.542481</td>\n",
       "      <td>-499.583747</td>\n",
       "      <td>1599.383250</td>\n",
       "      <td>-500.026651</td>\n",
       "      <td>...</td>\n",
       "      <td>19.932451</td>\n",
       "      <td>-400.270080</td>\n",
       "      <td>10.004813</td>\n",
       "      <td>-399.938714</td>\n",
       "      <td>10.118624</td>\n",
       "      <td>-399.417707</td>\n",
       "      <td>5.017611</td>\n",
       "      <td>-399.887825</td>\n",
       "      <td>22.940244</td>\n",
       "      <td>-499.361545</td>\n",
       "    </tr>\n",
       "    <tr>\n",
       "      <th>3827</th>\n",
       "      <td>2016-07-25 01:59:59</td>\n",
       "      <td>73.153374</td>\n",
       "      <td>159.251626</td>\n",
       "      <td>5.979012</td>\n",
       "      <td>7.090000</td>\n",
       "      <td>0.902221</td>\n",
       "      <td>1599.638521</td>\n",
       "      <td>-500.556931</td>\n",
       "      <td>1601.094875</td>\n",
       "      <td>-499.798251</td>\n",
       "      <td>...</td>\n",
       "      <td>19.985371</td>\n",
       "      <td>-399.987732</td>\n",
       "      <td>9.906012</td>\n",
       "      <td>-400.681902</td>\n",
       "      <td>9.961733</td>\n",
       "      <td>-399.080118</td>\n",
       "      <td>5.004698</td>\n",
       "      <td>-400.001607</td>\n",
       "      <td>22.996275</td>\n",
       "      <td>-498.125722</td>\n",
       "    </tr>\n",
       "    <tr>\n",
       "      <th>3828</th>\n",
       "      <td>2016-07-25 02:59:59</td>\n",
       "      <td>70.954202</td>\n",
       "      <td>156.835921</td>\n",
       "      <td>6.076951</td>\n",
       "      <td>7.090000</td>\n",
       "      <td>0.886374</td>\n",
       "      <td>1600.578234</td>\n",
       "      <td>-499.432632</td>\n",
       "      <td>1599.616041</td>\n",
       "      <td>-500.347299</td>\n",
       "      <td>...</td>\n",
       "      <td>20.015916</td>\n",
       "      <td>-399.084214</td>\n",
       "      <td>10.041267</td>\n",
       "      <td>-397.091455</td>\n",
       "      <td>9.966870</td>\n",
       "      <td>-402.936854</td>\n",
       "      <td>4.991786</td>\n",
       "      <td>-400.105465</td>\n",
       "      <td>23.021417</td>\n",
       "      <td>-500.835361</td>\n",
       "    </tr>\n",
       "    <tr>\n",
       "      <th>3829</th>\n",
       "      <td>2016-07-25 03:59:59</td>\n",
       "      <td>73.677505</td>\n",
       "      <td>148.212495</td>\n",
       "      <td>5.949498</td>\n",
       "      <td>7.090000</td>\n",
       "      <td>0.901128</td>\n",
       "      <td>1599.022355</td>\n",
       "      <td>-500.326269</td>\n",
       "      <td>1603.090707</td>\n",
       "      <td>-499.734432</td>\n",
       "      <td>...</td>\n",
       "      <td>19.961428</td>\n",
       "      <td>-400.532357</td>\n",
       "      <td>10.016105</td>\n",
       "      <td>-400.236140</td>\n",
       "      <td>9.981473</td>\n",
       "      <td>-399.100501</td>\n",
       "      <td>4.979364</td>\n",
       "      <td>-399.630059</td>\n",
       "      <td>23.014694</td>\n",
       "      <td>-500.332044</td>\n",
       "    </tr>\n",
       "    <tr>\n",
       "      <th>3830</th>\n",
       "      <td>2016-07-25 04:59:59</td>\n",
       "      <td>73.009166</td>\n",
       "      <td>139.583709</td>\n",
       "      <td>6.000084</td>\n",
       "      <td>7.090000</td>\n",
       "      <td>0.922292</td>\n",
       "      <td>1596.433895</td>\n",
       "      <td>-500.671876</td>\n",
       "      <td>1598.237046</td>\n",
       "      <td>-499.477181</td>\n",
       "      <td>...</td>\n",
       "      <td>20.056256</td>\n",
       "      <td>-400.606743</td>\n",
       "      <td>9.993424</td>\n",
       "      <td>-401.495623</td>\n",
       "      <td>10.132152</td>\n",
       "      <td>-398.596086</td>\n",
       "      <td>4.972851</td>\n",
       "      <td>-399.407966</td>\n",
       "      <td>23.003439</td>\n",
       "      <td>-500.012170</td>\n",
       "    </tr>\n",
       "    <tr>\n",
       "      <th>3831</th>\n",
       "      <td>2016-07-25 05:59:59</td>\n",
       "      <td>73.403823</td>\n",
       "      <td>139.935733</td>\n",
       "      <td>6.265825</td>\n",
       "      <td>7.090000</td>\n",
       "      <td>0.893066</td>\n",
       "      <td>1603.855631</td>\n",
       "      <td>-501.455054</td>\n",
       "      <td>1600.870117</td>\n",
       "      <td>-499.377572</td>\n",
       "      <td>...</td>\n",
       "      <td>20.066647</td>\n",
       "      <td>-398.847445</td>\n",
       "      <td>9.975633</td>\n",
       "      <td>-398.755118</td>\n",
       "      <td>9.894055</td>\n",
       "      <td>-401.591623</td>\n",
       "      <td>4.968069</td>\n",
       "      <td>-399.481812</td>\n",
       "      <td>23.031086</td>\n",
       "      <td>-500.187366</td>\n",
       "    </tr>\n",
       "    <tr>\n",
       "      <th>3832</th>\n",
       "      <td>2016-07-25 07:59:59</td>\n",
       "      <td>73.397570</td>\n",
       "      <td>150.788429</td>\n",
       "      <td>6.480264</td>\n",
       "      <td>7.335000</td>\n",
       "      <td>0.883221</td>\n",
       "      <td>1603.182094</td>\n",
       "      <td>-501.050593</td>\n",
       "      <td>1601.989493</td>\n",
       "      <td>-500.269653</td>\n",
       "      <td>...</td>\n",
       "      <td>20.045785</td>\n",
       "      <td>-398.800983</td>\n",
       "      <td>9.950263</td>\n",
       "      <td>-399.256303</td>\n",
       "      <td>10.003394</td>\n",
       "      <td>-397.853444</td>\n",
       "      <td>4.958505</td>\n",
       "      <td>-400.002260</td>\n",
       "      <td>22.980222</td>\n",
       "      <td>-499.662217</td>\n",
       "    </tr>\n",
       "    <tr>\n",
       "      <th>3833</th>\n",
       "      <td>2016-07-25 08:59:59</td>\n",
       "      <td>73.050042</td>\n",
       "      <td>155.235615</td>\n",
       "      <td>6.552615</td>\n",
       "      <td>7.580000</td>\n",
       "      <td>0.897163</td>\n",
       "      <td>1602.301814</td>\n",
       "      <td>-500.766128</td>\n",
       "      <td>1599.652538</td>\n",
       "      <td>-499.107296</td>\n",
       "      <td>...</td>\n",
       "      <td>20.010068</td>\n",
       "      <td>-399.424924</td>\n",
       "      <td>9.938791</td>\n",
       "      <td>-399.880048</td>\n",
       "      <td>9.923734</td>\n",
       "      <td>-401.300263</td>\n",
       "      <td>4.953723</td>\n",
       "      <td>-400.272770</td>\n",
       "      <td>23.000261</td>\n",
       "      <td>-500.367680</td>\n",
       "    </tr>\n",
       "    <tr>\n",
       "      <th>3834</th>\n",
       "      <td>2016-07-25 09:59:59</td>\n",
       "      <td>73.206689</td>\n",
       "      <td>159.871122</td>\n",
       "      <td>6.511316</td>\n",
       "      <td>7.580000</td>\n",
       "      <td>0.848482</td>\n",
       "      <td>1601.940139</td>\n",
       "      <td>-500.157585</td>\n",
       "      <td>1598.957402</td>\n",
       "      <td>-500.301399</td>\n",
       "      <td>...</td>\n",
       "      <td>20.019297</td>\n",
       "      <td>-400.207377</td>\n",
       "      <td>9.954083</td>\n",
       "      <td>-399.443461</td>\n",
       "      <td>9.940474</td>\n",
       "      <td>-400.719693</td>\n",
       "      <td>4.948941</td>\n",
       "      <td>-399.827016</td>\n",
       "      <td>22.987580</td>\n",
       "      <td>-499.429895</td>\n",
       "    </tr>\n",
       "    <tr>\n",
       "      <th>3835</th>\n",
       "      <td>2016-07-25 10:59:59</td>\n",
       "      <td>73.985546</td>\n",
       "      <td>166.213861</td>\n",
       "      <td>6.488016</td>\n",
       "      <td>7.575000</td>\n",
       "      <td>0.915408</td>\n",
       "      <td>1599.694335</td>\n",
       "      <td>-499.294700</td>\n",
       "      <td>1596.219416</td>\n",
       "      <td>-499.600084</td>\n",
       "      <td>...</td>\n",
       "      <td>20.059949</td>\n",
       "      <td>-399.786609</td>\n",
       "      <td>10.067815</td>\n",
       "      <td>-399.278352</td>\n",
       "      <td>9.988923</td>\n",
       "      <td>-400.282613</td>\n",
       "      <td>4.944159</td>\n",
       "      <td>-400.253606</td>\n",
       "      <td>23.013180</td>\n",
       "      <td>-499.160838</td>\n",
       "    </tr>\n",
       "    <tr>\n",
       "      <th>7082</th>\n",
       "      <td>2017-04-25 00:59:59</td>\n",
       "      <td>62.680657</td>\n",
       "      <td>87.899460</td>\n",
       "      <td>3.950559</td>\n",
       "      <td>7.110000</td>\n",
       "      <td>0.344936</td>\n",
       "      <td>1802.213471</td>\n",
       "      <td>-499.565179</td>\n",
       "      <td>1750.983562</td>\n",
       "      <td>-500.783612</td>\n",
       "      <td>...</td>\n",
       "      <td>24.962522</td>\n",
       "      <td>-396.947429</td>\n",
       "      <td>22.980526</td>\n",
       "      <td>-398.019128</td>\n",
       "      <td>26.002204</td>\n",
       "      <td>-448.799179</td>\n",
       "      <td>24.009363</td>\n",
       "      <td>-449.919379</td>\n",
       "      <td>30.000917</td>\n",
       "      <td>-499.568033</td>\n",
       "    </tr>\n",
       "    <tr>\n",
       "      <th>7939</th>\n",
       "      <td>2017-06-12 07:59:59</td>\n",
       "      <td>66.974115</td>\n",
       "      <td>139.127228</td>\n",
       "      <td>12.003325</td>\n",
       "      <td>8.120000</td>\n",
       "      <td>1.000938</td>\n",
       "      <td>1697.731898</td>\n",
       "      <td>-499.578796</td>\n",
       "      <td>1696.475647</td>\n",
       "      <td>-499.952586</td>\n",
       "      <td>...</td>\n",
       "      <td>18.008487</td>\n",
       "      <td>-497.889281</td>\n",
       "      <td>13.028371</td>\n",
       "      <td>-379.461053</td>\n",
       "      <td>17.992287</td>\n",
       "      <td>-499.381874</td>\n",
       "      <td>13.005072</td>\n",
       "      <td>-499.700186</td>\n",
       "      <td>19.988246</td>\n",
       "      <td>-499.168833</td>\n",
       "    </tr>\n",
       "    <tr>\n",
       "      <th>7996</th>\n",
       "      <td>2017-06-14 17:59:59</td>\n",
       "      <td>66.431554</td>\n",
       "      <td>143.014332</td>\n",
       "      <td>13.000879</td>\n",
       "      <td>7.720000</td>\n",
       "      <td>0.892859</td>\n",
       "      <td>1697.402773</td>\n",
       "      <td>-501.360918</td>\n",
       "      <td>1698.703584</td>\n",
       "      <td>-500.444637</td>\n",
       "      <td>...</td>\n",
       "      <td>17.985239</td>\n",
       "      <td>-500.244983</td>\n",
       "      <td>12.966769</td>\n",
       "      <td>-379.921704</td>\n",
       "      <td>18.090539</td>\n",
       "      <td>-500.551888</td>\n",
       "      <td>12.971983</td>\n",
       "      <td>-500.118663</td>\n",
       "      <td>20.012977</td>\n",
       "      <td>-500.151239</td>\n",
       "    </tr>\n",
       "    <tr>\n",
       "      <th>7997</th>\n",
       "      <td>2017-06-14 18:59:59</td>\n",
       "      <td>69.007020</td>\n",
       "      <td>111.181909</td>\n",
       "      <td>12.978205</td>\n",
       "      <td>7.170000</td>\n",
       "      <td>0.925319</td>\n",
       "      <td>1700.811225</td>\n",
       "      <td>-499.780517</td>\n",
       "      <td>1698.876248</td>\n",
       "      <td>-499.414946</td>\n",
       "      <td>...</td>\n",
       "      <td>18.053868</td>\n",
       "      <td>-500.699174</td>\n",
       "      <td>12.914028</td>\n",
       "      <td>-379.969453</td>\n",
       "      <td>18.012567</td>\n",
       "      <td>-500.260912</td>\n",
       "      <td>12.954783</td>\n",
       "      <td>-499.837256</td>\n",
       "      <td>19.984940</td>\n",
       "      <td>-500.225606</td>\n",
       "    </tr>\n",
       "    <tr>\n",
       "      <th>7999</th>\n",
       "      <td>2017-06-14 20:59:59</td>\n",
       "      <td>64.953567</td>\n",
       "      <td>141.518899</td>\n",
       "      <td>13.010176</td>\n",
       "      <td>7.170000</td>\n",
       "      <td>0.896114</td>\n",
       "      <td>1702.150132</td>\n",
       "      <td>-500.265349</td>\n",
       "      <td>1697.656060</td>\n",
       "      <td>-501.063590</td>\n",
       "      <td>...</td>\n",
       "      <td>17.985482</td>\n",
       "      <td>-499.376984</td>\n",
       "      <td>12.940930</td>\n",
       "      <td>-380.335239</td>\n",
       "      <td>18.015179</td>\n",
       "      <td>-500.389853</td>\n",
       "      <td>12.993934</td>\n",
       "      <td>-500.406351</td>\n",
       "      <td>20.005652</td>\n",
       "      <td>-500.253252</td>\n",
       "    </tr>\n",
       "    <tr>\n",
       "      <th>8001</th>\n",
       "      <td>2017-06-14 22:59:59</td>\n",
       "      <td>68.236669</td>\n",
       "      <td>131.040872</td>\n",
       "      <td>12.973806</td>\n",
       "      <td>7.050000</td>\n",
       "      <td>0.911583</td>\n",
       "      <td>1701.641757</td>\n",
       "      <td>-501.044121</td>\n",
       "      <td>1701.379766</td>\n",
       "      <td>-500.316359</td>\n",
       "      <td>...</td>\n",
       "      <td>18.052205</td>\n",
       "      <td>-500.740174</td>\n",
       "      <td>13.023547</td>\n",
       "      <td>-381.134573</td>\n",
       "      <td>18.010736</td>\n",
       "      <td>-499.863632</td>\n",
       "      <td>13.002345</td>\n",
       "      <td>-499.963943</td>\n",
       "      <td>20.003053</td>\n",
       "      <td>-500.454588</td>\n",
       "    </tr>\n",
       "    <tr>\n",
       "      <th>8003</th>\n",
       "      <td>2017-06-15 00:59:59</td>\n",
       "      <td>66.399110</td>\n",
       "      <td>135.717292</td>\n",
       "      <td>13.071866</td>\n",
       "      <td>6.940000</td>\n",
       "      <td>0.890397</td>\n",
       "      <td>1697.383891</td>\n",
       "      <td>-497.736976</td>\n",
       "      <td>1697.693750</td>\n",
       "      <td>-499.831007</td>\n",
       "      <td>...</td>\n",
       "      <td>17.931400</td>\n",
       "      <td>-498.646229</td>\n",
       "      <td>12.929918</td>\n",
       "      <td>-379.538630</td>\n",
       "      <td>17.960299</td>\n",
       "      <td>-498.218319</td>\n",
       "      <td>13.039951</td>\n",
       "      <td>-499.757602</td>\n",
       "      <td>19.996676</td>\n",
       "      <td>-496.895626</td>\n",
       "    </tr>\n",
       "    <tr>\n",
       "      <th>8004</th>\n",
       "      <td>2017-06-15 01:59:59</td>\n",
       "      <td>65.578981</td>\n",
       "      <td>134.563011</td>\n",
       "      <td>13.072485</td>\n",
       "      <td>6.940000</td>\n",
       "      <td>0.898124</td>\n",
       "      <td>1700.666196</td>\n",
       "      <td>-502.031809</td>\n",
       "      <td>1700.685073</td>\n",
       "      <td>-499.562017</td>\n",
       "      <td>...</td>\n",
       "      <td>18.023023</td>\n",
       "      <td>-501.368623</td>\n",
       "      <td>13.026282</td>\n",
       "      <td>-380.244602</td>\n",
       "      <td>18.013922</td>\n",
       "      <td>-501.495804</td>\n",
       "      <td>13.012082</td>\n",
       "      <td>-500.225109</td>\n",
       "      <td>19.983256</td>\n",
       "      <td>-502.742051</td>\n",
       "    </tr>\n",
       "    <tr>\n",
       "      <th>8007</th>\n",
       "      <td>2017-06-15 04:59:59</td>\n",
       "      <td>67.380312</td>\n",
       "      <td>143.990652</td>\n",
       "      <td>12.919351</td>\n",
       "      <td>7.300000</td>\n",
       "      <td>0.894831</td>\n",
       "      <td>1698.875636</td>\n",
       "      <td>-499.360929</td>\n",
       "      <td>1698.389507</td>\n",
       "      <td>-499.498165</td>\n",
       "      <td>...</td>\n",
       "      <td>18.019595</td>\n",
       "      <td>-498.312183</td>\n",
       "      <td>12.906797</td>\n",
       "      <td>-379.831724</td>\n",
       "      <td>18.002222</td>\n",
       "      <td>-499.220032</td>\n",
       "      <td>13.008242</td>\n",
       "      <td>-499.978439</td>\n",
       "      <td>19.994408</td>\n",
       "      <td>-499.095978</td>\n",
       "    </tr>\n",
       "    <tr>\n",
       "      <th>8010</th>\n",
       "      <td>2017-06-15 07:59:59</td>\n",
       "      <td>63.300611</td>\n",
       "      <td>139.966464</td>\n",
       "      <td>13.052027</td>\n",
       "      <td>7.730000</td>\n",
       "      <td>0.700367</td>\n",
       "      <td>1699.059763</td>\n",
       "      <td>-499.341513</td>\n",
       "      <td>1697.442724</td>\n",
       "      <td>-500.130619</td>\n",
       "      <td>...</td>\n",
       "      <td>18.001255</td>\n",
       "      <td>-501.805328</td>\n",
       "      <td>12.986138</td>\n",
       "      <td>-379.733727</td>\n",
       "      <td>17.984508</td>\n",
       "      <td>-499.982714</td>\n",
       "      <td>12.979322</td>\n",
       "      <td>-499.917469</td>\n",
       "      <td>20.006558</td>\n",
       "      <td>-500.292833</td>\n",
       "    </tr>\n",
       "    <tr>\n",
       "      <th>8014</th>\n",
       "      <td>2017-06-15 11:59:59</td>\n",
       "      <td>48.015352</td>\n",
       "      <td>131.929455</td>\n",
       "      <td>13.021067</td>\n",
       "      <td>7.090000</td>\n",
       "      <td>0.908846</td>\n",
       "      <td>1701.484087</td>\n",
       "      <td>-501.059094</td>\n",
       "      <td>1711.224299</td>\n",
       "      <td>-499.451268</td>\n",
       "      <td>...</td>\n",
       "      <td>18.018499</td>\n",
       "      <td>-501.390793</td>\n",
       "      <td>12.962230</td>\n",
       "      <td>-380.683622</td>\n",
       "      <td>18.026801</td>\n",
       "      <td>-501.122737</td>\n",
       "      <td>13.024372</td>\n",
       "      <td>-500.430625</td>\n",
       "      <td>15.000478</td>\n",
       "      <td>-501.018482</td>\n",
       "    </tr>\n",
       "    <tr>\n",
       "      <th>8015</th>\n",
       "      <td>2017-06-15 23:59:59</td>\n",
       "      <td>61.580400</td>\n",
       "      <td>118.145439</td>\n",
       "      <td>12.538798</td>\n",
       "      <td>6.300001</td>\n",
       "      <td>0.881402</td>\n",
       "      <td>1700.297023</td>\n",
       "      <td>-498.228513</td>\n",
       "      <td>1701.507665</td>\n",
       "      <td>-501.437869</td>\n",
       "      <td>...</td>\n",
       "      <td>17.982387</td>\n",
       "      <td>-493.322308</td>\n",
       "      <td>12.993669</td>\n",
       "      <td>-377.703781</td>\n",
       "      <td>17.989760</td>\n",
       "      <td>-498.226705</td>\n",
       "      <td>12.998146</td>\n",
       "      <td>-500.030466</td>\n",
       "      <td>14.998192</td>\n",
       "      <td>-499.636446</td>\n",
       "    </tr>\n",
       "    <tr>\n",
       "      <th>8016</th>\n",
       "      <td>2017-06-16 00:59:59</td>\n",
       "      <td>60.088988</td>\n",
       "      <td>129.766551</td>\n",
       "      <td>12.994373</td>\n",
       "      <td>6.300000</td>\n",
       "      <td>0.892611</td>\n",
       "      <td>1698.610123</td>\n",
       "      <td>-498.441976</td>\n",
       "      <td>1702.158540</td>\n",
       "      <td>-500.348048</td>\n",
       "      <td>...</td>\n",
       "      <td>18.012298</td>\n",
       "      <td>-500.756992</td>\n",
       "      <td>12.986205</td>\n",
       "      <td>-381.672726</td>\n",
       "      <td>17.992657</td>\n",
       "      <td>-500.263116</td>\n",
       "      <td>13.007302</td>\n",
       "      <td>-500.008690</td>\n",
       "      <td>15.008523</td>\n",
       "      <td>-499.015419</td>\n",
       "    </tr>\n",
       "    <tr>\n",
       "      <th>8017</th>\n",
       "      <td>2017-06-16 01:59:59</td>\n",
       "      <td>63.494396</td>\n",
       "      <td>137.286416</td>\n",
       "      <td>12.873322</td>\n",
       "      <td>6.695000</td>\n",
       "      <td>0.884913</td>\n",
       "      <td>1697.825253</td>\n",
       "      <td>-500.300861</td>\n",
       "      <td>1696.330299</td>\n",
       "      <td>-500.523527</td>\n",
       "      <td>...</td>\n",
       "      <td>17.987807</td>\n",
       "      <td>-500.609553</td>\n",
       "      <td>13.071170</td>\n",
       "      <td>-379.953149</td>\n",
       "      <td>18.038725</td>\n",
       "      <td>-499.878413</td>\n",
       "      <td>12.955817</td>\n",
       "      <td>-500.268753</td>\n",
       "      <td>14.999685</td>\n",
       "      <td>-499.962742</td>\n",
       "    </tr>\n",
       "    <tr>\n",
       "      <th>8018</th>\n",
       "      <td>2017-06-16 02:59:59</td>\n",
       "      <td>65.429806</td>\n",
       "      <td>136.363944</td>\n",
       "      <td>13.180668</td>\n",
       "      <td>7.090000</td>\n",
       "      <td>0.917650</td>\n",
       "      <td>1703.073741</td>\n",
       "      <td>-499.595133</td>\n",
       "      <td>1700.298533</td>\n",
       "      <td>-499.218135</td>\n",
       "      <td>...</td>\n",
       "      <td>17.973218</td>\n",
       "      <td>-499.441652</td>\n",
       "      <td>13.048718</td>\n",
       "      <td>-379.599834</td>\n",
       "      <td>17.995541</td>\n",
       "      <td>-500.596040</td>\n",
       "      <td>12.995840</td>\n",
       "      <td>-500.071898</td>\n",
       "      <td>14.980462</td>\n",
       "      <td>-499.722348</td>\n",
       "    </tr>\n",
       "    <tr>\n",
       "      <th>8019</th>\n",
       "      <td>2017-06-16 03:59:59</td>\n",
       "      <td>65.394527</td>\n",
       "      <td>137.326025</td>\n",
       "      <td>14.011116</td>\n",
       "      <td>7.090000</td>\n",
       "      <td>0.895620</td>\n",
       "      <td>1701.431484</td>\n",
       "      <td>-501.426922</td>\n",
       "      <td>1702.097315</td>\n",
       "      <td>-500.457786</td>\n",
       "      <td>...</td>\n",
       "      <td>18.039276</td>\n",
       "      <td>-501.631874</td>\n",
       "      <td>12.975402</td>\n",
       "      <td>-380.897053</td>\n",
       "      <td>18.047312</td>\n",
       "      <td>-500.660759</td>\n",
       "      <td>13.014813</td>\n",
       "      <td>-500.182122</td>\n",
       "      <td>15.012409</td>\n",
       "      <td>-501.752115</td>\n",
       "    </tr>\n",
       "    <tr>\n",
       "      <th>8020</th>\n",
       "      <td>2017-06-16 04:59:59</td>\n",
       "      <td>63.512452</td>\n",
       "      <td>137.963095</td>\n",
       "      <td>13.981300</td>\n",
       "      <td>6.960000</td>\n",
       "      <td>0.887083</td>\n",
       "      <td>1702.199686</td>\n",
       "      <td>-499.094796</td>\n",
       "      <td>1702.764912</td>\n",
       "      <td>-499.597124</td>\n",
       "      <td>...</td>\n",
       "      <td>18.011335</td>\n",
       "      <td>-499.563494</td>\n",
       "      <td>13.016190</td>\n",
       "      <td>-380.692444</td>\n",
       "      <td>17.967325</td>\n",
       "      <td>-499.830552</td>\n",
       "      <td>12.949839</td>\n",
       "      <td>-500.124352</td>\n",
       "      <td>15.029180</td>\n",
       "      <td>-499.119385</td>\n",
       "    </tr>\n",
       "    <tr>\n",
       "      <th>8021</th>\n",
       "      <td>2017-06-16 05:59:59</td>\n",
       "      <td>62.290066</td>\n",
       "      <td>143.500062</td>\n",
       "      <td>13.607193</td>\n",
       "      <td>6.960000</td>\n",
       "      <td>0.910154</td>\n",
       "      <td>1700.597935</td>\n",
       "      <td>-499.644073</td>\n",
       "      <td>1700.228637</td>\n",
       "      <td>-500.149961</td>\n",
       "      <td>...</td>\n",
       "      <td>18.020820</td>\n",
       "      <td>-500.118671</td>\n",
       "      <td>13.030539</td>\n",
       "      <td>-380.010608</td>\n",
       "      <td>18.002413</td>\n",
       "      <td>-499.479256</td>\n",
       "      <td>12.992698</td>\n",
       "      <td>-500.162190</td>\n",
       "      <td>15.013396</td>\n",
       "      <td>-499.315479</td>\n",
       "    </tr>\n",
       "    <tr>\n",
       "      <th>8022</th>\n",
       "      <td>2017-06-16 06:59:59</td>\n",
       "      <td>58.893597</td>\n",
       "      <td>137.731407</td>\n",
       "      <td>11.256645</td>\n",
       "      <td>7.285000</td>\n",
       "      <td>0.883374</td>\n",
       "      <td>1698.556065</td>\n",
       "      <td>-501.312032</td>\n",
       "      <td>1699.226541</td>\n",
       "      <td>-499.128426</td>\n",
       "      <td>...</td>\n",
       "      <td>17.992812</td>\n",
       "      <td>-500.680806</td>\n",
       "      <td>13.053198</td>\n",
       "      <td>-378.791321</td>\n",
       "      <td>18.022619</td>\n",
       "      <td>-500.977921</td>\n",
       "      <td>13.005767</td>\n",
       "      <td>-500.192190</td>\n",
       "      <td>15.017556</td>\n",
       "      <td>-501.395971</td>\n",
       "    </tr>\n",
       "    <tr>\n",
       "      <th>8023</th>\n",
       "      <td>2017-06-16 07:59:59</td>\n",
       "      <td>56.533065</td>\n",
       "      <td>120.534325</td>\n",
       "      <td>10.117514</td>\n",
       "      <td>7.610000</td>\n",
       "      <td>0.794116</td>\n",
       "      <td>1699.829262</td>\n",
       "      <td>-499.947805</td>\n",
       "      <td>1697.771382</td>\n",
       "      <td>-499.892028</td>\n",
       "      <td>...</td>\n",
       "      <td>18.019495</td>\n",
       "      <td>-499.464841</td>\n",
       "      <td>12.990039</td>\n",
       "      <td>-380.215036</td>\n",
       "      <td>18.047712</td>\n",
       "      <td>-499.798156</td>\n",
       "      <td>13.022761</td>\n",
       "      <td>-499.856538</td>\n",
       "      <td>15.007174</td>\n",
       "      <td>-499.700101</td>\n",
       "    </tr>\n",
       "    <tr>\n",
       "      <th>8024</th>\n",
       "      <td>2017-06-16 08:59:59</td>\n",
       "      <td>57.522807</td>\n",
       "      <td>101.031247</td>\n",
       "      <td>9.064193</td>\n",
       "      <td>7.345000</td>\n",
       "      <td>0.729876</td>\n",
       "      <td>1700.619820</td>\n",
       "      <td>-499.699516</td>\n",
       "      <td>1699.490152</td>\n",
       "      <td>-499.311865</td>\n",
       "      <td>...</td>\n",
       "      <td>18.015318</td>\n",
       "      <td>-500.697657</td>\n",
       "      <td>13.000175</td>\n",
       "      <td>-380.288891</td>\n",
       "      <td>17.976056</td>\n",
       "      <td>-500.497385</td>\n",
       "      <td>12.976736</td>\n",
       "      <td>-499.983864</td>\n",
       "      <td>14.967795</td>\n",
       "      <td>-500.217883</td>\n",
       "    </tr>\n",
       "    <tr>\n",
       "      <th>8025</th>\n",
       "      <td>2017-06-16 09:59:59</td>\n",
       "      <td>57.134896</td>\n",
       "      <td>90.491695</td>\n",
       "      <td>9.066007</td>\n",
       "      <td>7.080000</td>\n",
       "      <td>0.686968</td>\n",
       "      <td>1699.648451</td>\n",
       "      <td>-499.876036</td>\n",
       "      <td>1694.998968</td>\n",
       "      <td>-500.076533</td>\n",
       "      <td>...</td>\n",
       "      <td>18.034473</td>\n",
       "      <td>-500.350209</td>\n",
       "      <td>12.960823</td>\n",
       "      <td>-380.200149</td>\n",
       "      <td>17.992917</td>\n",
       "      <td>-500.350756</td>\n",
       "      <td>13.033085</td>\n",
       "      <td>-499.978076</td>\n",
       "      <td>15.004020</td>\n",
       "      <td>-500.585959</td>\n",
       "    </tr>\n",
       "    <tr>\n",
       "      <th>8026</th>\n",
       "      <td>2017-06-16 10:59:59</td>\n",
       "      <td>54.827681</td>\n",
       "      <td>90.241290</td>\n",
       "      <td>9.044602</td>\n",
       "      <td>6.845000</td>\n",
       "      <td>0.713400</td>\n",
       "      <td>1694.573943</td>\n",
       "      <td>-499.820542</td>\n",
       "      <td>1695.250862</td>\n",
       "      <td>-500.147215</td>\n",
       "      <td>...</td>\n",
       "      <td>17.998539</td>\n",
       "      <td>-499.701799</td>\n",
       "      <td>12.974113</td>\n",
       "      <td>-380.039932</td>\n",
       "      <td>17.986647</td>\n",
       "      <td>-498.091894</td>\n",
       "      <td>13.033843</td>\n",
       "      <td>-499.849071</td>\n",
       "      <td>14.992175</td>\n",
       "      <td>-499.434065</td>\n",
       "    </tr>\n",
       "    <tr>\n",
       "      <th>8027</th>\n",
       "      <td>2017-06-16 11:59:59</td>\n",
       "      <td>53.086424</td>\n",
       "      <td>91.964233</td>\n",
       "      <td>9.001087</td>\n",
       "      <td>6.610000</td>\n",
       "      <td>0.829728</td>\n",
       "      <td>1700.904823</td>\n",
       "      <td>-499.862513</td>\n",
       "      <td>1704.673522</td>\n",
       "      <td>-499.867232</td>\n",
       "      <td>...</td>\n",
       "      <td>17.985871</td>\n",
       "      <td>-498.925727</td>\n",
       "      <td>13.018933</td>\n",
       "      <td>-377.887241</td>\n",
       "      <td>17.977928</td>\n",
       "      <td>-496.845769</td>\n",
       "      <td>12.987145</td>\n",
       "      <td>-500.140176</td>\n",
       "      <td>14.972860</td>\n",
       "      <td>-500.626094</td>\n",
       "    </tr>\n",
       "    <tr>\n",
       "      <th>8028</th>\n",
       "      <td>2017-06-16 12:59:59</td>\n",
       "      <td>53.614522</td>\n",
       "      <td>91.959979</td>\n",
       "      <td>9.018370</td>\n",
       "      <td>6.520000</td>\n",
       "      <td>1.018301</td>\n",
       "      <td>1698.876667</td>\n",
       "      <td>-500.053116</td>\n",
       "      <td>1697.728778</td>\n",
       "      <td>-499.924571</td>\n",
       "      <td>...</td>\n",
       "      <td>17.972318</td>\n",
       "      <td>-501.182742</td>\n",
       "      <td>13.008408</td>\n",
       "      <td>-382.356921</td>\n",
       "      <td>18.001552</td>\n",
       "      <td>-502.811064</td>\n",
       "      <td>12.996031</td>\n",
       "      <td>-500.081582</td>\n",
       "      <td>14.990495</td>\n",
       "      <td>-499.931311</td>\n",
       "    </tr>\n",
       "    <tr>\n",
       "      <th>8029</th>\n",
       "      <td>2017-06-16 13:59:59</td>\n",
       "      <td>53.578688</td>\n",
       "      <td>87.733316</td>\n",
       "      <td>8.386787</td>\n",
       "      <td>6.520000</td>\n",
       "      <td>1.014575</td>\n",
       "      <td>1699.839981</td>\n",
       "      <td>-499.915322</td>\n",
       "      <td>1698.514261</td>\n",
       "      <td>-500.060992</td>\n",
       "      <td>...</td>\n",
       "      <td>18.000280</td>\n",
       "      <td>-500.102012</td>\n",
       "      <td>13.022264</td>\n",
       "      <td>-379.992455</td>\n",
       "      <td>18.009883</td>\n",
       "      <td>-501.879278</td>\n",
       "      <td>12.996737</td>\n",
       "      <td>-500.126281</td>\n",
       "      <td>14.988201</td>\n",
       "      <td>-500.128581</td>\n",
       "    </tr>\n",
       "    <tr>\n",
       "      <th>8030</th>\n",
       "      <td>2017-06-16 14:59:59</td>\n",
       "      <td>55.073848</td>\n",
       "      <td>89.575859</td>\n",
       "      <td>7.966227</td>\n",
       "      <td>6.900000</td>\n",
       "      <td>1.004031</td>\n",
       "      <td>1704.549147</td>\n",
       "      <td>-499.457273</td>\n",
       "      <td>1704.282569</td>\n",
       "      <td>-500.175989</td>\n",
       "      <td>...</td>\n",
       "      <td>18.010018</td>\n",
       "      <td>-502.863741</td>\n",
       "      <td>13.010934</td>\n",
       "      <td>-380.492463</td>\n",
       "      <td>18.076612</td>\n",
       "      <td>-503.698050</td>\n",
       "      <td>13.031129</td>\n",
       "      <td>-500.173143</td>\n",
       "      <td>15.032145</td>\n",
       "      <td>-500.452006</td>\n",
       "    </tr>\n",
       "    <tr>\n",
       "      <th>8031</th>\n",
       "      <td>2017-06-16 15:59:59</td>\n",
       "      <td>58.315887</td>\n",
       "      <td>95.647121</td>\n",
       "      <td>7.950295</td>\n",
       "      <td>6.900000</td>\n",
       "      <td>0.921794</td>\n",
       "      <td>1700.660945</td>\n",
       "      <td>-499.890632</td>\n",
       "      <td>1699.732202</td>\n",
       "      <td>-499.830412</td>\n",
       "      <td>...</td>\n",
       "      <td>18.014849</td>\n",
       "      <td>-497.136828</td>\n",
       "      <td>13.009409</td>\n",
       "      <td>-380.868347</td>\n",
       "      <td>18.002027</td>\n",
       "      <td>-493.469463</td>\n",
       "      <td>12.995701</td>\n",
       "      <td>-499.636732</td>\n",
       "      <td>15.024705</td>\n",
       "      <td>-499.902548</td>\n",
       "    </tr>\n",
       "    <tr>\n",
       "      <th>8649</th>\n",
       "      <td>2017-07-13 17:59:59</td>\n",
       "      <td>55.997283</td>\n",
       "      <td>36.211748</td>\n",
       "      <td>3.029635</td>\n",
       "      <td>5.710000</td>\n",
       "      <td>0.198677</td>\n",
       "      <td>1670.640259</td>\n",
       "      <td>-500.160341</td>\n",
       "      <td>1607.243574</td>\n",
       "      <td>-500.180774</td>\n",
       "      <td>...</td>\n",
       "      <td>22.053177</td>\n",
       "      <td>-500.577698</td>\n",
       "      <td>15.078504</td>\n",
       "      <td>-380.192795</td>\n",
       "      <td>18.005202</td>\n",
       "      <td>-500.191019</td>\n",
       "      <td>13.040678</td>\n",
       "      <td>-500.215824</td>\n",
       "      <td>15.004793</td>\n",
       "      <td>-499.882594</td>\n",
       "    </tr>\n",
       "    <tr>\n",
       "      <th>8651</th>\n",
       "      <td>2017-07-13 19:59:59</td>\n",
       "      <td>48.007002</td>\n",
       "      <td>36.713333</td>\n",
       "      <td>2.003957</td>\n",
       "      <td>5.310000</td>\n",
       "      <td>0.519862</td>\n",
       "      <td>1690.745673</td>\n",
       "      <td>-500.851050</td>\n",
       "      <td>1625.003090</td>\n",
       "      <td>-500.912337</td>\n",
       "      <td>...</td>\n",
       "      <td>22.010484</td>\n",
       "      <td>-500.434126</td>\n",
       "      <td>15.054035</td>\n",
       "      <td>-380.662646</td>\n",
       "      <td>18.008855</td>\n",
       "      <td>-500.190803</td>\n",
       "      <td>12.988528</td>\n",
       "      <td>-500.024044</td>\n",
       "      <td>15.011011</td>\n",
       "      <td>-499.880751</td>\n",
       "    </tr>\n",
       "    <tr>\n",
       "      <th>8662</th>\n",
       "      <td>2017-07-14 06:59:59</td>\n",
       "      <td>44.266188</td>\n",
       "      <td>29.976701</td>\n",
       "      <td>2.585851</td>\n",
       "      <td>5.995000</td>\n",
       "      <td>0.240630</td>\n",
       "      <td>1753.157587</td>\n",
       "      <td>-500.475524</td>\n",
       "      <td>1650.899271</td>\n",
       "      <td>-499.351639</td>\n",
       "      <td>...</td>\n",
       "      <td>21.989793</td>\n",
       "      <td>-498.914704</td>\n",
       "      <td>15.030530</td>\n",
       "      <td>-380.918446</td>\n",
       "      <td>17.989766</td>\n",
       "      <td>-498.879549</td>\n",
       "      <td>13.016755</td>\n",
       "      <td>-499.984333</td>\n",
       "      <td>15.021528</td>\n",
       "      <td>-500.169327</td>\n",
       "    </tr>\n",
       "    <tr>\n",
       "      <th>8663</th>\n",
       "      <td>2017-07-14 07:59:59</td>\n",
       "      <td>37.168521</td>\n",
       "      <td>30.035407</td>\n",
       "      <td>2.470410</td>\n",
       "      <td>6.110000</td>\n",
       "      <td>0.249303</td>\n",
       "      <td>1754.832880</td>\n",
       "      <td>-500.584607</td>\n",
       "      <td>1649.040429</td>\n",
       "      <td>-498.607898</td>\n",
       "      <td>...</td>\n",
       "      <td>22.018380</td>\n",
       "      <td>-502.074243</td>\n",
       "      <td>14.972949</td>\n",
       "      <td>-380.955282</td>\n",
       "      <td>17.957795</td>\n",
       "      <td>-500.600125</td>\n",
       "      <td>12.989320</td>\n",
       "      <td>-500.284208</td>\n",
       "      <td>14.996958</td>\n",
       "      <td>-500.093874</td>\n",
       "    </tr>\n",
       "    <tr>\n",
       "      <th>8664</th>\n",
       "      <td>2017-07-14 08:59:59</td>\n",
       "      <td>30.846890</td>\n",
       "      <td>29.862907</td>\n",
       "      <td>2.463192</td>\n",
       "      <td>5.880000</td>\n",
       "      <td>0.257543</td>\n",
       "      <td>1736.175826</td>\n",
       "      <td>-499.605241</td>\n",
       "      <td>1638.423002</td>\n",
       "      <td>-498.928692</td>\n",
       "      <td>...</td>\n",
       "      <td>21.984537</td>\n",
       "      <td>-500.786882</td>\n",
       "      <td>14.934092</td>\n",
       "      <td>-379.948097</td>\n",
       "      <td>17.985861</td>\n",
       "      <td>-500.221848</td>\n",
       "      <td>13.008282</td>\n",
       "      <td>-499.868302</td>\n",
       "      <td>15.009042</td>\n",
       "      <td>-500.017070</td>\n",
       "    </tr>\n",
       "    <tr>\n",
       "      <th>8676</th>\n",
       "      <td>2017-07-14 21:59:59</td>\n",
       "      <td>50.186262</td>\n",
       "      <td>36.850767</td>\n",
       "      <td>2.403757</td>\n",
       "      <td>6.600000</td>\n",
       "      <td>0.350775</td>\n",
       "      <td>1760.466886</td>\n",
       "      <td>-500.400727</td>\n",
       "      <td>1604.733797</td>\n",
       "      <td>-499.057275</td>\n",
       "      <td>...</td>\n",
       "      <td>22.035717</td>\n",
       "      <td>-500.377360</td>\n",
       "      <td>14.817864</td>\n",
       "      <td>-379.811176</td>\n",
       "      <td>17.979548</td>\n",
       "      <td>-499.795395</td>\n",
       "      <td>13.005500</td>\n",
       "      <td>-500.051138</td>\n",
       "      <td>15.011992</td>\n",
       "      <td>-500.342759</td>\n",
       "    </tr>\n",
       "    <tr>\n",
       "      <th>8680</th>\n",
       "      <td>2017-07-15 01:59:59</td>\n",
       "      <td>42.840247</td>\n",
       "      <td>36.209274</td>\n",
       "      <td>2.454339</td>\n",
       "      <td>6.410000</td>\n",
       "      <td>0.361699</td>\n",
       "      <td>1756.183166</td>\n",
       "      <td>-499.876846</td>\n",
       "      <td>1631.280230</td>\n",
       "      <td>-499.795510</td>\n",
       "      <td>...</td>\n",
       "      <td>21.977809</td>\n",
       "      <td>-499.926845</td>\n",
       "      <td>14.945742</td>\n",
       "      <td>-379.797843</td>\n",
       "      <td>18.026769</td>\n",
       "      <td>-499.497142</td>\n",
       "      <td>12.971004</td>\n",
       "      <td>-500.087851</td>\n",
       "      <td>15.011970</td>\n",
       "      <td>-499.992960</td>\n",
       "    </tr>\n",
       "    <tr>\n",
       "      <th>8681</th>\n",
       "      <td>2017-07-15 02:59:59</td>\n",
       "      <td>39.724786</td>\n",
       "      <td>33.510184</td>\n",
       "      <td>2.463784</td>\n",
       "      <td>6.410000</td>\n",
       "      <td>0.401248</td>\n",
       "      <td>1750.342986</td>\n",
       "      <td>-500.092245</td>\n",
       "      <td>1636.052928</td>\n",
       "      <td>-499.606160</td>\n",
       "      <td>...</td>\n",
       "      <td>21.980659</td>\n",
       "      <td>-499.544682</td>\n",
       "      <td>14.922331</td>\n",
       "      <td>-380.080107</td>\n",
       "      <td>18.025625</td>\n",
       "      <td>-499.387779</td>\n",
       "      <td>13.030175</td>\n",
       "      <td>-499.900406</td>\n",
       "      <td>15.004954</td>\n",
       "      <td>-500.055563</td>\n",
       "    </tr>\n",
       "    <tr>\n",
       "      <th>8682</th>\n",
       "      <td>2017-07-15 03:59:59</td>\n",
       "      <td>42.788751</td>\n",
       "      <td>33.906241</td>\n",
       "      <td>2.498966</td>\n",
       "      <td>6.410000</td>\n",
       "      <td>0.438872</td>\n",
       "      <td>1753.867458</td>\n",
       "      <td>-500.196762</td>\n",
       "      <td>1648.918561</td>\n",
       "      <td>-500.721569</td>\n",
       "      <td>...</td>\n",
       "      <td>21.986378</td>\n",
       "      <td>-499.726315</td>\n",
       "      <td>14.898920</td>\n",
       "      <td>-379.681671</td>\n",
       "      <td>18.020414</td>\n",
       "      <td>-499.697473</td>\n",
       "      <td>13.006551</td>\n",
       "      <td>-499.957478</td>\n",
       "      <td>14.995889</td>\n",
       "      <td>-500.054273</td>\n",
       "    </tr>\n",
       "    <tr>\n",
       "      <th>8684</th>\n",
       "      <td>2017-07-15 05:59:59</td>\n",
       "      <td>42.527138</td>\n",
       "      <td>34.859654</td>\n",
       "      <td>2.369136</td>\n",
       "      <td>6.410000</td>\n",
       "      <td>0.452140</td>\n",
       "      <td>1752.604600</td>\n",
       "      <td>-500.573970</td>\n",
       "      <td>1677.499368</td>\n",
       "      <td>-499.789856</td>\n",
       "      <td>...</td>\n",
       "      <td>22.044084</td>\n",
       "      <td>-499.921433</td>\n",
       "      <td>14.863869</td>\n",
       "      <td>-380.406384</td>\n",
       "      <td>18.031383</td>\n",
       "      <td>-499.327948</td>\n",
       "      <td>12.997198</td>\n",
       "      <td>-499.709339</td>\n",
       "      <td>14.985722</td>\n",
       "      <td>-499.887707</td>\n",
       "    </tr>\n",
       "  </tbody>\n",
       "</table>\n",
       "<p>52 rows × 55 columns</p>\n",
       "</div>"
      ],
      "text/plain": [
       "                    date  final.output.recovery  \\\n",
       "3822 2016-07-24 20:59:59              75.970054   \n",
       "3823 2016-07-24 21:59:59              75.176570   \n",
       "3824 2016-07-24 22:59:59              72.377504   \n",
       "3825 2016-07-24 23:59:59              74.283799   \n",
       "3826 2016-07-25 00:59:59              74.234284   \n",
       "3827 2016-07-25 01:59:59              73.153374   \n",
       "3828 2016-07-25 02:59:59              70.954202   \n",
       "3829 2016-07-25 03:59:59              73.677505   \n",
       "3830 2016-07-25 04:59:59              73.009166   \n",
       "3831 2016-07-25 05:59:59              73.403823   \n",
       "3832 2016-07-25 07:59:59              73.397570   \n",
       "3833 2016-07-25 08:59:59              73.050042   \n",
       "3834 2016-07-25 09:59:59              73.206689   \n",
       "3835 2016-07-25 10:59:59              73.985546   \n",
       "7082 2017-04-25 00:59:59              62.680657   \n",
       "7939 2017-06-12 07:59:59              66.974115   \n",
       "7996 2017-06-14 17:59:59              66.431554   \n",
       "7997 2017-06-14 18:59:59              69.007020   \n",
       "7999 2017-06-14 20:59:59              64.953567   \n",
       "8001 2017-06-14 22:59:59              68.236669   \n",
       "8003 2017-06-15 00:59:59              66.399110   \n",
       "8004 2017-06-15 01:59:59              65.578981   \n",
       "8007 2017-06-15 04:59:59              67.380312   \n",
       "8010 2017-06-15 07:59:59              63.300611   \n",
       "8014 2017-06-15 11:59:59              48.015352   \n",
       "8015 2017-06-15 23:59:59              61.580400   \n",
       "8016 2017-06-16 00:59:59              60.088988   \n",
       "8017 2017-06-16 01:59:59              63.494396   \n",
       "8018 2017-06-16 02:59:59              65.429806   \n",
       "8019 2017-06-16 03:59:59              65.394527   \n",
       "8020 2017-06-16 04:59:59              63.512452   \n",
       "8021 2017-06-16 05:59:59              62.290066   \n",
       "8022 2017-06-16 06:59:59              58.893597   \n",
       "8023 2017-06-16 07:59:59              56.533065   \n",
       "8024 2017-06-16 08:59:59              57.522807   \n",
       "8025 2017-06-16 09:59:59              57.134896   \n",
       "8026 2017-06-16 10:59:59              54.827681   \n",
       "8027 2017-06-16 11:59:59              53.086424   \n",
       "8028 2017-06-16 12:59:59              53.614522   \n",
       "8029 2017-06-16 13:59:59              53.578688   \n",
       "8030 2017-06-16 14:59:59              55.073848   \n",
       "8031 2017-06-16 15:59:59              58.315887   \n",
       "8649 2017-07-13 17:59:59              55.997283   \n",
       "8651 2017-07-13 19:59:59              48.007002   \n",
       "8662 2017-07-14 06:59:59              44.266188   \n",
       "8663 2017-07-14 07:59:59              37.168521   \n",
       "8664 2017-07-14 08:59:59              30.846890   \n",
       "8676 2017-07-14 21:59:59              50.186262   \n",
       "8680 2017-07-15 01:59:59              42.840247   \n",
       "8681 2017-07-15 02:59:59              39.724786   \n",
       "8682 2017-07-15 03:59:59              42.788751   \n",
       "8684 2017-07-15 05:59:59              42.527138   \n",
       "\n",
       "      primary_cleaner.input.sulfate  primary_cleaner.input.depressant  \\\n",
       "3822                     161.870102                          5.933739   \n",
       "3823                     166.215091                          6.019960   \n",
       "3824                     164.728297                          5.946583   \n",
       "3825                     160.037160                          5.974965   \n",
       "3826                     162.553492                          5.980691   \n",
       "3827                     159.251626                          5.979012   \n",
       "3828                     156.835921                          6.076951   \n",
       "3829                     148.212495                          5.949498   \n",
       "3830                     139.583709                          6.000084   \n",
       "3831                     139.935733                          6.265825   \n",
       "3832                     150.788429                          6.480264   \n",
       "3833                     155.235615                          6.552615   \n",
       "3834                     159.871122                          6.511316   \n",
       "3835                     166.213861                          6.488016   \n",
       "7082                      87.899460                          3.950559   \n",
       "7939                     139.127228                         12.003325   \n",
       "7996                     143.014332                         13.000879   \n",
       "7997                     111.181909                         12.978205   \n",
       "7999                     141.518899                         13.010176   \n",
       "8001                     131.040872                         12.973806   \n",
       "8003                     135.717292                         13.071866   \n",
       "8004                     134.563011                         13.072485   \n",
       "8007                     143.990652                         12.919351   \n",
       "8010                     139.966464                         13.052027   \n",
       "8014                     131.929455                         13.021067   \n",
       "8015                     118.145439                         12.538798   \n",
       "8016                     129.766551                         12.994373   \n",
       "8017                     137.286416                         12.873322   \n",
       "8018                     136.363944                         13.180668   \n",
       "8019                     137.326025                         14.011116   \n",
       "8020                     137.963095                         13.981300   \n",
       "8021                     143.500062                         13.607193   \n",
       "8022                     137.731407                         11.256645   \n",
       "8023                     120.534325                         10.117514   \n",
       "8024                     101.031247                          9.064193   \n",
       "8025                      90.491695                          9.066007   \n",
       "8026                      90.241290                          9.044602   \n",
       "8027                      91.964233                          9.001087   \n",
       "8028                      91.959979                          9.018370   \n",
       "8029                      87.733316                          8.386787   \n",
       "8030                      89.575859                          7.966227   \n",
       "8031                      95.647121                          7.950295   \n",
       "8649                      36.211748                          3.029635   \n",
       "8651                      36.713333                          2.003957   \n",
       "8662                      29.976701                          2.585851   \n",
       "8663                      30.035407                          2.470410   \n",
       "8664                      29.862907                          2.463192   \n",
       "8676                      36.850767                          2.403757   \n",
       "8680                      36.209274                          2.454339   \n",
       "8681                      33.510184                          2.463784   \n",
       "8682                      33.906241                          2.498966   \n",
       "8684                      34.859654                          2.369136   \n",
       "\n",
       "      primary_cleaner.input.feed_size  primary_cleaner.input.xanthate  \\\n",
       "3822                         7.090000                        0.892548   \n",
       "3823                         7.090000                        0.882270   \n",
       "3824                         7.090000                        0.909782   \n",
       "3825                         7.090000                        0.894223   \n",
       "3826                         7.090000                        0.884435   \n",
       "3827                         7.090000                        0.902221   \n",
       "3828                         7.090000                        0.886374   \n",
       "3829                         7.090000                        0.901128   \n",
       "3830                         7.090000                        0.922292   \n",
       "3831                         7.090000                        0.893066   \n",
       "3832                         7.335000                        0.883221   \n",
       "3833                         7.580000                        0.897163   \n",
       "3834                         7.580000                        0.848482   \n",
       "3835                         7.575000                        0.915408   \n",
       "7082                         7.110000                        0.344936   \n",
       "7939                         8.120000                        1.000938   \n",
       "7996                         7.720000                        0.892859   \n",
       "7997                         7.170000                        0.925319   \n",
       "7999                         7.170000                        0.896114   \n",
       "8001                         7.050000                        0.911583   \n",
       "8003                         6.940000                        0.890397   \n",
       "8004                         6.940000                        0.898124   \n",
       "8007                         7.300000                        0.894831   \n",
       "8010                         7.730000                        0.700367   \n",
       "8014                         7.090000                        0.908846   \n",
       "8015                         6.300001                        0.881402   \n",
       "8016                         6.300000                        0.892611   \n",
       "8017                         6.695000                        0.884913   \n",
       "8018                         7.090000                        0.917650   \n",
       "8019                         7.090000                        0.895620   \n",
       "8020                         6.960000                        0.887083   \n",
       "8021                         6.960000                        0.910154   \n",
       "8022                         7.285000                        0.883374   \n",
       "8023                         7.610000                        0.794116   \n",
       "8024                         7.345000                        0.729876   \n",
       "8025                         7.080000                        0.686968   \n",
       "8026                         6.845000                        0.713400   \n",
       "8027                         6.610000                        0.829728   \n",
       "8028                         6.520000                        1.018301   \n",
       "8029                         6.520000                        1.014575   \n",
       "8030                         6.900000                        1.004031   \n",
       "8031                         6.900000                        0.921794   \n",
       "8649                         5.710000                        0.198677   \n",
       "8651                         5.310000                        0.519862   \n",
       "8662                         5.995000                        0.240630   \n",
       "8663                         6.110000                        0.249303   \n",
       "8664                         5.880000                        0.257543   \n",
       "8676                         6.600000                        0.350775   \n",
       "8680                         6.410000                        0.361699   \n",
       "8681                         6.410000                        0.401248   \n",
       "8682                         6.410000                        0.438872   \n",
       "8684                         6.410000                        0.452140   \n",
       "\n",
       "      primary_cleaner.state.floatbank8_a_air  \\\n",
       "3822                             1604.854533   \n",
       "3823                             1603.482566   \n",
       "3824                             1600.246151   \n",
       "3825                             1599.972130   \n",
       "3826                             1601.542481   \n",
       "3827                             1599.638521   \n",
       "3828                             1600.578234   \n",
       "3829                             1599.022355   \n",
       "3830                             1596.433895   \n",
       "3831                             1603.855631   \n",
       "3832                             1603.182094   \n",
       "3833                             1602.301814   \n",
       "3834                             1601.940139   \n",
       "3835                             1599.694335   \n",
       "7082                             1802.213471   \n",
       "7939                             1697.731898   \n",
       "7996                             1697.402773   \n",
       "7997                             1700.811225   \n",
       "7999                             1702.150132   \n",
       "8001                             1701.641757   \n",
       "8003                             1697.383891   \n",
       "8004                             1700.666196   \n",
       "8007                             1698.875636   \n",
       "8010                             1699.059763   \n",
       "8014                             1701.484087   \n",
       "8015                             1700.297023   \n",
       "8016                             1698.610123   \n",
       "8017                             1697.825253   \n",
       "8018                             1703.073741   \n",
       "8019                             1701.431484   \n",
       "8020                             1702.199686   \n",
       "8021                             1700.597935   \n",
       "8022                             1698.556065   \n",
       "8023                             1699.829262   \n",
       "8024                             1700.619820   \n",
       "8025                             1699.648451   \n",
       "8026                             1694.573943   \n",
       "8027                             1700.904823   \n",
       "8028                             1698.876667   \n",
       "8029                             1699.839981   \n",
       "8030                             1704.549147   \n",
       "8031                             1700.660945   \n",
       "8649                             1670.640259   \n",
       "8651                             1690.745673   \n",
       "8662                             1753.157587   \n",
       "8663                             1754.832880   \n",
       "8664                             1736.175826   \n",
       "8676                             1760.466886   \n",
       "8680                             1756.183166   \n",
       "8681                             1750.342986   \n",
       "8682                             1753.867458   \n",
       "8684                             1752.604600   \n",
       "\n",
       "      primary_cleaner.state.floatbank8_a_level  \\\n",
       "3822                               -499.752507   \n",
       "3823                               -500.094262   \n",
       "3824                               -499.000434   \n",
       "3825                               -500.822268   \n",
       "3826                               -499.583747   \n",
       "3827                               -500.556931   \n",
       "3828                               -499.432632   \n",
       "3829                               -500.326269   \n",
       "3830                               -500.671876   \n",
       "3831                               -501.455054   \n",
       "3832                               -501.050593   \n",
       "3833                               -500.766128   \n",
       "3834                               -500.157585   \n",
       "3835                               -499.294700   \n",
       "7082                               -499.565179   \n",
       "7939                               -499.578796   \n",
       "7996                               -501.360918   \n",
       "7997                               -499.780517   \n",
       "7999                               -500.265349   \n",
       "8001                               -501.044121   \n",
       "8003                               -497.736976   \n",
       "8004                               -502.031809   \n",
       "8007                               -499.360929   \n",
       "8010                               -499.341513   \n",
       "8014                               -501.059094   \n",
       "8015                               -498.228513   \n",
       "8016                               -498.441976   \n",
       "8017                               -500.300861   \n",
       "8018                               -499.595133   \n",
       "8019                               -501.426922   \n",
       "8020                               -499.094796   \n",
       "8021                               -499.644073   \n",
       "8022                               -501.312032   \n",
       "8023                               -499.947805   \n",
       "8024                               -499.699516   \n",
       "8025                               -499.876036   \n",
       "8026                               -499.820542   \n",
       "8027                               -499.862513   \n",
       "8028                               -500.053116   \n",
       "8029                               -499.915322   \n",
       "8030                               -499.457273   \n",
       "8031                               -499.890632   \n",
       "8649                               -500.160341   \n",
       "8651                               -500.851050   \n",
       "8662                               -500.475524   \n",
       "8663                               -500.584607   \n",
       "8664                               -499.605241   \n",
       "8676                               -500.400727   \n",
       "8680                               -499.876846   \n",
       "8681                               -500.092245   \n",
       "8682                               -500.196762   \n",
       "8684                               -500.573970   \n",
       "\n",
       "      primary_cleaner.state.floatbank8_b_air  \\\n",
       "3822                             1598.925128   \n",
       "3823                             1600.032554   \n",
       "3824                             1599.664611   \n",
       "3825                             1596.592688   \n",
       "3826                             1599.383250   \n",
       "3827                             1601.094875   \n",
       "3828                             1599.616041   \n",
       "3829                             1603.090707   \n",
       "3830                             1598.237046   \n",
       "3831                             1600.870117   \n",
       "3832                             1601.989493   \n",
       "3833                             1599.652538   \n",
       "3834                             1598.957402   \n",
       "3835                             1596.219416   \n",
       "7082                             1750.983562   \n",
       "7939                             1696.475647   \n",
       "7996                             1698.703584   \n",
       "7997                             1698.876248   \n",
       "7999                             1697.656060   \n",
       "8001                             1701.379766   \n",
       "8003                             1697.693750   \n",
       "8004                             1700.685073   \n",
       "8007                             1698.389507   \n",
       "8010                             1697.442724   \n",
       "8014                             1711.224299   \n",
       "8015                             1701.507665   \n",
       "8016                             1702.158540   \n",
       "8017                             1696.330299   \n",
       "8018                             1700.298533   \n",
       "8019                             1702.097315   \n",
       "8020                             1702.764912   \n",
       "8021                             1700.228637   \n",
       "8022                             1699.226541   \n",
       "8023                             1697.771382   \n",
       "8024                             1699.490152   \n",
       "8025                             1694.998968   \n",
       "8026                             1695.250862   \n",
       "8027                             1704.673522   \n",
       "8028                             1697.728778   \n",
       "8029                             1698.514261   \n",
       "8030                             1704.282569   \n",
       "8031                             1699.732202   \n",
       "8649                             1607.243574   \n",
       "8651                             1625.003090   \n",
       "8662                             1650.899271   \n",
       "8663                             1649.040429   \n",
       "8664                             1638.423002   \n",
       "8676                             1604.733797   \n",
       "8680                             1631.280230   \n",
       "8681                             1636.052928   \n",
       "8682                             1648.918561   \n",
       "8684                             1677.499368   \n",
       "\n",
       "      primary_cleaner.state.floatbank8_b_level  ...  \\\n",
       "3822                               -499.376023  ...   \n",
       "3823                               -499.760869  ...   \n",
       "3824                               -500.476636  ...   \n",
       "3825                               -499.888768  ...   \n",
       "3826                               -500.026651  ...   \n",
       "3827                               -499.798251  ...   \n",
       "3828                               -500.347299  ...   \n",
       "3829                               -499.734432  ...   \n",
       "3830                               -499.477181  ...   \n",
       "3831                               -499.377572  ...   \n",
       "3832                               -500.269653  ...   \n",
       "3833                               -499.107296  ...   \n",
       "3834                               -500.301399  ...   \n",
       "3835                               -499.600084  ...   \n",
       "7082                               -500.783612  ...   \n",
       "7939                               -499.952586  ...   \n",
       "7996                               -500.444637  ...   \n",
       "7997                               -499.414946  ...   \n",
       "7999                               -501.063590  ...   \n",
       "8001                               -500.316359  ...   \n",
       "8003                               -499.831007  ...   \n",
       "8004                               -499.562017  ...   \n",
       "8007                               -499.498165  ...   \n",
       "8010                               -500.130619  ...   \n",
       "8014                               -499.451268  ...   \n",
       "8015                               -501.437869  ...   \n",
       "8016                               -500.348048  ...   \n",
       "8017                               -500.523527  ...   \n",
       "8018                               -499.218135  ...   \n",
       "8019                               -500.457786  ...   \n",
       "8020                               -499.597124  ...   \n",
       "8021                               -500.149961  ...   \n",
       "8022                               -499.128426  ...   \n",
       "8023                               -499.892028  ...   \n",
       "8024                               -499.311865  ...   \n",
       "8025                               -500.076533  ...   \n",
       "8026                               -500.147215  ...   \n",
       "8027                               -499.867232  ...   \n",
       "8028                               -499.924571  ...   \n",
       "8029                               -500.060992  ...   \n",
       "8030                               -500.175989  ...   \n",
       "8031                               -499.830412  ...   \n",
       "8649                               -500.180774  ...   \n",
       "8651                               -500.912337  ...   \n",
       "8662                               -499.351639  ...   \n",
       "8663                               -498.607898  ...   \n",
       "8664                               -498.928692  ...   \n",
       "8676                               -499.057275  ...   \n",
       "8680                               -499.795510  ...   \n",
       "8681                               -499.606160  ...   \n",
       "8682                               -500.721569  ...   \n",
       "8684                               -499.789856  ...   \n",
       "\n",
       "      secondary_cleaner.state.floatbank4_a_air  \\\n",
       "3822                                 19.961226   \n",
       "3823                                 19.961526   \n",
       "3824                                 19.974082   \n",
       "3825                                 20.077289   \n",
       "3826                                 19.932451   \n",
       "3827                                 19.985371   \n",
       "3828                                 20.015916   \n",
       "3829                                 19.961428   \n",
       "3830                                 20.056256   \n",
       "3831                                 20.066647   \n",
       "3832                                 20.045785   \n",
       "3833                                 20.010068   \n",
       "3834                                 20.019297   \n",
       "3835                                 20.059949   \n",
       "7082                                 24.962522   \n",
       "7939                                 18.008487   \n",
       "7996                                 17.985239   \n",
       "7997                                 18.053868   \n",
       "7999                                 17.985482   \n",
       "8001                                 18.052205   \n",
       "8003                                 17.931400   \n",
       "8004                                 18.023023   \n",
       "8007                                 18.019595   \n",
       "8010                                 18.001255   \n",
       "8014                                 18.018499   \n",
       "8015                                 17.982387   \n",
       "8016                                 18.012298   \n",
       "8017                                 17.987807   \n",
       "8018                                 17.973218   \n",
       "8019                                 18.039276   \n",
       "8020                                 18.011335   \n",
       "8021                                 18.020820   \n",
       "8022                                 17.992812   \n",
       "8023                                 18.019495   \n",
       "8024                                 18.015318   \n",
       "8025                                 18.034473   \n",
       "8026                                 17.998539   \n",
       "8027                                 17.985871   \n",
       "8028                                 17.972318   \n",
       "8029                                 18.000280   \n",
       "8030                                 18.010018   \n",
       "8031                                 18.014849   \n",
       "8649                                 22.053177   \n",
       "8651                                 22.010484   \n",
       "8662                                 21.989793   \n",
       "8663                                 22.018380   \n",
       "8664                                 21.984537   \n",
       "8676                                 22.035717   \n",
       "8680                                 21.977809   \n",
       "8681                                 21.980659   \n",
       "8682                                 21.986378   \n",
       "8684                                 22.044084   \n",
       "\n",
       "      secondary_cleaner.state.floatbank4_a_level  \\\n",
       "3822                                 -400.031109   \n",
       "3823                                 -399.466202   \n",
       "3824                                 -400.059471   \n",
       "3825                                 -400.008470   \n",
       "3826                                 -400.270080   \n",
       "3827                                 -399.987732   \n",
       "3828                                 -399.084214   \n",
       "3829                                 -400.532357   \n",
       "3830                                 -400.606743   \n",
       "3831                                 -398.847445   \n",
       "3832                                 -398.800983   \n",
       "3833                                 -399.424924   \n",
       "3834                                 -400.207377   \n",
       "3835                                 -399.786609   \n",
       "7082                                 -396.947429   \n",
       "7939                                 -497.889281   \n",
       "7996                                 -500.244983   \n",
       "7997                                 -500.699174   \n",
       "7999                                 -499.376984   \n",
       "8001                                 -500.740174   \n",
       "8003                                 -498.646229   \n",
       "8004                                 -501.368623   \n",
       "8007                                 -498.312183   \n",
       "8010                                 -501.805328   \n",
       "8014                                 -501.390793   \n",
       "8015                                 -493.322308   \n",
       "8016                                 -500.756992   \n",
       "8017                                 -500.609553   \n",
       "8018                                 -499.441652   \n",
       "8019                                 -501.631874   \n",
       "8020                                 -499.563494   \n",
       "8021                                 -500.118671   \n",
       "8022                                 -500.680806   \n",
       "8023                                 -499.464841   \n",
       "8024                                 -500.697657   \n",
       "8025                                 -500.350209   \n",
       "8026                                 -499.701799   \n",
       "8027                                 -498.925727   \n",
       "8028                                 -501.182742   \n",
       "8029                                 -500.102012   \n",
       "8030                                 -502.863741   \n",
       "8031                                 -497.136828   \n",
       "8649                                 -500.577698   \n",
       "8651                                 -500.434126   \n",
       "8662                                 -498.914704   \n",
       "8663                                 -502.074243   \n",
       "8664                                 -500.786882   \n",
       "8676                                 -500.377360   \n",
       "8680                                 -499.926845   \n",
       "8681                                 -499.544682   \n",
       "8682                                 -499.726315   \n",
       "8684                                 -499.921433   \n",
       "\n",
       "      secondary_cleaner.state.floatbank4_b_air  \\\n",
       "3822                                 10.049537   \n",
       "3823                                 10.078152   \n",
       "3824                                 10.073479   \n",
       "3825                                 10.050483   \n",
       "3826                                 10.004813   \n",
       "3827                                  9.906012   \n",
       "3828                                 10.041267   \n",
       "3829                                 10.016105   \n",
       "3830                                  9.993424   \n",
       "3831                                  9.975633   \n",
       "3832                                  9.950263   \n",
       "3833                                  9.938791   \n",
       "3834                                  9.954083   \n",
       "3835                                 10.067815   \n",
       "7082                                 22.980526   \n",
       "7939                                 13.028371   \n",
       "7996                                 12.966769   \n",
       "7997                                 12.914028   \n",
       "7999                                 12.940930   \n",
       "8001                                 13.023547   \n",
       "8003                                 12.929918   \n",
       "8004                                 13.026282   \n",
       "8007                                 12.906797   \n",
       "8010                                 12.986138   \n",
       "8014                                 12.962230   \n",
       "8015                                 12.993669   \n",
       "8016                                 12.986205   \n",
       "8017                                 13.071170   \n",
       "8018                                 13.048718   \n",
       "8019                                 12.975402   \n",
       "8020                                 13.016190   \n",
       "8021                                 13.030539   \n",
       "8022                                 13.053198   \n",
       "8023                                 12.990039   \n",
       "8024                                 13.000175   \n",
       "8025                                 12.960823   \n",
       "8026                                 12.974113   \n",
       "8027                                 13.018933   \n",
       "8028                                 13.008408   \n",
       "8029                                 13.022264   \n",
       "8030                                 13.010934   \n",
       "8031                                 13.009409   \n",
       "8649                                 15.078504   \n",
       "8651                                 15.054035   \n",
       "8662                                 15.030530   \n",
       "8663                                 14.972949   \n",
       "8664                                 14.934092   \n",
       "8676                                 14.817864   \n",
       "8680                                 14.945742   \n",
       "8681                                 14.922331   \n",
       "8682                                 14.898920   \n",
       "8684                                 14.863869   \n",
       "\n",
       "      secondary_cleaner.state.floatbank4_b_level  \\\n",
       "3822                                 -400.051057   \n",
       "3823                                 -399.626030   \n",
       "3824                                 -399.484238   \n",
       "3825                                 -399.616687   \n",
       "3826                                 -399.938714   \n",
       "3827                                 -400.681902   \n",
       "3828                                 -397.091455   \n",
       "3829                                 -400.236140   \n",
       "3830                                 -401.495623   \n",
       "3831                                 -398.755118   \n",
       "3832                                 -399.256303   \n",
       "3833                                 -399.880048   \n",
       "3834                                 -399.443461   \n",
       "3835                                 -399.278352   \n",
       "7082                                 -398.019128   \n",
       "7939                                 -379.461053   \n",
       "7996                                 -379.921704   \n",
       "7997                                 -379.969453   \n",
       "7999                                 -380.335239   \n",
       "8001                                 -381.134573   \n",
       "8003                                 -379.538630   \n",
       "8004                                 -380.244602   \n",
       "8007                                 -379.831724   \n",
       "8010                                 -379.733727   \n",
       "8014                                 -380.683622   \n",
       "8015                                 -377.703781   \n",
       "8016                                 -381.672726   \n",
       "8017                                 -379.953149   \n",
       "8018                                 -379.599834   \n",
       "8019                                 -380.897053   \n",
       "8020                                 -380.692444   \n",
       "8021                                 -380.010608   \n",
       "8022                                 -378.791321   \n",
       "8023                                 -380.215036   \n",
       "8024                                 -380.288891   \n",
       "8025                                 -380.200149   \n",
       "8026                                 -380.039932   \n",
       "8027                                 -377.887241   \n",
       "8028                                 -382.356921   \n",
       "8029                                 -379.992455   \n",
       "8030                                 -380.492463   \n",
       "8031                                 -380.868347   \n",
       "8649                                 -380.192795   \n",
       "8651                                 -380.662646   \n",
       "8662                                 -380.918446   \n",
       "8663                                 -380.955282   \n",
       "8664                                 -379.948097   \n",
       "8676                                 -379.811176   \n",
       "8680                                 -379.797843   \n",
       "8681                                 -380.080107   \n",
       "8682                                 -379.681671   \n",
       "8684                                 -380.406384   \n",
       "\n",
       "      secondary_cleaner.state.floatbank5_a_air  \\\n",
       "3822                                 10.075446   \n",
       "3823                                  9.924182   \n",
       "3824                                 10.085450   \n",
       "3825                                 10.002298   \n",
       "3826                                 10.118624   \n",
       "3827                                  9.961733   \n",
       "3828                                  9.966870   \n",
       "3829                                  9.981473   \n",
       "3830                                 10.132152   \n",
       "3831                                  9.894055   \n",
       "3832                                 10.003394   \n",
       "3833                                  9.923734   \n",
       "3834                                  9.940474   \n",
       "3835                                  9.988923   \n",
       "7082                                 26.002204   \n",
       "7939                                 17.992287   \n",
       "7996                                 18.090539   \n",
       "7997                                 18.012567   \n",
       "7999                                 18.015179   \n",
       "8001                                 18.010736   \n",
       "8003                                 17.960299   \n",
       "8004                                 18.013922   \n",
       "8007                                 18.002222   \n",
       "8010                                 17.984508   \n",
       "8014                                 18.026801   \n",
       "8015                                 17.989760   \n",
       "8016                                 17.992657   \n",
       "8017                                 18.038725   \n",
       "8018                                 17.995541   \n",
       "8019                                 18.047312   \n",
       "8020                                 17.967325   \n",
       "8021                                 18.002413   \n",
       "8022                                 18.022619   \n",
       "8023                                 18.047712   \n",
       "8024                                 17.976056   \n",
       "8025                                 17.992917   \n",
       "8026                                 17.986647   \n",
       "8027                                 17.977928   \n",
       "8028                                 18.001552   \n",
       "8029                                 18.009883   \n",
       "8030                                 18.076612   \n",
       "8031                                 18.002027   \n",
       "8649                                 18.005202   \n",
       "8651                                 18.008855   \n",
       "8662                                 17.989766   \n",
       "8663                                 17.957795   \n",
       "8664                                 17.985861   \n",
       "8676                                 17.979548   \n",
       "8680                                 18.026769   \n",
       "8681                                 18.025625   \n",
       "8682                                 18.020414   \n",
       "8684                                 18.031383   \n",
       "\n",
       "      secondary_cleaner.state.floatbank5_a_level  \\\n",
       "3822                                 -403.132817   \n",
       "3823                                 -401.918437   \n",
       "3824                                 -396.352199   \n",
       "3825                                 -399.176719   \n",
       "3826                                 -399.417707   \n",
       "3827                                 -399.080118   \n",
       "3828                                 -402.936854   \n",
       "3829                                 -399.100501   \n",
       "3830                                 -398.596086   \n",
       "3831                                 -401.591623   \n",
       "3832                                 -397.853444   \n",
       "3833                                 -401.300263   \n",
       "3834                                 -400.719693   \n",
       "3835                                 -400.282613   \n",
       "7082                                 -448.799179   \n",
       "7939                                 -499.381874   \n",
       "7996                                 -500.551888   \n",
       "7997                                 -500.260912   \n",
       "7999                                 -500.389853   \n",
       "8001                                 -499.863632   \n",
       "8003                                 -498.218319   \n",
       "8004                                 -501.495804   \n",
       "8007                                 -499.220032   \n",
       "8010                                 -499.982714   \n",
       "8014                                 -501.122737   \n",
       "8015                                 -498.226705   \n",
       "8016                                 -500.263116   \n",
       "8017                                 -499.878413   \n",
       "8018                                 -500.596040   \n",
       "8019                                 -500.660759   \n",
       "8020                                 -499.830552   \n",
       "8021                                 -499.479256   \n",
       "8022                                 -500.977921   \n",
       "8023                                 -499.798156   \n",
       "8024                                 -500.497385   \n",
       "8025                                 -500.350756   \n",
       "8026                                 -498.091894   \n",
       "8027                                 -496.845769   \n",
       "8028                                 -502.811064   \n",
       "8029                                 -501.879278   \n",
       "8030                                 -503.698050   \n",
       "8031                                 -493.469463   \n",
       "8649                                 -500.191019   \n",
       "8651                                 -500.190803   \n",
       "8662                                 -498.879549   \n",
       "8663                                 -500.600125   \n",
       "8664                                 -500.221848   \n",
       "8676                                 -499.795395   \n",
       "8680                                 -499.497142   \n",
       "8681                                 -499.387779   \n",
       "8682                                 -499.697473   \n",
       "8684                                 -499.327948   \n",
       "\n",
       "      secondary_cleaner.state.floatbank5_b_air  \\\n",
       "3822                                  5.069262   \n",
       "3823                                  5.056349   \n",
       "3824                                  5.043436   \n",
       "3825                                  5.030524   \n",
       "3826                                  5.017611   \n",
       "3827                                  5.004698   \n",
       "3828                                  4.991786   \n",
       "3829                                  4.979364   \n",
       "3830                                  4.972851   \n",
       "3831                                  4.968069   \n",
       "3832                                  4.958505   \n",
       "3833                                  4.953723   \n",
       "3834                                  4.948941   \n",
       "3835                                  4.944159   \n",
       "7082                                 24.009363   \n",
       "7939                                 13.005072   \n",
       "7996                                 12.971983   \n",
       "7997                                 12.954783   \n",
       "7999                                 12.993934   \n",
       "8001                                 13.002345   \n",
       "8003                                 13.039951   \n",
       "8004                                 13.012082   \n",
       "8007                                 13.008242   \n",
       "8010                                 12.979322   \n",
       "8014                                 13.024372   \n",
       "8015                                 12.998146   \n",
       "8016                                 13.007302   \n",
       "8017                                 12.955817   \n",
       "8018                                 12.995840   \n",
       "8019                                 13.014813   \n",
       "8020                                 12.949839   \n",
       "8021                                 12.992698   \n",
       "8022                                 13.005767   \n",
       "8023                                 13.022761   \n",
       "8024                                 12.976736   \n",
       "8025                                 13.033085   \n",
       "8026                                 13.033843   \n",
       "8027                                 12.987145   \n",
       "8028                                 12.996031   \n",
       "8029                                 12.996737   \n",
       "8030                                 13.031129   \n",
       "8031                                 12.995701   \n",
       "8649                                 13.040678   \n",
       "8651                                 12.988528   \n",
       "8662                                 13.016755   \n",
       "8663                                 12.989320   \n",
       "8664                                 13.008282   \n",
       "8676                                 13.005500   \n",
       "8680                                 12.971004   \n",
       "8681                                 13.030175   \n",
       "8682                                 13.006551   \n",
       "8684                                 12.997198   \n",
       "\n",
       "      secondary_cleaner.state.floatbank5_b_level  \\\n",
       "3822                                 -399.842160   \n",
       "3823                                 -400.339648   \n",
       "3824                                 -400.047765   \n",
       "3825                                 -401.203124   \n",
       "3826                                 -399.887825   \n",
       "3827                                 -400.001607   \n",
       "3828                                 -400.105465   \n",
       "3829                                 -399.630059   \n",
       "3830                                 -399.407966   \n",
       "3831                                 -399.481812   \n",
       "3832                                 -400.002260   \n",
       "3833                                 -400.272770   \n",
       "3834                                 -399.827016   \n",
       "3835                                 -400.253606   \n",
       "7082                                 -449.919379   \n",
       "7939                                 -499.700186   \n",
       "7996                                 -500.118663   \n",
       "7997                                 -499.837256   \n",
       "7999                                 -500.406351   \n",
       "8001                                 -499.963943   \n",
       "8003                                 -499.757602   \n",
       "8004                                 -500.225109   \n",
       "8007                                 -499.978439   \n",
       "8010                                 -499.917469   \n",
       "8014                                 -500.430625   \n",
       "8015                                 -500.030466   \n",
       "8016                                 -500.008690   \n",
       "8017                                 -500.268753   \n",
       "8018                                 -500.071898   \n",
       "8019                                 -500.182122   \n",
       "8020                                 -500.124352   \n",
       "8021                                 -500.162190   \n",
       "8022                                 -500.192190   \n",
       "8023                                 -499.856538   \n",
       "8024                                 -499.983864   \n",
       "8025                                 -499.978076   \n",
       "8026                                 -499.849071   \n",
       "8027                                 -500.140176   \n",
       "8028                                 -500.081582   \n",
       "8029                                 -500.126281   \n",
       "8030                                 -500.173143   \n",
       "8031                                 -499.636732   \n",
       "8649                                 -500.215824   \n",
       "8651                                 -500.024044   \n",
       "8662                                 -499.984333   \n",
       "8663                                 -500.284208   \n",
       "8664                                 -499.868302   \n",
       "8676                                 -500.051138   \n",
       "8680                                 -500.087851   \n",
       "8681                                 -499.900406   \n",
       "8682                                 -499.957478   \n",
       "8684                                 -499.709339   \n",
       "\n",
       "      secondary_cleaner.state.floatbank6_a_air  \\\n",
       "3822                                 22.957628   \n",
       "3823                                 23.026902   \n",
       "3824                                 23.009404   \n",
       "3825                                 22.942014   \n",
       "3826                                 22.940244   \n",
       "3827                                 22.996275   \n",
       "3828                                 23.021417   \n",
       "3829                                 23.014694   \n",
       "3830                                 23.003439   \n",
       "3831                                 23.031086   \n",
       "3832                                 22.980222   \n",
       "3833                                 23.000261   \n",
       "3834                                 22.987580   \n",
       "3835                                 23.013180   \n",
       "7082                                 30.000917   \n",
       "7939                                 19.988246   \n",
       "7996                                 20.012977   \n",
       "7997                                 19.984940   \n",
       "7999                                 20.005652   \n",
       "8001                                 20.003053   \n",
       "8003                                 19.996676   \n",
       "8004                                 19.983256   \n",
       "8007                                 19.994408   \n",
       "8010                                 20.006558   \n",
       "8014                                 15.000478   \n",
       "8015                                 14.998192   \n",
       "8016                                 15.008523   \n",
       "8017                                 14.999685   \n",
       "8018                                 14.980462   \n",
       "8019                                 15.012409   \n",
       "8020                                 15.029180   \n",
       "8021                                 15.013396   \n",
       "8022                                 15.017556   \n",
       "8023                                 15.007174   \n",
       "8024                                 14.967795   \n",
       "8025                                 15.004020   \n",
       "8026                                 14.992175   \n",
       "8027                                 14.972860   \n",
       "8028                                 14.990495   \n",
       "8029                                 14.988201   \n",
       "8030                                 15.032145   \n",
       "8031                                 15.024705   \n",
       "8649                                 15.004793   \n",
       "8651                                 15.011011   \n",
       "8662                                 15.021528   \n",
       "8663                                 14.996958   \n",
       "8664                                 15.009042   \n",
       "8676                                 15.011992   \n",
       "8680                                 15.011970   \n",
       "8681                                 15.004954   \n",
       "8682                                 14.995889   \n",
       "8684                                 14.985722   \n",
       "\n",
       "      secondary_cleaner.state.floatbank6_a_level  \n",
       "3822                                 -499.893416  \n",
       "3823                                 -500.377175  \n",
       "3824                                 -498.765393  \n",
       "3825                                 -501.415173  \n",
       "3826                                 -499.361545  \n",
       "3827                                 -498.125722  \n",
       "3828                                 -500.835361  \n",
       "3829                                 -500.332044  \n",
       "3830                                 -500.012170  \n",
       "3831                                 -500.187366  \n",
       "3832                                 -499.662217  \n",
       "3833                                 -500.367680  \n",
       "3834                                 -499.429895  \n",
       "3835                                 -499.160838  \n",
       "7082                                 -499.568033  \n",
       "7939                                 -499.168833  \n",
       "7996                                 -500.151239  \n",
       "7997                                 -500.225606  \n",
       "7999                                 -500.253252  \n",
       "8001                                 -500.454588  \n",
       "8003                                 -496.895626  \n",
       "8004                                 -502.742051  \n",
       "8007                                 -499.095978  \n",
       "8010                                 -500.292833  \n",
       "8014                                 -501.018482  \n",
       "8015                                 -499.636446  \n",
       "8016                                 -499.015419  \n",
       "8017                                 -499.962742  \n",
       "8018                                 -499.722348  \n",
       "8019                                 -501.752115  \n",
       "8020                                 -499.119385  \n",
       "8021                                 -499.315479  \n",
       "8022                                 -501.395971  \n",
       "8023                                 -499.700101  \n",
       "8024                                 -500.217883  \n",
       "8025                                 -500.585959  \n",
       "8026                                 -499.434065  \n",
       "8027                                 -500.626094  \n",
       "8028                                 -499.931311  \n",
       "8029                                 -500.128581  \n",
       "8030                                 -500.452006  \n",
       "8031                                 -499.902548  \n",
       "8649                                 -499.882594  \n",
       "8651                                 -499.880751  \n",
       "8662                                 -500.169327  \n",
       "8663                                 -500.093874  \n",
       "8664                                 -500.017070  \n",
       "8676                                 -500.342759  \n",
       "8680                                 -499.992960  \n",
       "8681                                 -500.055563  \n",
       "8682                                 -500.054273  \n",
       "8684                                 -499.887707  \n",
       "\n",
       "[52 rows x 55 columns]"
      ]
     },
     "execution_count": 73,
     "metadata": {},
     "output_type": "execute_result"
    }
   ],
   "source": [
    "huge_feed_size_train = gold_train_1.loc[gold_train_1['rougher.input.feed_size'] > 200]\n",
    "huge_feed_size_test = gold_test_1.loc[gold_test_1['rougher.input.feed_size'] > 200]\n",
    "huge_feed_size_train"
   ]
  },
  {
   "cell_type": "markdown",
   "metadata": {},
   "source": [
    "Не так много строк, которые отражают загрузку материалов с очень крупными гранулами."
   ]
  },
  {
   "cell_type": "markdown",
   "metadata": {},
   "source": [
    "### Определение суммарной концентрации веществ"
   ]
  },
  {
   "cell_type": "markdown",
   "metadata": {
    "scrolled": true
   },
   "source": [
    "Посмотрим, что происходило с выходными концентрациями золота по дням."
   ]
  },
  {
   "cell_type": "code",
   "execution_count": 74,
   "metadata": {},
   "outputs": [],
   "source": [
    "gold_full['only_days'] = gold_full['date'].dt.date"
   ]
  },
  {
   "cell_type": "code",
   "execution_count": 75,
   "metadata": {},
   "outputs": [],
   "source": [
    "\n",
    "feed_conc['sum_conc'] = feed_conc['rougher.input.feed_ag'] + feed_conc['rougher.input.feed_pb'] +\\\n",
    "                          feed_conc['rougher.input.feed_au'] + feed_conc['rougher.input.feed_sol']\n",
    "\n",
    "rougher_conc['sum_conc'] = rougher_conc['rougher.output.concentrate_ag'] + rougher_conc['rougher.output.concentrate_au'] +\\\n",
    "                             rougher_conc['rougher.output.concentrate_pb'] + rougher_conc['rougher.output.concentrate_sol']\n",
    "\n",
    "primary_cleaner_conc['sum_conc'] = primary_cleaner_conc['primary_cleaner.output.concentrate_ag'] +\\\n",
    "                                                   primary_cleaner_conc['primary_cleaner.output.concentrate_au'] +\\\n",
    "                                                   primary_cleaner_conc['primary_cleaner.output.concentrate_pb'] +\\\n",
    "                                                   primary_cleaner_conc['primary_cleaner.output.concentrate_sol']\n",
    "\n",
    "final_conc['sum_conc'] = final_conc['final.output.concentrate_ag'] + final_conc['final.output.concentrate_au'] +\\\n",
    "                     final_conc['final.output.concentrate_pb'] + final_conc['final.output.concentrate_sol']\n"
   ]
  },
  {
   "cell_type": "markdown",
   "metadata": {},
   "source": [
    "Тогда суммарная концентрация веществ по этапам:"
   ]
  },
  {
   "cell_type": "code",
   "execution_count": 76,
   "metadata": {
    "scrolled": false
   },
   "outputs": [
    {
     "data": {
      "image/png": "[encoded data removed]",
      "text/plain": [
       "<Figure size 432x288 with 1 Axes>"
      ]
     },
     "metadata": {
      "needs_background": "light"
     },
     "output_type": "display_data"
    },
    {
     "data": {
      "image/png": "[encoded data removed]",
      "text/plain": [
       "<Figure size 432x288 with 1 Axes>"
      ]
     },
     "metadata": {
      "needs_background": "light"
     },
     "output_type": "display_data"
    },
    {
     "data": {
      "image/png": "[encoded data removed]",
      "text/plain": [
       "<Figure size 432x288 with 1 Axes>"
      ]
     },
     "metadata": {
      "needs_background": "light"
     },
     "output_type": "display_data"
    },
    {
     "data": {
      "image/png": "[encoded data removed]",
      "text/plain": [
       "<Figure size 432x288 with 1 Axes>"
      ]
     },
     "metadata": {
      "needs_background": "light"
     },
     "output_type": "display_data"
    }
   ],
   "source": [
    "stage_name = ['feed', 'rougher', 'primary cleaner', 'final']\n",
    "i = 0\n",
    "for df in stage_conc:\n",
    "    df.plot(kind='hist', y='sum_conc', bins=50, grid=True)\n",
    "    plt.title(stage_name[i])\n",
    "    i += 1"
   ]
  },
  {
   "cell_type": "markdown",
   "metadata": {},
   "source": [
    "Выбросы реально есть: выше 100 значения мы не наблюдаем, а вот подозрительно низкие концентрации (близко или равные 0 есть). Возьмем границу выбросов равной 1 (в приниципе такое значение теоретически может быть, но нам, думаю, не повердит то, что выкинем несколько таковых)."
   ]
  },
  {
   "cell_type": "code",
   "execution_count": 77,
   "metadata": {
    "scrolled": true
   },
   "outputs": [
    {
     "name": "stdout",
     "output_type": "stream",
     "text": [
      "Число дат, когда были появлялись выбросы: 14\n"
     ]
    }
   ],
   "source": [
    "feed_emissions = feed_conc.loc[feed_conc['sum_conc'] < 1]\n",
    "rougher_emissions = rougher_conc.loc[rougher_conc['sum_conc'] < 1]\n",
    "primary_cleaner_emissions = primary_cleaner_conc.loc[primary_cleaner_conc['sum_conc'] < 1]\n",
    "final_emissions = final_conc.loc[final_conc['sum_conc'] < 1]\n",
    "\n",
    "emissions_ful = pd.concat([feed_emissions, rougher_emissions, primary_cleaner_emissions, final_emissions])\n",
    "#emissions = [feed_emissions, rougher_emissions, primary_cleaner_emissions, final_emissions]\n",
    "\n",
    "print(\"Число дат, когда были появлялись выбросы:\", emissions_ful.duplicated(subset=['date']).sum())"
   ]
  },
  {
   "cell_type": "markdown",
   "metadata": {},
   "source": [
    "Количетсво выбросов в целом."
   ]
  },
  {
   "cell_type": "code",
   "execution_count": 78,
   "metadata": {},
   "outputs": [
    {
     "name": "stdout",
     "output_type": "stream",
     "text": [
      "717\n"
     ]
    }
   ],
   "source": [
    "emissions_ful = emissions_ful.drop_duplicates(subset=['date'])\n",
    "print(len(emissions_ful))"
   ]
  },
  {
   "cell_type": "markdown",
   "metadata": {},
   "source": [
    "Проверям количество строк при удалении выбросов, чтобы нигде не ошибиться."
   ]
  },
  {
   "cell_type": "code",
   "execution_count": 79,
   "metadata": {},
   "outputs": [
    {
     "name": "stdout",
     "output_type": "stream",
     "text": [
      "18722\n",
      "18722\n"
     ]
    }
   ],
   "source": [
    "print(gold_train_4.shape[0] + gold_test_4.shape[0] - len(emissions_ful))\n",
    "print(gold_full.shape[0] - len(emissions_ful))"
   ]
  },
  {
   "cell_type": "code",
   "execution_count": 80,
   "metadata": {},
   "outputs": [],
   "source": [
    "for el in emissions_ful['date']:\n",
    "    gold_train_4 = gold_train_4.loc[gold_train_4['date'] != el]\n",
    "        \n",
    "for el in emissions_ful['date']:\n",
    "    gold_test_4 = gold_test_4.loc[gold_test_4['date'] != el]"
   ]
  },
  {
   "cell_type": "code",
   "execution_count": 81,
   "metadata": {},
   "outputs": [
    {
     "name": "stdout",
     "output_type": "stream",
     "text": [
      "18722\n"
     ]
    }
   ],
   "source": [
    "print(gold_train_4.shape[0] + gold_test_4.shape[0])"
   ]
  },
  {
   "cell_type": "markdown",
   "metadata": {},
   "source": [
    "При проверке на очередной итерации были обнаружены несостыковки в размерах а точнее 14 лишних значений). После чего объединил выборки при помощи concat, все вроде исправилось и  сравнялось."
   ]
  },
  {
   "cell_type": "code",
   "execution_count": 82,
   "metadata": {},
   "outputs": [],
   "source": [
    "gold_train_4 = gold_train_4.drop(['date'], axis=1).reset_index(drop=True)"
   ]
  },
  {
   "cell_type": "code",
   "execution_count": 83,
   "metadata": {},
   "outputs": [],
   "source": [
    "gold_test_4 = gold_test_4.drop(['date'], axis=1).reset_index(drop=True)"
   ]
  },
  {
   "cell_type": "markdown",
   "metadata": {},
   "source": [
    "Разброс непредсказуемый, безусловно, но в общем виде можно с легкостью сказать, что концентрация после флотации аппроксимируется прямой равной 20, а после всех стадий очистки прямой равной 45. Что полностью подтверждают расчеты в п. 2.1."
   ]
  },
  {
   "cell_type": "markdown",
   "metadata": {},
   "source": [
    " Заметно, что у финальной концентрации золота есть долготянущийся влево хвост, что не очень хорошо. Получается, что в определенных случаях после всех стадий очистки могут быть случаи, когда концетрация золота довольно низкая."
   ]
  },
  {
   "cell_type": "markdown",
   "metadata": {},
   "source": [
    "## Модель"
   ]
  },
  {
   "cell_type": "markdown",
   "metadata": {},
   "source": [
    "### Преобразование данных"
   ]
  },
  {
   "cell_type": "markdown",
   "metadata": {},
   "source": [
    "Перед построением модели преобразуем данные соответствующим образом."
   ]
  },
  {
   "cell_type": "code",
   "execution_count": 84,
   "metadata": {
    "scrolled": true
   },
   "outputs": [],
   "source": [
    "train_f = gold_train_4.drop(['rougher.output.recovery', 'final.output.recovery'], axis=1)\n",
    "train_rougher_t = gold_train_4['rougher.output.recovery']\n",
    "train_final_t = gold_train_4['final.output.recovery']\n",
    "\n",
    "test_f = gold_test_4.drop(['rougher.output.recovery', 'final.output.recovery'], axis=1)\n",
    "test_rougher_t = gold_test_4['rougher.output.recovery']\n",
    "test_final_t = gold_test_4['final.output.recovery']"
   ]
  },
  {
   "cell_type": "markdown",
   "metadata": {},
   "source": [
    "Не забываем про масштабирование."
   ]
  },
  {
   "cell_type": "code",
   "execution_count": 85,
   "metadata": {},
   "outputs": [],
   "source": [
    "scaler = StandardScaler()\n",
    "scaler.fit(train_f)\n",
    "train_f_sc = scaler.transform(train_f)\n",
    "test_f_sc = scaler.transform(test_f)\n"
   ]
  },
  {
   "cell_type": "code",
   "execution_count": 86,
   "metadata": {
    "scrolled": true
   },
   "outputs": [
    {
     "name": "stdout",
     "output_type": "stream",
     "text": [
      "(13599, 52)\n",
      "(5123, 52)\n"
     ]
    }
   ],
   "source": [
    "print(train_f_sc.shape)\n",
    "print(test_f_sc.shape)"
   ]
  },
  {
   "cell_type": "markdown",
   "metadata": {},
   "source": [
    "### Функция симметричного среднего абсолютного процентного отклонения"
   ]
  },
  {
   "cell_type": "code",
   "execution_count": 108,
   "metadata": {},
   "outputs": [],
   "source": [
    "def sMAPE(y, y_pred):\n",
    "    sum_part = sum((2 * abs(y - y_pred)) / (abs(y) + abs(y_pred)))\n",
    "    return 100 * sum_part / len(y)"
   ]
  },
  {
   "cell_type": "code",
   "execution_count": 109,
   "metadata": {},
   "outputs": [],
   "source": [
    "smape_score = make_scorer(sMAPE, greater_is_better=True)\n",
    "smape = {'smape': smape_score}"
   ]
  },
  {
   "cell_type": "markdown",
   "metadata": {},
   "source": [
    "Перейдем к обучению моделей\n",
    "\n",
    "Для экстраполяции данных на неизвестные условия, как известно, подходит только регрессия (деревья работают \"в пределах того, на чем они обучены\"). Однако здесь, учитывая, что в задании было указано обучить моделИ и то, что мы никакую экстраполяцию дальше делать не должны их тоже применим.\n",
    "\n",
    "Обычное одинокое дерево смотреть не будем. Начнем сразу с ансамбля деревьев."
   ]
  },
  {
   "cell_type": "markdown",
   "metadata": {},
   "source": [
    "### Модель рандомного леса"
   ]
  },
  {
   "cell_type": "code",
   "execution_count": 89,
   "metadata": {},
   "outputs": [],
   "source": [
    "models = []\n",
    "for  est in range(5, 20, 3):\n",
    "    for depth in range(2, 5):\n",
    "            #for n_feature  in range(5, df1.shape[1]-1):\n",
    "        model_forest1 = RandomForestRegressor(max_depth=depth, n_estimators=est,\n",
    "                                             random_state=12345)\n",
    "        models.append(model_forest1)"
   ]
  },
  {
   "cell_type": "code",
   "execution_count": 90,
   "metadata": {
    "scrolled": true
   },
   "outputs": [
    {
     "name": "stderr",
     "output_type": "stream",
     "text": [
      "100%|██████████████████████████████████████████████████████████████████████████████████| 15/15 [02:35<00:00, 10.40s/it]"
     ]
    },
    {
     "name": "stdout",
     "output_type": "stream",
     "text": [
      "RandomForestRegressor(max_depth=4, n_estimators=8, random_state=12345)\n",
      "RandomForestRegressor(max_depth=2, n_estimators=17, random_state=12345)\n",
      "Result_SMAPE by randForest 8.512899546490647\n"
     ]
    },
    {
     "name": "stderr",
     "output_type": "stream",
     "text": [
      "\n"
     ]
    }
   ],
   "source": [
    "best_model_rforest_1 = None\n",
    "best_model_rforest_2 = None\n",
    "best_score_r_forest_1 = 100\n",
    "best_score_r_forest_2 = 100\n",
    "\n",
    "for m in tqdm(models):\n",
    "    scores_1 = []\n",
    "    scores_2 = []\n",
    "    scores_1 = cross_val_score(m, train_f_sc, train_rougher_t, cv=5, scoring=smape_score)\n",
    "    scores_1_final = pd.Series(scores_1).mean()\n",
    "    scores_2 = cross_val_score(m, train_f_sc, train_final_t, cv=5, scoring=smape_score)\n",
    "    scores_2_final = pd.Series(scores_2).mean()\n",
    "    if scores_1_final < best_score_r_forest_1:\n",
    "        best_score_r_forest_1 = scores_1_final\n",
    "        best_model_rforest_1 = m\n",
    "    if scores_2_final < best_score_r_forest_2:\n",
    "        best_score_r_forest_2 = scores_2_final\n",
    "        best_model_rforest_2 = m\n",
    "        \n",
    "best_final_score = best_score_r_forest_1 * 0.25 + best_score_r_forest_2 * 0.75\n",
    "print(best_model_rforest_1)\n",
    "print(best_model_rforest_2)\n",
    "print('Result_SMAPE by randForest', best_final_score)\n"
   ]
  },
  {
   "cell_type": "markdown",
   "metadata": {},
   "source": [
    "Оценка неплохая, но и не очень низкая."
   ]
  },
  {
   "cell_type": "markdown",
   "metadata": {},
   "source": [
    "Перейдем к регресси и посмотрим некоторые ее варианты."
   ]
  },
  {
   "cell_type": "markdown",
   "metadata": {},
   "source": [
    "###  Регрессионные модели"
   ]
  },
  {
   "cell_type": "code",
   "execution_count": 93,
   "metadata": {
    "scrolled": false
   },
   "outputs": [
    {
     "name": "stdout",
     "output_type": "stream",
     "text": [
      "Result_SMAPE by linRegression: 10.091070510181288\n"
     ]
    }
   ],
   "source": [
    "# простая ЛИНЕЙНАЯ РЕГРЕССИЯ\n",
    "temp_m_lin_reg = LinearRegression()\n",
    "scores_1 = []\n",
    "scores_2 = []\n",
    "scores_1 = cross_val_score(temp_m_lin_reg, train_f_sc, train_rougher_t, cv=5, scoring=smape_score) \n",
    "scores_2 = cross_val_score(temp_m_lin_reg, train_f_sc, train_final_t, cv=5, scoring=smape_score)\n",
    "final_score = pd.Series(scores_1).mean() * 0.25 + pd.Series(scores_2).mean() * 0.75\n",
    "\n",
    "print('Result_SMAPE by linRegression:', final_score)"
   ]
  },
  {
   "cell_type": "markdown",
   "metadata": {},
   "source": [
    "Модель уступает лучшим показателем (где глубина дерева побольше 5 и само число деревьев немаленькое) моделей рандомного  леса."
   ]
  },
  {
   "cell_type": "code",
   "execution_count": 94,
   "metadata": {},
   "outputs": [],
   "source": [
    "alphas = list(np.logspace(-2, 2, 10))\n",
    "models_elastic = []\n",
    "l1_ratio = list(np.linspace(0, 1, 3))"
   ]
  },
  {
   "cell_type": "code",
   "execution_count": 95,
   "metadata": {},
   "outputs": [],
   "source": [
    "for l1 in l1_ratio:\n",
    "    for alpha in alphas:\n",
    "        m_r = ElasticNet(max_iter=1000, alpha=alpha, l1_ratio=l1, random_state=12345)\n",
    "        models_elastic.append(m_r)"
   ]
  },
  {
   "cell_type": "code",
   "execution_count": 96,
   "metadata": {
    "scrolled": false
   },
   "outputs": [
    {
     "name": "stderr",
     "output_type": "stream",
     "text": [
      "100%|██████████████████████████████████████████████████████████████████████████████████| 30/30 [01:04<00:00,  2.16s/it]"
     ]
    },
    {
     "name": "stdout",
     "output_type": "stream",
     "text": [
      "ElasticNet(alpha=0.5994842503189409, l1_ratio=0.0, random_state=12345)\n",
      "ElasticNet(alpha=0.5994842503189409, l1_ratio=1.0, random_state=12345)\n",
      "Result_SMAPE by elasticNet: 8.326924548544605\n"
     ]
    },
    {
     "name": "stderr",
     "output_type": "stream",
     "text": [
      "\n"
     ]
    }
   ],
   "source": [
    "best_model_elastic_1 = None\n",
    "best_model_elastic_2 = None\n",
    "best_score_elastic_1 = 100\n",
    "best_score_elastic_2 = 100\n",
    "\n",
    "for m in tqdm(models_elastic):\n",
    "    scores_1 = []\n",
    "    scores_2 = []\n",
    "    scores_1 = cross_val_score(m, train_f_sc, train_rougher_t, cv=5, scoring=smape_score)\n",
    "    scores_1_final = pd.Series(scores_1).mean()\n",
    "    scores_2 = cross_val_score(m, train_f_sc, train_final_t, cv=5, scoring=smape_score)\n",
    "    scores_2_final = pd.Series(scores_2).mean()\n",
    "    if scores_1_final < best_score_elastic_1:\n",
    "        best_score_elastic_1 = scores_1_final\n",
    "        best_model_elastic_1 = m\n",
    "    if scores_2_final < best_score_elastic_2:\n",
    "        best_score_elastic_2 = scores_2_final\n",
    "        best_model_elastic_2 = m\n",
    "        \n",
    "best_final_score = best_score_elastic_1 * 0.25 + best_score_elastic_2 * 0.75\n",
    "print(best_model_elastic_1)\n",
    "print(best_model_elastic_2)\n",
    "print('Result_SMAPE by elasticNet:', best_final_score)\n"
   ]
  },
  {
   "cell_type": "markdown",
   "metadata": {},
   "source": [
    "Обратим внимание, что для предсказания коэффициента после флотации модель показала лучшие результаты с регуляризацией Тиханова (без лассо), а после финальной очистки - с лассо регрессией."
   ]
  },
  {
   "cell_type": "markdown",
   "metadata": {},
   "source": [
    "###  Градиентный бустинг "
   ]
  },
  {
   "cell_type": "code",
   "execution_count": 100,
   "metadata": {},
   "outputs": [],
   "source": [
    "models_gbd = []\n",
    "for est in range(50, 251, 200):\n",
    "    for l_r in list(np.logspace(7.5e-4, 1, 5)):\n",
    "        for max_depth in range(1, 6, 2):\n",
    "            gbd = GradientBoostingRegressor(n_estimators=est, max_depth=max_depth,\n",
    "                                            loss='huber', max_features='log2',\n",
    "                                            learning_rate=l_r, warm_start=True, random_state=12345)\n",
    "            models_gbd.append(gbd)"
   ]
  },
  {
   "cell_type": "code",
   "execution_count": 101,
   "metadata": {
    "scrolled": false
   },
   "outputs": [
    {
     "name": "stderr",
     "output_type": "stream",
     "text": [
      "100%|██████████████████████████████████████████████████████████████████████████████████| 30/30 [17:56<00:00, 35.88s/it]"
     ]
    },
    {
     "name": "stdout",
     "output_type": "stream",
     "text": [
      "GradientBoostingRegressor(learning_rate=1.0002302850208247, loss='huber',\n",
      "                          max_depth=1, max_features='log2', n_estimators=50,\n",
      "                          random_state=12345, warm_start=True)\n",
      "Result_SMAPE by gradBoosting 10.013449768987408\n"
     ]
    },
    {
     "name": "stderr",
     "output_type": "stream",
     "text": [
      "\n"
     ]
    }
   ],
   "source": [
    "best_model_gbd1 = None\n",
    "best_model_gbd2 = None\n",
    "best_score_gbd1 = 100\n",
    "best_score_gbd2 = 100\n",
    "\n",
    "for m in tqdm(models_gbd):\n",
    "    scores_1 = []\n",
    "    scores_2 = []\n",
    "    scores_1 = cross_val_score(m, train_f_sc, train_rougher_t, cv=5, scoring=smape_score)\n",
    "    scores_1_final = pd.Series(scores_1).mean()\n",
    "    scores_2 = cross_val_score(m, train_f_sc, train_final_t, cv=5, scoring=smape_score)\n",
    "    scores_2_final = pd.Series(scores_2).mean()\n",
    "    if scores_1_final < best_score_gbd1:\n",
    "        best_score_gbd1 = scores_1_final\n",
    "        best_model_gbd1 = m\n",
    "    if scores_2_final < best_score_gbd2:\n",
    "        best_score_gbd2 = scores_2_final\n",
    "        best_model_gbd2 = m\n",
    "\n",
    "best_final_score = best_score_sgd_1 * 0.25 + best_score_sgd_2 * 0.75\n",
    "print(best_model_gbd1)\n",
    "print(best_model_gbd2)\n",
    "print('Result_SMAPE by gradBoosting', best_final_score)"
   ]
  },
  {
   "cell_type": "markdown",
   "metadata": {},
   "source": [
    "### Стохастический градиентный спуск"
   ]
  },
  {
   "cell_type": "code",
   "execution_count": 105,
   "metadata": {},
   "outputs": [],
   "source": [
    "models_sgd = []\n",
    "for alpha in alphas:\n",
    "    for i in range(20, 220, 50): # we need change up boundary for using\n",
    "        m_r = SGDRegressor(max_iter=i, alpha=alpha, penalty='elasticnet', n_iter_no_change=30,\n",
    "                               eta0=0.001, learning_rate='optimal',\n",
    "                               tol=1e-3, l1_ratio=0, random_state=12345, warm_start=True)\n",
    "        models_sgd.append(m_r)"
   ]
  },
  {
   "cell_type": "code",
   "execution_count": 106,
   "metadata": {
    "scrolled": true
   },
   "outputs": [
    {
     "name": "stderr",
     "output_type": "stream",
     "text": [
      "100%|██████████████████████████████████████████████████████████████████████████████████| 40/40 [02:38<00:00,  3.96s/it]"
     ]
    },
    {
     "name": "stdout",
     "output_type": "stream",
     "text": [
      "SGDRegressor(alpha=1.6681005372000592, eta0=0.001, l1_ratio=0,\n",
      "             learning_rate='optimal', max_iter=170, n_iter_no_change=30,\n",
      "             penalty='elasticnet', random_state=12345, warm_start=True)\n",
      "SGDRegressor(alpha=1.6681005372000592, eta0=0.001, l1_ratio=0,\n",
      "             learning_rate='optimal', max_iter=170, n_iter_no_change=30,\n",
      "             penalty='elasticnet', random_state=12345, warm_start=True)\n",
      "Result_SMAPE by stochasticDescent: 13.381509428013057\n"
     ]
    },
    {
     "name": "stderr",
     "output_type": "stream",
     "text": [
      "\n"
     ]
    }
   ],
   "source": [
    "best_model_sgd_1 = None\n",
    "best_model_sgd_2 = None\n",
    "best_score_sgd_1 = 100\n",
    "best_score_sgd_2 = 100\n",
    "\n",
    "for m in tqdm(models_sgd):\n",
    "    scores_1 = []\n",
    "    scores_2 = []\n",
    "    scores_1 = cross_val_score(m, train_f_sc, train_rougher_t, cv=5, scoring=smape_score)\n",
    "    scores_1_final = pd.Series(scores_1).mean()\n",
    "    scores_2 = cross_val_score(m, train_f_sc, train_final_t, cv=5, scoring=smape_score)\n",
    "    scores_2_final = pd.Series(scores_2).mean()\n",
    "    if scores_1_final < best_score_sgd_1:\n",
    "        best_score_sgd_1 = scores_1_final\n",
    "        best_model_sgd_1 = m\n",
    "    if scores_2_final < best_score_sgd_2:\n",
    "        best_score_sgd_2 = scores_2_final\n",
    "        best_model_sgd_2 = m\n",
    "        \n",
    "best_final_score = best_score_sgd_1 * 0.25 + best_score_sgd_2 * 0.75\n",
    "print(best_model_sgd_1)\n",
    "print(best_model_sgd_2)\n",
    "print('Result_SMAPE by stochasticDescent:', best_final_score)\n"
   ]
  },
  {
   "cell_type": "markdown",
   "metadata": {},
   "source": [
    "Лучшая модель в нашем случае ElasticNet, и это весьма неплохо: с помощью неё можно и экстраполировать данные."
   ]
  },
  {
   "cell_type": "code",
   "execution_count": 102,
   "metadata": {},
   "outputs": [
    {
     "name": "stdout",
     "output_type": "stream",
     "text": [
      "6.551793317645016\n"
     ]
    }
   ],
   "source": [
    "best_model_elastic_1.fit(train_f_sc, train_rougher_t)\n",
    "pred_rougher_recovery_elastic = best_model_elastic_1.predict(test_f_sc)\n",
    "best_model_elastic_2.fit(train_f_sc, train_final_t)\n",
    "pred_final_recovery_elastic = best_model_elastic_2.predict(test_f_sc)\n",
    "\n",
    "res_smape_test = 0.25 * sMAPE(test_rougher_t, pred_rougher_recovery_elastic) +\\\n",
    "                0.75 * sMAPE(test_final_t, pred_final_recovery_elastic)\n",
    "print(res_smape_test)"
   ]
  },
  {
   "cell_type": "markdown",
   "metadata": {},
   "source": [
    "В целом такой результат можно посчитать удовлетворительным."
   ]
  },
  {
   "cell_type": "code",
   "execution_count": 110,
   "metadata": {},
   "outputs": [
    {
     "name": "stdout",
     "output_type": "stream",
     "text": [
      "7.779296321657126\n"
     ]
    }
   ],
   "source": [
    "dummy_regr = DummyRegressor(strategy=\"mean\")\n",
    "\n",
    "dummy_regr.fit(train_f_sc, train_rougher_t)\n",
    "pred_rougher_recovery_dummy = dummy_regr.predict(test_f)\n",
    "dummy_regr.fit(train_f_sc, train_final_t)\n",
    "pred_final_recovery_dummy = dummy_regr.predict(test_f)\n",
    "\n",
    "res_smape_test = 0.25 * sMAPE(test_rougher_t, pred_rougher_recovery_dummy) +\\\n",
    "                0.75 * sMAPE(test_final_t, pred_final_recovery_dummy)\n",
    "print(res_smape_test)"
   ]
  },
  {
   "cell_type": "markdown",
   "metadata": {},
   "source": [
    "## Вывод"
   ]
  },
  {
   "cell_type": "markdown",
   "metadata": {},
   "source": [
    "В процессе работы над проектом были подробно проанализированы файлы с обучающей и тестовой выборкой. Установлено, что в тестовой выборке отсутсвует ряд признаков - возможно они узнаются в конце проведения эксперимента (они являются откликами от факторов эксперимента), на основе этого данные признаки в обучении тоже не используются. Целевые признаки внесены в тестовую выборку из основного датасета. По формуле определения эффективности установлено MAE для обучающей выборке, которое примерно равно 18.\n",
    "\n",
    "Выяснено, что от этапа к этапу концентрация золота в материале повышается, что говорит в целомм об эффективности технологического процесса.\n",
    "\n",
    "Обучено несколько моделей, более менее стабильные результаты при кросс-валидации и тестах дает регрессионная модель (Elastic_Net) с регулиризацеий (sMAPE около 8.3). Результат на тесте ниже константного примерно на 16%, что не является выдающимся значением, однако отражает эффективность модели. Это позволит в дальнейшем делать экстрапаляцию, что выгодным образом выделяет модель для исследуемого случая.\n"
   ]
  },
  {
   "cell_type": "code",
   "execution_count": null,
   "metadata": {},
   "outputs": [],
   "source": []
  }
 ],
 "metadata": {
  "ExecuteTimeLog": [
   {
    "duration": 2320,
    "start_time": "2023-01-20T06:03:47.368Z"
   },
   {
    "duration": 3223,
    "start_time": "2023-01-20T06:03:49.690Z"
   },
   {
    "duration": 58,
    "start_time": "2023-01-20T06:03:52.916Z"
   },
   {
    "duration": 38,
    "start_time": "2023-01-20T06:03:52.976Z"
   },
   {
    "duration": 51,
    "start_time": "2023-01-20T06:03:53.017Z"
   },
   {
    "duration": 24,
    "start_time": "2023-01-20T06:03:53.069Z"
   },
   {
    "duration": 16,
    "start_time": "2023-01-20T06:03:53.095Z"
   },
   {
    "duration": 11,
    "start_time": "2023-01-20T06:03:53.113Z"
   },
   {
    "duration": 25,
    "start_time": "2023-01-20T06:03:53.127Z"
   },
   {
    "duration": 10,
    "start_time": "2023-01-20T06:03:53.154Z"
   },
   {
    "duration": 126,
    "start_time": "2023-01-20T06:03:53.192Z"
   },
   {
    "duration": 14,
    "start_time": "2023-01-20T06:04:17.068Z"
   },
   {
    "duration": 952,
    "start_time": "2023-01-20T06:04:32.759Z"
   },
   {
    "duration": 13,
    "start_time": "2023-01-20T06:05:08.108Z"
   },
   {
    "duration": 12,
    "start_time": "2023-01-20T06:05:33.848Z"
   },
   {
    "duration": 17,
    "start_time": "2023-01-20T06:06:00.076Z"
   },
   {
    "duration": 9,
    "start_time": "2023-01-20T06:06:11.879Z"
   },
   {
    "duration": 4,
    "start_time": "2023-01-20T06:10:44.403Z"
   },
   {
    "duration": 5,
    "start_time": "2023-01-20T06:30:03.372Z"
   },
   {
    "duration": 933,
    "start_time": "2023-01-20T06:30:03.382Z"
   },
   {
    "duration": 37,
    "start_time": "2023-01-20T06:30:04.318Z"
   },
   {
    "duration": 54,
    "start_time": "2023-01-20T06:30:04.357Z"
   },
   {
    "duration": 40,
    "start_time": "2023-01-20T06:30:04.413Z"
   },
   {
    "duration": 4,
    "start_time": "2023-01-20T06:30:04.456Z"
   },
   {
    "duration": 9,
    "start_time": "2023-01-20T06:30:04.462Z"
   },
   {
    "duration": 26,
    "start_time": "2023-01-20T06:30:04.473Z"
   },
   {
    "duration": 32,
    "start_time": "2023-01-20T06:30:04.503Z"
   },
   {
    "duration": 17,
    "start_time": "2023-01-20T06:30:04.536Z"
   },
   {
    "duration": 4,
    "start_time": "2023-01-20T06:30:04.554Z"
   },
   {
    "duration": 39,
    "start_time": "2023-01-20T06:30:04.559Z"
   },
   {
    "duration": 30,
    "start_time": "2023-01-20T06:30:04.600Z"
   },
   {
    "duration": 59,
    "start_time": "2023-01-20T06:30:04.632Z"
   },
   {
    "duration": 9,
    "start_time": "2023-01-20T06:30:04.698Z"
   },
   {
    "duration": 23,
    "start_time": "2023-01-20T06:30:04.709Z"
   },
   {
    "duration": 13,
    "start_time": "2023-01-20T06:30:04.734Z"
   },
   {
    "duration": 23,
    "start_time": "2023-01-20T06:30:04.749Z"
   },
   {
    "duration": 29,
    "start_time": "2023-01-20T06:30:04.774Z"
   },
   {
    "duration": 10,
    "start_time": "2023-01-20T06:30:04.807Z"
   },
   {
    "duration": 243,
    "start_time": "2023-01-20T06:30:04.818Z"
   },
   {
    "duration": 250,
    "start_time": "2023-01-20T06:30:05.062Z"
   },
   {
    "duration": 6,
    "start_time": "2023-01-20T06:30:05.314Z"
   },
   {
    "duration": 185,
    "start_time": "2023-01-20T06:30:05.322Z"
   },
   {
    "duration": 13,
    "start_time": "2023-01-20T06:30:05.509Z"
   },
   {
    "duration": 21,
    "start_time": "2023-01-20T06:30:05.524Z"
   },
   {
    "duration": 33,
    "start_time": "2023-01-20T06:30:05.547Z"
   },
   {
    "duration": 537,
    "start_time": "2023-01-20T06:30:05.582Z"
   },
   {
    "duration": 283,
    "start_time": "2023-01-20T06:30:06.121Z"
   },
   {
    "duration": 205,
    "start_time": "2023-01-20T06:30:06.408Z"
   },
   {
    "duration": 8,
    "start_time": "2023-01-20T06:30:06.615Z"
   },
   {
    "duration": 11,
    "start_time": "2023-01-20T06:30:06.625Z"
   },
   {
    "duration": 12,
    "start_time": "2023-01-20T06:30:06.638Z"
   },
   {
    "duration": 241,
    "start_time": "2023-01-20T06:30:06.652Z"
   },
   {
    "duration": 6,
    "start_time": "2023-01-20T06:30:06.902Z"
   },
   {
    "duration": 9,
    "start_time": "2023-01-20T06:30:06.910Z"
   },
   {
    "duration": 16,
    "start_time": "2023-01-20T06:30:06.921Z"
   },
   {
    "duration": 16,
    "start_time": "2023-01-20T06:30:06.938Z"
   },
   {
    "duration": 20,
    "start_time": "2023-01-20T06:30:34.618Z"
   },
   {
    "duration": 22,
    "start_time": "2023-01-20T06:43:06.519Z"
   },
   {
    "duration": 4,
    "start_time": "2023-01-20T06:43:09.161Z"
   },
   {
    "duration": 153,
    "start_time": "2023-01-20T06:43:21.811Z"
   },
   {
    "duration": 148,
    "start_time": "2023-01-20T06:43:38.279Z"
   },
   {
    "duration": 1923,
    "start_time": "2023-01-20T06:45:04.936Z"
   },
   {
    "duration": 1980,
    "start_time": "2023-01-20T07:41:40.216Z"
   },
   {
    "duration": 3883,
    "start_time": "2023-01-20T07:41:42.201Z"
   },
   {
    "duration": 54,
    "start_time": "2023-01-20T07:41:46.086Z"
   },
   {
    "duration": 46,
    "start_time": "2023-01-20T07:41:46.142Z"
   },
   {
    "duration": 64,
    "start_time": "2023-01-20T07:41:46.190Z"
   },
   {
    "duration": 4,
    "start_time": "2023-01-20T07:41:46.255Z"
   },
   {
    "duration": 7,
    "start_time": "2023-01-20T07:42:27.628Z"
   },
   {
    "duration": 25,
    "start_time": "2023-01-20T07:42:29.152Z"
   },
   {
    "duration": 24,
    "start_time": "2023-01-20T07:43:36.743Z"
   },
   {
    "duration": 14,
    "start_time": "2023-01-20T07:44:24.271Z"
   },
   {
    "duration": 7,
    "start_time": "2023-01-20T07:44:59.388Z"
   },
   {
    "duration": 61,
    "start_time": "2023-01-20T07:53:24.210Z"
   },
   {
    "duration": 153,
    "start_time": "2023-01-20T07:53:39.214Z"
   },
   {
    "duration": 11,
    "start_time": "2023-01-20T07:54:00.516Z"
   },
   {
    "duration": 6,
    "start_time": "2023-01-20T07:54:42.638Z"
   },
   {
    "duration": 34,
    "start_time": "2023-01-20T07:56:23.538Z"
   },
   {
    "duration": 22,
    "start_time": "2023-01-20T07:56:37.292Z"
   },
   {
    "duration": 6,
    "start_time": "2023-01-20T07:56:46.279Z"
   },
   {
    "duration": 5,
    "start_time": "2023-01-20T07:57:44.630Z"
   },
   {
    "duration": 4,
    "start_time": "2023-01-20T07:58:02.969Z"
   },
   {
    "duration": 5,
    "start_time": "2023-01-20T07:58:51.316Z"
   },
   {
    "duration": 8,
    "start_time": "2023-01-20T07:59:13.347Z"
   },
   {
    "duration": 5,
    "start_time": "2023-01-20T08:00:18.670Z"
   },
   {
    "duration": 6,
    "start_time": "2023-01-20T08:00:36.505Z"
   },
   {
    "duration": 9,
    "start_time": "2023-01-20T08:07:27.324Z"
   },
   {
    "duration": 22,
    "start_time": "2023-01-20T08:07:28.237Z"
   },
   {
    "duration": 58,
    "start_time": "2023-01-20T08:07:30.030Z"
   },
   {
    "duration": 3,
    "start_time": "2023-01-20T08:07:31.944Z"
   },
   {
    "duration": 35,
    "start_time": "2023-01-20T08:07:33.166Z"
   },
   {
    "duration": 22,
    "start_time": "2023-01-20T08:07:35.814Z"
   },
   {
    "duration": 38,
    "start_time": "2023-01-20T08:12:20.888Z"
   },
   {
    "duration": 10,
    "start_time": "2023-01-20T08:12:22.929Z"
   },
   {
    "duration": 11,
    "start_time": "2023-01-20T08:12:24.178Z"
   },
   {
    "duration": 442,
    "start_time": "2023-01-20T08:12:25.547Z"
   },
   {
    "duration": 197,
    "start_time": "2023-01-20T08:12:27.283Z"
   },
   {
    "duration": 12,
    "start_time": "2023-01-20T08:12:29.471Z"
   },
   {
    "duration": 230,
    "start_time": "2023-01-20T08:12:32.543Z"
   },
   {
    "duration": 18,
    "start_time": "2023-01-20T08:12:36.290Z"
   },
   {
    "duration": 14,
    "start_time": "2023-01-20T08:12:47.877Z"
   },
   {
    "duration": 25,
    "start_time": "2023-01-20T08:12:55.647Z"
   },
   {
    "duration": 610,
    "start_time": "2023-01-20T08:12:57.221Z"
   },
   {
    "duration": 461,
    "start_time": "2023-01-20T08:14:15.389Z"
   },
   {
    "duration": 204,
    "start_time": "2023-01-20T08:38:32.826Z"
   },
   {
    "duration": 122,
    "start_time": "2023-01-20T08:52:11.348Z"
   },
   {
    "duration": 5,
    "start_time": "2023-01-20T08:58:40.815Z"
   },
   {
    "duration": 75,
    "start_time": "2023-01-20T08:58:51.067Z"
   },
   {
    "duration": 20,
    "start_time": "2023-01-20T09:33:50.302Z"
   },
   {
    "duration": 9,
    "start_time": "2023-01-20T09:34:06.339Z"
   },
   {
    "duration": 39,
    "start_time": "2023-01-20T09:34:07.267Z"
   },
   {
    "duration": 238,
    "start_time": "2023-01-20T09:36:39.574Z"
   },
   {
    "duration": 20,
    "start_time": "2023-01-20T09:39:11.689Z"
   },
   {
    "duration": 1407,
    "start_time": "2023-01-20T09:39:47.170Z"
   },
   {
    "duration": 6,
    "start_time": "2023-01-20T09:40:25.609Z"
   },
   {
    "duration": 2626,
    "start_time": "2023-01-20T09:40:25.617Z"
   },
   {
    "duration": 67,
    "start_time": "2023-01-20T09:40:28.244Z"
   },
   {
    "duration": 43,
    "start_time": "2023-01-20T09:40:28.314Z"
   },
   {
    "duration": 56,
    "start_time": "2023-01-20T09:40:28.359Z"
   },
   {
    "duration": 4,
    "start_time": "2023-01-20T09:40:28.418Z"
   },
   {
    "duration": 9,
    "start_time": "2023-01-20T09:40:28.424Z"
   },
   {
    "duration": 17,
    "start_time": "2023-01-20T09:40:28.435Z"
   },
   {
    "duration": 28,
    "start_time": "2023-01-20T09:40:28.454Z"
   },
   {
    "duration": 26,
    "start_time": "2023-01-20T09:40:28.487Z"
   },
   {
    "duration": 11,
    "start_time": "2023-01-20T09:40:28.515Z"
   },
   {
    "duration": 83,
    "start_time": "2023-01-20T09:40:28.528Z"
   },
   {
    "duration": 16,
    "start_time": "2023-01-20T09:40:28.613Z"
   },
   {
    "duration": 25,
    "start_time": "2023-01-20T09:40:28.631Z"
   },
   {
    "duration": 86,
    "start_time": "2023-01-20T09:40:28.657Z"
   },
   {
    "duration": 5,
    "start_time": "2023-01-20T09:40:28.746Z"
   },
   {
    "duration": 60,
    "start_time": "2023-01-20T09:40:28.757Z"
   },
   {
    "duration": 13,
    "start_time": "2023-01-20T09:40:28.819Z"
   },
   {
    "duration": 51,
    "start_time": "2023-01-20T09:40:28.834Z"
   },
   {
    "duration": 19,
    "start_time": "2023-01-20T09:40:28.888Z"
   },
   {
    "duration": 10,
    "start_time": "2023-01-20T09:40:28.910Z"
   },
   {
    "duration": 211,
    "start_time": "2023-01-20T09:40:28.922Z"
   },
   {
    "duration": 233,
    "start_time": "2023-01-20T09:40:29.135Z"
   },
   {
    "duration": 9,
    "start_time": "2023-01-20T09:40:29.371Z"
   },
   {
    "duration": 273,
    "start_time": "2023-01-20T09:40:29.382Z"
   },
   {
    "duration": 26,
    "start_time": "2023-01-20T09:40:29.657Z"
   },
   {
    "duration": 34,
    "start_time": "2023-01-20T09:40:29.686Z"
   },
   {
    "duration": 17,
    "start_time": "2023-01-20T09:40:29.723Z"
   },
   {
    "duration": 599,
    "start_time": "2023-01-20T09:40:29.742Z"
   },
   {
    "duration": 459,
    "start_time": "2023-01-20T09:40:30.344Z"
   },
   {
    "duration": 227,
    "start_time": "2023-01-20T09:40:30.806Z"
   },
   {
    "duration": 8,
    "start_time": "2023-01-20T09:40:31.035Z"
   },
   {
    "duration": 53,
    "start_time": "2023-01-20T09:40:31.055Z"
   },
   {
    "duration": 118,
    "start_time": "2023-01-20T09:40:31.110Z"
   },
   {
    "duration": 16,
    "start_time": "2023-01-20T09:40:34.450Z"
   },
   {
    "duration": 23,
    "start_time": "2023-01-20T09:40:35.603Z"
   },
   {
    "duration": 451,
    "start_time": "2023-01-20T09:40:41.566Z"
   },
   {
    "duration": 257,
    "start_time": "2023-01-20T09:40:45.604Z"
   },
   {
    "duration": 354,
    "start_time": "2023-01-20T09:41:20.801Z"
   },
   {
    "duration": 15,
    "start_time": "2023-01-20T09:42:00.530Z"
   },
   {
    "duration": 38,
    "start_time": "2023-01-20T09:42:22.548Z"
   },
   {
    "duration": 21,
    "start_time": "2023-01-20T09:42:23.338Z"
   },
   {
    "duration": 427,
    "start_time": "2023-01-20T09:42:33.829Z"
   },
   {
    "duration": 205,
    "start_time": "2023-01-20T09:44:01.893Z"
   },
   {
    "duration": 347,
    "start_time": "2023-01-20T09:45:42.893Z"
   },
   {
    "duration": 640,
    "start_time": "2023-01-20T09:45:58.320Z"
   },
   {
    "duration": 40,
    "start_time": "2023-01-20T09:48:53.790Z"
   },
   {
    "duration": 1350,
    "start_time": "2023-01-20T09:50:11.486Z"
   },
   {
    "duration": 92,
    "start_time": "2023-01-20T09:54:07.913Z"
   },
   {
    "duration": 2123,
    "start_time": "2023-01-20T09:54:13.199Z"
   },
   {
    "duration": 425,
    "start_time": "2023-01-20T09:54:50.437Z"
   },
   {
    "duration": 13,
    "start_time": "2023-01-20T10:01:02.011Z"
   },
   {
    "duration": 2048,
    "start_time": "2023-01-20T10:01:09.180Z"
   },
   {
    "duration": 1932,
    "start_time": "2023-01-20T10:01:45.105Z"
   },
   {
    "duration": 27,
    "start_time": "2023-01-20T10:06:26.928Z"
   },
   {
    "duration": 888,
    "start_time": "2023-01-20T10:06:35.553Z"
   },
   {
    "duration": 95,
    "start_time": "2023-01-20T10:08:43.792Z"
   },
   {
    "duration": 1980,
    "start_time": "2023-01-20T10:08:50.283Z"
   },
   {
    "duration": 12,
    "start_time": "2023-01-20T10:32:59.888Z"
   },
   {
    "duration": 5,
    "start_time": "2023-01-20T10:33:22.278Z"
   },
   {
    "duration": 5,
    "start_time": "2023-01-20T10:33:23.221Z"
   },
   {
    "duration": 20,
    "start_time": "2023-01-20T10:33:24.749Z"
   },
   {
    "duration": 29,
    "start_time": "2023-01-20T10:33:32.705Z"
   },
   {
    "duration": 8,
    "start_time": "2023-01-20T10:43:13.168Z"
   },
   {
    "duration": 14,
    "start_time": "2023-01-20T10:43:14.375Z"
   },
   {
    "duration": 3,
    "start_time": "2023-01-20T10:43:40.915Z"
   },
   {
    "duration": 3,
    "start_time": "2023-01-20T10:43:42.675Z"
   },
   {
    "duration": 5,
    "start_time": "2023-01-20T10:43:51.240Z"
   },
   {
    "duration": 8,
    "start_time": "2023-01-20T10:43:52.215Z"
   },
   {
    "duration": 46,
    "start_time": "2023-01-20T10:56:06.875Z"
   },
   {
    "duration": 6918,
    "start_time": "2023-01-20T10:59:51.385Z"
   },
   {
    "duration": 1581,
    "start_time": "2023-01-20T11:01:41.855Z"
   },
   {
    "duration": 1870,
    "start_time": "2023-01-20T12:27:32.755Z"
   },
   {
    "duration": 2247,
    "start_time": "2023-01-20T12:27:34.627Z"
   },
   {
    "duration": 41,
    "start_time": "2023-01-20T12:27:36.876Z"
   },
   {
    "duration": 59,
    "start_time": "2023-01-20T12:27:36.920Z"
   },
   {
    "duration": 37,
    "start_time": "2023-01-20T12:27:36.981Z"
   },
   {
    "duration": 26,
    "start_time": "2023-01-20T12:27:37.020Z"
   },
   {
    "duration": 28,
    "start_time": "2023-01-20T12:27:37.050Z"
   },
   {
    "duration": 17,
    "start_time": "2023-01-20T12:27:37.080Z"
   },
   {
    "duration": 37,
    "start_time": "2023-01-20T12:27:37.099Z"
   },
   {
    "duration": 8,
    "start_time": "2023-01-20T12:27:37.140Z"
   },
   {
    "duration": 20,
    "start_time": "2023-01-20T12:27:37.150Z"
   },
   {
    "duration": 14,
    "start_time": "2023-01-20T12:27:37.172Z"
   },
   {
    "duration": 14,
    "start_time": "2023-01-20T12:27:37.188Z"
   },
   {
    "duration": 19,
    "start_time": "2023-01-20T12:27:37.203Z"
   },
   {
    "duration": 53,
    "start_time": "2023-01-20T12:27:37.224Z"
   },
   {
    "duration": 3,
    "start_time": "2023-01-20T12:27:37.278Z"
   },
   {
    "duration": 35,
    "start_time": "2023-01-20T12:27:37.283Z"
   },
   {
    "duration": 29,
    "start_time": "2023-01-20T12:27:37.321Z"
   },
   {
    "duration": 36,
    "start_time": "2023-01-20T12:27:37.354Z"
   },
   {
    "duration": 30,
    "start_time": "2023-01-20T12:27:37.392Z"
   },
   {
    "duration": 18,
    "start_time": "2023-01-20T12:27:37.424Z"
   },
   {
    "duration": 254,
    "start_time": "2023-01-20T12:27:37.444Z"
   },
   {
    "duration": 168,
    "start_time": "2023-01-20T12:27:37.700Z"
   },
   {
    "duration": 8,
    "start_time": "2023-01-20T12:27:37.870Z"
   },
   {
    "duration": 193,
    "start_time": "2023-01-20T12:27:37.880Z"
   },
   {
    "duration": 15,
    "start_time": "2023-01-20T12:27:38.074Z"
   },
   {
    "duration": 29,
    "start_time": "2023-01-20T12:27:38.091Z"
   },
   {
    "duration": 89,
    "start_time": "2023-01-20T12:28:11.528Z"
   },
   {
    "duration": 7,
    "start_time": "2023-01-20T12:28:21.503Z"
   },
   {
    "duration": 68,
    "start_time": "2023-01-20T12:32:18.947Z"
   },
   {
    "duration": 86,
    "start_time": "2023-01-20T12:32:50.911Z"
   },
   {
    "duration": 74,
    "start_time": "2023-01-20T12:33:11.322Z"
   },
   {
    "duration": 3,
    "start_time": "2023-01-20T12:34:32.471Z"
   },
   {
    "duration": 10,
    "start_time": "2023-01-20T12:34:54.107Z"
   },
   {
    "duration": 24,
    "start_time": "2023-01-20T12:35:07.181Z"
   },
   {
    "duration": 128,
    "start_time": "2023-01-20T12:35:37.570Z"
   },
   {
    "duration": 70,
    "start_time": "2023-01-20T12:37:04.418Z"
   },
   {
    "duration": 147,
    "start_time": "2023-01-20T12:37:34.503Z"
   },
   {
    "duration": 109,
    "start_time": "2023-01-20T12:38:48.299Z"
   },
   {
    "duration": 212,
    "start_time": "2023-01-20T12:39:07.299Z"
   },
   {
    "duration": 256,
    "start_time": "2023-01-20T12:39:18.309Z"
   },
   {
    "duration": 164,
    "start_time": "2023-01-20T12:39:48.884Z"
   },
   {
    "duration": 178,
    "start_time": "2023-01-20T12:41:34.484Z"
   },
   {
    "duration": 70,
    "start_time": "2023-01-20T12:43:01.891Z"
   },
   {
    "duration": 50,
    "start_time": "2023-01-20T12:43:07.831Z"
   },
   {
    "duration": 48,
    "start_time": "2023-01-20T12:44:27.683Z"
   },
   {
    "duration": 26,
    "start_time": "2023-01-20T12:47:35.356Z"
   },
   {
    "duration": 7,
    "start_time": "2023-01-20T12:48:29.377Z"
   },
   {
    "duration": 10,
    "start_time": "2023-01-20T12:48:58.990Z"
   },
   {
    "duration": 33,
    "start_time": "2023-01-20T12:49:12.397Z"
   },
   {
    "duration": 34,
    "start_time": "2023-01-20T12:50:08.875Z"
   },
   {
    "duration": 62,
    "start_time": "2023-01-20T12:51:40.151Z"
   },
   {
    "duration": 14,
    "start_time": "2023-01-20T12:54:13.180Z"
   },
   {
    "duration": 27,
    "start_time": "2023-01-20T12:54:16.494Z"
   },
   {
    "duration": 4,
    "start_time": "2023-01-20T12:54:21.920Z"
   },
   {
    "duration": 3,
    "start_time": "2023-01-20T12:54:23.453Z"
   },
   {
    "duration": 3,
    "start_time": "2023-01-20T12:54:24.481Z"
   },
   {
    "duration": 3,
    "start_time": "2023-01-20T12:54:31.605Z"
   },
   {
    "duration": 136995,
    "start_time": "2023-01-20T12:54:40.578Z"
   },
   {
    "duration": 4624,
    "start_time": "2023-01-20T12:57:39.015Z"
   },
   {
    "duration": 4,
    "start_time": "2023-01-20T12:57:53.653Z"
   },
   {
    "duration": 3,
    "start_time": "2023-01-20T12:57:55.191Z"
   },
   {
    "duration": 231184,
    "start_time": "2023-01-20T12:58:01.201Z"
   },
   {
    "duration": 215617,
    "start_time": "2023-01-20T13:05:24.912Z"
   },
   {
    "duration": 4,
    "start_time": "2023-01-20T13:09:38.335Z"
   },
   {
    "duration": 4,
    "start_time": "2023-01-20T13:09:39.788Z"
   },
   {
    "duration": 82265,
    "start_time": "2023-01-20T13:09:43.913Z"
   },
   {
    "duration": 3,
    "start_time": "2023-01-20T13:11:24.165Z"
   },
   {
    "duration": 179594,
    "start_time": "2023-01-20T13:11:25.755Z"
   },
   {
    "duration": 1595,
    "start_time": "2023-01-20T13:14:54.536Z"
   },
   {
    "duration": 933,
    "start_time": "2023-01-20T13:14:56.133Z"
   },
   {
    "duration": 65,
    "start_time": "2023-01-20T13:14:57.069Z"
   },
   {
    "duration": 51,
    "start_time": "2023-01-20T13:14:57.137Z"
   },
   {
    "duration": 61,
    "start_time": "2023-01-20T13:14:57.191Z"
   },
   {
    "duration": 10,
    "start_time": "2023-01-20T13:14:57.254Z"
   },
   {
    "duration": 20,
    "start_time": "2023-01-20T13:14:57.269Z"
   },
   {
    "duration": 12,
    "start_time": "2023-01-20T13:14:57.291Z"
   },
   {
    "duration": 47,
    "start_time": "2023-01-20T13:14:57.305Z"
   },
   {
    "duration": 8,
    "start_time": "2023-01-20T13:14:57.355Z"
   },
   {
    "duration": 18,
    "start_time": "2023-01-20T13:14:57.368Z"
   },
   {
    "duration": 14,
    "start_time": "2023-01-20T13:14:57.388Z"
   },
   {
    "duration": 27,
    "start_time": "2023-01-20T13:14:57.404Z"
   },
   {
    "duration": 43,
    "start_time": "2023-01-20T13:14:57.432Z"
   },
   {
    "duration": 39,
    "start_time": "2023-01-20T13:14:57.477Z"
   },
   {
    "duration": 3,
    "start_time": "2023-01-20T13:14:57.518Z"
   },
   {
    "duration": 37,
    "start_time": "2023-01-20T13:14:57.523Z"
   },
   {
    "duration": 18,
    "start_time": "2023-01-20T13:14:57.562Z"
   },
   {
    "duration": 31,
    "start_time": "2023-01-20T13:14:57.581Z"
   },
   {
    "duration": 31,
    "start_time": "2023-01-20T13:14:57.614Z"
   },
   {
    "duration": 12,
    "start_time": "2023-01-20T13:14:57.649Z"
   },
   {
    "duration": 269,
    "start_time": "2023-01-20T13:14:57.664Z"
   },
   {
    "duration": 172,
    "start_time": "2023-01-20T13:14:57.941Z"
   },
   {
    "duration": 9,
    "start_time": "2023-01-20T13:14:58.115Z"
   },
   {
    "duration": 214,
    "start_time": "2023-01-20T13:14:58.126Z"
   },
   {
    "duration": 22,
    "start_time": "2023-01-20T13:14:58.341Z"
   },
   {
    "duration": 27,
    "start_time": "2023-01-20T13:14:58.365Z"
   },
   {
    "duration": 15,
    "start_time": "2023-01-20T13:14:58.395Z"
   },
   {
    "duration": 71,
    "start_time": "2023-01-20T13:14:58.412Z"
   },
   {
    "duration": 8,
    "start_time": "2023-01-20T13:14:58.485Z"
   },
   {
    "duration": 55,
    "start_time": "2023-01-20T13:14:58.494Z"
   },
   {
    "duration": 4,
    "start_time": "2023-01-20T13:14:58.552Z"
   },
   {
    "duration": 120,
    "start_time": "2023-01-20T13:14:58.558Z"
   },
   {
    "duration": 609,
    "start_time": "2023-01-20T13:14:58.680Z"
   },
   {
    "duration": 538,
    "start_time": "2023-01-20T13:14:59.291Z"
   },
   {
    "duration": 228,
    "start_time": "2023-01-20T13:14:59.832Z"
   },
   {
    "duration": 9,
    "start_time": "2023-01-20T13:15:00.062Z"
   },
   {
    "duration": 23,
    "start_time": "2023-01-20T13:15:00.073Z"
   },
   {
    "duration": 87,
    "start_time": "2023-01-20T13:15:00.098Z"
   },
   {
    "duration": 11,
    "start_time": "2023-01-20T13:15:00.188Z"
   },
   {
    "duration": 30,
    "start_time": "2023-01-20T13:15:00.200Z"
   },
   {
    "duration": 1175,
    "start_time": "2023-01-20T13:15:00.232Z"
   },
   {
    "duration": 3,
    "start_time": "2023-01-20T13:15:01.409Z"
   },
   {
    "duration": 77,
    "start_time": "2023-01-20T13:15:01.414Z"
   },
   {
    "duration": 67,
    "start_time": "2023-01-20T13:15:01.493Z"
   },
   {
    "duration": 107,
    "start_time": "2023-01-20T13:15:01.562Z"
   },
   {
    "duration": 3,
    "start_time": "2023-01-20T13:15:12.697Z"
   },
   {
    "duration": 3,
    "start_time": "2023-01-20T13:15:18.417Z"
   },
   {
    "duration": 4,
    "start_time": "2023-01-20T13:15:19.271Z"
   },
   {
    "duration": 4808,
    "start_time": "2023-01-20T13:15:29.152Z"
   },
   {
    "duration": 5,
    "start_time": "2023-01-20T13:15:41.227Z"
   },
   {
    "duration": 8,
    "start_time": "2023-01-20T13:15:42.138Z"
   },
   {
    "duration": 94962,
    "start_time": "2023-01-20T13:15:44.132Z"
   },
   {
    "duration": 1515,
    "start_time": "2023-01-22T09:15:52.996Z"
   },
   {
    "duration": 3309,
    "start_time": "2023-01-22T09:15:54.513Z"
   },
   {
    "duration": 40,
    "start_time": "2023-01-22T09:15:57.823Z"
   },
   {
    "duration": 32,
    "start_time": "2023-01-22T09:15:57.865Z"
   },
   {
    "duration": 30,
    "start_time": "2023-01-22T09:15:57.899Z"
   },
   {
    "duration": 3,
    "start_time": "2023-01-22T09:15:57.931Z"
   },
   {
    "duration": 31,
    "start_time": "2023-01-22T09:15:57.936Z"
   },
   {
    "duration": 4,
    "start_time": "2023-01-22T09:15:57.969Z"
   },
   {
    "duration": 23,
    "start_time": "2023-01-22T09:15:57.975Z"
   },
   {
    "duration": 4,
    "start_time": "2023-01-22T09:15:58.000Z"
   },
   {
    "duration": 7,
    "start_time": "2023-01-22T09:15:58.005Z"
   },
   {
    "duration": 12,
    "start_time": "2023-01-22T09:15:58.013Z"
   },
   {
    "duration": 9,
    "start_time": "2023-01-22T09:15:58.027Z"
   },
   {
    "duration": 41,
    "start_time": "2023-01-22T09:15:58.037Z"
   },
   {
    "duration": 37,
    "start_time": "2023-01-22T09:15:58.079Z"
   },
   {
    "duration": 2,
    "start_time": "2023-01-22T09:15:58.118Z"
   },
   {
    "duration": 51,
    "start_time": "2023-01-22T09:15:58.121Z"
   },
   {
    "duration": 14,
    "start_time": "2023-01-22T09:15:58.174Z"
   },
   {
    "duration": 26,
    "start_time": "2023-01-22T09:15:58.190Z"
   },
   {
    "duration": 10,
    "start_time": "2023-01-22T09:15:58.217Z"
   },
   {
    "duration": 40,
    "start_time": "2023-01-22T09:15:58.229Z"
   },
   {
    "duration": 236,
    "start_time": "2023-01-22T09:15:58.271Z"
   },
   {
    "duration": 148,
    "start_time": "2023-01-22T09:15:58.508Z"
   },
   {
    "duration": 11,
    "start_time": "2023-01-22T09:15:58.657Z"
   },
   {
    "duration": 159,
    "start_time": "2023-01-22T09:15:58.669Z"
   },
   {
    "duration": 14,
    "start_time": "2023-01-22T09:15:58.830Z"
   },
   {
    "duration": 26,
    "start_time": "2023-01-22T09:15:58.845Z"
   },
   {
    "duration": 5,
    "start_time": "2023-01-22T09:15:58.874Z"
   },
   {
    "duration": 107,
    "start_time": "2023-01-22T09:19:46.369Z"
   },
   {
    "duration": 7,
    "start_time": "2023-01-22T09:20:36.572Z"
   },
   {
    "duration": 24,
    "start_time": "2023-01-22T09:20:45.278Z"
   },
   {
    "duration": 4,
    "start_time": "2023-01-22T09:22:30.688Z"
   },
   {
    "duration": 22,
    "start_time": "2023-01-22T09:22:42.136Z"
   },
   {
    "duration": 400,
    "start_time": "2023-01-22T09:34:00.306Z"
   },
   {
    "duration": 154,
    "start_time": "2023-01-22T09:34:01.946Z"
   },
   {
    "duration": 9,
    "start_time": "2023-01-22T09:34:17.266Z"
   },
   {
    "duration": 9,
    "start_time": "2023-01-22T09:34:18.074Z"
   },
   {
    "duration": 117,
    "start_time": "2023-01-22T09:39:43.046Z"
   },
   {
    "duration": 477,
    "start_time": "2023-01-22T09:39:54.506Z"
   },
   {
    "duration": 13,
    "start_time": "2023-01-22T09:40:08.284Z"
   },
   {
    "duration": 4,
    "start_time": "2023-01-22T09:47:47.688Z"
   },
   {
    "duration": 1650,
    "start_time": "2023-01-22T10:11:15.965Z"
   },
   {
    "duration": 1958,
    "start_time": "2023-01-22T10:11:17.617Z"
   },
   {
    "duration": 43,
    "start_time": "2023-01-22T10:11:19.577Z"
   },
   {
    "duration": 33,
    "start_time": "2023-01-22T10:11:19.622Z"
   },
   {
    "duration": 29,
    "start_time": "2023-01-22T10:11:19.656Z"
   },
   {
    "duration": 4,
    "start_time": "2023-01-22T10:11:19.687Z"
   },
   {
    "duration": 34,
    "start_time": "2023-01-22T10:11:19.693Z"
   },
   {
    "duration": 6,
    "start_time": "2023-01-22T10:11:19.728Z"
   },
   {
    "duration": 22,
    "start_time": "2023-01-22T10:11:19.736Z"
   },
   {
    "duration": 4,
    "start_time": "2023-01-22T10:11:19.761Z"
   },
   {
    "duration": 13,
    "start_time": "2023-01-22T10:11:19.767Z"
   },
   {
    "duration": 10,
    "start_time": "2023-01-22T10:11:19.782Z"
   },
   {
    "duration": 18,
    "start_time": "2023-01-22T10:11:19.794Z"
   },
   {
    "duration": 30,
    "start_time": "2023-01-22T10:11:19.813Z"
   },
   {
    "duration": 43,
    "start_time": "2023-01-22T10:11:19.845Z"
   },
   {
    "duration": 3,
    "start_time": "2023-01-22T10:11:19.889Z"
   },
   {
    "duration": 34,
    "start_time": "2023-01-22T10:11:19.894Z"
   },
   {
    "duration": 13,
    "start_time": "2023-01-22T10:11:19.930Z"
   },
   {
    "duration": 26,
    "start_time": "2023-01-22T10:11:19.945Z"
   },
   {
    "duration": 9,
    "start_time": "2023-01-22T10:11:19.973Z"
   },
   {
    "duration": 24,
    "start_time": "2023-01-22T10:11:19.983Z"
   },
   {
    "duration": 259,
    "start_time": "2023-01-22T10:11:20.028Z"
   },
   {
    "duration": 173,
    "start_time": "2023-01-22T10:11:20.290Z"
   },
   {
    "duration": 8,
    "start_time": "2023-01-22T10:11:20.466Z"
   },
   {
    "duration": 189,
    "start_time": "2023-01-22T10:11:20.476Z"
   },
   {
    "duration": 15,
    "start_time": "2023-01-22T10:11:20.667Z"
   },
   {
    "duration": 10,
    "start_time": "2023-01-22T10:11:20.684Z"
   },
   {
    "duration": 6,
    "start_time": "2023-01-22T10:11:20.697Z"
   },
   {
    "duration": 134,
    "start_time": "2023-01-22T10:11:20.705Z"
   },
   {
    "duration": 8,
    "start_time": "2023-01-22T10:11:20.840Z"
   },
   {
    "duration": 32,
    "start_time": "2023-01-22T10:11:20.849Z"
   },
   {
    "duration": 4,
    "start_time": "2023-01-22T10:11:20.883Z"
   },
   {
    "duration": 40,
    "start_time": "2023-01-22T10:11:20.888Z"
   },
   {
    "duration": 469,
    "start_time": "2023-01-22T10:11:20.930Z"
   },
   {
    "duration": 383,
    "start_time": "2023-01-22T10:11:21.401Z"
   },
   {
    "duration": 167,
    "start_time": "2023-01-22T10:11:21.786Z"
   },
   {
    "duration": 9,
    "start_time": "2023-01-22T10:11:21.955Z"
   },
   {
    "duration": 11,
    "start_time": "2023-01-22T10:11:21.966Z"
   },
   {
    "duration": 101,
    "start_time": "2023-01-22T10:11:21.978Z"
   },
   {
    "duration": 10,
    "start_time": "2023-01-22T10:11:22.081Z"
   },
   {
    "duration": 10,
    "start_time": "2023-01-22T10:21:02.625Z"
   },
   {
    "duration": 11,
    "start_time": "2023-01-22T10:33:16.936Z"
   },
   {
    "duration": 807,
    "start_time": "2023-01-22T10:34:40.934Z"
   },
   {
    "duration": 949,
    "start_time": "2023-01-22T10:35:35.334Z"
   },
   {
    "duration": 763,
    "start_time": "2023-01-22T10:49:13.594Z"
   },
   {
    "duration": 1132,
    "start_time": "2023-01-22T10:49:44.255Z"
   },
   {
    "duration": 7,
    "start_time": "2023-01-22T11:17:52.810Z"
   },
   {
    "duration": 8,
    "start_time": "2023-01-22T11:18:56.913Z"
   },
   {
    "duration": 13,
    "start_time": "2023-01-22T11:19:12.794Z"
   },
   {
    "duration": 1227,
    "start_time": "2023-01-22T11:19:42.976Z"
   },
   {
    "duration": 42,
    "start_time": "2023-01-22T11:21:05.793Z"
   },
   {
    "duration": 17,
    "start_time": "2023-01-22T11:21:22.844Z"
   },
   {
    "duration": 9,
    "start_time": "2023-01-22T11:48:35.092Z"
   },
   {
    "duration": 894,
    "start_time": "2023-01-22T11:48:52.180Z"
   },
   {
    "duration": 903,
    "start_time": "2023-01-22T11:54:15.660Z"
   },
   {
    "duration": 1221,
    "start_time": "2023-01-22T11:54:59.122Z"
   },
   {
    "duration": 13,
    "start_time": "2023-01-22T12:03:55.058Z"
   },
   {
    "duration": 18,
    "start_time": "2023-01-22T12:07:14.010Z"
   },
   {
    "duration": 19,
    "start_time": "2023-01-22T12:09:42.899Z"
   },
   {
    "duration": 8,
    "start_time": "2023-01-22T12:29:03.123Z"
   },
   {
    "duration": 1153,
    "start_time": "2023-01-22T12:39:09.974Z"
   },
   {
    "duration": 15,
    "start_time": "2023-01-22T12:39:39.326Z"
   },
   {
    "duration": 7,
    "start_time": "2023-01-22T12:40:13.488Z"
   },
   {
    "duration": 34,
    "start_time": "2023-01-22T12:40:30.400Z"
   },
   {
    "duration": 6,
    "start_time": "2023-01-22T12:42:06.667Z"
   },
   {
    "duration": 40,
    "start_time": "2023-01-22T12:42:09.278Z"
   },
   {
    "duration": 9,
    "start_time": "2023-01-22T12:42:12.321Z"
   },
   {
    "duration": 22,
    "start_time": "2023-01-22T12:42:13.970Z"
   },
   {
    "duration": 4,
    "start_time": "2023-01-22T12:42:26.839Z"
   },
   {
    "duration": 11,
    "start_time": "2023-01-22T12:43:30.127Z"
   },
   {
    "duration": 1156,
    "start_time": "2023-01-22T12:43:31.572Z"
   },
   {
    "duration": 26,
    "start_time": "2023-01-22T12:44:01.266Z"
   },
   {
    "duration": 7,
    "start_time": "2023-01-22T12:44:23.043Z"
   },
   {
    "duration": 13,
    "start_time": "2023-01-22T12:44:24.001Z"
   },
   {
    "duration": 17,
    "start_time": "2023-01-22T12:45:20.241Z"
   },
   {
    "duration": 11,
    "start_time": "2023-01-22T13:01:53.007Z"
   },
   {
    "duration": 10,
    "start_time": "2023-01-22T13:02:15.933Z"
   },
   {
    "duration": 10,
    "start_time": "2023-01-22T13:02:45.335Z"
   },
   {
    "duration": 9,
    "start_time": "2023-01-22T13:03:42.195Z"
   },
   {
    "duration": 10,
    "start_time": "2023-01-22T13:04:01.394Z"
   },
   {
    "duration": 6,
    "start_time": "2023-01-22T13:05:00.778Z"
   },
   {
    "duration": 36,
    "start_time": "2023-01-22T13:05:04.096Z"
   },
   {
    "duration": 7,
    "start_time": "2023-01-22T13:05:25.976Z"
   },
   {
    "duration": 9,
    "start_time": "2023-01-22T13:05:45.523Z"
   },
   {
    "duration": 936,
    "start_time": "2023-01-22T13:05:45.995Z"
   },
   {
    "duration": 7,
    "start_time": "2023-01-22T13:05:54.003Z"
   },
   {
    "duration": 16,
    "start_time": "2023-01-22T13:05:54.846Z"
   },
   {
    "duration": 15,
    "start_time": "2023-01-22T13:06:10.247Z"
   },
   {
    "duration": 4,
    "start_time": "2023-01-22T13:06:40.415Z"
   },
   {
    "duration": 35,
    "start_time": "2023-01-22T13:06:41.243Z"
   },
   {
    "duration": 9,
    "start_time": "2023-01-22T13:06:55.736Z"
   },
   {
    "duration": 962,
    "start_time": "2023-01-22T13:06:56.178Z"
   },
   {
    "duration": 7,
    "start_time": "2023-01-22T13:07:03.688Z"
   },
   {
    "duration": 16,
    "start_time": "2023-01-22T13:07:04.243Z"
   },
   {
    "duration": 14,
    "start_time": "2023-01-22T13:07:05.805Z"
   },
   {
    "duration": 4,
    "start_time": "2023-01-22T13:07:44.314Z"
   },
   {
    "duration": 34,
    "start_time": "2023-01-22T13:07:44.727Z"
   },
   {
    "duration": 10,
    "start_time": "2023-01-22T13:07:57.417Z"
   },
   {
    "duration": 935,
    "start_time": "2023-01-22T13:07:57.840Z"
   },
   {
    "duration": 7,
    "start_time": "2023-01-22T13:07:59.207Z"
   },
   {
    "duration": 31,
    "start_time": "2023-01-22T13:08:00.773Z"
   },
   {
    "duration": 13,
    "start_time": "2023-01-22T13:08:27.915Z"
   },
   {
    "duration": 11,
    "start_time": "2023-01-22T13:08:32.282Z"
   },
   {
    "duration": 23,
    "start_time": "2023-01-22T13:08:40.075Z"
   },
   {
    "duration": 12,
    "start_time": "2023-01-22T13:08:42.096Z"
   },
   {
    "duration": 4,
    "start_time": "2023-01-22T13:09:54.075Z"
   },
   {
    "duration": 333,
    "start_time": "2023-01-22T13:09:54.487Z"
   },
   {
    "duration": 8,
    "start_time": "2023-01-22T13:10:10.207Z"
   },
   {
    "duration": 30,
    "start_time": "2023-01-22T13:10:10.776Z"
   },
   {
    "duration": 48,
    "start_time": "2023-01-22T13:10:11.968Z"
   },
   {
    "duration": 28,
    "start_time": "2023-01-22T13:10:13.247Z"
   },
   {
    "duration": 15,
    "start_time": "2023-01-22T13:10:47.286Z"
   },
   {
    "duration": 5,
    "start_time": "2023-01-22T13:14:06.796Z"
   },
   {
    "duration": 36,
    "start_time": "2023-01-22T13:14:07.567Z"
   },
   {
    "duration": 10,
    "start_time": "2023-01-22T13:15:07.575Z"
   },
   {
    "duration": 907,
    "start_time": "2023-01-22T13:15:08.526Z"
   },
   {
    "duration": 7,
    "start_time": "2023-01-22T13:15:13.175Z"
   },
   {
    "duration": 4648,
    "start_time": "2023-01-22T13:15:15.135Z"
   },
   {
    "duration": 29,
    "start_time": "2023-01-22T13:15:19.843Z"
   },
   {
    "duration": 7,
    "start_time": "2023-01-22T13:31:19.492Z"
   },
   {
    "duration": 802,
    "start_time": "2023-01-22T13:31:19.501Z"
   },
   {
    "duration": 49,
    "start_time": "2023-01-22T13:31:20.305Z"
   },
   {
    "duration": 45,
    "start_time": "2023-01-22T13:31:20.356Z"
   },
   {
    "duration": 67,
    "start_time": "2023-01-22T13:31:20.405Z"
   },
   {
    "duration": 4,
    "start_time": "2023-01-22T13:31:20.475Z"
   },
   {
    "duration": 26,
    "start_time": "2023-01-22T13:31:20.482Z"
   },
   {
    "duration": 27,
    "start_time": "2023-01-22T13:31:20.511Z"
   },
   {
    "duration": 47,
    "start_time": "2023-01-22T13:31:20.540Z"
   },
   {
    "duration": 4,
    "start_time": "2023-01-22T13:31:20.589Z"
   },
   {
    "duration": 18,
    "start_time": "2023-01-22T13:31:20.595Z"
   },
   {
    "duration": 18,
    "start_time": "2023-01-22T13:31:20.615Z"
   },
   {
    "duration": 26,
    "start_time": "2023-01-22T13:31:20.635Z"
   },
   {
    "duration": 40,
    "start_time": "2023-01-22T13:31:20.666Z"
   },
   {
    "duration": 37,
    "start_time": "2023-01-22T13:31:20.708Z"
   },
   {
    "duration": 3,
    "start_time": "2023-01-22T13:31:20.747Z"
   },
   {
    "duration": 25,
    "start_time": "2023-01-22T13:31:20.752Z"
   },
   {
    "duration": 15,
    "start_time": "2023-01-22T13:31:20.779Z"
   },
   {
    "duration": 50,
    "start_time": "2023-01-22T13:31:20.796Z"
   },
   {
    "duration": 11,
    "start_time": "2023-01-22T13:31:20.848Z"
   },
   {
    "duration": 8,
    "start_time": "2023-01-22T13:31:20.861Z"
   },
   {
    "duration": 173,
    "start_time": "2023-01-22T13:31:20.870Z"
   },
   {
    "duration": 158,
    "start_time": "2023-01-22T13:31:21.044Z"
   },
   {
    "duration": 8,
    "start_time": "2023-01-22T13:31:21.203Z"
   },
   {
    "duration": 172,
    "start_time": "2023-01-22T13:31:21.213Z"
   },
   {
    "duration": 14,
    "start_time": "2023-01-22T13:31:21.387Z"
   },
   {
    "duration": 8,
    "start_time": "2023-01-22T13:31:21.402Z"
   },
   {
    "duration": 6,
    "start_time": "2023-01-22T13:31:21.427Z"
   },
   {
    "duration": 35,
    "start_time": "2023-01-22T13:31:21.436Z"
   },
   {
    "duration": 9,
    "start_time": "2023-01-22T13:31:21.473Z"
   },
   {
    "duration": 62,
    "start_time": "2023-01-22T13:31:21.484Z"
   },
   {
    "duration": 4,
    "start_time": "2023-01-22T13:31:21.548Z"
   },
   {
    "duration": 23,
    "start_time": "2023-01-22T13:31:21.554Z"
   },
   {
    "duration": 509,
    "start_time": "2023-01-22T13:31:21.579Z"
   },
   {
    "duration": 412,
    "start_time": "2023-01-22T13:31:22.090Z"
   },
   {
    "duration": 207,
    "start_time": "2023-01-22T13:31:22.504Z"
   },
   {
    "duration": 18,
    "start_time": "2023-01-22T13:31:22.713Z"
   },
   {
    "duration": 8,
    "start_time": "2023-01-22T13:31:22.732Z"
   },
   {
    "duration": 53,
    "start_time": "2023-01-22T13:31:22.742Z"
   },
   {
    "duration": 38,
    "start_time": "2023-01-22T13:31:22.797Z"
   },
   {
    "duration": 11,
    "start_time": "2023-01-22T13:31:22.839Z"
   },
   {
    "duration": 946,
    "start_time": "2023-01-22T13:31:22.852Z"
   },
   {
    "duration": 11,
    "start_time": "2023-01-22T13:31:23.800Z"
   },
   {
    "duration": 6836,
    "start_time": "2023-01-22T13:31:23.813Z"
   },
   {
    "duration": 4,
    "start_time": "2023-01-22T13:31:35.241Z"
   },
   {
    "duration": 5,
    "start_time": "2023-01-22T13:31:40.959Z"
   },
   {
    "duration": 5,
    "start_time": "2023-01-22T13:32:10.548Z"
   },
   {
    "duration": 2,
    "start_time": "2023-01-22T13:36:08.170Z"
   },
   {
    "duration": 5,
    "start_time": "2023-01-22T13:36:08.797Z"
   },
   {
    "duration": 11,
    "start_time": "2023-01-22T13:36:11.880Z"
   },
   {
    "duration": 7,
    "start_time": "2023-01-22T13:36:59.430Z"
   },
   {
    "duration": 818,
    "start_time": "2023-01-22T13:36:59.439Z"
   },
   {
    "duration": 49,
    "start_time": "2023-01-22T13:37:00.260Z"
   },
   {
    "duration": 57,
    "start_time": "2023-01-22T13:37:00.312Z"
   },
   {
    "duration": 62,
    "start_time": "2023-01-22T13:37:00.372Z"
   },
   {
    "duration": 4,
    "start_time": "2023-01-22T13:37:00.436Z"
   },
   {
    "duration": 32,
    "start_time": "2023-01-22T13:37:00.443Z"
   },
   {
    "duration": 41,
    "start_time": "2023-01-22T13:37:00.478Z"
   },
   {
    "duration": 43,
    "start_time": "2023-01-22T13:37:00.520Z"
   },
   {
    "duration": 21,
    "start_time": "2023-01-22T13:37:00.565Z"
   },
   {
    "duration": 39,
    "start_time": "2023-01-22T13:37:00.588Z"
   },
   {
    "duration": 48,
    "start_time": "2023-01-22T13:37:00.629Z"
   },
   {
    "duration": 17,
    "start_time": "2023-01-22T13:37:00.679Z"
   },
   {
    "duration": 35,
    "start_time": "2023-01-22T13:37:00.699Z"
   },
   {
    "duration": 52,
    "start_time": "2023-01-22T13:37:00.736Z"
   },
   {
    "duration": 3,
    "start_time": "2023-01-22T13:37:00.789Z"
   },
   {
    "duration": 32,
    "start_time": "2023-01-22T13:37:00.794Z"
   },
   {
    "duration": 14,
    "start_time": "2023-01-22T13:37:00.828Z"
   },
   {
    "duration": 25,
    "start_time": "2023-01-22T13:37:00.844Z"
   },
   {
    "duration": 9,
    "start_time": "2023-01-22T13:37:00.871Z"
   },
   {
    "duration": 29,
    "start_time": "2023-01-22T13:37:00.882Z"
   },
   {
    "duration": 176,
    "start_time": "2023-01-22T13:37:00.912Z"
   },
   {
    "duration": 446,
    "start_time": "2023-01-22T13:37:01.090Z"
   },
   {
    "duration": 8,
    "start_time": "2023-01-22T13:37:01.537Z"
   },
   {
    "duration": 196,
    "start_time": "2023-01-22T13:37:01.546Z"
   },
   {
    "duration": 17,
    "start_time": "2023-01-22T13:37:01.744Z"
   },
   {
    "duration": 9,
    "start_time": "2023-01-22T13:37:01.763Z"
   },
   {
    "duration": 10,
    "start_time": "2023-01-22T13:37:01.774Z"
   },
   {
    "duration": 61,
    "start_time": "2023-01-22T13:37:01.786Z"
   },
   {
    "duration": 8,
    "start_time": "2023-01-22T13:37:01.849Z"
   },
   {
    "duration": 76,
    "start_time": "2023-01-22T13:37:01.858Z"
   },
   {
    "duration": 5,
    "start_time": "2023-01-22T13:37:01.935Z"
   },
   {
    "duration": 30,
    "start_time": "2023-01-22T13:37:01.941Z"
   },
   {
    "duration": 466,
    "start_time": "2023-01-22T13:37:01.973Z"
   },
   {
    "duration": 357,
    "start_time": "2023-01-22T13:37:02.440Z"
   },
   {
    "duration": 170,
    "start_time": "2023-01-22T13:37:02.799Z"
   },
   {
    "duration": 8,
    "start_time": "2023-01-22T13:37:02.971Z"
   },
   {
    "duration": 10,
    "start_time": "2023-01-22T13:37:02.981Z"
   },
   {
    "duration": 74,
    "start_time": "2023-01-22T13:37:02.993Z"
   },
   {
    "duration": 26,
    "start_time": "2023-01-22T13:37:03.069Z"
   },
   {
    "duration": 32,
    "start_time": "2023-01-22T13:37:03.099Z"
   },
   {
    "duration": 941,
    "start_time": "2023-01-22T13:37:03.134Z"
   },
   {
    "duration": 11,
    "start_time": "2023-01-22T13:37:04.077Z"
   },
   {
    "duration": 7158,
    "start_time": "2023-01-22T13:37:04.090Z"
   },
   {
    "duration": 4,
    "start_time": "2023-01-22T13:37:11.250Z"
   },
   {
    "duration": 14,
    "start_time": "2023-01-22T13:37:11.255Z"
   },
   {
    "duration": 14,
    "start_time": "2023-01-22T13:37:16.584Z"
   },
   {
    "duration": 7,
    "start_time": "2023-01-22T13:37:27.839Z"
   },
   {
    "duration": 745,
    "start_time": "2023-01-22T13:37:27.882Z"
   },
   {
    "duration": 38,
    "start_time": "2023-01-22T13:37:28.629Z"
   },
   {
    "duration": 59,
    "start_time": "2023-01-22T13:37:28.669Z"
   },
   {
    "duration": 33,
    "start_time": "2023-01-22T13:37:28.730Z"
   },
   {
    "duration": 4,
    "start_time": "2023-01-22T13:37:28.767Z"
   },
   {
    "duration": 14,
    "start_time": "2023-01-22T13:37:28.773Z"
   },
   {
    "duration": 7,
    "start_time": "2023-01-22T13:37:28.789Z"
   },
   {
    "duration": 21,
    "start_time": "2023-01-22T13:37:28.828Z"
   },
   {
    "duration": 4,
    "start_time": "2023-01-22T13:37:28.851Z"
   },
   {
    "duration": 9,
    "start_time": "2023-01-22T13:37:28.856Z"
   },
   {
    "duration": 7,
    "start_time": "2023-01-22T13:37:28.867Z"
   },
   {
    "duration": 12,
    "start_time": "2023-01-22T13:37:28.876Z"
   },
   {
    "duration": 16,
    "start_time": "2023-01-22T13:37:28.926Z"
   },
   {
    "duration": 36,
    "start_time": "2023-01-22T13:37:28.946Z"
   },
   {
    "duration": 3,
    "start_time": "2023-01-22T13:37:28.984Z"
   },
   {
    "duration": 54,
    "start_time": "2023-01-22T13:37:28.989Z"
   },
   {
    "duration": 12,
    "start_time": "2023-01-22T13:37:29.045Z"
   },
   {
    "duration": 23,
    "start_time": "2023-01-22T13:37:29.059Z"
   },
   {
    "duration": 47,
    "start_time": "2023-01-22T13:37:29.084Z"
   },
   {
    "duration": 9,
    "start_time": "2023-01-22T13:37:29.133Z"
   },
   {
    "duration": 185,
    "start_time": "2023-01-22T13:37:29.144Z"
   },
   {
    "duration": 156,
    "start_time": "2023-01-22T13:37:29.331Z"
   },
   {
    "duration": 7,
    "start_time": "2023-01-22T13:37:29.489Z"
   },
   {
    "duration": 188,
    "start_time": "2023-01-22T13:37:29.498Z"
   },
   {
    "duration": 15,
    "start_time": "2023-01-22T13:37:29.688Z"
   },
   {
    "duration": 22,
    "start_time": "2023-01-22T13:37:29.705Z"
   },
   {
    "duration": 9,
    "start_time": "2023-01-22T13:37:29.729Z"
   },
   {
    "duration": 36,
    "start_time": "2023-01-22T13:37:29.740Z"
   },
   {
    "duration": 8,
    "start_time": "2023-01-22T13:37:29.778Z"
   },
   {
    "duration": 54,
    "start_time": "2023-01-22T13:37:29.788Z"
   },
   {
    "duration": 4,
    "start_time": "2023-01-22T13:37:29.843Z"
   },
   {
    "duration": 21,
    "start_time": "2023-01-22T13:37:29.849Z"
   },
   {
    "duration": 521,
    "start_time": "2023-01-22T13:37:29.871Z"
   },
   {
    "duration": 416,
    "start_time": "2023-01-22T13:37:30.394Z"
   },
   {
    "duration": 184,
    "start_time": "2023-01-22T13:37:30.812Z"
   },
   {
    "duration": 10,
    "start_time": "2023-01-22T13:37:30.998Z"
   },
   {
    "duration": 40,
    "start_time": "2023-01-22T13:37:31.010Z"
   },
   {
    "duration": 94,
    "start_time": "2023-01-22T13:37:31.052Z"
   },
   {
    "duration": 15,
    "start_time": "2023-01-22T13:37:31.148Z"
   },
   {
    "duration": 29,
    "start_time": "2023-01-22T13:37:31.166Z"
   },
   {
    "duration": 1294,
    "start_time": "2023-01-22T13:37:31.199Z"
   },
   {
    "duration": 9,
    "start_time": "2023-01-22T13:37:32.495Z"
   },
   {
    "duration": 7310,
    "start_time": "2023-01-22T13:37:32.506Z"
   },
   {
    "duration": 4,
    "start_time": "2023-01-22T13:37:39.818Z"
   },
   {
    "duration": 6,
    "start_time": "2023-01-22T13:37:42.585Z"
   },
   {
    "duration": 5,
    "start_time": "2023-01-22T13:37:43.918Z"
   },
   {
    "duration": 10,
    "start_time": "2023-01-22T13:37:56.229Z"
   },
   {
    "duration": 20,
    "start_time": "2023-01-22T13:37:58.683Z"
   },
   {
    "duration": 4,
    "start_time": "2023-01-22T13:38:01.352Z"
   },
   {
    "duration": 3,
    "start_time": "2023-01-22T13:38:15.472Z"
   },
   {
    "duration": 3,
    "start_time": "2023-01-22T13:38:19.997Z"
   },
   {
    "duration": 4,
    "start_time": "2023-01-22T13:38:29.916Z"
   },
   {
    "duration": 115250,
    "start_time": "2023-01-22T13:38:31.117Z"
   },
   {
    "duration": 4117,
    "start_time": "2023-01-22T13:41:22.719Z"
   },
   {
    "duration": 4,
    "start_time": "2023-01-22T13:41:45.307Z"
   },
   {
    "duration": 4,
    "start_time": "2023-01-22T13:41:45.947Z"
   },
   {
    "duration": 256493,
    "start_time": "2023-01-22T13:41:49.192Z"
   },
   {
    "duration": 4,
    "start_time": "2023-01-22T13:46:31.793Z"
   },
   {
    "duration": 11016,
    "start_time": "2023-01-22T13:46:32.724Z"
   },
   {
    "duration": 26,
    "start_time": "2023-01-22T13:46:50.517Z"
   },
   {
    "duration": 4,
    "start_time": "2023-01-22T13:47:16.505Z"
   },
   {
    "duration": 49519,
    "start_time": "2023-01-22T13:47:18.713Z"
   },
   {
    "duration": 1272,
    "start_time": "2023-01-22T13:48:23.114Z"
   },
   {
    "duration": 4,
    "start_time": "2023-01-22T13:50:15.712Z"
   },
   {
    "duration": 20845,
    "start_time": "2023-01-22T13:50:18.152Z"
   },
   {
    "duration": 3,
    "start_time": "2023-01-22T13:51:17.395Z"
   },
   {
    "duration": 93114,
    "start_time": "2023-01-22T13:51:18.713Z"
   },
   {
    "duration": 4,
    "start_time": "2023-01-22T13:53:07.713Z"
   },
   {
    "duration": 9964,
    "start_time": "2023-01-22T13:53:08.176Z"
   },
   {
    "duration": 3,
    "start_time": "2023-01-22T13:53:24.436Z"
   },
   {
    "duration": 9048,
    "start_time": "2023-01-22T13:53:24.748Z"
   },
   {
    "duration": 3,
    "start_time": "2023-01-22T13:53:41.372Z"
   },
   {
    "duration": 1078,
    "start_time": "2023-01-22T13:53:41.714Z"
   },
   {
    "duration": 3,
    "start_time": "2023-01-22T13:53:50.506Z"
   },
   {
    "duration": 7032,
    "start_time": "2023-01-22T13:53:51.507Z"
   },
   {
    "duration": 3,
    "start_time": "2023-01-22T13:54:04.811Z"
   },
   {
    "duration": 10300,
    "start_time": "2023-01-22T13:54:06.375Z"
   },
   {
    "duration": 4,
    "start_time": "2023-01-22T13:54:32.634Z"
   },
   {
    "duration": 3,
    "start_time": "2023-01-22T13:54:33.295Z"
   },
   {
    "duration": 277153,
    "start_time": "2023-01-22T13:54:35.573Z"
   },
   {
    "duration": 20742,
    "start_time": "2023-01-22T14:00:51.098Z"
   },
   {
    "duration": 3,
    "start_time": "2023-01-22T14:03:59.465Z"
   },
   {
    "duration": 4,
    "start_time": "2023-01-22T14:03:59.981Z"
   },
   {
    "duration": 1602745,
    "start_time": "2023-01-22T14:04:00.989Z"
   },
   {
    "duration": 1525,
    "start_time": "2023-01-22T15:37:07.257Z"
   },
   {
    "duration": 1923,
    "start_time": "2023-01-22T15:37:08.784Z"
   },
   {
    "duration": 37,
    "start_time": "2023-01-22T15:37:10.709Z"
   },
   {
    "duration": 33,
    "start_time": "2023-01-22T15:37:10.748Z"
   },
   {
    "duration": 43,
    "start_time": "2023-01-22T15:37:10.782Z"
   },
   {
    "duration": 4,
    "start_time": "2023-01-22T15:37:10.826Z"
   },
   {
    "duration": 51,
    "start_time": "2023-01-22T15:37:10.831Z"
   },
   {
    "duration": 24,
    "start_time": "2023-01-22T15:37:10.883Z"
   },
   {
    "duration": 51,
    "start_time": "2023-01-22T15:37:10.909Z"
   },
   {
    "duration": 11,
    "start_time": "2023-01-22T15:37:10.962Z"
   },
   {
    "duration": 36,
    "start_time": "2023-01-22T15:37:10.974Z"
   },
   {
    "duration": 38,
    "start_time": "2023-01-22T15:37:11.012Z"
   },
   {
    "duration": 29,
    "start_time": "2023-01-22T15:37:11.052Z"
   },
   {
    "duration": 47,
    "start_time": "2023-01-22T15:37:11.082Z"
   },
   {
    "duration": 68,
    "start_time": "2023-01-22T15:37:11.131Z"
   },
   {
    "duration": 23,
    "start_time": "2023-01-22T15:37:11.201Z"
   },
   {
    "duration": 32,
    "start_time": "2023-01-22T15:37:11.226Z"
   },
   {
    "duration": 30,
    "start_time": "2023-01-22T15:37:11.260Z"
   },
   {
    "duration": 49,
    "start_time": "2023-01-22T15:37:11.292Z"
   },
   {
    "duration": 43,
    "start_time": "2023-01-22T15:37:11.342Z"
   },
   {
    "duration": 36,
    "start_time": "2023-01-22T15:37:11.387Z"
   },
   {
    "duration": 238,
    "start_time": "2023-01-22T15:37:11.425Z"
   },
   {
    "duration": 150,
    "start_time": "2023-01-22T15:37:11.664Z"
   },
   {
    "duration": 7,
    "start_time": "2023-01-22T15:37:11.816Z"
   },
   {
    "duration": 320,
    "start_time": "2023-01-22T15:37:11.825Z"
   },
   {
    "duration": 14,
    "start_time": "2023-01-22T15:37:12.147Z"
   },
   {
    "duration": 48,
    "start_time": "2023-01-22T15:37:12.162Z"
   },
   {
    "duration": 56,
    "start_time": "2023-01-22T15:37:12.213Z"
   },
   {
    "duration": 177,
    "start_time": "2023-01-22T15:37:12.270Z"
   },
   {
    "duration": 8,
    "start_time": "2023-01-22T15:37:12.449Z"
   },
   {
    "duration": 51,
    "start_time": "2023-01-22T15:37:12.459Z"
   },
   {
    "duration": 44,
    "start_time": "2023-01-22T15:37:12.512Z"
   },
   {
    "duration": 71,
    "start_time": "2023-01-22T15:37:12.558Z"
   },
   {
    "duration": 537,
    "start_time": "2023-01-22T15:37:12.631Z"
   },
   {
    "duration": 386,
    "start_time": "2023-01-22T15:37:13.170Z"
   },
   {
    "duration": 180,
    "start_time": "2023-01-22T15:37:13.558Z"
   },
   {
    "duration": 9,
    "start_time": "2023-01-22T15:37:13.739Z"
   },
   {
    "duration": 16,
    "start_time": "2023-01-22T15:37:13.750Z"
   },
   {
    "duration": 117,
    "start_time": "2023-01-22T15:37:13.768Z"
   },
   {
    "duration": 49,
    "start_time": "2023-01-22T15:37:13.888Z"
   },
   {
    "duration": 44,
    "start_time": "2023-01-22T15:37:13.939Z"
   },
   {
    "duration": 1039,
    "start_time": "2023-01-22T15:37:13.984Z"
   },
   {
    "duration": 13,
    "start_time": "2023-01-22T15:37:15.025Z"
   },
   {
    "duration": 7461,
    "start_time": "2023-01-22T15:37:15.040Z"
   },
   {
    "duration": 3,
    "start_time": "2023-01-22T15:37:22.503Z"
   },
   {
    "duration": 68,
    "start_time": "2023-01-22T15:37:22.508Z"
   },
   {
    "duration": 4,
    "start_time": "2023-01-22T15:37:31.345Z"
   },
   {
    "duration": 10,
    "start_time": "2023-01-22T15:37:43.115Z"
   },
   {
    "duration": 107,
    "start_time": "2023-01-22T15:37:49.593Z"
   },
   {
    "duration": 19,
    "start_time": "2023-01-22T15:37:54.753Z"
   },
   {
    "duration": 3,
    "start_time": "2023-01-22T15:37:55.934Z"
   },
   {
    "duration": 3,
    "start_time": "2023-01-22T15:37:58.600Z"
   },
   {
    "duration": 2,
    "start_time": "2023-01-22T15:38:03.314Z"
   },
   {
    "duration": 12,
    "start_time": "2023-01-22T16:07:34.710Z"
   },
   {
    "duration": 3,
    "start_time": "2023-01-22T16:07:46.386Z"
   },
   {
    "duration": 111776,
    "start_time": "2023-01-22T16:07:47.672Z"
   },
   {
    "duration": 3,
    "start_time": "2023-01-22T16:19:07.272Z"
   },
   {
    "duration": 111434,
    "start_time": "2023-01-22T16:19:08.108Z"
   },
   {
    "duration": 3,
    "start_time": "2023-01-22T16:21:48.585Z"
   },
   {
    "duration": 159977,
    "start_time": "2023-01-22T16:21:49.106Z"
   },
   {
    "duration": 3,
    "start_time": "2023-01-22T16:34:27.144Z"
   },
   {
    "duration": 3,
    "start_time": "2023-01-22T16:34:28.744Z"
   },
   {
    "duration": 1114228,
    "start_time": "2023-01-22T16:34:35.282Z"
   },
   {
    "duration": 3,
    "start_time": "2023-01-22T16:59:08.023Z"
   },
   {
    "duration": 10121,
    "start_time": "2023-01-22T16:59:35.517Z"
   },
   {
    "duration": 6,
    "start_time": "2023-01-22T17:00:39.199Z"
   },
   {
    "duration": 5,
    "start_time": "2023-01-22T17:12:08.147Z"
   },
   {
    "duration": 66704,
    "start_time": "2023-01-22T17:12:13.816Z"
   },
   {
    "duration": 1186,
    "start_time": "2023-01-22T17:19:20.912Z"
   },
   {
    "duration": 26035,
    "start_time": "2023-01-22T17:20:39.373Z"
   },
   {
    "duration": 110,
    "start_time": "2023-01-22T17:34:30.193Z"
   },
   {
    "duration": 11,
    "start_time": "2023-01-22T17:45:24.607Z"
   },
   {
    "duration": 9,
    "start_time": "2023-01-22T17:47:28.144Z"
   },
   {
    "duration": 8,
    "start_time": "2023-01-22T17:48:08.952Z"
   },
   {
    "duration": 777,
    "start_time": "2023-01-22T17:48:08.983Z"
   },
   {
    "duration": 47,
    "start_time": "2023-01-22T17:48:09.762Z"
   },
   {
    "duration": 34,
    "start_time": "2023-01-22T17:48:09.811Z"
   },
   {
    "duration": 30,
    "start_time": "2023-01-22T17:48:09.847Z"
   },
   {
    "duration": 24,
    "start_time": "2023-01-22T17:48:09.879Z"
   },
   {
    "duration": 14,
    "start_time": "2023-01-22T17:48:09.905Z"
   },
   {
    "duration": 20,
    "start_time": "2023-01-22T17:48:09.920Z"
   },
   {
    "duration": 39,
    "start_time": "2023-01-22T17:48:09.942Z"
   },
   {
    "duration": 21,
    "start_time": "2023-01-22T17:48:09.983Z"
   },
   {
    "duration": 27,
    "start_time": "2023-01-22T17:48:10.006Z"
   },
   {
    "duration": 29,
    "start_time": "2023-01-22T17:48:10.034Z"
   },
   {
    "duration": 23,
    "start_time": "2023-01-22T17:48:10.065Z"
   },
   {
    "duration": 17,
    "start_time": "2023-01-22T17:48:10.089Z"
   },
   {
    "duration": 54,
    "start_time": "2023-01-22T17:48:10.109Z"
   },
   {
    "duration": 3,
    "start_time": "2023-01-22T17:48:10.164Z"
   },
   {
    "duration": 41,
    "start_time": "2023-01-22T17:48:10.168Z"
   },
   {
    "duration": 13,
    "start_time": "2023-01-22T17:48:10.211Z"
   },
   {
    "duration": 23,
    "start_time": "2023-01-22T17:48:10.225Z"
   },
   {
    "duration": 9,
    "start_time": "2023-01-22T17:48:10.250Z"
   },
   {
    "duration": 11,
    "start_time": "2023-01-22T17:48:10.260Z"
   },
   {
    "duration": 144,
    "start_time": "2023-01-22T17:48:10.304Z"
   },
   {
    "duration": 159,
    "start_time": "2023-01-22T17:48:10.450Z"
   },
   {
    "duration": 5,
    "start_time": "2023-01-22T17:48:10.611Z"
   },
   {
    "duration": 181,
    "start_time": "2023-01-22T17:48:10.618Z"
   },
   {
    "duration": 14,
    "start_time": "2023-01-22T17:48:10.803Z"
   },
   {
    "duration": 9,
    "start_time": "2023-01-22T17:48:10.818Z"
   },
   {
    "duration": 7,
    "start_time": "2023-01-22T17:48:10.829Z"
   },
   {
    "duration": 33,
    "start_time": "2023-01-22T17:48:10.838Z"
   },
   {
    "duration": 36,
    "start_time": "2023-01-22T17:48:10.873Z"
   },
   {
    "duration": 22,
    "start_time": "2023-01-22T17:48:10.910Z"
   },
   {
    "duration": 4,
    "start_time": "2023-01-22T17:48:10.934Z"
   },
   {
    "duration": 21,
    "start_time": "2023-01-22T17:48:10.940Z"
   },
   {
    "duration": 472,
    "start_time": "2023-01-22T17:48:10.964Z"
   },
   {
    "duration": 406,
    "start_time": "2023-01-22T17:48:11.438Z"
   },
   {
    "duration": 162,
    "start_time": "2023-01-22T17:48:11.845Z"
   },
   {
    "duration": 9,
    "start_time": "2023-01-22T17:48:12.009Z"
   },
   {
    "duration": 8,
    "start_time": "2023-01-22T17:48:12.020Z"
   },
   {
    "duration": 47,
    "start_time": "2023-01-22T17:48:12.030Z"
   },
   {
    "duration": 17,
    "start_time": "2023-01-22T17:48:12.103Z"
   },
   {
    "duration": 15,
    "start_time": "2023-01-22T17:48:12.121Z"
   },
   {
    "duration": 885,
    "start_time": "2023-01-22T17:48:12.139Z"
   },
   {
    "duration": 11,
    "start_time": "2023-01-22T17:49:23.063Z"
   },
   {
    "duration": 11,
    "start_time": "2023-01-22T17:49:54.033Z"
   },
   {
    "duration": 9,
    "start_time": "2023-01-22T17:54:31.345Z"
   },
   {
    "duration": 11,
    "start_time": "2023-01-22T17:54:58.943Z"
   },
   {
    "duration": 9,
    "start_time": "2023-01-22T17:55:10.783Z"
   },
   {
    "duration": 8,
    "start_time": "2023-01-22T17:55:32.785Z"
   },
   {
    "duration": 9,
    "start_time": "2023-01-22T17:55:47.752Z"
   },
   {
    "duration": 8,
    "start_time": "2023-01-22T17:56:07.521Z"
   },
   {
    "duration": 12,
    "start_time": "2023-01-22T17:56:53.792Z"
   },
   {
    "duration": 10,
    "start_time": "2023-01-22T17:58:59.721Z"
   },
   {
    "duration": 3,
    "start_time": "2023-01-22T18:01:05.034Z"
   },
   {
    "duration": 6737,
    "start_time": "2023-01-22T18:01:13.585Z"
   },
   {
    "duration": 4,
    "start_time": "2023-01-22T18:01:20.326Z"
   },
   {
    "duration": 3,
    "start_time": "2023-01-22T18:05:19.347Z"
   },
   {
    "duration": 11,
    "start_time": "2023-01-22T18:05:38.265Z"
   },
   {
    "duration": 790,
    "start_time": "2023-01-22T18:05:38.278Z"
   },
   {
    "duration": 35,
    "start_time": "2023-01-22T18:05:39.069Z"
   },
   {
    "duration": 32,
    "start_time": "2023-01-22T18:05:39.106Z"
   },
   {
    "duration": 29,
    "start_time": "2023-01-22T18:05:39.140Z"
   },
   {
    "duration": 3,
    "start_time": "2023-01-22T18:05:39.171Z"
   },
   {
    "duration": 31,
    "start_time": "2023-01-22T18:05:39.175Z"
   },
   {
    "duration": 9,
    "start_time": "2023-01-22T18:05:39.208Z"
   },
   {
    "duration": 34,
    "start_time": "2023-01-22T18:05:39.219Z"
   },
   {
    "duration": 4,
    "start_time": "2023-01-22T18:05:39.255Z"
   },
   {
    "duration": 15,
    "start_time": "2023-01-22T18:05:39.261Z"
   },
   {
    "duration": 11,
    "start_time": "2023-01-22T18:05:39.277Z"
   },
   {
    "duration": 17,
    "start_time": "2023-01-22T18:05:39.290Z"
   },
   {
    "duration": 12,
    "start_time": "2023-01-22T18:05:39.310Z"
   },
   {
    "duration": 33,
    "start_time": "2023-01-22T18:05:39.324Z"
   },
   {
    "duration": 2,
    "start_time": "2023-01-22T18:05:39.359Z"
   },
   {
    "duration": 40,
    "start_time": "2023-01-22T18:05:39.363Z"
   },
   {
    "duration": 12,
    "start_time": "2023-01-22T18:05:39.405Z"
   },
   {
    "duration": 23,
    "start_time": "2023-01-22T18:05:39.419Z"
   },
   {
    "duration": 9,
    "start_time": "2023-01-22T18:05:39.444Z"
   },
   {
    "duration": 8,
    "start_time": "2023-01-22T18:05:39.454Z"
   },
   {
    "duration": 173,
    "start_time": "2023-01-22T18:05:39.463Z"
   },
   {
    "duration": 150,
    "start_time": "2023-01-22T18:05:39.638Z"
   },
   {
    "duration": 13,
    "start_time": "2023-01-22T18:05:39.790Z"
   },
   {
    "duration": 171,
    "start_time": "2023-01-22T18:05:39.805Z"
   },
   {
    "duration": 14,
    "start_time": "2023-01-22T18:05:39.977Z"
   },
   {
    "duration": 9,
    "start_time": "2023-01-22T18:05:40.004Z"
   },
   {
    "duration": 12,
    "start_time": "2023-01-22T18:05:40.015Z"
   },
   {
    "duration": 35,
    "start_time": "2023-01-22T18:05:40.029Z"
   },
   {
    "duration": 6,
    "start_time": "2023-01-22T18:05:40.066Z"
   },
   {
    "duration": 45,
    "start_time": "2023-01-22T18:05:40.074Z"
   },
   {
    "duration": 4,
    "start_time": "2023-01-22T18:05:40.121Z"
   },
   {
    "duration": 20,
    "start_time": "2023-01-22T18:05:40.126Z"
   },
   {
    "duration": 457,
    "start_time": "2023-01-22T18:05:40.147Z"
   },
   {
    "duration": 448,
    "start_time": "2023-01-22T18:05:40.605Z"
   },
   {
    "duration": 167,
    "start_time": "2023-01-22T18:05:41.055Z"
   },
   {
    "duration": 9,
    "start_time": "2023-01-22T18:05:41.224Z"
   },
   {
    "duration": 36,
    "start_time": "2023-01-22T18:05:41.235Z"
   },
   {
    "duration": 54,
    "start_time": "2023-01-22T18:05:41.272Z"
   },
   {
    "duration": 13,
    "start_time": "2023-01-22T18:05:41.328Z"
   },
   {
    "duration": 20,
    "start_time": "2023-01-22T18:05:41.344Z"
   },
   {
    "duration": 1181,
    "start_time": "2023-01-22T18:05:41.365Z"
   },
   {
    "duration": 3,
    "start_time": "2023-01-22T18:05:55.744Z"
   },
   {
    "duration": 4,
    "start_time": "2023-01-22T18:06:23.494Z"
   },
   {
    "duration": 6948,
    "start_time": "2023-01-22T18:07:04.673Z"
   },
   {
    "duration": 3,
    "start_time": "2023-01-22T18:07:11.623Z"
   },
   {
    "duration": 10,
    "start_time": "2023-01-22T18:10:30.386Z"
   },
   {
    "duration": 815,
    "start_time": "2023-01-22T18:10:30.399Z"
   },
   {
    "duration": 38,
    "start_time": "2023-01-22T18:10:31.216Z"
   },
   {
    "duration": 40,
    "start_time": "2023-01-22T18:10:31.256Z"
   },
   {
    "duration": 50,
    "start_time": "2023-01-22T18:10:31.303Z"
   },
   {
    "duration": 18,
    "start_time": "2023-01-22T18:10:31.355Z"
   },
   {
    "duration": 28,
    "start_time": "2023-01-22T18:10:31.375Z"
   },
   {
    "duration": 18,
    "start_time": "2023-01-22T18:10:31.404Z"
   },
   {
    "duration": 52,
    "start_time": "2023-01-22T18:10:31.424Z"
   },
   {
    "duration": 11,
    "start_time": "2023-01-22T18:10:31.480Z"
   },
   {
    "duration": 25,
    "start_time": "2023-01-22T18:10:31.493Z"
   },
   {
    "duration": 34,
    "start_time": "2023-01-22T18:10:31.520Z"
   },
   {
    "duration": 27,
    "start_time": "2023-01-22T18:10:31.555Z"
   },
   {
    "duration": 27,
    "start_time": "2023-01-22T18:10:31.583Z"
   },
   {
    "duration": 79,
    "start_time": "2023-01-22T18:10:31.611Z"
   },
   {
    "duration": 14,
    "start_time": "2023-01-22T18:10:31.692Z"
   },
   {
    "duration": 49,
    "start_time": "2023-01-22T18:10:31.708Z"
   },
   {
    "duration": 47,
    "start_time": "2023-01-22T18:10:31.759Z"
   },
   {
    "duration": 33,
    "start_time": "2023-01-22T18:10:31.808Z"
   },
   {
    "duration": 41,
    "start_time": "2023-01-22T18:10:31.843Z"
   },
   {
    "duration": 32,
    "start_time": "2023-01-22T18:10:31.886Z"
   },
   {
    "duration": 145,
    "start_time": "2023-01-22T18:10:31.922Z"
   },
   {
    "duration": 144,
    "start_time": "2023-01-22T18:10:32.069Z"
   },
   {
    "duration": 7,
    "start_time": "2023-01-22T18:10:32.215Z"
   },
   {
    "duration": 171,
    "start_time": "2023-01-22T18:10:32.223Z"
   },
   {
    "duration": 20,
    "start_time": "2023-01-22T18:10:32.395Z"
   },
   {
    "duration": 24,
    "start_time": "2023-01-22T18:10:32.416Z"
   },
   {
    "duration": 22,
    "start_time": "2023-01-22T18:10:32.442Z"
   },
   {
    "duration": 56,
    "start_time": "2023-01-22T18:10:32.466Z"
   },
   {
    "duration": 8,
    "start_time": "2023-01-22T18:10:32.524Z"
   },
   {
    "duration": 36,
    "start_time": "2023-01-22T18:10:32.534Z"
   },
   {
    "duration": 13,
    "start_time": "2023-01-22T18:10:32.572Z"
   },
   {
    "duration": 45,
    "start_time": "2023-01-22T18:10:32.586Z"
   },
   {
    "duration": 471,
    "start_time": "2023-01-22T18:10:32.633Z"
   },
   {
    "duration": 442,
    "start_time": "2023-01-22T18:10:33.105Z"
   },
   {
    "duration": 164,
    "start_time": "2023-01-22T18:10:33.549Z"
   },
   {
    "duration": 8,
    "start_time": "2023-01-22T18:10:33.714Z"
   },
   {
    "duration": 31,
    "start_time": "2023-01-22T18:10:33.723Z"
   },
   {
    "duration": 91,
    "start_time": "2023-01-22T18:10:33.755Z"
   },
   {
    "duration": 15,
    "start_time": "2023-01-22T18:10:33.848Z"
   },
   {
    "duration": 34,
    "start_time": "2023-01-22T18:10:33.865Z"
   },
   {
    "duration": 963,
    "start_time": "2023-01-22T18:10:33.901Z"
   },
   {
    "duration": 9,
    "start_time": "2023-01-22T18:10:34.866Z"
   },
   {
    "duration": 24,
    "start_time": "2023-01-22T18:10:34.877Z"
   },
   {
    "duration": 12,
    "start_time": "2023-01-22T18:10:42.475Z"
   },
   {
    "duration": 5,
    "start_time": "2023-01-22T18:10:55.856Z"
   },
   {
    "duration": 3,
    "start_time": "2023-01-22T18:10:57.667Z"
   },
   {
    "duration": 6754,
    "start_time": "2023-01-22T18:12:14.826Z"
   },
   {
    "duration": 6,
    "start_time": "2023-01-22T18:12:25.237Z"
   },
   {
    "duration": 3,
    "start_time": "2023-01-22T18:12:27.837Z"
   },
   {
    "duration": 7,
    "start_time": "2023-01-22T18:13:53.370Z"
   },
   {
    "duration": 866,
    "start_time": "2023-01-22T18:13:53.379Z"
   },
   {
    "duration": 55,
    "start_time": "2023-01-22T18:13:54.248Z"
   },
   {
    "duration": 37,
    "start_time": "2023-01-22T18:13:54.305Z"
   },
   {
    "duration": 29,
    "start_time": "2023-01-22T18:13:54.345Z"
   },
   {
    "duration": 36,
    "start_time": "2023-01-22T18:13:54.376Z"
   },
   {
    "duration": 62,
    "start_time": "2023-01-22T18:13:54.414Z"
   },
   {
    "duration": 47,
    "start_time": "2023-01-22T18:13:54.478Z"
   },
   {
    "duration": 54,
    "start_time": "2023-01-22T18:13:54.527Z"
   },
   {
    "duration": 25,
    "start_time": "2023-01-22T18:13:54.582Z"
   },
   {
    "duration": 36,
    "start_time": "2023-01-22T18:13:54.609Z"
   },
   {
    "duration": 49,
    "start_time": "2023-01-22T18:13:54.647Z"
   },
   {
    "duration": 44,
    "start_time": "2023-01-22T18:13:54.698Z"
   },
   {
    "duration": 53,
    "start_time": "2023-01-22T18:13:54.746Z"
   },
   {
    "duration": 62,
    "start_time": "2023-01-22T18:13:54.800Z"
   },
   {
    "duration": 4,
    "start_time": "2023-01-22T18:13:54.864Z"
   },
   {
    "duration": 50,
    "start_time": "2023-01-22T18:13:54.870Z"
   },
   {
    "duration": 43,
    "start_time": "2023-01-22T18:13:54.922Z"
   },
   {
    "duration": 34,
    "start_time": "2023-01-22T18:13:54.967Z"
   },
   {
    "duration": 10,
    "start_time": "2023-01-22T18:13:55.002Z"
   },
   {
    "duration": 12,
    "start_time": "2023-01-22T18:13:55.014Z"
   },
   {
    "duration": 171,
    "start_time": "2023-01-22T18:13:55.028Z"
   },
   {
    "duration": 170,
    "start_time": "2023-01-22T18:13:55.204Z"
   },
   {
    "duration": 7,
    "start_time": "2023-01-22T18:13:55.376Z"
   },
   {
    "duration": 182,
    "start_time": "2023-01-22T18:13:55.384Z"
   },
   {
    "duration": 15,
    "start_time": "2023-01-22T18:13:55.568Z"
   },
   {
    "duration": 24,
    "start_time": "2023-01-22T18:13:55.584Z"
   },
   {
    "duration": 6,
    "start_time": "2023-01-22T18:13:55.609Z"
   },
   {
    "duration": 35,
    "start_time": "2023-01-22T18:13:55.616Z"
   },
   {
    "duration": 7,
    "start_time": "2023-01-22T18:13:55.653Z"
   },
   {
    "duration": 42,
    "start_time": "2023-01-22T18:13:55.661Z"
   },
   {
    "duration": 4,
    "start_time": "2023-01-22T18:13:55.705Z"
   },
   {
    "duration": 31,
    "start_time": "2023-01-22T18:13:55.711Z"
   },
   {
    "duration": 478,
    "start_time": "2023-01-22T18:13:55.744Z"
   },
   {
    "duration": 443,
    "start_time": "2023-01-22T18:13:56.224Z"
   },
   {
    "duration": 170,
    "start_time": "2023-01-22T18:13:56.669Z"
   },
   {
    "duration": 10,
    "start_time": "2023-01-22T18:13:56.840Z"
   },
   {
    "duration": 14,
    "start_time": "2023-01-22T18:13:56.851Z"
   },
   {
    "duration": 69,
    "start_time": "2023-01-22T18:13:56.867Z"
   },
   {
    "duration": 22,
    "start_time": "2023-01-22T18:13:56.938Z"
   },
   {
    "duration": 40,
    "start_time": "2023-01-22T18:13:56.964Z"
   },
   {
    "duration": 1303,
    "start_time": "2023-01-22T18:13:57.005Z"
   },
   {
    "duration": 12,
    "start_time": "2023-01-22T18:13:58.311Z"
   },
   {
    "duration": 711,
    "start_time": "2023-01-22T18:14:08.398Z"
   },
   {
    "duration": 3,
    "start_time": "2023-01-22T18:14:22.042Z"
   },
   {
    "duration": 6,
    "start_time": "2023-01-22T18:26:36.740Z"
   },
   {
    "duration": 747,
    "start_time": "2023-01-22T18:26:36.821Z"
   },
   {
    "duration": 34,
    "start_time": "2023-01-22T18:26:37.570Z"
   },
   {
    "duration": 30,
    "start_time": "2023-01-22T18:26:37.606Z"
   },
   {
    "duration": 31,
    "start_time": "2023-01-22T18:26:37.638Z"
   },
   {
    "duration": 34,
    "start_time": "2023-01-22T18:26:37.671Z"
   },
   {
    "duration": 10,
    "start_time": "2023-01-22T18:26:37.706Z"
   },
   {
    "duration": 15,
    "start_time": "2023-01-22T18:26:37.717Z"
   },
   {
    "duration": 26,
    "start_time": "2023-01-22T18:26:37.734Z"
   },
   {
    "duration": 3,
    "start_time": "2023-01-22T18:26:37.761Z"
   },
   {
    "duration": 36,
    "start_time": "2023-01-22T18:26:37.766Z"
   },
   {
    "duration": 8,
    "start_time": "2023-01-22T18:26:37.804Z"
   },
   {
    "duration": 10,
    "start_time": "2023-01-22T18:26:37.813Z"
   },
   {
    "duration": 11,
    "start_time": "2023-01-22T18:26:37.825Z"
   },
   {
    "duration": 32,
    "start_time": "2023-01-22T18:26:37.840Z"
   },
   {
    "duration": 29,
    "start_time": "2023-01-22T18:26:37.874Z"
   },
   {
    "duration": 27,
    "start_time": "2023-01-22T18:26:37.905Z"
   },
   {
    "duration": 12,
    "start_time": "2023-01-22T18:26:37.934Z"
   },
   {
    "duration": 23,
    "start_time": "2023-01-22T18:26:37.947Z"
   },
   {
    "duration": 32,
    "start_time": "2023-01-22T18:26:37.972Z"
   },
   {
    "duration": 8,
    "start_time": "2023-01-22T18:26:38.006Z"
   },
   {
    "duration": 143,
    "start_time": "2023-01-22T18:26:38.015Z"
   },
   {
    "duration": 165,
    "start_time": "2023-01-22T18:26:38.160Z"
   },
   {
    "duration": 6,
    "start_time": "2023-01-22T18:26:38.327Z"
   },
   {
    "duration": 172,
    "start_time": "2023-01-22T18:26:38.334Z"
   },
   {
    "duration": 15,
    "start_time": "2023-01-22T18:26:38.507Z"
   },
   {
    "duration": 8,
    "start_time": "2023-01-22T18:26:38.523Z"
   },
   {
    "duration": 4,
    "start_time": "2023-01-22T18:26:38.533Z"
   },
   {
    "duration": 36,
    "start_time": "2023-01-22T18:26:38.538Z"
   },
   {
    "duration": 30,
    "start_time": "2023-01-22T18:26:38.575Z"
   },
   {
    "duration": 20,
    "start_time": "2023-01-22T18:26:38.607Z"
   },
   {
    "duration": 4,
    "start_time": "2023-01-22T18:26:38.628Z"
   },
   {
    "duration": 19,
    "start_time": "2023-01-22T18:26:38.634Z"
   },
   {
    "duration": 470,
    "start_time": "2023-01-22T18:26:38.655Z"
   },
   {
    "duration": 377,
    "start_time": "2023-01-22T18:26:39.126Z"
   },
   {
    "duration": 188,
    "start_time": "2023-01-22T18:26:39.505Z"
   },
   {
    "duration": 14,
    "start_time": "2023-01-22T18:26:39.695Z"
   },
   {
    "duration": 17,
    "start_time": "2023-01-22T18:26:39.711Z"
   },
   {
    "duration": 51,
    "start_time": "2023-01-22T18:26:39.730Z"
   },
   {
    "duration": 20,
    "start_time": "2023-01-22T18:26:39.783Z"
   },
   {
    "duration": 15,
    "start_time": "2023-01-22T18:26:39.805Z"
   },
   {
    "duration": 904,
    "start_time": "2023-01-22T18:26:39.825Z"
   },
   {
    "duration": 10,
    "start_time": "2023-01-22T18:26:40.730Z"
   },
   {
    "duration": 9,
    "start_time": "2023-01-22T18:26:40.742Z"
   },
   {
    "duration": 1714,
    "start_time": "2023-01-22T18:26:50.881Z"
   },
   {
    "duration": 4,
    "start_time": "2023-01-22T18:26:53.440Z"
   },
   {
    "duration": 3,
    "start_time": "2023-01-22T18:29:01.761Z"
   },
   {
    "duration": 7,
    "start_time": "2023-01-22T18:29:28.332Z"
   },
   {
    "duration": 737,
    "start_time": "2023-01-22T18:29:28.341Z"
   },
   {
    "duration": 33,
    "start_time": "2023-01-22T18:29:29.079Z"
   },
   {
    "duration": 31,
    "start_time": "2023-01-22T18:29:29.114Z"
   },
   {
    "duration": 26,
    "start_time": "2023-01-22T18:29:29.148Z"
   },
   {
    "duration": 3,
    "start_time": "2023-01-22T18:29:29.175Z"
   },
   {
    "duration": 29,
    "start_time": "2023-01-22T18:29:29.179Z"
   },
   {
    "duration": 48,
    "start_time": "2023-01-22T18:29:29.210Z"
   },
   {
    "duration": 36,
    "start_time": "2023-01-22T18:29:29.259Z"
   },
   {
    "duration": 5,
    "start_time": "2023-01-22T18:29:29.296Z"
   },
   {
    "duration": 27,
    "start_time": "2023-01-22T18:29:29.303Z"
   },
   {
    "duration": 33,
    "start_time": "2023-01-22T18:29:29.332Z"
   },
   {
    "duration": 33,
    "start_time": "2023-01-22T18:29:29.367Z"
   },
   {
    "duration": 28,
    "start_time": "2023-01-22T18:29:29.403Z"
   },
   {
    "duration": 57,
    "start_time": "2023-01-22T18:29:29.433Z"
   },
   {
    "duration": 3,
    "start_time": "2023-01-22T18:29:29.492Z"
   },
   {
    "duration": 39,
    "start_time": "2023-01-22T18:29:29.497Z"
   },
   {
    "duration": 29,
    "start_time": "2023-01-22T18:29:29.537Z"
   },
   {
    "duration": 39,
    "start_time": "2023-01-22T18:29:29.568Z"
   },
   {
    "duration": 20,
    "start_time": "2023-01-22T18:29:29.609Z"
   },
   {
    "duration": 19,
    "start_time": "2023-01-22T18:29:29.631Z"
   },
   {
    "duration": 153,
    "start_time": "2023-01-22T18:29:29.651Z"
   },
   {
    "duration": 143,
    "start_time": "2023-01-22T18:29:29.805Z"
   },
   {
    "duration": 6,
    "start_time": "2023-01-22T18:29:29.949Z"
   },
   {
    "duration": 165,
    "start_time": "2023-01-22T18:29:29.956Z"
   },
   {
    "duration": 13,
    "start_time": "2023-01-22T18:29:30.122Z"
   },
   {
    "duration": 20,
    "start_time": "2023-01-22T18:29:30.137Z"
   },
   {
    "duration": 20,
    "start_time": "2023-01-22T18:29:30.159Z"
   },
   {
    "duration": 54,
    "start_time": "2023-01-22T18:29:30.181Z"
   },
   {
    "duration": 9,
    "start_time": "2023-01-22T18:29:30.237Z"
   },
   {
    "duration": 32,
    "start_time": "2023-01-22T18:29:30.248Z"
   },
   {
    "duration": 37,
    "start_time": "2023-01-22T18:29:30.282Z"
   },
   {
    "duration": 48,
    "start_time": "2023-01-22T18:29:30.321Z"
   },
   {
    "duration": 781,
    "start_time": "2023-01-22T18:29:30.370Z"
   },
   {
    "duration": 387,
    "start_time": "2023-01-22T18:29:31.152Z"
   },
   {
    "duration": 154,
    "start_time": "2023-01-22T18:29:31.540Z"
   },
   {
    "duration": 12,
    "start_time": "2023-01-22T18:29:31.696Z"
   },
   {
    "duration": 31,
    "start_time": "2023-01-22T18:29:31.709Z"
   },
   {
    "duration": 56,
    "start_time": "2023-01-22T18:29:31.742Z"
   },
   {
    "duration": 24,
    "start_time": "2023-01-22T18:29:31.800Z"
   },
   {
    "duration": 51,
    "start_time": "2023-01-22T18:29:31.828Z"
   },
   {
    "duration": 870,
    "start_time": "2023-01-22T18:29:31.880Z"
   },
   {
    "duration": 10,
    "start_time": "2023-01-22T18:29:32.751Z"
   },
   {
    "duration": 19,
    "start_time": "2023-01-22T18:29:32.762Z"
   },
   {
    "duration": 14,
    "start_time": "2023-01-22T18:39:38.452Z"
   },
   {
    "duration": 13,
    "start_time": "2023-01-22T18:41:07.284Z"
   },
   {
    "duration": 14,
    "start_time": "2023-01-22T18:41:17.524Z"
   },
   {
    "duration": 10,
    "start_time": "2023-01-22T18:41:26.773Z"
   },
   {
    "duration": 22,
    "start_time": "2023-01-22T18:41:47.574Z"
   },
   {
    "duration": 11,
    "start_time": "2023-01-22T18:42:05.165Z"
   },
   {
    "duration": 15,
    "start_time": "2023-01-22T18:42:44.003Z"
   },
   {
    "duration": 14,
    "start_time": "2023-01-22T18:43:59.725Z"
   },
   {
    "duration": 13,
    "start_time": "2023-01-22T18:44:16.291Z"
   },
   {
    "duration": 14,
    "start_time": "2023-01-22T18:44:27.814Z"
   },
   {
    "duration": 7,
    "start_time": "2023-01-22T18:47:11.686Z"
   },
   {
    "duration": 1657,
    "start_time": "2023-01-22T18:48:33.378Z"
   },
   {
    "duration": 3,
    "start_time": "2023-01-22T18:48:42.848Z"
   },
   {
    "duration": 4,
    "start_time": "2023-01-22T18:49:04.696Z"
   },
   {
    "duration": 6,
    "start_time": "2023-01-22T18:49:15.778Z"
   },
   {
    "duration": 800,
    "start_time": "2023-01-22T18:49:15.797Z"
   },
   {
    "duration": 35,
    "start_time": "2023-01-22T18:49:16.599Z"
   },
   {
    "duration": 33,
    "start_time": "2023-01-22T18:49:16.635Z"
   },
   {
    "duration": 50,
    "start_time": "2023-01-22T18:49:16.670Z"
   },
   {
    "duration": 4,
    "start_time": "2023-01-22T18:49:16.722Z"
   },
   {
    "duration": 34,
    "start_time": "2023-01-22T18:49:16.727Z"
   },
   {
    "duration": 28,
    "start_time": "2023-01-22T18:49:16.762Z"
   },
   {
    "duration": 54,
    "start_time": "2023-01-22T18:49:16.792Z"
   },
   {
    "duration": 38,
    "start_time": "2023-01-22T18:49:16.848Z"
   },
   {
    "duration": 48,
    "start_time": "2023-01-22T18:49:16.887Z"
   },
   {
    "duration": 30,
    "start_time": "2023-01-22T18:49:16.936Z"
   },
   {
    "duration": 34,
    "start_time": "2023-01-22T18:49:16.967Z"
   },
   {
    "duration": 44,
    "start_time": "2023-01-22T18:49:17.002Z"
   },
   {
    "duration": 55,
    "start_time": "2023-01-22T18:49:17.049Z"
   },
   {
    "duration": 12,
    "start_time": "2023-01-22T18:49:17.106Z"
   },
   {
    "duration": 50,
    "start_time": "2023-01-22T18:49:17.119Z"
   },
   {
    "duration": 37,
    "start_time": "2023-01-22T18:49:17.170Z"
   },
   {
    "duration": 54,
    "start_time": "2023-01-22T18:49:17.209Z"
   },
   {
    "duration": 76,
    "start_time": "2023-01-22T18:49:17.264Z"
   },
   {
    "duration": 46,
    "start_time": "2023-01-22T18:49:17.341Z"
   },
   {
    "duration": 163,
    "start_time": "2023-01-22T18:49:17.389Z"
   },
   {
    "duration": 145,
    "start_time": "2023-01-22T18:49:17.554Z"
   },
   {
    "duration": 7,
    "start_time": "2023-01-22T18:49:17.702Z"
   },
   {
    "duration": 168,
    "start_time": "2023-01-22T18:49:17.710Z"
   },
   {
    "duration": 13,
    "start_time": "2023-01-22T18:49:17.880Z"
   },
   {
    "duration": 24,
    "start_time": "2023-01-22T18:49:17.895Z"
   },
   {
    "duration": 38,
    "start_time": "2023-01-22T18:49:17.920Z"
   },
   {
    "duration": 52,
    "start_time": "2023-01-22T18:49:17.959Z"
   },
   {
    "duration": 8,
    "start_time": "2023-01-22T18:49:18.013Z"
   },
   {
    "duration": 28,
    "start_time": "2023-01-22T18:49:18.022Z"
   },
   {
    "duration": 4,
    "start_time": "2023-01-22T18:49:18.051Z"
   },
   {
    "duration": 20,
    "start_time": "2023-01-22T18:49:18.056Z"
   },
   {
    "duration": 451,
    "start_time": "2023-01-22T18:49:18.077Z"
   },
   {
    "duration": 413,
    "start_time": "2023-01-22T18:49:18.530Z"
   },
   {
    "duration": 496,
    "start_time": "2023-01-22T18:49:18.944Z"
   },
   {
    "duration": 7,
    "start_time": "2023-01-22T18:49:19.442Z"
   },
   {
    "duration": 34,
    "start_time": "2023-01-22T18:49:19.450Z"
   },
   {
    "duration": 74,
    "start_time": "2023-01-22T18:49:19.485Z"
   },
   {
    "duration": 49,
    "start_time": "2023-01-22T18:49:19.560Z"
   },
   {
    "duration": 45,
    "start_time": "2023-01-22T18:49:19.611Z"
   },
   {
    "duration": 900,
    "start_time": "2023-01-22T18:49:19.660Z"
   },
   {
    "duration": 15,
    "start_time": "2023-01-22T18:49:20.562Z"
   },
   {
    "duration": 6,
    "start_time": "2023-01-22T18:49:20.578Z"
   },
   {
    "duration": 8,
    "start_time": "2023-01-22T18:49:20.602Z"
   },
   {
    "duration": 1647,
    "start_time": "2023-01-22T18:49:20.611Z"
   },
   {
    "duration": 3,
    "start_time": "2023-01-22T18:49:25.996Z"
   },
   {
    "duration": 4,
    "start_time": "2023-01-22T18:50:36.287Z"
   },
   {
    "duration": 7,
    "start_time": "2023-01-22T18:52:38.546Z"
   },
   {
    "duration": 689,
    "start_time": "2023-01-22T18:52:38.562Z"
   },
   {
    "duration": 34,
    "start_time": "2023-01-22T18:52:39.253Z"
   },
   {
    "duration": 44,
    "start_time": "2023-01-22T18:52:39.289Z"
   },
   {
    "duration": 29,
    "start_time": "2023-01-22T18:52:39.334Z"
   },
   {
    "duration": 3,
    "start_time": "2023-01-22T18:52:39.365Z"
   },
   {
    "duration": 13,
    "start_time": "2023-01-22T18:52:39.370Z"
   },
   {
    "duration": 4,
    "start_time": "2023-01-22T18:52:39.404Z"
   },
   {
    "duration": 32,
    "start_time": "2023-01-22T18:52:39.410Z"
   },
   {
    "duration": 4,
    "start_time": "2023-01-22T18:52:39.444Z"
   },
   {
    "duration": 19,
    "start_time": "2023-01-22T18:52:39.449Z"
   },
   {
    "duration": 23,
    "start_time": "2023-01-22T18:52:39.469Z"
   },
   {
    "duration": 17,
    "start_time": "2023-01-22T18:52:39.499Z"
   },
   {
    "duration": 20,
    "start_time": "2023-01-22T18:52:39.517Z"
   },
   {
    "duration": 44,
    "start_time": "2023-01-22T18:52:39.541Z"
   },
   {
    "duration": 2,
    "start_time": "2023-01-22T18:52:39.587Z"
   },
   {
    "duration": 25,
    "start_time": "2023-01-22T18:52:39.591Z"
   },
   {
    "duration": 13,
    "start_time": "2023-01-22T18:52:39.617Z"
   },
   {
    "duration": 25,
    "start_time": "2023-01-22T18:52:39.632Z"
   },
   {
    "duration": 9,
    "start_time": "2023-01-22T18:52:39.659Z"
   },
   {
    "duration": 35,
    "start_time": "2023-01-22T18:52:39.670Z"
   },
   {
    "duration": 155,
    "start_time": "2023-01-22T18:52:39.707Z"
   },
   {
    "duration": 151,
    "start_time": "2023-01-22T18:52:39.864Z"
   },
   {
    "duration": 6,
    "start_time": "2023-01-22T18:52:40.016Z"
   },
   {
    "duration": 170,
    "start_time": "2023-01-22T18:52:40.024Z"
   },
   {
    "duration": 16,
    "start_time": "2023-01-22T18:52:40.196Z"
   },
   {
    "duration": 8,
    "start_time": "2023-01-22T18:52:40.214Z"
   },
   {
    "duration": 9,
    "start_time": "2023-01-22T18:52:40.224Z"
   },
   {
    "duration": 37,
    "start_time": "2023-01-22T18:52:40.234Z"
   },
   {
    "duration": 7,
    "start_time": "2023-01-22T18:52:40.273Z"
   },
   {
    "duration": 40,
    "start_time": "2023-01-22T18:52:40.281Z"
   },
   {
    "duration": 3,
    "start_time": "2023-01-22T18:52:40.322Z"
   },
   {
    "duration": 18,
    "start_time": "2023-01-22T18:52:40.327Z"
   },
   {
    "duration": 463,
    "start_time": "2023-01-22T18:52:40.346Z"
   },
   {
    "duration": 433,
    "start_time": "2023-01-22T18:52:40.810Z"
   },
   {
    "duration": 160,
    "start_time": "2023-01-22T18:52:41.245Z"
   },
   {
    "duration": 8,
    "start_time": "2023-01-22T18:52:41.406Z"
   },
   {
    "duration": 11,
    "start_time": "2023-01-22T18:52:41.416Z"
   },
   {
    "duration": 51,
    "start_time": "2023-01-22T18:52:41.428Z"
   },
   {
    "duration": 23,
    "start_time": "2023-01-22T18:52:41.480Z"
   },
   {
    "duration": 37,
    "start_time": "2023-01-22T18:52:41.504Z"
   },
   {
    "duration": 866,
    "start_time": "2023-01-22T18:52:41.544Z"
   },
   {
    "duration": 14,
    "start_time": "2023-01-22T18:52:42.412Z"
   },
   {
    "duration": 6,
    "start_time": "2023-01-22T18:52:42.428Z"
   },
   {
    "duration": 11,
    "start_time": "2023-01-22T18:52:42.436Z"
   },
   {
    "duration": 1800,
    "start_time": "2023-01-22T18:52:42.449Z"
   },
   {
    "duration": 4,
    "start_time": "2023-01-22T18:52:44.251Z"
   },
   {
    "duration": 40,
    "start_time": "2023-01-22T18:52:44.257Z"
   },
   {
    "duration": 4,
    "start_time": "2023-01-22T18:52:51.768Z"
   },
   {
    "duration": 3,
    "start_time": "2023-01-22T18:59:45.569Z"
   },
   {
    "duration": 46674,
    "start_time": "2023-01-22T18:59:52.059Z"
   },
   {
    "duration": 3,
    "start_time": "2023-01-22T19:07:18.789Z"
   },
   {
    "duration": 77232,
    "start_time": "2023-01-22T19:07:22.200Z"
   },
   {
    "duration": 3,
    "start_time": "2023-01-22T19:14:17.173Z"
   },
   {
    "duration": 78446,
    "start_time": "2023-01-22T19:14:18.542Z"
   },
   {
    "duration": 3,
    "start_time": "2023-01-22T19:17:05.655Z"
   },
   {
    "duration": 20345,
    "start_time": "2023-01-22T19:17:06.015Z"
   },
   {
    "duration": 4,
    "start_time": "2023-01-22T19:19:02.155Z"
   },
   {
    "duration": 20360,
    "start_time": "2023-01-22T19:19:03.643Z"
   },
   {
    "duration": 3,
    "start_time": "2023-01-22T19:19:47.741Z"
   },
   {
    "duration": 89328,
    "start_time": "2023-01-22T19:19:49.489Z"
   },
   {
    "duration": 3,
    "start_time": "2023-01-22T19:21:42.610Z"
   },
   {
    "duration": 2147,
    "start_time": "2023-01-22T19:21:43.318Z"
   },
   {
    "duration": 3,
    "start_time": "2023-01-22T19:21:53.209Z"
   },
   {
    "duration": 176,
    "start_time": "2023-01-22T19:21:54.727Z"
   },
   {
    "duration": 3,
    "start_time": "2023-01-22T19:22:19.558Z"
   },
   {
    "duration": 7200,
    "start_time": "2023-01-22T19:22:20.639Z"
   },
   {
    "duration": 3,
    "start_time": "2023-01-22T19:23:28.177Z"
   },
   {
    "duration": 9496,
    "start_time": "2023-01-22T19:23:29.458Z"
   },
   {
    "duration": 4,
    "start_time": "2023-01-22T19:23:52.852Z"
   },
   {
    "duration": 9786,
    "start_time": "2023-01-22T19:23:53.997Z"
   },
   {
    "duration": 3,
    "start_time": "2023-01-22T19:24:20.258Z"
   },
   {
    "duration": 10035,
    "start_time": "2023-01-22T19:24:20.976Z"
   },
   {
    "duration": 3,
    "start_time": "2023-01-22T19:24:45.127Z"
   },
   {
    "duration": 9511,
    "start_time": "2023-01-22T19:24:45.817Z"
   },
   {
    "duration": 4,
    "start_time": "2023-01-22T19:25:06.836Z"
   },
   {
    "duration": 9328,
    "start_time": "2023-01-22T19:25:07.367Z"
   },
   {
    "duration": 7,
    "start_time": "2023-01-22T19:39:31.742Z"
   },
   {
    "duration": 710,
    "start_time": "2023-01-22T19:39:31.813Z"
   },
   {
    "duration": 33,
    "start_time": "2023-01-22T19:39:32.525Z"
   },
   {
    "duration": 45,
    "start_time": "2023-01-22T19:39:32.559Z"
   },
   {
    "duration": 31,
    "start_time": "2023-01-22T19:39:32.605Z"
   },
   {
    "duration": 11,
    "start_time": "2023-01-22T19:39:32.638Z"
   },
   {
    "duration": 33,
    "start_time": "2023-01-22T19:39:32.651Z"
   },
   {
    "duration": 31,
    "start_time": "2023-01-22T19:39:32.686Z"
   },
   {
    "duration": 46,
    "start_time": "2023-01-22T19:39:32.719Z"
   },
   {
    "duration": 42,
    "start_time": "2023-01-22T19:39:32.767Z"
   },
   {
    "duration": 16,
    "start_time": "2023-01-22T19:39:32.811Z"
   },
   {
    "duration": 19,
    "start_time": "2023-01-22T19:39:32.828Z"
   },
   {
    "duration": 22,
    "start_time": "2023-01-22T19:39:32.849Z"
   },
   {
    "duration": 18,
    "start_time": "2023-01-22T19:39:32.873Z"
   },
   {
    "duration": 54,
    "start_time": "2023-01-22T19:39:32.895Z"
   },
   {
    "duration": 3,
    "start_time": "2023-01-22T19:39:32.951Z"
   },
   {
    "duration": 47,
    "start_time": "2023-01-22T19:39:32.955Z"
   },
   {
    "duration": 23,
    "start_time": "2023-01-22T19:39:33.004Z"
   },
   {
    "duration": 26,
    "start_time": "2023-01-22T19:39:33.029Z"
   },
   {
    "duration": 9,
    "start_time": "2023-01-22T19:39:33.057Z"
   },
   {
    "duration": 22,
    "start_time": "2023-01-22T19:39:33.068Z"
   },
   {
    "duration": 158,
    "start_time": "2023-01-22T19:39:33.092Z"
   },
   {
    "duration": 147,
    "start_time": "2023-01-22T19:39:33.252Z"
   },
   {
    "duration": 7,
    "start_time": "2023-01-22T19:39:33.403Z"
   },
   {
    "duration": 171,
    "start_time": "2023-01-22T19:39:33.412Z"
   },
   {
    "duration": 20,
    "start_time": "2023-01-22T19:39:33.585Z"
   },
   {
    "duration": 13,
    "start_time": "2023-01-22T19:39:33.607Z"
   },
   {
    "duration": 29,
    "start_time": "2023-01-22T19:39:33.622Z"
   },
   {
    "duration": 46,
    "start_time": "2023-01-22T19:39:33.652Z"
   },
   {
    "duration": 7,
    "start_time": "2023-01-22T19:39:33.700Z"
   },
   {
    "duration": 45,
    "start_time": "2023-01-22T19:39:33.708Z"
   },
   {
    "duration": 17,
    "start_time": "2023-01-22T19:39:33.754Z"
   },
   {
    "duration": 46,
    "start_time": "2023-01-22T19:39:33.772Z"
   },
   {
    "duration": 826,
    "start_time": "2023-01-22T19:39:33.820Z"
   },
   {
    "duration": 412,
    "start_time": "2023-01-22T19:39:34.648Z"
   },
   {
    "duration": 172,
    "start_time": "2023-01-22T19:39:35.062Z"
   },
   {
    "duration": 8,
    "start_time": "2023-01-22T19:39:35.236Z"
   },
   {
    "duration": 26,
    "start_time": "2023-01-22T19:39:35.246Z"
   },
   {
    "duration": 61,
    "start_time": "2023-01-22T19:39:35.273Z"
   },
   {
    "duration": 28,
    "start_time": "2023-01-22T19:39:35.336Z"
   },
   {
    "duration": 43,
    "start_time": "2023-01-22T19:39:35.366Z"
   },
   {
    "duration": 886,
    "start_time": "2023-01-22T19:39:35.413Z"
   },
   {
    "duration": 14,
    "start_time": "2023-01-22T19:39:36.302Z"
   },
   {
    "duration": 14,
    "start_time": "2023-01-22T19:39:36.318Z"
   },
   {
    "duration": 20,
    "start_time": "2023-01-22T19:39:36.333Z"
   },
   {
    "duration": 1725,
    "start_time": "2023-01-22T19:39:36.355Z"
   },
   {
    "duration": 4,
    "start_time": "2023-01-22T19:39:38.081Z"
   },
   {
    "duration": 17,
    "start_time": "2023-01-22T19:39:38.086Z"
   },
   {
    "duration": 5,
    "start_time": "2023-01-22T19:39:38.104Z"
   },
   {
    "duration": 10,
    "start_time": "2023-01-22T19:39:38.111Z"
   },
   {
    "duration": 10,
    "start_time": "2023-01-22T19:39:38.123Z"
   },
   {
    "duration": 14,
    "start_time": "2023-01-22T19:39:38.134Z"
   },
   {
    "duration": 49,
    "start_time": "2023-01-22T19:39:38.150Z"
   },
   {
    "duration": 12,
    "start_time": "2023-01-22T19:39:38.201Z"
   },
   {
    "duration": 32,
    "start_time": "2023-01-22T19:39:38.215Z"
   },
   {
    "duration": 21,
    "start_time": "2023-01-22T19:39:38.249Z"
   },
   {
    "duration": 32,
    "start_time": "2023-01-22T19:39:38.272Z"
   },
   {
    "duration": 155611,
    "start_time": "2023-01-22T19:39:38.306Z"
   },
   {
    "duration": 3,
    "start_time": "2023-01-22T19:42:13.919Z"
   },
   {
    "duration": 19,
    "start_time": "2023-01-22T19:42:13.924Z"
   },
   {
    "duration": 2659,
    "start_time": "2023-01-22T19:42:13.945Z"
   },
   {
    "duration": 5,
    "start_time": "2023-01-22T19:45:16.753Z"
   },
   {
    "duration": 3,
    "start_time": "2023-01-22T19:45:18.736Z"
   },
   {
    "duration": 956935,
    "start_time": "2023-01-22T19:45:27.372Z"
   },
   {
    "duration": 4,
    "start_time": "2023-01-22T20:02:10.891Z"
   },
   {
    "duration": 9449,
    "start_time": "2023-01-22T20:02:11.352Z"
   },
   {
    "duration": 4,
    "start_time": "2023-01-22T20:02:26.723Z"
   },
   {
    "duration": 63279,
    "start_time": "2023-01-22T20:02:27.533Z"
   },
   {
    "duration": 1266,
    "start_time": "2023-01-22T20:03:59.004Z"
   },
   {
    "duration": 8400,
    "start_time": "2023-01-22T20:04:04.004Z"
   }
  ],
  "kernelspec": {
   "display_name": "Python 3 (ipykernel)",
   "language": "python",
   "name": "python3"
  },
  "language_info": {
   "codemirror_mode": {
    "name": "ipython",
    "version": 3
   },
   "file_extension": ".py",
   "mimetype": "text/x-python",
   "name": "python",
   "nbconvert_exporter": "python",
   "pygments_lexer": "ipython3",
   "version": "3.9.12"
  },
  "toc": {
   "base_numbering": 1,
   "nav_menu": {},
   "number_sections": true,
   "sideBar": true,
   "skip_h1_title": true,
   "title_cell": "Содержание",
   "title_sidebar": "Contents",
   "toc_cell": true,
   "toc_position": {},
   "toc_section_display": true,
   "toc_window_display": true
  }
 },
 "nbformat": 4,
 "nbformat_minor": 2
}
