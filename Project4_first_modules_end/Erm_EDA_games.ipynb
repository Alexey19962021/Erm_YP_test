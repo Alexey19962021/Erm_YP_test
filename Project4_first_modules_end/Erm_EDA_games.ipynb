{
 "cells": [
  {
   "cell_type": "markdown",
   "metadata": {},
   "source": [
    "# EDA анализ продаж игр"
   ]
  },
  {
   "cell_type": "markdown",
   "metadata": {},
   "source": [
    "В данном проект мы решаем задачу прогнозирования кампании, которая должна проводиться интернет-магазином игр в 2017 году. Для этого нам предоставлен файл в формате \"csv\".\n",
    " \n",
    " Первым делом мы должны разобраться с пропусками, дубликатами, форматом данных - провести соответствующую подготовку для проведения корректного анализа. Далее, объединив все продажи в целом, следует рассмотерть их изменение во времени для разных платформ. Определить актуальный период времени, который мы будем учитывать в исследовании, а также какие платформы более успешные к 2016 году и могут быть прибыльными к 2017 году. Стоит взглянуть на размах значений общих продаж в их разбивке по платформам. \n",
    " \n",
    " Кроме того, следует разобраться с тем, как влияют отзывы критиков и пользователей на продажи. Это можно сделать на примере одной платформы и соотнести с несколькими другими. Вместе с этим необходимо понимать и какие жанры наиболее популярны, приносят больше продаж.\n",
    " \n",
    " Помимо общего анализа логично изучить, что предпочитают пользователи каждого региона (платформы, жанры).\n",
    " \n",
    " Последним шагом можно сформулировать некоторые гипотезы по поводу рейтингов разных платформ, жанров, сравнить их."
   ]
  },
  {
   "cell_type": "markdown",
   "metadata": {},
   "source": [
    "##  Открытие файла, изучение общей информации"
   ]
  },
  {
   "cell_type": "code",
   "execution_count": 1,
   "metadata": {},
   "outputs": [],
   "source": [
    "%matplotlib inline\n",
    "import random\n",
    "import pandas as pd\n",
    "import numpy as np\n",
    "import scipy.stats as st \n",
    "import matplotlib.pyplot as plt\n",
    "import seaborn as sns\n",
    "\n",
    "pd.options.display.max_columns = None\n",
    "pd.options.mode.chained_assignment = None"
   ]
  },
  {
   "cell_type": "code",
   "execution_count": 2,
   "metadata": {},
   "outputs": [],
   "source": [
    "try:\n",
    "    data = pd.read_csv('games.csv')\n",
    "except:\n",
    "    data = pd.read_csv('YP/games.csv')"
   ]
  },
  {
   "cell_type": "code",
   "execution_count": 3,
   "metadata": {},
   "outputs": [
    {
     "name": "stdout",
     "output_type": "stream",
     "text": [
      "<class 'pandas.core.frame.DataFrame'>\n",
      "RangeIndex: 16715 entries, 0 to 16714\n",
      "Data columns (total 11 columns):\n",
      " #   Column           Non-Null Count  Dtype  \n",
      "---  ------           --------------  -----  \n",
      " 0   Name             16713 non-null  object \n",
      " 1   Platform         16715 non-null  object \n",
      " 2   Year_of_Release  16446 non-null  float64\n",
      " 3   Genre            16713 non-null  object \n",
      " 4   NA_sales         16715 non-null  float64\n",
      " 5   EU_sales         16715 non-null  float64\n",
      " 6   JP_sales         16715 non-null  float64\n",
      " 7   Other_sales      16715 non-null  float64\n",
      " 8   Critic_Score     8137 non-null   float64\n",
      " 9   User_Score       10014 non-null  object \n",
      " 10  Rating           9949 non-null   object \n",
      "dtypes: float64(6), object(5)\n",
      "memory usage: 1.4+ MB\n"
     ]
    },
    {
     "data": {
      "text/html": [
       "<div>\n",
       "<style scoped>\n",
       "    .dataframe tbody tr th:only-of-type {\n",
       "        vertical-align: middle;\n",
       "    }\n",
       "\n",
       "    .dataframe tbody tr th {\n",
       "        vertical-align: top;\n",
       "    }\n",
       "\n",
       "    .dataframe thead th {\n",
       "        text-align: right;\n",
       "    }\n",
       "</style>\n",
       "<table border=\"1\" class=\"dataframe\">\n",
       "  <thead>\n",
       "    <tr style=\"text-align: right;\">\n",
       "      <th></th>\n",
       "      <th>Name</th>\n",
       "      <th>Platform</th>\n",
       "      <th>Year_of_Release</th>\n",
       "      <th>Genre</th>\n",
       "      <th>NA_sales</th>\n",
       "      <th>EU_sales</th>\n",
       "      <th>JP_sales</th>\n",
       "      <th>Other_sales</th>\n",
       "      <th>Critic_Score</th>\n",
       "      <th>User_Score</th>\n",
       "      <th>Rating</th>\n",
       "    </tr>\n",
       "  </thead>\n",
       "  <tbody>\n",
       "    <tr>\n",
       "      <th>0</th>\n",
       "      <td>Wii Sports</td>\n",
       "      <td>Wii</td>\n",
       "      <td>2006.0</td>\n",
       "      <td>Sports</td>\n",
       "      <td>41.36</td>\n",
       "      <td>28.96</td>\n",
       "      <td>3.77</td>\n",
       "      <td>8.45</td>\n",
       "      <td>76.0</td>\n",
       "      <td>8</td>\n",
       "      <td>E</td>\n",
       "    </tr>\n",
       "    <tr>\n",
       "      <th>1</th>\n",
       "      <td>Super Mario Bros.</td>\n",
       "      <td>NES</td>\n",
       "      <td>1985.0</td>\n",
       "      <td>Platform</td>\n",
       "      <td>29.08</td>\n",
       "      <td>3.58</td>\n",
       "      <td>6.81</td>\n",
       "      <td>0.77</td>\n",
       "      <td>NaN</td>\n",
       "      <td>NaN</td>\n",
       "      <td>NaN</td>\n",
       "    </tr>\n",
       "    <tr>\n",
       "      <th>2</th>\n",
       "      <td>Mario Kart Wii</td>\n",
       "      <td>Wii</td>\n",
       "      <td>2008.0</td>\n",
       "      <td>Racing</td>\n",
       "      <td>15.68</td>\n",
       "      <td>12.76</td>\n",
       "      <td>3.79</td>\n",
       "      <td>3.29</td>\n",
       "      <td>82.0</td>\n",
       "      <td>8.3</td>\n",
       "      <td>E</td>\n",
       "    </tr>\n",
       "    <tr>\n",
       "      <th>3</th>\n",
       "      <td>Wii Sports Resort</td>\n",
       "      <td>Wii</td>\n",
       "      <td>2009.0</td>\n",
       "      <td>Sports</td>\n",
       "      <td>15.61</td>\n",
       "      <td>10.93</td>\n",
       "      <td>3.28</td>\n",
       "      <td>2.95</td>\n",
       "      <td>80.0</td>\n",
       "      <td>8</td>\n",
       "      <td>E</td>\n",
       "    </tr>\n",
       "    <tr>\n",
       "      <th>4</th>\n",
       "      <td>Pokemon Red/Pokemon Blue</td>\n",
       "      <td>GB</td>\n",
       "      <td>1996.0</td>\n",
       "      <td>Role-Playing</td>\n",
       "      <td>11.27</td>\n",
       "      <td>8.89</td>\n",
       "      <td>10.22</td>\n",
       "      <td>1.00</td>\n",
       "      <td>NaN</td>\n",
       "      <td>NaN</td>\n",
       "      <td>NaN</td>\n",
       "    </tr>\n",
       "    <tr>\n",
       "      <th>5</th>\n",
       "      <td>Tetris</td>\n",
       "      <td>GB</td>\n",
       "      <td>1989.0</td>\n",
       "      <td>Puzzle</td>\n",
       "      <td>23.20</td>\n",
       "      <td>2.26</td>\n",
       "      <td>4.22</td>\n",
       "      <td>0.58</td>\n",
       "      <td>NaN</td>\n",
       "      <td>NaN</td>\n",
       "      <td>NaN</td>\n",
       "    </tr>\n",
       "    <tr>\n",
       "      <th>6</th>\n",
       "      <td>New Super Mario Bros.</td>\n",
       "      <td>DS</td>\n",
       "      <td>2006.0</td>\n",
       "      <td>Platform</td>\n",
       "      <td>11.28</td>\n",
       "      <td>9.14</td>\n",
       "      <td>6.50</td>\n",
       "      <td>2.88</td>\n",
       "      <td>89.0</td>\n",
       "      <td>8.5</td>\n",
       "      <td>E</td>\n",
       "    </tr>\n",
       "    <tr>\n",
       "      <th>7</th>\n",
       "      <td>Wii Play</td>\n",
       "      <td>Wii</td>\n",
       "      <td>2006.0</td>\n",
       "      <td>Misc</td>\n",
       "      <td>13.96</td>\n",
       "      <td>9.18</td>\n",
       "      <td>2.93</td>\n",
       "      <td>2.84</td>\n",
       "      <td>58.0</td>\n",
       "      <td>6.6</td>\n",
       "      <td>E</td>\n",
       "    </tr>\n",
       "    <tr>\n",
       "      <th>8</th>\n",
       "      <td>New Super Mario Bros. Wii</td>\n",
       "      <td>Wii</td>\n",
       "      <td>2009.0</td>\n",
       "      <td>Platform</td>\n",
       "      <td>14.44</td>\n",
       "      <td>6.94</td>\n",
       "      <td>4.70</td>\n",
       "      <td>2.24</td>\n",
       "      <td>87.0</td>\n",
       "      <td>8.4</td>\n",
       "      <td>E</td>\n",
       "    </tr>\n",
       "    <tr>\n",
       "      <th>9</th>\n",
       "      <td>Duck Hunt</td>\n",
       "      <td>NES</td>\n",
       "      <td>1984.0</td>\n",
       "      <td>Shooter</td>\n",
       "      <td>26.93</td>\n",
       "      <td>0.63</td>\n",
       "      <td>0.28</td>\n",
       "      <td>0.47</td>\n",
       "      <td>NaN</td>\n",
       "      <td>NaN</td>\n",
       "      <td>NaN</td>\n",
       "    </tr>\n",
       "  </tbody>\n",
       "</table>\n",
       "</div>"
      ],
      "text/plain": [
       "                        Name Platform  Year_of_Release         Genre  \\\n",
       "0                 Wii Sports      Wii           2006.0        Sports   \n",
       "1          Super Mario Bros.      NES           1985.0      Platform   \n",
       "2             Mario Kart Wii      Wii           2008.0        Racing   \n",
       "3          Wii Sports Resort      Wii           2009.0        Sports   \n",
       "4   Pokemon Red/Pokemon Blue       GB           1996.0  Role-Playing   \n",
       "5                     Tetris       GB           1989.0        Puzzle   \n",
       "6      New Super Mario Bros.       DS           2006.0      Platform   \n",
       "7                   Wii Play      Wii           2006.0          Misc   \n",
       "8  New Super Mario Bros. Wii      Wii           2009.0      Platform   \n",
       "9                  Duck Hunt      NES           1984.0       Shooter   \n",
       "\n",
       "   NA_sales  EU_sales  JP_sales  Other_sales  Critic_Score User_Score Rating  \n",
       "0     41.36     28.96      3.77         8.45          76.0          8      E  \n",
       "1     29.08      3.58      6.81         0.77           NaN        NaN    NaN  \n",
       "2     15.68     12.76      3.79         3.29          82.0        8.3      E  \n",
       "3     15.61     10.93      3.28         2.95          80.0          8      E  \n",
       "4     11.27      8.89     10.22         1.00           NaN        NaN    NaN  \n",
       "5     23.20      2.26      4.22         0.58           NaN        NaN    NaN  \n",
       "6     11.28      9.14      6.50         2.88          89.0        8.5      E  \n",
       "7     13.96      9.18      2.93         2.84          58.0        6.6      E  \n",
       "8     14.44      6.94      4.70         2.24          87.0        8.4      E  \n",
       "9     26.93      0.63      0.28         0.47           NaN        NaN    NaN  "
      ]
     },
     "execution_count": 3,
     "metadata": {},
     "output_type": "execute_result"
    }
   ],
   "source": [
    "data.info()\n",
    "data.head(10)"
   ]
  },
  {
   "cell_type": "markdown",
   "metadata": {},
   "source": [
    "Пропусков в Name, Year_of_Release, Genre, явно не много (посмотрим ниже, конечно дубликаты, но если что, просто удалим строки даже, т.к. нам погоды они не сыграют на шестнадцатитысячной выборке), а вот в трех последних колонках (оценки разных источников) немало (40% и выше), их придется либо пропустить, либо чем-то заполнить. Ноли в столбцах продаж с регионами, скорее всего, просто говорят о том, что в данном регионе не продавалась игра. "
   ]
  },
  {
   "cell_type": "markdown",
   "metadata": {},
   "source": [
    "##  Подготовка данных"
   ]
  },
  {
   "cell_type": "markdown",
   "metadata": {},
   "source": [
    "###  Предварительные оценки"
   ]
  },
  {
   "cell_type": "code",
   "execution_count": 4,
   "metadata": {},
   "outputs": [],
   "source": [
    "# приведем столбцы к нижнему регистру\n",
    "data.columns = data.columns.str.lower()"
   ]
  },
  {
   "cell_type": "markdown",
   "metadata": {},
   "source": [
    "\n",
    "Пропуски в колонках с оценками возникли либо из-за того, что игра не популярна (платформа может) и никто такой показатель не ставил целью исследования, либо как раз из-за того, что их предстоит определить (вдруг 0 - по факту tbd, об этом ниже). Год релиза в любом случае должен существовать (может для мелких студий, игр его и не указывает никто, потому что просто игра вышла в свет и вышла), но возможно, что и релиз переносили с года на год, и просто эти данные не внесли никуда."
   ]
  },
  {
   "cell_type": "markdown",
   "metadata": {},
   "source": [
    "### Поиск дубликатов"
   ]
  },
  {
   "cell_type": "code",
   "execution_count": 5,
   "metadata": {},
   "outputs": [
    {
     "data": {
      "text/html": [
       "<div>\n",
       "<style scoped>\n",
       "    .dataframe tbody tr th:only-of-type {\n",
       "        vertical-align: middle;\n",
       "    }\n",
       "\n",
       "    .dataframe tbody tr th {\n",
       "        vertical-align: top;\n",
       "    }\n",
       "\n",
       "    .dataframe thead th {\n",
       "        text-align: right;\n",
       "    }\n",
       "</style>\n",
       "<table border=\"1\" class=\"dataframe\">\n",
       "  <thead>\n",
       "    <tr style=\"text-align: right;\">\n",
       "      <th></th>\n",
       "      <th>name</th>\n",
       "      <th>platform</th>\n",
       "      <th>year_of_release</th>\n",
       "      <th>genre</th>\n",
       "      <th>na_sales</th>\n",
       "      <th>eu_sales</th>\n",
       "      <th>jp_sales</th>\n",
       "      <th>other_sales</th>\n",
       "      <th>critic_score</th>\n",
       "      <th>user_score</th>\n",
       "      <th>rating</th>\n",
       "    </tr>\n",
       "  </thead>\n",
       "  <tbody>\n",
       "  </tbody>\n",
       "</table>\n",
       "</div>"
      ],
      "text/plain": [
       "Empty DataFrame\n",
       "Columns: [name, platform, year_of_release, genre, na_sales, eu_sales, jp_sales, other_sales, critic_score, user_score, rating]\n",
       "Index: []"
      ]
     },
     "metadata": {},
     "output_type": "display_data"
    }
   ],
   "source": [
    "display(data[data.duplicated() == True])"
   ]
  },
  {
   "cell_type": "markdown",
   "metadata": {},
   "source": [
    "Явных дубликатов нет. Обратим внимание на то, что лучше объединить платформу и название, взглянув на дубликаты в такой связке. Проверим, что у нас имеется хотя бы по одной (любой) игре."
   ]
  },
  {
   "cell_type": "code",
   "execution_count": 6,
   "metadata": {},
   "outputs": [
    {
     "data": {
      "text/html": [
       "<div>\n",
       "<style scoped>\n",
       "    .dataframe tbody tr th:only-of-type {\n",
       "        vertical-align: middle;\n",
       "    }\n",
       "\n",
       "    .dataframe tbody tr th {\n",
       "        vertical-align: top;\n",
       "    }\n",
       "\n",
       "    .dataframe thead th {\n",
       "        text-align: right;\n",
       "    }\n",
       "</style>\n",
       "<table border=\"1\" class=\"dataframe\">\n",
       "  <thead>\n",
       "    <tr style=\"text-align: right;\">\n",
       "      <th></th>\n",
       "      <th>name</th>\n",
       "      <th>platform</th>\n",
       "      <th>year_of_release</th>\n",
       "      <th>genre</th>\n",
       "      <th>na_sales</th>\n",
       "      <th>eu_sales</th>\n",
       "      <th>jp_sales</th>\n",
       "      <th>other_sales</th>\n",
       "      <th>critic_score</th>\n",
       "      <th>user_score</th>\n",
       "      <th>rating</th>\n",
       "    </tr>\n",
       "  </thead>\n",
       "  <tbody>\n",
       "    <tr>\n",
       "      <th>253</th>\n",
       "      <td>Need for Speed: Most Wanted</td>\n",
       "      <td>PS2</td>\n",
       "      <td>2005.0</td>\n",
       "      <td>Racing</td>\n",
       "      <td>2.03</td>\n",
       "      <td>1.79</td>\n",
       "      <td>0.08</td>\n",
       "      <td>0.47</td>\n",
       "      <td>82.0</td>\n",
       "      <td>9.1</td>\n",
       "      <td>T</td>\n",
       "    </tr>\n",
       "    <tr>\n",
       "      <th>523</th>\n",
       "      <td>Need for Speed: Most Wanted</td>\n",
       "      <td>PS3</td>\n",
       "      <td>2012.0</td>\n",
       "      <td>Racing</td>\n",
       "      <td>0.71</td>\n",
       "      <td>1.46</td>\n",
       "      <td>0.06</td>\n",
       "      <td>0.58</td>\n",
       "      <td>NaN</td>\n",
       "      <td>NaN</td>\n",
       "      <td>NaN</td>\n",
       "    </tr>\n",
       "    <tr>\n",
       "      <th>1190</th>\n",
       "      <td>Need for Speed: Most Wanted</td>\n",
       "      <td>X360</td>\n",
       "      <td>2012.0</td>\n",
       "      <td>Racing</td>\n",
       "      <td>0.62</td>\n",
       "      <td>0.78</td>\n",
       "      <td>0.01</td>\n",
       "      <td>0.15</td>\n",
       "      <td>83.0</td>\n",
       "      <td>8.5</td>\n",
       "      <td>T</td>\n",
       "    </tr>\n",
       "    <tr>\n",
       "      <th>1591</th>\n",
       "      <td>Need for Speed: Most Wanted</td>\n",
       "      <td>X360</td>\n",
       "      <td>2005.0</td>\n",
       "      <td>Racing</td>\n",
       "      <td>1.00</td>\n",
       "      <td>0.13</td>\n",
       "      <td>0.02</td>\n",
       "      <td>0.10</td>\n",
       "      <td>83.0</td>\n",
       "      <td>8.5</td>\n",
       "      <td>T</td>\n",
       "    </tr>\n",
       "    <tr>\n",
       "      <th>1998</th>\n",
       "      <td>Need for Speed: Most Wanted</td>\n",
       "      <td>XB</td>\n",
       "      <td>2005.0</td>\n",
       "      <td>Racing</td>\n",
       "      <td>0.53</td>\n",
       "      <td>0.46</td>\n",
       "      <td>0.00</td>\n",
       "      <td>0.05</td>\n",
       "      <td>83.0</td>\n",
       "      <td>8.8</td>\n",
       "      <td>T</td>\n",
       "    </tr>\n",
       "    <tr>\n",
       "      <th>2048</th>\n",
       "      <td>Need for Speed: Most Wanted</td>\n",
       "      <td>PSV</td>\n",
       "      <td>2012.0</td>\n",
       "      <td>Racing</td>\n",
       "      <td>0.33</td>\n",
       "      <td>0.45</td>\n",
       "      <td>0.01</td>\n",
       "      <td>0.22</td>\n",
       "      <td>NaN</td>\n",
       "      <td>NaN</td>\n",
       "      <td>NaN</td>\n",
       "    </tr>\n",
       "    <tr>\n",
       "      <th>3581</th>\n",
       "      <td>Need for Speed: Most Wanted</td>\n",
       "      <td>GC</td>\n",
       "      <td>2005.0</td>\n",
       "      <td>Racing</td>\n",
       "      <td>0.43</td>\n",
       "      <td>0.11</td>\n",
       "      <td>0.00</td>\n",
       "      <td>0.02</td>\n",
       "      <td>80.0</td>\n",
       "      <td>9.1</td>\n",
       "      <td>T</td>\n",
       "    </tr>\n",
       "    <tr>\n",
       "      <th>5972</th>\n",
       "      <td>Need for Speed: Most Wanted</td>\n",
       "      <td>PC</td>\n",
       "      <td>2005.0</td>\n",
       "      <td>Racing</td>\n",
       "      <td>0.02</td>\n",
       "      <td>0.23</td>\n",
       "      <td>0.00</td>\n",
       "      <td>0.04</td>\n",
       "      <td>82.0</td>\n",
       "      <td>8.5</td>\n",
       "      <td>T</td>\n",
       "    </tr>\n",
       "    <tr>\n",
       "      <th>6273</th>\n",
       "      <td>Need for Speed: Most Wanted</td>\n",
       "      <td>WiiU</td>\n",
       "      <td>2013.0</td>\n",
       "      <td>Racing</td>\n",
       "      <td>0.13</td>\n",
       "      <td>0.12</td>\n",
       "      <td>0.00</td>\n",
       "      <td>0.02</td>\n",
       "      <td>NaN</td>\n",
       "      <td>NaN</td>\n",
       "      <td>NaN</td>\n",
       "    </tr>\n",
       "    <tr>\n",
       "      <th>6410</th>\n",
       "      <td>Need for Speed: Most Wanted</td>\n",
       "      <td>DS</td>\n",
       "      <td>2005.0</td>\n",
       "      <td>Racing</td>\n",
       "      <td>0.24</td>\n",
       "      <td>0.01</td>\n",
       "      <td>0.00</td>\n",
       "      <td>0.02</td>\n",
       "      <td>45.0</td>\n",
       "      <td>6.1</td>\n",
       "      <td>E</td>\n",
       "    </tr>\n",
       "    <tr>\n",
       "      <th>6473</th>\n",
       "      <td>Need for Speed: Most Wanted</td>\n",
       "      <td>GBA</td>\n",
       "      <td>2005.0</td>\n",
       "      <td>Racing</td>\n",
       "      <td>0.19</td>\n",
       "      <td>0.07</td>\n",
       "      <td>0.00</td>\n",
       "      <td>0.00</td>\n",
       "      <td>NaN</td>\n",
       "      <td>8.3</td>\n",
       "      <td>E</td>\n",
       "    </tr>\n",
       "    <tr>\n",
       "      <th>11715</th>\n",
       "      <td>Need for Speed: Most Wanted</td>\n",
       "      <td>PC</td>\n",
       "      <td>2012.0</td>\n",
       "      <td>Racing</td>\n",
       "      <td>0.00</td>\n",
       "      <td>0.06</td>\n",
       "      <td>0.00</td>\n",
       "      <td>0.02</td>\n",
       "      <td>82.0</td>\n",
       "      <td>8.5</td>\n",
       "      <td>T</td>\n",
       "    </tr>\n",
       "  </tbody>\n",
       "</table>\n",
       "</div>"
      ],
      "text/plain": [
       "                              name platform  year_of_release   genre  \\\n",
       "253    Need for Speed: Most Wanted      PS2           2005.0  Racing   \n",
       "523    Need for Speed: Most Wanted      PS3           2012.0  Racing   \n",
       "1190   Need for Speed: Most Wanted     X360           2012.0  Racing   \n",
       "1591   Need for Speed: Most Wanted     X360           2005.0  Racing   \n",
       "1998   Need for Speed: Most Wanted       XB           2005.0  Racing   \n",
       "2048   Need for Speed: Most Wanted      PSV           2012.0  Racing   \n",
       "3581   Need for Speed: Most Wanted       GC           2005.0  Racing   \n",
       "5972   Need for Speed: Most Wanted       PC           2005.0  Racing   \n",
       "6273   Need for Speed: Most Wanted     WiiU           2013.0  Racing   \n",
       "6410   Need for Speed: Most Wanted       DS           2005.0  Racing   \n",
       "6473   Need for Speed: Most Wanted      GBA           2005.0  Racing   \n",
       "11715  Need for Speed: Most Wanted       PC           2012.0  Racing   \n",
       "\n",
       "       na_sales  eu_sales  jp_sales  other_sales  critic_score user_score  \\\n",
       "253        2.03      1.79      0.08         0.47          82.0        9.1   \n",
       "523        0.71      1.46      0.06         0.58           NaN        NaN   \n",
       "1190       0.62      0.78      0.01         0.15          83.0        8.5   \n",
       "1591       1.00      0.13      0.02         0.10          83.0        8.5   \n",
       "1998       0.53      0.46      0.00         0.05          83.0        8.8   \n",
       "2048       0.33      0.45      0.01         0.22           NaN        NaN   \n",
       "3581       0.43      0.11      0.00         0.02          80.0        9.1   \n",
       "5972       0.02      0.23      0.00         0.04          82.0        8.5   \n",
       "6273       0.13      0.12      0.00         0.02           NaN        NaN   \n",
       "6410       0.24      0.01      0.00         0.02          45.0        6.1   \n",
       "6473       0.19      0.07      0.00         0.00           NaN        8.3   \n",
       "11715      0.00      0.06      0.00         0.02          82.0        8.5   \n",
       "\n",
       "      rating  \n",
       "253        T  \n",
       "523      NaN  \n",
       "1190       T  \n",
       "1591       T  \n",
       "1998       T  \n",
       "2048     NaN  \n",
       "3581       T  \n",
       "5972       T  \n",
       "6273     NaN  \n",
       "6410       E  \n",
       "6473       E  \n",
       "11715      T  "
      ]
     },
     "execution_count": 6,
     "metadata": {},
     "output_type": "execute_result"
    }
   ],
   "source": [
    "data[(data['name'] == 'Need for Speed: Most Wanted')]"
   ]
  },
  {
   "cell_type": "markdown",
   "metadata": {
    "scrolled": false
   },
   "source": [
    "Имеются \"перезаливы\" для некоторых платформ и пропуски в некоторых ячейках."
   ]
  },
  {
   "cell_type": "markdown",
   "metadata": {},
   "source": [
    "### Обработка пропусков"
   ]
  },
  {
   "cell_type": "markdown",
   "metadata": {},
   "source": [
    "Очевидно, что если год релиза пропущен нужно либо найти его вручную, либо избавиться от таких пропусков. Заодно приведем тип к удобному для сравнения."
   ]
  },
  {
   "cell_type": "code",
   "execution_count": 7,
   "metadata": {},
   "outputs": [],
   "source": [
    "data = data.dropna(subset=['year_of_release']).reset_index(drop=True)\n",
    "data['year_of_release'] = data['year_of_release'].astype('int')"
   ]
  },
  {
   "cell_type": "markdown",
   "metadata": {},
   "source": [
    "Здесь же обработаем и значения tbd, они по своей сути тоже пропуски, которые должны быть определены (по факту правда не нами, а пользователями, укоторых нужно узнать оценки)."
   ]
  },
  {
   "cell_type": "code",
   "execution_count": 8,
   "metadata": {
    "scrolled": true
   },
   "outputs": [
    {
     "data": {
      "text/plain": [
       "<AxesSubplot:>"
      ]
     },
     "execution_count": 8,
     "metadata": {},
     "output_type": "execute_result"
    },
    {
     "data": {
      "image/png": "[encoded data removed]",
      "text/plain": [
       "<Figure size 432x288 with 1 Axes>"
      ]
     },
     "metadata": {
      "needs_background": "light"
     },
     "output_type": "display_data"
    }
   ],
   "source": [
    "year_tbd = data[data['user_score'] == 'tbd']['year_of_release']\n",
    "year_tbd.hist(bins=20)\n"
   ]
  },
  {
   "cell_type": "markdown",
   "metadata": {},
   "source": [
    "Одназначно оценки сильно не заполнялись в 2006...2011 годах. После этого их стало в разы меньше. До этого у них был период, когда о таком, видимо совсем не знали (в смысле и термин не придумали), потом был плавный рост с конца девяностых до 2006 с одним всплеском. В любом случае, считаю нецелесообразным здесь заполнять медианным значением по группам годов оценки, т.к. пользователи могли влепить везде любую оценку (у нас медианное может быть 7.5, а на самом деле там 5 будет - это не вариант, на мой взгляд).\n",
    "\n"
   ]
  },
  {
   "cell_type": "code",
   "execution_count": 9,
   "metadata": {
    "scrolled": true
   },
   "outputs": [
    {
     "name": "stdout",
     "output_type": "stream",
     "text": [
      "<class 'pandas.core.frame.DataFrame'>\n",
      "RangeIndex: 16446 entries, 0 to 16445\n",
      "Data columns (total 11 columns):\n",
      " #   Column           Non-Null Count  Dtype  \n",
      "---  ------           --------------  -----  \n",
      " 0   name             16444 non-null  object \n",
      " 1   platform         16446 non-null  object \n",
      " 2   year_of_release  16446 non-null  int32  \n",
      " 3   genre            16444 non-null  object \n",
      " 4   na_sales         16446 non-null  float64\n",
      " 5   eu_sales         16446 non-null  float64\n",
      " 6   jp_sales         16446 non-null  float64\n",
      " 7   other_sales      16446 non-null  float64\n",
      " 8   critic_score     7983 non-null   float64\n",
      " 9   user_score       7463 non-null   float32\n",
      " 10  rating           9768 non-null   object \n",
      "dtypes: float32(1), float64(5), int32(1), object(4)\n",
      "memory usage: 1.3+ MB\n"
     ]
    }
   ],
   "source": [
    "# пока решаем присвоить всем 'tbd' NaN, чтобы потом работать со столбцом\n",
    "data.loc[data['user_score'] == 'tbd', 'user_score'] = \"NaN\"\n",
    "data['user_score'] = data['user_score'].astype('float32')\n",
    "#data['user_score'].unique()\n",
    "data.info()"
   ]
  },
  {
   "cell_type": "code",
   "execution_count": 10,
   "metadata": {
    "scrolled": true
   },
   "outputs": [
    {
     "data": {
      "image/png": "[encoded data removed]",
      "text/plain": [
       "<Figure size 576x1872 with 6 Axes>"
      ]
     },
     "metadata": {
      "needs_background": "light"
     },
     "output_type": "display_data"
    },
    {
     "name": "stdout",
     "output_type": "stream",
     "text": [
      "0.579670625121847\n"
     ]
    }
   ],
   "source": [
    "# предварительно посмотрим на продажи по годам\n",
    "# и сравним оценки критиков и пользователей\n",
    "plt.figure(figsize=(8, 26))\n",
    "df = data.set_index('year_of_release')\n",
    "\n",
    "numeric_columns = data.select_dtypes(include=['float']).columns\n",
    "\n",
    "for i, colname in enumerate(numeric_columns):\n",
    "    plt.subplot(len(numeric_columns), 1, i+1)\n",
    "    plt.plot(df[colname], 'o', alpha=0.05)\n",
    "    plt.title(colname)\n",
    "plt.show()\n",
    "print(data['user_score'].corr(data['critic_score']))\n"
   ]
  },
  {
   "cell_type": "markdown",
   "metadata": {},
   "source": [
    "Похоже нас хоть как-то будут интересовать годы только после 2000, т.к. до этого и оценок никто особо не ставил, и продажи были явно ниже (за исключением некоторых индивидуальных случаев. Дальше на количество их в разные годы группировкой посмотрим еще.\n",
    "\n",
    "Однозначно линейная корреляция у оценок критиков и пользователей есть. \n"
   ]
  },
  {
   "cell_type": "markdown",
   "metadata": {},
   "source": []
  },
  {
   "cell_type": "markdown",
   "metadata": {},
   "source": [
    "###  Определение суммы общих продаж"
   ]
  },
  {
   "cell_type": "code",
   "execution_count": 11,
   "metadata": {},
   "outputs": [],
   "source": [
    "data['sales_sum'] = data['na_sales'] + data['eu_sales'] + data['jp_sales'] + data['other_sales']"
   ]
  },
  {
   "cell_type": "code",
   "execution_count": 12,
   "metadata": {},
   "outputs": [
    {
     "name": "stdout",
     "output_type": "stream",
     "text": [
      "<class 'pandas.core.frame.DataFrame'>\n",
      "RangeIndex: 16446 entries, 0 to 16445\n",
      "Data columns (total 12 columns):\n",
      " #   Column           Non-Null Count  Dtype  \n",
      "---  ------           --------------  -----  \n",
      " 0   name             16444 non-null  object \n",
      " 1   platform         16446 non-null  object \n",
      " 2   year_of_release  16446 non-null  int32  \n",
      " 3   genre            16444 non-null  object \n",
      " 4   na_sales         16446 non-null  float64\n",
      " 5   eu_sales         16446 non-null  float64\n",
      " 6   jp_sales         16446 non-null  float64\n",
      " 7   other_sales      16446 non-null  float64\n",
      " 8   critic_score     7983 non-null   float64\n",
      " 9   user_score       7463 non-null   float32\n",
      " 10  rating           9768 non-null   object \n",
      " 11  sales_sum        16446 non-null  float64\n",
      "dtypes: float32(1), float64(6), int32(1), object(4)\n",
      "memory usage: 1.4+ MB\n",
      "None\n",
      "-------------------------\n",
      "name [' Beyblade Burst' ' Fire Emblem Fates' \" Frozen: Olaf's Quest\" ...\n",
      " 'uDraw Studio: Instant Artist' '¡Shin Chan Flipa en colores!' nan]\n",
      "name : кол-во NaN 2 , процент NaN 0.01 %\n",
      "-------------------------\n",
      "platform ['2600' '3DO' '3DS' 'DC' 'DS' 'GB' 'GBA' 'GC' 'GEN' 'GG' 'N64' 'NES' 'NG'\n",
      " 'PC' 'PCFX' 'PS' 'PS2' 'PS3' 'PS4' 'PSP' 'PSV' 'SAT' 'SCD' 'SNES' 'TG16'\n",
      " 'WS' 'Wii' 'WiiU' 'X360' 'XB' 'XOne']\n",
      "platform : кол-во NaN 0 , процент NaN 0.0 %\n",
      "-------------------------\n",
      "year_of_release [1980 1981 1982 1983 1984 1985 1986 1987 1988 1989 1990 1991 1992 1993\n",
      " 1994 1995 1996 1997 1998 1999 2000 2001 2002 2003 2004 2005 2006 2007\n",
      " 2008 2009 2010 2011 2012 2013 2014 2015 2016]\n",
      "year_of_release : кол-во NaN 0 , процент NaN 0.0 %\n",
      "-------------------------\n",
      "genre ['Action' 'Adventure' 'Fighting' 'Misc' 'Platform' 'Puzzle' 'Racing'\n",
      " 'Role-Playing' 'Shooter' 'Simulation' 'Sports' 'Strategy' nan]\n",
      "genre : кол-во NaN 2 , процент NaN 0.01 %\n",
      "-------------------------\n",
      "critic_score [13. 17. 19. 20. 21. 23. 24. 25. 26. 27. 28. 29. 30. 31. 32. 33. 34. 35.\n",
      " 36. 37. 38. 39. 40. 41. 42. 43. 44. 45. 46. 47. 48. 49. 50. 51. 52. 53.\n",
      " 54. 55. 56. 57. 58. 59. 60. 61. 62. 63. 64. 65. 66. 67. 68. 69. 70. 71.\n",
      " 72. 73. 74. 75. 76. 77. 78. 79. 80. 81. 82. 83. 84. 85. 86. 87. 88. 89.\n",
      " 90. 91. 92. 93. 94. 95. 96. 97. 98. nan]\n",
      "critic_score : кол-во NaN 8463 , процент NaN 51.46 %\n",
      "-------------------------\n",
      "user_score [0.  0.2 0.3 0.5 0.6 0.7 0.9 1.  1.1 1.2 1.3 1.4 1.5 1.6 1.7 1.8 1.9 2.\n",
      " 2.1 2.2 2.3 2.4 2.5 2.6 2.7 2.8 2.9 3.  3.1 3.2 3.3 3.4 3.5 3.6 3.7 3.8\n",
      " 3.9 4.  4.1 4.2 4.3 4.4 4.5 4.6 4.7 4.8 4.9 5.  5.1 5.2 5.3 5.4 5.5 5.6\n",
      " 5.7 5.8 5.9 6.  6.1 6.2 6.3 6.4 6.5 6.6 6.7 6.8 6.9 7.  7.1 7.2 7.3 7.4\n",
      " 7.5 7.6 7.7 7.8 7.9 8.  8.1 8.2 8.3 8.4 8.5 8.6 8.7 8.8 8.9 9.  9.1 9.2\n",
      " 9.3 9.4 9.5 9.6 9.7 nan]\n",
      "user_score : кол-во NaN 8983 , процент NaN 54.62 %\n",
      "-------------------------\n",
      "rating ['AO' 'E' 'E10+' 'EC' 'K-A' 'M' 'RP' 'T' nan]\n",
      "rating : кол-во NaN 6678 , процент NaN 40.61 %\n"
     ]
    }
   ],
   "source": [
    "# Посмотрим, что у нас осталось из пропусков\n",
    "temp = data.copy() \n",
    "list_c = ['name', 'platform', 'year_of_release', 'genre', 'critic_score', 'user_score', 'rating']\n",
    "print(temp.info())\n",
    "for col_l in list_c:\n",
    "  print('-'* 25)\n",
    "  print(col_l, temp[col_l].sort_values().unique())\n",
    "  print(col_l,': кол-во NaN',temp[col_l].isna().sum(),\n",
    "        ', процент NaN', round(temp[col_l].isna().sum()/len(temp)*100, 2),'%')"
   ]
  },
  {
   "cell_type": "markdown",
   "metadata": {},
   "source": [
    "## Проведение исследовательского анализа"
   ]
  },
  {
   "cell_type": "markdown",
   "metadata": {},
   "source": [
    "### Определение колличества выпущенных игр по годам"
   ]
  },
  {
   "cell_type": "code",
   "execution_count": 13,
   "metadata": {},
   "outputs": [
    {
     "data": {
      "image/png": "[encoded data removed]",
      "text/plain": [
       "<Figure size 432x288 with 1 Axes>"
      ]
     },
     "metadata": {
      "needs_background": "light"
     },
     "output_type": "display_data"
    }
   ],
   "source": [
    "games_amount = data.groupby('year_of_release').agg({'name': 'count'}).reset_index()\n",
    "games_amount.plot(x='year_of_release', y='name', grid=True, style='o-', legend=False, ylabel='count_og_games', title=\\\n",
    "                  'Game`s number by years')\n",
    "plt.show()"
   ]
  },
  {
   "cell_type": "markdown",
   "metadata": {},
   "source": [
    "Видно, что крайне мало игр разрабатывалось и продавалось до 2000 года. Поэтому от них сразу же избавимся. В целом отметим, что распределение напоминает нормальное - в 2008, 2009 гг. явно был пик.\n"
   ]
  },
  {
   "cell_type": "code",
   "execution_count": 14,
   "metadata": {},
   "outputs": [
    {
     "name": "stdout",
     "output_type": "stream",
     "text": [
      "<class 'pandas.core.frame.DataFrame'>\n",
      "Int64Index: 14120 entries, 0 to 16445\n",
      "Data columns (total 12 columns):\n",
      " #   Column           Non-Null Count  Dtype  \n",
      "---  ------           --------------  -----  \n",
      " 0   name             14120 non-null  object \n",
      " 1   platform         14120 non-null  object \n",
      " 2   year_of_release  14120 non-null  int32  \n",
      " 3   genre            14120 non-null  object \n",
      " 4   na_sales         14120 non-null  float64\n",
      " 5   eu_sales         14120 non-null  float64\n",
      " 6   jp_sales         14120 non-null  float64\n",
      " 7   other_sales      14120 non-null  float64\n",
      " 8   critic_score     7744 non-null   float64\n",
      " 9   user_score       7264 non-null   float32\n",
      " 10  rating           9515 non-null   object \n",
      " 11  sales_sum        14120 non-null  float64\n",
      "dtypes: float32(1), float64(6), int32(1), object(4)\n",
      "memory usage: 1.3+ MB\n"
     ]
    }
   ],
   "source": [
    "data = data[data['year_of_release'] > 2000]\n",
    "data.info()"
   ]
  },
  {
   "cell_type": "markdown",
   "metadata": {},
   "source": [
    "### Определение продуктивных платформ"
   ]
  },
  {
   "cell_type": "code",
   "execution_count": 15,
   "metadata": {},
   "outputs": [
    {
     "data": {
      "image/png": "[encoded data removed]",
      "text/plain": [
       "<Figure size 720x360 with 1 Axes>"
      ]
     },
     "metadata": {
      "needs_background": "light"
     },
     "output_type": "display_data"
    }
   ],
   "source": [
    "pop_platform = data.groupby('platform').agg({'sales_sum': 'sum'}).reset_index()\n",
    "pop_platform.plot(x='platform', y='sales_sum', grid=True, kind='bar', legend=False, ylabel='sales_sum', title=\\\n",
    "                  'Sale`s number by years', figsize=(10, 5), rot=0)\n",
    "plt.show()\n",
    "pop_platform = pop_platform.set_index('platform')\n",
    "pop_platform = pop_platform.sort_values(by='sales_sum', ascending=False)"
   ]
  },
  {
   "cell_type": "markdown",
   "metadata": {},
   "source": [
    "Плейстейшн - это топ, конечно;)\n",
    "\n",
    "Выберем топ-10 платформ. "
   ]
  },
  {
   "cell_type": "markdown",
   "metadata": {},
   "source": [
    "### Построение зависимостей распределения продаж по времени и дополнительное описание продаж"
   ]
  },
  {
   "cell_type": "markdown",
   "metadata": {},
   "source": [
    "Строим соответствующие распределения суммы продаж для платформ по годам."
   ]
  },
  {
   "cell_type": "code",
   "execution_count": 16,
   "metadata": {},
   "outputs": [
    {
     "ename": "AttributeError",
     "evalue": "'str' object has no attribute 'items'",
     "output_type": "error",
     "traceback": [
      "\u001b[1;31m---------------------------------------------------------------------------\u001b[0m",
      "\u001b[1;31mAttributeError\u001b[0m                            Traceback (most recent call last)",
      "Input \u001b[1;32mIn [16]\u001b[0m, in \u001b[0;36m<cell line: 4>\u001b[1;34m()\u001b[0m\n\u001b[0;32m      9\u001b[0m \u001b[38;5;66;03m#display(data_1) \u001b[39;00m\n\u001b[0;32m     10\u001b[0m plt\u001b[38;5;241m.\u001b[39mbar(\u001b[38;5;124m\"\u001b[39m\u001b[38;5;124myear_of_release\u001b[39m\u001b[38;5;124m\"\u001b[39m, \u001b[38;5;124m\"\u001b[39m\u001b[38;5;124msales_sum\u001b[39m\u001b[38;5;124m\"\u001b[39m, data\u001b[38;5;241m=\u001b[39mdata_1)\n\u001b[1;32m---> 11\u001b[0m \u001b[43mplt\u001b[49m\u001b[38;5;241;43m.\u001b[39;49m\u001b[43mtitle\u001b[49m\u001b[43m(\u001b[49m\u001b[38;5;124;43m'\u001b[39;49m\u001b[38;5;124;43mSale by years for\u001b[39;49m\u001b[38;5;124;43m'\u001b[39;49m\u001b[43m,\u001b[49m\u001b[43m \u001b[49m\u001b[43mplatf\u001b[49m\u001b[43m)\u001b[49m\n\u001b[0;32m     12\u001b[0m plt\u001b[38;5;241m.\u001b[39mxlabel(\u001b[38;5;124m\"\u001b[39m\u001b[38;5;124mYear of release\u001b[39m\u001b[38;5;124m\"\u001b[39m)\n\u001b[0;32m     13\u001b[0m plt\u001b[38;5;241m.\u001b[39mylabel(\u001b[38;5;124m\"\u001b[39m\u001b[38;5;124mSale\u001b[39m\u001b[38;5;124m'\u001b[39m\u001b[38;5;124ms sum\u001b[39m\u001b[38;5;124m\"\u001b[39m)\n",
      "File \u001b[1;32m~\\anaconda3\\lib\\site-packages\\matplotlib\\pyplot.py:3026\u001b[0m, in \u001b[0;36mtitle\u001b[1;34m(label, fontdict, loc, pad, y, **kwargs)\u001b[0m\n\u001b[0;32m   3024\u001b[0m \u001b[38;5;129m@_copy_docstring_and_deprecators\u001b[39m(Axes\u001b[38;5;241m.\u001b[39mset_title)\n\u001b[0;32m   3025\u001b[0m \u001b[38;5;28;01mdef\u001b[39;00m \u001b[38;5;21mtitle\u001b[39m(label, fontdict\u001b[38;5;241m=\u001b[39m\u001b[38;5;28;01mNone\u001b[39;00m, loc\u001b[38;5;241m=\u001b[39m\u001b[38;5;28;01mNone\u001b[39;00m, pad\u001b[38;5;241m=\u001b[39m\u001b[38;5;28;01mNone\u001b[39;00m, \u001b[38;5;241m*\u001b[39m, y\u001b[38;5;241m=\u001b[39m\u001b[38;5;28;01mNone\u001b[39;00m, \u001b[38;5;241m*\u001b[39m\u001b[38;5;241m*\u001b[39mkwargs):\n\u001b[1;32m-> 3026\u001b[0m     \u001b[38;5;28;01mreturn\u001b[39;00m gca()\u001b[38;5;241m.\u001b[39mset_title(\n\u001b[0;32m   3027\u001b[0m         label, fontdict\u001b[38;5;241m=\u001b[39mfontdict, loc\u001b[38;5;241m=\u001b[39mloc, pad\u001b[38;5;241m=\u001b[39mpad, y\u001b[38;5;241m=\u001b[39my, \u001b[38;5;241m*\u001b[39m\u001b[38;5;241m*\u001b[39mkwargs)\n",
      "File \u001b[1;32m~\\anaconda3\\lib\\site-packages\\matplotlib\\axes\\_axes.py:168\u001b[0m, in \u001b[0;36mAxes.set_title\u001b[1;34m(self, label, fontdict, loc, pad, y, **kwargs)\u001b[0m\n\u001b[0;32m    166\u001b[0m title\u001b[38;5;241m.\u001b[39mupdate(default)\n\u001b[0;32m    167\u001b[0m \u001b[38;5;28;01mif\u001b[39;00m fontdict \u001b[38;5;129;01mis\u001b[39;00m \u001b[38;5;129;01mnot\u001b[39;00m \u001b[38;5;28;01mNone\u001b[39;00m:\n\u001b[1;32m--> 168\u001b[0m     \u001b[43mtitle\u001b[49m\u001b[38;5;241;43m.\u001b[39;49m\u001b[43mupdate\u001b[49m\u001b[43m(\u001b[49m\u001b[43mfontdict\u001b[49m\u001b[43m)\u001b[49m\n\u001b[0;32m    169\u001b[0m title\u001b[38;5;241m.\u001b[39mupdate(kwargs)\n\u001b[0;32m    170\u001b[0m \u001b[38;5;28;01mreturn\u001b[39;00m title\n",
      "File \u001b[1;32m~\\anaconda3\\lib\\site-packages\\matplotlib\\text.py:164\u001b[0m, in \u001b[0;36mText.update\u001b[1;34m(self, kwargs)\u001b[0m\n\u001b[0;32m    162\u001b[0m \u001b[38;5;28;01mdef\u001b[39;00m \u001b[38;5;21mupdate\u001b[39m(\u001b[38;5;28mself\u001b[39m, kwargs):\n\u001b[0;32m    163\u001b[0m     \u001b[38;5;66;03m# docstring inherited\u001b[39;00m\n\u001b[1;32m--> 164\u001b[0m     kwargs \u001b[38;5;241m=\u001b[39m \u001b[43mcbook\u001b[49m\u001b[38;5;241;43m.\u001b[39;49m\u001b[43mnormalize_kwargs\u001b[49m\u001b[43m(\u001b[49m\u001b[43mkwargs\u001b[49m\u001b[43m,\u001b[49m\u001b[43m \u001b[49m\u001b[43mText\u001b[49m\u001b[43m)\u001b[49m\n\u001b[0;32m    165\u001b[0m     sentinel \u001b[38;5;241m=\u001b[39m \u001b[38;5;28mobject\u001b[39m()  \u001b[38;5;66;03m# bbox can be None, so use another sentinel.\u001b[39;00m\n\u001b[0;32m    166\u001b[0m     \u001b[38;5;66;03m# Update fontproperties first, as it has lowest priority.\u001b[39;00m\n",
      "File \u001b[1;32m~\\anaconda3\\lib\\site-packages\\matplotlib\\cbook\\__init__.py:1736\u001b[0m, in \u001b[0;36mnormalize_kwargs\u001b[1;34m(kw, alias_mapping)\u001b[0m\n\u001b[0;32m   1733\u001b[0m canonical_to_seen \u001b[38;5;241m=\u001b[39m {}\n\u001b[0;32m   1734\u001b[0m ret \u001b[38;5;241m=\u001b[39m {}  \u001b[38;5;66;03m# output dictionary\u001b[39;00m\n\u001b[1;32m-> 1736\u001b[0m \u001b[38;5;28;01mfor\u001b[39;00m k, v \u001b[38;5;129;01min\u001b[39;00m \u001b[43mkw\u001b[49m\u001b[38;5;241;43m.\u001b[39;49m\u001b[43mitems\u001b[49m():\n\u001b[0;32m   1737\u001b[0m     canonical \u001b[38;5;241m=\u001b[39m to_canonical\u001b[38;5;241m.\u001b[39mget(k, k)\n\u001b[0;32m   1738\u001b[0m     \u001b[38;5;28;01mif\u001b[39;00m canonical \u001b[38;5;129;01min\u001b[39;00m canonical_to_seen:\n",
      "\u001b[1;31mAttributeError\u001b[0m: 'str' object has no attribute 'items'"
     ]
    },
    {
     "data": {
      "image/png": "[encoded data removed]",
      "text/plain": [
       "<Figure size 432x216 with 1 Axes>"
      ]
     },
     "metadata": {
      "needs_background": "light"
     },
     "output_type": "display_data"
    }
   ],
   "source": [
    "top10_platform = pop_platform[0:10]\n",
    "data_top10_platform = data.query('platform in @top10_platform.index').reset_index(drop=True)\n",
    "\n",
    "for platf in top10_platform.index:\n",
    "    plt.figure(figsize=(6, 3))\n",
    "    data_top10 = data_top10_platform[data_top10_platform['platform'] == platf]\n",
    "    data_1 = data_top10.groupby('year_of_release').agg({'sales_sum': 'sum'})\n",
    "    data_1 = data_1.reset_index()\n",
    "    #display(data_1) \n",
    "    plt.bar(\"year_of_release\", \"sales_sum\", data=data_1)\n",
    "    plt.title('Sale by years for', platf)\n",
    "    plt.xlabel(\"Year of release\")\n",
    "    plt.ylabel(\"Sale's sum\")\n",
    "    # ограничим значения оси y, чтобы  потом корректно проводить сравнение\n",
    "    plt.ylim(0, 250)\n",
    "    plt.show()\n"
   ]
  },
  {
   "cell_type": "markdown",
   "metadata": {},
   "source": [
    "Возможно это самые информативные графики в этом проекте, поэтому сделвем некоторые выводы:\n",
    "- однозначно общее первое место по продажам PS2 обусловлено высокики цифрами в районе 2001-2005 гг. Очевидно, что в начале двухтысячных у приставки был пик популярности. Дальше дела пошли на спад, и по всей видимости в 2011 году платформа прекратила существование;\n",
    "- Wii была особо популярна в первые годы существования, в период с 2006 по 2009 год. Продажи были выше 125 миллионов копий. Однако потом виден гиперболический спад (с 2010 по 2016);\n",
    "- распределение значений у X360 и PS3 весьма схожи и близки к нормальным. Но нужно заметить некое \"запаздывание\" макисмума у PS3 на год относительно X360;\n",
    "- DS, как и PS2 до 2016 года \"недожила\" (закончила существование в 2013), показав пик в районе 2007, 2008 годов и дальнейшее медленное, но верное, затухание;\n",
    "- в целом значений вышеописанных пяти платформ составляют более 50% продаж от имеющихся у нас данный;\n",
    "- платформы PS, GBA, PSP когда-то имели неплохие продажи, однако в разные годы все же прекратили свое существование, не достигнув значений вышеописанных топ-5;\n",
    "- напоследок самое интересное и очень важное, на наш взгляд, в контексте данного исследования. Такая платформа, как PS4 начала свое существование в начале 2010-х годов и надо сказать **имеет очень неплохую динамику к 2017 году**. Что заставляет обратить на нее особое внимание. А вот у 3DS высоких продаж не было и дела ко всему прочему на спад идут, однако в 2016 году еще удалось продать чуть более 10 млн копий.\n",
    "\n"
   ]
  },
  {
   "cell_type": "markdown",
   "metadata": {},
   "source": [
    "### Выделение актуального временного периода и анализ продаж"
   ]
  },
  {
   "cell_type": "markdown",
   "metadata": {},
   "source": [
    "В качетсве актуального примеме период за последние 5 лет и от других данных избавимся."
   ]
  },
  {
   "cell_type": "code",
   "execution_count": null,
   "metadata": {},
   "outputs": [],
   "source": [
    "data_act = data.query('year_of_release > 2011')\n",
    "pop_platform_n = data_act.groupby(['platform', 'year_of_release']).agg({'sales_sum': 'sum'})\n",
    "pop_platform_n"
   ]
  },
  {
   "cell_type": "code",
   "execution_count": null,
   "metadata": {},
   "outputs": [],
   "source": [
    "# строим на всякий случай графики среди других платформ\n",
    "# вдруг среди них есть будущие лидеры?\n",
    "tail_platform = pop_platform[11:]\n",
    "data_untop_platform = data.query('platform in @tail_platform.index').reset_index(drop=True)\n",
    "\n",
    "for platf in tail_platform.index:\n",
    "    plt.figure(figsize=(6, 3))\n",
    "    data_untop = data_untop_platform[data_untop_platform['platform'] == platf]\n",
    "    data_2 = data_untop.groupby('year_of_release').agg({'sales_sum': 'sum'})\n",
    "    data_2 = data_2.reset_index()\n",
    "    #display(data_2) \n",
    "    plt.bar(\"year_of_release\", \"sales_sum\", data=data_2)\n",
    "    plt.title('Sale by years for', platf)\n",
    "    plt.xlabel(\"Year of release\")\n",
    "    plt.ylabel(\"Sale's sum\")\n",
    "    # ограничим значения оси y, чтобы  потом корректно проводить сравнение\n",
    "    plt.ylim(0, 70)\n",
    "    plt.show()"
   ]
  },
  {
   "cell_type": "markdown",
   "metadata": {},
   "source": [
    "У PC явно никогда больших продаж не было, но при этом стабильность  хорошая, скорее всего и дальше для этой платформы 3-10 млн копий продаваться будет. Далее можно отметить только относительно новую XOne, где в 2016 году продажи еще достигали значения свыше 25 млн копий.\n",
    "\n",
    "**Итак, выделим следующие платформы, которые скорее всего смогут задавать/поддерживать тренды в 2017 году: PS4 и XOne  (2 группы, смотрящиеся наиболее перспективно), 3DS и  PC (стабильные с небольшими продажами), PSV и WiiU (стабильные с маленькими продажами), X360 и  PS3 (на закате).**"
   ]
  },
  {
   "cell_type": "markdown",
   "metadata": {},
   "source": [
    "<div class=\"alert alert-block alert-info\"> \n",
    "    В описании к сборному проекту на платформе есть интересная фраза \"Не учитывайте в работе данные за предыдущие годы.\"\n",
    "    Вот мы выделили, показывшиеся нам актуальные данные и далее их уже трогать не будем. Надеюсь это имелось ввиду и далее провожу работу с data_parsed\n",
    "</div>"
   ]
  },
  {
   "cell_type": "code",
   "execution_count": null,
   "metadata": {},
   "outputs": [],
   "source": [
    "sns.boxplot(x='platform', y='sales_sum', data=data_act)\n",
    "plt.title('Диаграмма разброса данных для суммарных продаж по платформам')\n",
    "plt.show()\n",
    "# явно есть выбросы, и не мало, увеличим масштаб\n",
    "s_graph = sns.boxplot(x='platform', y='sales_sum', data=data_act)\n",
    "s_graph.set(ylim=(0,2))\n",
    "plt.title('Диаграмма разброса данных для суммарных продаж по платформам')\n",
    "plt.show()"
   ]
  },
  {
   "cell_type": "markdown",
   "metadata": {},
   "source": [
    "Однозначно аномальные значения скашивают данные вправо. Это говорит о том что много игр, копии которых продавались тиражом не более 0.5 млн (основная масса - для большинства платформ сюда входят около 60-80% значений при чем медианы у всех расположены близко), но существуют также и очень популярные тираж которых выше 2 млн. Выбросы в любом случае тут удалять не совсем правильное дело: есть популярные игры, приносящие особо большие продажи и от них никуда не деться."
   ]
  },
  {
   "cell_type": "code",
   "execution_count": null,
   "metadata": {},
   "outputs": [],
   "source": [
    "# посмотрим на описание числовых данных в целом\n",
    "data_act.select_dtypes(include=['float', 'int']).describe()"
   ]
  },
  {
   "cell_type": "markdown",
   "metadata": {},
   "source": [
    "В связи с разбросом у sales_sum и стандартное отклонение достаточно высокое. Попробуем (возможно пригодиться дальше, а может нет) просто избавиться от всех значений за пределами усов boxplot\n"
   ]
  },
  {
   "cell_type": "markdown",
   "metadata": {},
   "source": [
    "Рассмотрим зависимость продаж от оценок (критиков и пользователей соответственно)."
   ]
  },
  {
   "cell_type": "code",
   "execution_count": null,
   "metadata": {},
   "outputs": [],
   "source": [
    "only_platform = data_act[data_act['platform'] == 'PS4']\n",
    "only_platform.plot(kind='scatter', x='critic_score', y='sales_sum', label='Critic`s score', alpha=0.5)\n",
    "only_platform.plot( kind='scatter', x='user_score', y='sales_sum', label='User`s score', alpha=0.5)\n",
    "plt.show()\n",
    "print(\"Корреляция по оценкам критиков:\", only_platform['critic_score'].corr(only_platform['sales_sum']))\n",
    "print(\"Корреляция по оценкам пользователей:\", only_platform['user_score'].corr(only_platform['sales_sum']))\n",
    "\n",
    "\n",
    "plt.figure(figsize=(10, 20))\n",
    "score_platfs = ['3DS', 'XOne', 'PC', 'PSV', 'WiiU']\n",
    "\n",
    "for platf in score_platfs:\n",
    "    graph_platf = data_act[data_act['platform'] == platf]\n",
    "    graph_platf.plot(kind='scatter', x='critic_score', y='sales_sum',\\\n",
    "                     label='Critic`s score', alpha=0.5, legend=False)\n",
    "    plt.title(f'Sale`s sum {platf} by critic scores')\n",
    "    graph_platf.plot(kind='scatter', x='user_score', y='sales_sum',\\\n",
    "                     label='User`s score', alpha=0.5, legend=False)\n",
    "    plt.title(f'Sale`s sum {platf} by user scores')\n",
    "    plt.show()\n",
    "    print(\"Корреляция платформы\", platf,\"по оценкам критиков:\",\\\n",
    "          graph_platf['critic_score'].corr(graph_platf['sales_sum']))\n",
    "    print(\"Корреляция платформы\", platf, \"по оценкам пользователей:\",\\\n",
    "          graph_platf['user_score'].corr(graph_platf['sales_sum']))\n",
    "    \n",
    "    "
   ]
  },
  {
   "cell_type": "markdown",
   "metadata": {},
   "source": [
    "*Для основной платформы*\n",
    "\n",
    "Отметим, что значительное повышение продаж стимулируется оценками критиков 70 и выше, а у пользователей 6 и выше. Однако у последних кажется, что хаотичность графика повыше: все-таки у сritic_score есть определенная логичная, на наш, взгляд клинообразность значений (в районе 80 и 90 продажи явно выше чем где 70, и рост планомерный; у пользователей для екоторых игр продажи в районе 4-6 самые высокие, без них логичная клиновидность также прослеживается). В целом, следует отметить, что **при увеличении оценок критиков продажи будут расти (корреляция умеренная) пусть и не совсем линейно и повсеместно. Чего нельзя сказать о пользовательских оценках, тут велика вероятность разных вариантов.** \n",
    "\n",
    "*Для других выборочных платформ*\n",
    "\n",
    "Следует подчеркнуть, что для XOne результаты очень схожи с базоыой платформой (у них и продажи по годам были схожими в общем). Но у 3DS, к примеру, корреляция по оценкам критиков падает, а пользователей наоборот возрастает. Для приставки WiiU вообще корреляция по оценкам пользователей уже немного выше. Однако все равно нигде она не достигает сильных значений"
   ]
  },
  {
   "cell_type": "markdown",
   "metadata": {},
   "source": [
    "Распределение по жанрам:"
   ]
  },
  {
   "cell_type": "code",
   "execution_count": null,
   "metadata": {},
   "outputs": [],
   "source": [
    "sales_by_genre = data_act.groupby('genre').agg({'sales_sum': ['sum', 'count']})\n",
    "sales_by_genre.columns = ['sum', 'count']\n",
    "sales_by_genre['relative'] = sales_by_genre['sum'] / sales_by_genre['count']\n",
    "sales_by_genre = sales_by_genre.sort_values(by=['relative'], ascending=False)\n",
    "#sales_by_genre = sales_by_genre.reset_index()\n",
    "sales_by_genre"
   ]
  },
  {
   "cell_type": "markdown",
   "metadata": {},
   "source": [
    "Заметим, что число игр жанра Action раза в три больше, чем у стоящего на 2 месте по этому показателю Role-Playing. Но продаж при этом больше менее, чем в три раза. А вот Shooter мы бы рекомендовали даже разрабатывать интенсивнее, т.к. у этого жанра отношение суммы проданных копий к общему числу таких игр (sum / count) самое высокое. Игр-приключений достаточно много, однако продажи при этом совсем низкие. Может их и разрабатывать стоит поменьше..."
   ]
  },
  {
   "cell_type": "code",
   "execution_count": null,
   "metadata": {},
   "outputs": [],
   "source": [
    "plt.figure(figsize=(12, 5))\n",
    "sns.boxplot(x='genre', y='sales_sum', data=data_act)\n",
    "plt.title('Диаграмма разброса данных для суммарных продаж по жанрам')\n",
    "plt.show()\n",
    "plt.figure(figsize=(12, 5))\n",
    "genre_graph = sns.boxplot(x='genre', y='sales_sum', data=data_act)\n",
    "genre_graph.set(ylim=(0,2))\n",
    "plt.title('Диаграмма разброса данных для суммарных продаж по жанрам')\n",
    "plt.show()"
   ]
  },
  {
   "cell_type": "markdown",
   "metadata": {},
   "source": [
    "## Составление портрета пользователя по регионам"
   ]
  },
  {
   "cell_type": "markdown",
   "metadata": {},
   "source": [
    "Посмотрим на распределение продаж по игровым платформам в целом за актуальное время по регионам. Затем немного \"приблизим масштаб\", приняв во внимание время и построим соответствующие распредления."
   ]
  },
  {
   "cell_type": "code",
   "execution_count": null,
   "metadata": {},
   "outputs": [],
   "source": [
    "#data_last_time = data.query('year_of_release > 2011')\n",
    "data_act.groupby('platform').agg({'na_sales': 'sum', 'eu_sales': 'sum', 'jp_sales': 'sum'})"
   ]
  },
  {
   "cell_type": "code",
   "execution_count": null,
   "metadata": {},
   "outputs": [],
   "source": [
    "for platf in data_act['platform'].unique():\n",
    "    data_temp = data_act[data_act['platform'] == platf]\n",
    "    data_3 = data_temp.groupby('year_of_release').agg({'na_sales': 'sum', 'eu_sales': 'sum', 'jp_sales': 'sum'})\n",
    "    data_3 = data_3.reset_index()\n",
    "    ax = data_3.plot(x=\"year_of_release\", y=['na_sales', 'eu_sales', 'jp_sales'], kind=\"bar\", rot=0, ylim=(0, 50))\n",
    "    plt.title(platf)\n",
    "    plt.xlabel(\"Year of release\")\n",
    "    plt.ylabel(\"Sale's by region\")\n",
    "    # ограничим значения оси y, чтобы  потом корректно проводить сравнение\n",
    "    plt.show()"
   ]
  },
  {
   "cell_type": "markdown",
   "metadata": {},
   "source": [
    "Основные платформы имеют определенных лидеров из числа регионов. Допустим, для PS4 - это Европа (процентов 55-60), для XOne - Северная Америка (процентов 60-70), 3DS - Япония (процентов 40-45). На ПК в Японии не играют совсем (кстати, в этом же регионе чуть больше , чем в других играют в PSP и PSV). В Европе и Америке играют в любые из числа популярных платформ (в PSP и PSV, по всей видимости, совсем мизирное число людей). Все зависит от производителя платформы, его расположения, нацеленности на пользователей в конкретном регионе."
   ]
  },
  {
   "cell_type": "code",
   "execution_count": null,
   "metadata": {
    "scrolled": false
   },
   "outputs": [],
   "source": [
    "genre_by_regions = data_act.groupby('genre').agg({'na_sales': 'sum', 'eu_sales': 'sum', 'jp_sales': 'sum', 'name': 'count'})\n",
    "genre_by_regions.sort_values(by='name', ascending=False)"
   ]
  },
  {
   "cell_type": "markdown",
   "metadata": {},
   "source": [
    "Посмотрим на наиболее прибыльные жанры в разных регионах."
   ]
  },
  {
   "cell_type": "code",
   "execution_count": null,
   "metadata": {},
   "outputs": [],
   "source": [
    "games_fresh = data_act.copy()\n",
    "countries = games_fresh.columns[4:7]\n",
    "# начертим круговую диаграмму для каждого региона\n",
    "fig, axs = plt.subplots(1, 3, figsize=(15, 5))\n",
    "fig.suptitle('ТОП-5 жанров в регионах')\n",
    "for i in range(3):\n",
    "  # выберем 5 самых продающих жанров\n",
    "  df_i = (games_fresh.groupby('genre')[countries[i]].sum().reset_index().\n",
    "          sort_values(countries[i], ascending = False, ignore_index = True).\n",
    "          head(5))\n",
    "  # занесем все остальыне продажи в другие жанры\n",
    "  df_i = df_i.append({'genre': 'Other_genre', countries[i]: games_fresh[countries[i]].sum() - df_i[countries[i]].sum()}, ignore_index= True)\n",
    "  axs[i].pie(df_i[countries[i]], labels = df_i['genre'], autopct='%1.1f%%')\n",
    "  # Зададим название региона.\n",
    "  axs[i].set_title(df_i.columns[1].split('_')[0].upper())\n",
    "plt.show()"
   ]
  },
  {
   "cell_type": "markdown",
   "metadata": {},
   "source": [
    "Однозначно, что в рассматриваемый период времени в жанрах Action выходит больше всего игр и продается копий соответственно. При этом диаграмма по долям говорит нам немного другое, что кроме Action, продуктивен Shooter (в целом в таблице это тоже видно) (см. выводы общей суммы по жанрам sales_by_genre выше). На третьем месте в этих двух регионах стоит Sport (если не учесть other). В японии картина другая - Action любят, но не сильнее, чем Role-Playing.\n",
    "\n",
    "Здесь все определяется спросом: данный жанр явно охватывает потребности большинства, да и разнообразия в нем много При  этом данный жанр лидер в Европе и Америке по продаажам, а в Японии несколько впереди Role-Playing (регион со своей культурой, сильно отличающейся от Европы и Северной Америки)."
   ]
  },
  {
   "cell_type": "markdown",
   "metadata": {},
   "source": [
    "Посмотрим на продажи по регионам, группируя их по возрастным категориям."
   ]
  },
  {
   "cell_type": "code",
   "execution_count": null,
   "metadata": {},
   "outputs": [],
   "source": [
    "data_act.loc[data['rating'].isna(), 'rating'] = 'not defined'\n",
    "age_category = data_act['rating'].unique()\n",
    "age_category = list(age_category)\n",
    "data_act.groupby(['rating']).agg({'na_sales': 'sum', 'eu_sales': 'sum', 'jp_sales': 'sum'})"
   ]
  },
  {
   "cell_type": "markdown",
   "metadata": {},
   "source": [
    "Однозначно в Европе и Северной Америке преобладают продажи в категориях M (для взрослых), Е (для всех) и \"not defined\" (разница с категориями E10+ и Т в 1.5 и более раза). Т.е. продажи игр для возрастов выше 10, 13 лет не самые высокие. В то же время в  категории М продается в 1,6 и более раза больше, чем в Е. Однако очевидно, что там для большинства игр в Японии этот рейтинг вообще не считается, т.к. продажи игр с неопр. рейтингом там самые высокие, с большим отрывом от других. Также можно сказать, что продажи в целом таких игр по трем регионам распределились достаточно ровно, а в Европе и Северной Америке стоят примерно на равне с категорией М."
   ]
  },
  {
   "cell_type": "markdown",
   "metadata": {},
   "source": [
    "## Проверка гипотез"
   ]
  },
  {
   "cell_type": "markdown",
   "metadata": {},
   "source": [
    "<div class=\"alert alert-block alert-info\"> \n",
    "    Сами предложенные варианты на Платформе Yandex несколько привели меня в ступор, т.к. корреляция с продажами оценок пользователей получилась ниже, тогда и гипотезы ароде нужно делать по оценкам критиков. Ну, ладно, возможно ошибся ранее, надеюсь, подскажешь\n",
    "</div>\n"
   ]
  },
  {
   "cell_type": "markdown",
   "metadata": {},
   "source": [
    "### Проверка гипотезы о средних рейтингах XOne и PC"
   ]
  },
  {
   "cell_type": "markdown",
   "metadata": {},
   "source": [
    "Здесь возникает немного тревожный момент, какой период считать генеральной совокупностью для этих двух платформ. С одной стороны это должне быть весь период из данного нам набора данных. С другой стороны у нас есть актуальный период, по значениям которого логичнее судить о будущем в 2017 году. И мы должны брать его, т.к. XOne существует только с 2012 года. Минус еще в том что данные явно скошены к оценкам 7-8 (скошены влево получается). \n",
    "\n",
    "\n",
    "<div class=\"alert alert-block alert-info\"> \n",
    "    Возможно стоит от скошенности и избавиться, но это я узнаю, видимо, после проврки, тут оставлю как есть) Везде пока буду рассматривать только данные актуального периода, они кажутся более репрезентативными\n",
    "</div>\n",
    "\n",
    "\n",
    "Тогда Н0: средние пользовательские рейтинги платформ XOne и PC одинаковые; Н1: средние пользовательские рейтинги платформ XOne и PC разные."
   ]
  },
  {
   "cell_type": "code",
   "execution_count": null,
   "metadata": {},
   "outputs": [],
   "source": [
    "u_sccore_xone = data_act[data_act['platform'] == 'XOne']['user_score'].dropna().reset_index(drop=True)\n",
    "u_sccore_pc = data_act[data_act['platform'] == 'PC']['user_score'].dropna().reset_index(drop=True)\n",
    "\n",
    "alpha = .05\n",
    "# выборки схожи и дисперсия, скорее всего, приблизительно равна\n",
    "# однако в рекомендациях указано, что при разных по размерах выборках\n",
    "# нужно учитывать, что они могут быть разными\n",
    "results = st.ttest_ind(u_sccore_xone, u_sccore_pc, equal_var = False)\n",
    "\n",
    "print('р-значение:', results.pvalue)\n",
    "if results.pvalue < alpha:\n",
    "    print('Можем отвергнуть Н0')\n",
    "else:\n",
    "    print('Нельзя отвергнуть Н0')\n"
   ]
  },
  {
   "cell_type": "markdown",
   "metadata": {},
   "source": [
    "Очевидно, что p-value очень высокое и означает, что примерно в 50% случаев произойдет так, как гласит нулевая гипотеза.\n",
    "Калькулятор https://www.evanmiller.org/ab-testing/t-test.html дал тот же результат но в какой-то мере нагляднее. Если постмотреть по средним разница действительно невелика и лежат они очень близко, что подкрепляет высокую вероятность того, что редние пользовательские рейтинги платформ XOne и PC одинаковые. *С такой небольшой выборкой можно просто средние посчитать, т.к. оперативка явно такое тянет*"
   ]
  },
  {
   "cell_type": "markdown",
   "metadata": {},
   "source": [
    "### Прверка гипотезы о средних рейтингах жанров Sports и Action"
   ]
  },
  {
   "cell_type": "markdown",
   "metadata": {},
   "source": [
    "В данной постановке все менее однозначно, в отличие от платформ жанры существовали всегда и очевидно что разница результатов теста по разным датафреймам будет. Но с учетом сказанного выше разбиарем только data_parsed и тестируем его данные.\n",
    "\n",
    "Тогда Н0: средние пользовательские рейтинги жанров Sports и Action одинаковые; Н1: средние пользовательские рейтинги жанров Sports и Action разные."
   ]
  },
  {
   "cell_type": "code",
   "execution_count": null,
   "metadata": {},
   "outputs": [],
   "source": [
    "u_score_action = data_act[data_act['genre'] == 'Action']['user_score'].dropna().reset_index(drop=True)\n",
    "u_score_sports = data_act[data_act['genre'] == 'Sports']['user_score'].dropna().reset_index(drop=True)\n",
    "\n",
    "alpha = .05\n",
    "results = st.ttest_ind(u_score_action, u_score_sports, equal_var = False)\n",
    "\n",
    "print('р-значение:', results.pvalue)\n",
    "if results.pvalue < alpha:\n",
    "    print('Можем отвергнуть Н0')\n",
    "else:\n",
    "    print('Нельзя отвергнуть Н0')\n",
    "\n",
    "print(\"Расчетные средние:\", '{0:.3f}'.format(u_score_sports.mean()),'и' , '{0:.3f}'.format(u_score_action.mean()))\n"
   ]
  },
  {
   "cell_type": "markdown",
   "metadata": {},
   "source": [
    "Здесь вывели средние и разница реально видна. Поэтому с подкрепленной уверенностью (нв уровне значимости 5%) есть основания отвергнуть нулевую гипотезу о равенстве средних значений пользовательских рейтингов (отзывов) жанров Action и Sports в пользу альтернативной гипотезы"
   ]
  },
  {
   "cell_type": "markdown",
   "metadata": {},
   "source": [
    "Нулевая гипотеза в обоих случаях формировалась согласно рекомендациям Спринта 6 Темы 4 урока 6 \"H₀ всегда формулируется так, чтобы использовать знак равенства.\" В предложенных в задании вариантах везде говорится о средних (просто по разным показателям), поэтому их и приравниваем. Логично, что альтернативная гипотеза двусторонняя, потому что мы не знаем, куда может быть смещено одно среднее относительно другого. В качестве критерия используем p-value (уровень значимости), который показывает вероятность получить наблюдаемый результат при условии, что H0 верна. А метод ttest_ind подходит, т.к. выборки как бы из двух независимых генеральных совокупностей"
   ]
  },
  {
   "cell_type": "markdown",
   "metadata": {},
   "source": [
    "## Вывод"
   ]
  },
  {
   "cell_type": "markdown",
   "metadata": {},
   "source": [
    "В итоге получаем следующие важные результаты: \n",
    "  - были обработаны некоторые пропуски (в том числе такой специфичный как \"tbd\" в оценках пользователей) и данные приведены к нужным типам;\n",
    "  - установлено что пик выпуска игр на всех платформах оказался в районе 2008, 2009 гг.;\n",
    "  - оказалось что топ-5 платформ за пследние 20 лет (от 2016 года) имеют существенное превосходство в сравнении с другими (это PS2, X360, PS3, Wii, DS), однако некоторые к данному моменту времени (DS, PS2) даже прекратили свое существование, у остальных (X360, PS3, Wii) продажи к 2016 только падают и очень низкие в сравнении с пиковыми;\n",
    "  - в то же время есть такие платформы как XOne, PS4, 3DS, продажи которых сохраняют достаточно высокие значения в определенный нами актуальный период (начиная с 2012 года). Сразу же отметим, что именно эти типы игровых брендов захватили лидерство по регионам - в Северной Америке, Европе и Японии соответственно. В 2017 году, скорее всего, смогут задавать/поддерживать тренды: PS4 и XOne (2 группы, смотрящиеся наиболее перспективно), 3DS и PC (стабильные с небольшими продажами), PSV и WiiU (стабильные с маленькими продажами);\n",
    "  - копии болшинства игр продавались тиражом не более 0.5 млн (для актуальных к 2016 году платформ сюда входят около 60-80% значений при чем медианы у всех расположены близко друг к другу в районе 0,2-0,35 млн копий);\n",
    "  - продажи у некоторых платформ растут при высоких оценках критиков, есть умеренная линейная корреляция для перспективных платформ PS4 и XOne. В принципе и при повышенных оценках пользователей продажи многих игр на платформах повышены, однако разброс по ним в общем случае выше;\n",
    "  - чаще всего выппускаются игры жанра Action, однако у них не самые высокие относительные продажи, Shooter в это плане эффективнее. У пользователей разных регионов определенно есть свои предпочтения в жанрах (в Японии любят Role-Playing, в Америке и Европе Action и Shooter);\n",
    "  - допущена нулевая гипотез о том, что средние пользовательские рейтинги платформ XOne и PC одинаковые;\n",
    "  - отвергнута нулевая гипотез о том, что средние пользовательские рейтинги жанров Sports и Action одинаковые."
   ]
  }
 ],
 "metadata": {
  "ExecuteTimeLog": [
   {
    "duration": 1150,
    "start_time": "2022-11-17T13:58:19.200Z"
   },
   {
    "duration": 0,
    "start_time": "2022-11-17T13:58:20.352Z"
   },
   {
    "duration": 0,
    "start_time": "2022-11-17T13:58:20.353Z"
   },
   {
    "duration": 0,
    "start_time": "2022-11-17T13:58:20.354Z"
   },
   {
    "duration": 0,
    "start_time": "2022-11-17T13:58:20.355Z"
   },
   {
    "duration": 0,
    "start_time": "2022-11-17T13:58:20.356Z"
   },
   {
    "duration": 0,
    "start_time": "2022-11-17T13:58:20.357Z"
   },
   {
    "duration": 0,
    "start_time": "2022-11-17T13:58:20.358Z"
   },
   {
    "duration": 0,
    "start_time": "2022-11-17T13:58:20.359Z"
   },
   {
    "duration": 0,
    "start_time": "2022-11-17T13:58:20.360Z"
   },
   {
    "duration": 0,
    "start_time": "2022-11-17T13:58:20.362Z"
   },
   {
    "duration": 0,
    "start_time": "2022-11-17T13:58:20.363Z"
   },
   {
    "duration": 0,
    "start_time": "2022-11-17T13:58:20.364Z"
   },
   {
    "duration": 0,
    "start_time": "2022-11-17T13:58:20.365Z"
   },
   {
    "duration": 0,
    "start_time": "2022-11-17T13:58:20.366Z"
   },
   {
    "duration": 0,
    "start_time": "2022-11-17T13:58:20.367Z"
   },
   {
    "duration": 0,
    "start_time": "2022-11-17T13:58:20.367Z"
   },
   {
    "duration": 0,
    "start_time": "2022-11-17T13:58:20.369Z"
   },
   {
    "duration": 0,
    "start_time": "2022-11-17T13:58:20.397Z"
   },
   {
    "duration": 0,
    "start_time": "2022-11-17T13:58:20.397Z"
   },
   {
    "duration": 0,
    "start_time": "2022-11-17T13:58:20.399Z"
   },
   {
    "duration": 0,
    "start_time": "2022-11-17T13:58:20.400Z"
   },
   {
    "duration": 0,
    "start_time": "2022-11-17T13:58:20.401Z"
   },
   {
    "duration": 0,
    "start_time": "2022-11-17T13:58:20.402Z"
   },
   {
    "duration": 0,
    "start_time": "2022-11-17T13:58:20.403Z"
   },
   {
    "duration": 0,
    "start_time": "2022-11-17T13:58:20.404Z"
   },
   {
    "duration": 0,
    "start_time": "2022-11-17T13:58:20.406Z"
   },
   {
    "duration": 0,
    "start_time": "2022-11-17T13:58:20.407Z"
   },
   {
    "duration": 1224,
    "start_time": "2022-11-17T14:48:50.149Z"
   },
   {
    "duration": 217,
    "start_time": "2022-11-17T14:48:58.221Z"
   },
   {
    "duration": 31,
    "start_time": "2022-11-17T14:48:58.440Z"
   },
   {
    "duration": 21,
    "start_time": "2022-11-17T14:51:35.810Z"
   },
   {
    "duration": 924,
    "start_time": "2022-11-17T14:51:40.004Z"
   },
   {
    "duration": 3,
    "start_time": "2022-11-17T14:52:04.424Z"
   },
   {
    "duration": 24,
    "start_time": "2022-11-17T14:52:09.281Z"
   },
   {
    "duration": 48,
    "start_time": "2022-11-17T14:52:09.308Z"
   },
   {
    "duration": 9,
    "start_time": "2022-11-17T14:52:15.114Z"
   },
   {
    "duration": 174,
    "start_time": "2022-11-17T14:52:21.340Z"
   },
   {
    "duration": 18,
    "start_time": "2022-11-17T14:52:26.325Z"
   },
   {
    "duration": 643,
    "start_time": "2022-11-17T14:52:27.675Z"
   },
   {
    "duration": 72,
    "start_time": "2022-11-17T14:54:44.835Z"
   },
   {
    "duration": 24,
    "start_time": "2022-11-17T14:54:45.135Z"
   },
   {
    "duration": 3,
    "start_time": "2022-11-17T14:54:47.025Z"
   },
   {
    "duration": 19,
    "start_time": "2022-11-17T14:54:48.150Z"
   },
   {
    "duration": 36,
    "start_time": "2022-11-17T14:54:52.040Z"
   },
   {
    "duration": 7,
    "start_time": "2022-11-17T14:54:52.078Z"
   },
   {
    "duration": 220,
    "start_time": "2022-11-17T14:54:52.114Z"
   },
   {
    "duration": 17,
    "start_time": "2022-11-17T14:55:00.798Z"
   },
   {
    "duration": 605,
    "start_time": "2022-11-17T14:55:01.335Z"
   },
   {
    "duration": 15,
    "start_time": "2022-11-17T14:55:50.705Z"
   },
   {
    "duration": 13,
    "start_time": "2022-11-17T14:56:00.920Z"
   },
   {
    "duration": 5,
    "start_time": "2022-11-17T14:56:20.035Z"
   },
   {
    "duration": 7,
    "start_time": "2022-11-17T14:56:25.245Z"
   },
   {
    "duration": 29,
    "start_time": "2022-11-17T14:56:25.254Z"
   },
   {
    "duration": 11,
    "start_time": "2022-11-17T14:56:35.360Z"
   },
   {
    "duration": 1273,
    "start_time": "2022-11-17T14:56:51.220Z"
   },
   {
    "duration": 19,
    "start_time": "2022-11-17T14:57:34.485Z"
   },
   {
    "duration": 1728,
    "start_time": "2022-11-17T14:57:34.506Z"
   },
   {
    "duration": 415,
    "start_time": "2022-11-17T14:57:49.115Z"
   },
   {
    "duration": 36,
    "start_time": "2022-11-17T14:57:51.301Z"
   },
   {
    "duration": 252,
    "start_time": "2022-11-17T14:57:52.860Z"
   },
   {
    "duration": 408,
    "start_time": "2022-11-17T14:57:54.680Z"
   },
   {
    "duration": 16,
    "start_time": "2022-11-17T14:58:03.820Z"
   },
   {
    "duration": 15,
    "start_time": "2022-11-17T14:58:07.405Z"
   },
   {
    "duration": 1456,
    "start_time": "2022-11-17T14:58:09.461Z"
   },
   {
    "duration": 16,
    "start_time": "2022-11-17T14:58:11.471Z"
   },
   {
    "duration": 12,
    "start_time": "2022-11-17T14:58:13.670Z"
   },
   {
    "duration": 12,
    "start_time": "2022-11-17T14:58:23.941Z"
   },
   {
    "duration": 9,
    "start_time": "2022-11-17T14:58:39.365Z"
   },
   {
    "duration": 14,
    "start_time": "2022-11-17T14:59:04.952Z"
   },
   {
    "duration": 1257,
    "start_time": "2022-11-18T10:59:05.459Z"
   },
   {
    "duration": 107,
    "start_time": "2022-11-18T10:59:06.718Z"
   },
   {
    "duration": 33,
    "start_time": "2022-11-18T10:59:06.827Z"
   },
   {
    "duration": 4,
    "start_time": "2022-11-18T10:59:06.862Z"
   },
   {
    "duration": 45,
    "start_time": "2022-11-18T10:59:06.868Z"
   },
   {
    "duration": 40,
    "start_time": "2022-11-18T10:59:06.915Z"
   },
   {
    "duration": 9,
    "start_time": "2022-11-18T10:59:06.957Z"
   },
   {
    "duration": 232,
    "start_time": "2022-11-18T10:59:06.968Z"
   },
   {
    "duration": 24,
    "start_time": "2022-11-18T10:59:07.201Z"
   },
   {
    "duration": 738,
    "start_time": "2022-11-18T10:59:07.226Z"
   },
   {
    "duration": 6,
    "start_time": "2022-11-18T10:59:07.965Z"
   },
   {
    "duration": 10,
    "start_time": "2022-11-18T10:59:07.972Z"
   },
   {
    "duration": 28,
    "start_time": "2022-11-18T10:59:07.984Z"
   },
   {
    "duration": 13,
    "start_time": "2022-11-18T10:59:08.015Z"
   },
   {
    "duration": 1605,
    "start_time": "2022-11-18T10:59:08.030Z"
   },
   {
    "duration": 20,
    "start_time": "2022-11-18T10:59:09.636Z"
   },
   {
    "duration": 1690,
    "start_time": "2022-11-18T10:59:09.658Z"
   },
   {
    "duration": 404,
    "start_time": "2022-11-18T10:59:11.349Z"
   },
   {
    "duration": 32,
    "start_time": "2022-11-18T10:59:11.755Z"
   },
   {
    "duration": 356,
    "start_time": "2022-11-18T10:59:11.788Z"
   },
   {
    "duration": 344,
    "start_time": "2022-11-18T10:59:12.146Z"
   },
   {
    "duration": 27,
    "start_time": "2022-11-18T10:59:12.492Z"
   },
   {
    "duration": 13,
    "start_time": "2022-11-18T10:59:12.521Z"
   },
   {
    "duration": 1463,
    "start_time": "2022-11-18T10:59:12.535Z"
   },
   {
    "duration": 17,
    "start_time": "2022-11-18T10:59:14.000Z"
   },
   {
    "duration": 12,
    "start_time": "2022-11-18T10:59:14.019Z"
   },
   {
    "duration": 12,
    "start_time": "2022-11-18T10:59:14.032Z"
   },
   {
    "duration": 13,
    "start_time": "2022-11-18T10:59:14.045Z"
   },
   {
    "duration": 14,
    "start_time": "2022-11-18T11:10:16.507Z"
   },
   {
    "duration": 1210,
    "start_time": "2022-11-18T11:10:26.495Z"
   },
   {
    "duration": 80,
    "start_time": "2022-11-18T11:10:27.707Z"
   },
   {
    "duration": 33,
    "start_time": "2022-11-18T11:10:27.788Z"
   },
   {
    "duration": 7,
    "start_time": "2022-11-18T11:10:27.824Z"
   },
   {
    "duration": 33,
    "start_time": "2022-11-18T11:10:27.833Z"
   },
   {
    "duration": 11,
    "start_time": "2022-11-18T11:10:27.868Z"
   },
   {
    "duration": 53,
    "start_time": "2022-11-18T11:10:27.881Z"
   },
   {
    "duration": 9,
    "start_time": "2022-11-18T11:10:27.936Z"
   },
   {
    "duration": 215,
    "start_time": "2022-11-18T11:10:27.947Z"
   },
   {
    "duration": 19,
    "start_time": "2022-11-18T11:10:28.165Z"
   },
   {
    "duration": 731,
    "start_time": "2022-11-18T11:10:28.186Z"
   },
   {
    "duration": 5,
    "start_time": "2022-11-18T11:10:28.919Z"
   },
   {
    "duration": 14,
    "start_time": "2022-11-18T11:10:28.926Z"
   },
   {
    "duration": 16,
    "start_time": "2022-11-18T11:10:28.942Z"
   },
   {
    "duration": 13,
    "start_time": "2022-11-18T11:10:28.959Z"
   },
   {
    "duration": 1636,
    "start_time": "2022-11-18T11:10:28.973Z"
   },
   {
    "duration": 20,
    "start_time": "2022-11-18T11:10:30.612Z"
   },
   {
    "duration": 1681,
    "start_time": "2022-11-18T11:10:30.634Z"
   },
   {
    "duration": 531,
    "start_time": "2022-11-18T11:10:32.317Z"
   },
   {
    "duration": 85,
    "start_time": "2022-11-18T11:10:32.849Z"
   },
   {
    "duration": 707,
    "start_time": "2022-11-18T11:10:32.935Z"
   },
   {
    "duration": 706,
    "start_time": "2022-11-18T11:10:33.644Z"
   },
   {
    "duration": 70,
    "start_time": "2022-11-18T11:10:34.351Z"
   },
   {
    "duration": 14,
    "start_time": "2022-11-18T11:10:34.423Z"
   },
   {
    "duration": 1484,
    "start_time": "2022-11-18T11:10:34.439Z"
   },
   {
    "duration": 15,
    "start_time": "2022-11-18T11:10:35.925Z"
   },
   {
    "duration": 24,
    "start_time": "2022-11-18T11:10:35.942Z"
   },
   {
    "duration": 11,
    "start_time": "2022-11-18T11:10:35.969Z"
   },
   {
    "duration": 17,
    "start_time": "2022-11-18T11:10:35.981Z"
   },
   {
    "duration": 10,
    "start_time": "2022-11-18T11:11:15.976Z"
   },
   {
    "duration": 1192,
    "start_time": "2022-11-18T11:11:36.126Z"
   },
   {
    "duration": 77,
    "start_time": "2022-11-18T11:11:37.320Z"
   },
   {
    "duration": 32,
    "start_time": "2022-11-18T11:11:37.399Z"
   },
   {
    "duration": 3,
    "start_time": "2022-11-18T11:11:37.432Z"
   },
   {
    "duration": 24,
    "start_time": "2022-11-18T11:11:37.437Z"
   },
   {
    "duration": 11,
    "start_time": "2022-11-18T11:11:37.462Z"
   },
   {
    "duration": 55,
    "start_time": "2022-11-18T11:11:37.474Z"
   },
   {
    "duration": 9,
    "start_time": "2022-11-18T11:11:37.531Z"
   },
   {
    "duration": 225,
    "start_time": "2022-11-18T11:11:37.542Z"
   },
   {
    "duration": 18,
    "start_time": "2022-11-18T11:11:37.769Z"
   },
   {
    "duration": 708,
    "start_time": "2022-11-18T11:11:37.789Z"
   },
   {
    "duration": 6,
    "start_time": "2022-11-18T11:11:38.498Z"
   },
   {
    "duration": 10,
    "start_time": "2022-11-18T11:11:38.505Z"
   },
   {
    "duration": 14,
    "start_time": "2022-11-18T11:11:38.518Z"
   },
   {
    "duration": 11,
    "start_time": "2022-11-18T11:11:38.534Z"
   },
   {
    "duration": 1509,
    "start_time": "2022-11-18T11:11:38.547Z"
   },
   {
    "duration": 18,
    "start_time": "2022-11-18T11:11:40.058Z"
   },
   {
    "duration": 1646,
    "start_time": "2022-11-18T11:11:40.077Z"
   },
   {
    "duration": 405,
    "start_time": "2022-11-18T11:11:41.724Z"
   },
   {
    "duration": 29,
    "start_time": "2022-11-18T11:11:42.130Z"
   },
   {
    "duration": 348,
    "start_time": "2022-11-18T11:11:42.161Z"
   },
   {
    "duration": 349,
    "start_time": "2022-11-18T11:11:42.512Z"
   },
   {
    "duration": 18,
    "start_time": "2022-11-18T11:11:42.863Z"
   },
   {
    "duration": 32,
    "start_time": "2022-11-18T11:11:42.883Z"
   },
   {
    "duration": 1380,
    "start_time": "2022-11-18T11:11:42.917Z"
   },
   {
    "duration": 33,
    "start_time": "2022-11-18T11:11:44.299Z"
   },
   {
    "duration": 12,
    "start_time": "2022-11-18T11:11:44.334Z"
   },
   {
    "duration": 9,
    "start_time": "2022-11-18T11:11:44.348Z"
   },
   {
    "duration": 11,
    "start_time": "2022-11-18T11:11:44.359Z"
   },
   {
    "duration": 15,
    "start_time": "2022-11-18T11:12:16.919Z"
   },
   {
    "duration": 19,
    "start_time": "2022-11-18T11:13:21.531Z"
   },
   {
    "duration": 32,
    "start_time": "2022-11-18T11:14:10.513Z"
   },
   {
    "duration": 1138,
    "start_time": "2022-11-18T11:14:34.382Z"
   },
   {
    "duration": 90,
    "start_time": "2022-11-18T11:14:35.522Z"
   },
   {
    "duration": 29,
    "start_time": "2022-11-18T11:14:35.614Z"
   },
   {
    "duration": 3,
    "start_time": "2022-11-18T11:14:35.645Z"
   },
   {
    "duration": 25,
    "start_time": "2022-11-18T11:14:35.649Z"
   },
   {
    "duration": 52,
    "start_time": "2022-11-18T11:14:35.676Z"
   },
   {
    "duration": 37,
    "start_time": "2022-11-18T11:14:35.730Z"
   },
   {
    "duration": 9,
    "start_time": "2022-11-18T11:14:35.769Z"
   },
   {
    "duration": 218,
    "start_time": "2022-11-18T11:14:35.780Z"
   },
   {
    "duration": 24,
    "start_time": "2022-11-18T11:14:36.000Z"
   },
   {
    "duration": 715,
    "start_time": "2022-11-18T11:14:36.026Z"
   },
   {
    "duration": 6,
    "start_time": "2022-11-18T11:14:36.742Z"
   },
   {
    "duration": 11,
    "start_time": "2022-11-18T11:14:36.749Z"
   },
   {
    "duration": 16,
    "start_time": "2022-11-18T11:14:36.761Z"
   },
   {
    "duration": 11,
    "start_time": "2022-11-18T11:14:36.779Z"
   },
   {
    "duration": 1464,
    "start_time": "2022-11-18T11:14:36.792Z"
   },
   {
    "duration": 69,
    "start_time": "2022-11-18T11:14:38.257Z"
   },
   {
    "duration": 2510,
    "start_time": "2022-11-18T11:14:38.327Z"
   },
   {
    "duration": 404,
    "start_time": "2022-11-18T11:14:40.838Z"
   },
   {
    "duration": 30,
    "start_time": "2022-11-18T11:14:41.244Z"
   },
   {
    "duration": 344,
    "start_time": "2022-11-18T11:14:41.276Z"
   },
   {
    "duration": 332,
    "start_time": "2022-11-18T11:14:41.621Z"
   },
   {
    "duration": 14,
    "start_time": "2022-11-18T11:14:41.955Z"
   },
   {
    "duration": 15,
    "start_time": "2022-11-18T11:14:41.970Z"
   },
   {
    "duration": 1345,
    "start_time": "2022-11-18T11:14:41.986Z"
   },
   {
    "duration": 16,
    "start_time": "2022-11-18T11:14:43.333Z"
   },
   {
    "duration": 12,
    "start_time": "2022-11-18T11:14:43.351Z"
   },
   {
    "duration": 13,
    "start_time": "2022-11-18T11:14:43.366Z"
   },
   {
    "duration": 33,
    "start_time": "2022-11-18T11:14:43.381Z"
   },
   {
    "duration": 1191,
    "start_time": "2022-11-18T11:15:19.181Z"
   },
   {
    "duration": 75,
    "start_time": "2022-11-18T11:15:20.374Z"
   },
   {
    "duration": 33,
    "start_time": "2022-11-18T11:15:20.451Z"
   },
   {
    "duration": 4,
    "start_time": "2022-11-18T11:15:20.487Z"
   },
   {
    "duration": 34,
    "start_time": "2022-11-18T11:15:20.494Z"
   },
   {
    "duration": 26,
    "start_time": "2022-11-18T11:15:20.530Z"
   },
   {
    "duration": 50,
    "start_time": "2022-11-18T11:15:20.558Z"
   },
   {
    "duration": 10,
    "start_time": "2022-11-18T11:15:20.612Z"
   },
   {
    "duration": 217,
    "start_time": "2022-11-18T11:15:20.624Z"
   },
   {
    "duration": 19,
    "start_time": "2022-11-18T11:15:20.843Z"
   },
   {
    "duration": 676,
    "start_time": "2022-11-18T11:15:20.864Z"
   },
   {
    "duration": 5,
    "start_time": "2022-11-18T11:15:21.542Z"
   },
   {
    "duration": 10,
    "start_time": "2022-11-18T11:15:21.548Z"
   },
   {
    "duration": 15,
    "start_time": "2022-11-18T11:15:21.560Z"
   },
   {
    "duration": 10,
    "start_time": "2022-11-18T11:15:21.577Z"
   },
   {
    "duration": 1433,
    "start_time": "2022-11-18T11:15:21.588Z"
   },
   {
    "duration": 18,
    "start_time": "2022-11-18T11:15:23.023Z"
   },
   {
    "duration": 1606,
    "start_time": "2022-11-18T11:15:23.043Z"
   },
   {
    "duration": 417,
    "start_time": "2022-11-18T11:15:24.651Z"
   },
   {
    "duration": 27,
    "start_time": "2022-11-18T11:15:25.070Z"
   },
   {
    "duration": 345,
    "start_time": "2022-11-18T11:15:25.099Z"
   },
   {
    "duration": 320,
    "start_time": "2022-11-18T11:15:25.446Z"
   },
   {
    "duration": 15,
    "start_time": "2022-11-18T11:15:25.767Z"
   },
   {
    "duration": 29,
    "start_time": "2022-11-18T11:15:25.784Z"
   },
   {
    "duration": 1482,
    "start_time": "2022-11-18T11:15:25.815Z"
   },
   {
    "duration": 24,
    "start_time": "2022-11-18T11:15:27.299Z"
   },
   {
    "duration": 13,
    "start_time": "2022-11-18T11:15:27.325Z"
   },
   {
    "duration": 8,
    "start_time": "2022-11-18T11:15:27.340Z"
   },
   {
    "duration": 9,
    "start_time": "2022-11-18T11:15:27.350Z"
   },
   {
    "duration": 72,
    "start_time": "2022-11-18T11:35:34.492Z"
   },
   {
    "duration": 1362,
    "start_time": "2022-11-18T11:35:44.480Z"
   },
   {
    "duration": 91,
    "start_time": "2022-11-18T11:35:45.845Z"
   },
   {
    "duration": 43,
    "start_time": "2022-11-18T11:35:45.938Z"
   },
   {
    "duration": 4,
    "start_time": "2022-11-18T11:35:45.984Z"
   },
   {
    "duration": 47,
    "start_time": "2022-11-18T11:35:45.990Z"
   },
   {
    "duration": 22,
    "start_time": "2022-11-18T11:35:46.039Z"
   },
   {
    "duration": 52,
    "start_time": "2022-11-18T11:35:46.063Z"
   },
   {
    "duration": 11,
    "start_time": "2022-11-18T11:35:46.117Z"
   },
   {
    "duration": 235,
    "start_time": "2022-11-18T11:35:46.130Z"
   },
   {
    "duration": 26,
    "start_time": "2022-11-18T11:35:46.369Z"
   },
   {
    "duration": 876,
    "start_time": "2022-11-18T11:35:46.412Z"
   },
   {
    "duration": 7,
    "start_time": "2022-11-18T11:35:47.290Z"
   },
   {
    "duration": 118,
    "start_time": "2022-11-18T11:35:47.299Z"
   },
   {
    "duration": 8,
    "start_time": "2022-11-18T11:35:47.419Z"
   },
   {
    "duration": 16,
    "start_time": "2022-11-18T11:35:47.429Z"
   },
   {
    "duration": 14,
    "start_time": "2022-11-18T11:35:47.447Z"
   },
   {
    "duration": 1651,
    "start_time": "2022-11-18T11:35:47.463Z"
   },
   {
    "duration": 21,
    "start_time": "2022-11-18T11:35:49.116Z"
   },
   {
    "duration": 1792,
    "start_time": "2022-11-18T11:35:49.139Z"
   },
   {
    "duration": 410,
    "start_time": "2022-11-18T11:35:50.933Z"
   },
   {
    "duration": 33,
    "start_time": "2022-11-18T11:35:51.345Z"
   },
   {
    "duration": 383,
    "start_time": "2022-11-18T11:35:51.380Z"
   },
   {
    "duration": 350,
    "start_time": "2022-11-18T11:35:51.766Z"
   },
   {
    "duration": 16,
    "start_time": "2022-11-18T11:35:52.119Z"
   },
   {
    "duration": 17,
    "start_time": "2022-11-18T11:35:52.138Z"
   },
   {
    "duration": 1486,
    "start_time": "2022-11-18T11:35:52.157Z"
   },
   {
    "duration": 15,
    "start_time": "2022-11-18T11:35:53.645Z"
   },
   {
    "duration": 12,
    "start_time": "2022-11-18T11:35:53.664Z"
   },
   {
    "duration": 35,
    "start_time": "2022-11-18T11:35:53.678Z"
   },
   {
    "duration": 12,
    "start_time": "2022-11-18T11:35:53.715Z"
   },
   {
    "duration": 103,
    "start_time": "2022-11-18T12:01:20.638Z"
   },
   {
    "duration": 5,
    "start_time": "2022-11-18T12:01:25.095Z"
   },
   {
    "duration": 1207,
    "start_time": "2022-11-18T12:01:34.225Z"
   },
   {
    "duration": 76,
    "start_time": "2022-11-18T12:01:35.434Z"
   },
   {
    "duration": 30,
    "start_time": "2022-11-18T12:01:35.512Z"
   },
   {
    "duration": 3,
    "start_time": "2022-11-18T12:01:35.544Z"
   },
   {
    "duration": 23,
    "start_time": "2022-11-18T12:01:35.549Z"
   },
   {
    "duration": 40,
    "start_time": "2022-11-18T12:01:35.574Z"
   },
   {
    "duration": 40,
    "start_time": "2022-11-18T12:01:35.616Z"
   },
   {
    "duration": 10,
    "start_time": "2022-11-18T12:01:35.658Z"
   },
   {
    "duration": 242,
    "start_time": "2022-11-18T12:01:35.670Z"
   },
   {
    "duration": 18,
    "start_time": "2022-11-18T12:01:35.914Z"
   },
   {
    "duration": 811,
    "start_time": "2022-11-18T12:01:35.934Z"
   },
   {
    "duration": 7,
    "start_time": "2022-11-18T12:01:36.747Z"
   },
   {
    "duration": 85,
    "start_time": "2022-11-18T12:01:36.756Z"
   },
   {
    "duration": 8,
    "start_time": "2022-11-18T12:01:36.844Z"
   },
   {
    "duration": 23,
    "start_time": "2022-11-18T12:01:36.854Z"
   },
   {
    "duration": 18,
    "start_time": "2022-11-18T12:01:36.879Z"
   },
   {
    "duration": 1551,
    "start_time": "2022-11-18T12:01:36.899Z"
   },
   {
    "duration": 19,
    "start_time": "2022-11-18T12:01:38.452Z"
   },
   {
    "duration": 1726,
    "start_time": "2022-11-18T12:01:38.472Z"
   },
   {
    "duration": 399,
    "start_time": "2022-11-18T12:01:40.200Z"
   },
   {
    "duration": 38,
    "start_time": "2022-11-18T12:01:40.600Z"
   },
   {
    "duration": 574,
    "start_time": "2022-11-18T12:01:40.640Z"
   },
   {
    "duration": 719,
    "start_time": "2022-11-18T12:01:41.216Z"
   },
   {
    "duration": 6,
    "start_time": "2022-11-18T12:01:41.937Z"
   },
   {
    "duration": 69,
    "start_time": "2022-11-18T12:01:41.945Z"
   },
   {
    "duration": 15,
    "start_time": "2022-11-18T12:01:42.016Z"
   },
   {
    "duration": 1879,
    "start_time": "2022-11-18T12:01:42.033Z"
   },
   {
    "duration": 16,
    "start_time": "2022-11-18T12:01:43.914Z"
   },
   {
    "duration": 15,
    "start_time": "2022-11-18T12:01:43.932Z"
   },
   {
    "duration": 9,
    "start_time": "2022-11-18T12:01:43.951Z"
   },
   {
    "duration": 10,
    "start_time": "2022-11-18T12:01:43.962Z"
   },
   {
    "duration": 10,
    "start_time": "2022-11-18T12:08:00.792Z"
   },
   {
    "duration": 1184,
    "start_time": "2022-11-20T01:23:59.536Z"
   },
   {
    "duration": 92,
    "start_time": "2022-11-20T01:24:00.722Z"
   },
   {
    "duration": 33,
    "start_time": "2022-11-20T01:24:00.816Z"
   },
   {
    "duration": 4,
    "start_time": "2022-11-20T01:24:00.850Z"
   },
   {
    "duration": 41,
    "start_time": "2022-11-20T01:24:00.856Z"
   },
   {
    "duration": 18,
    "start_time": "2022-11-20T01:24:00.899Z"
   },
   {
    "duration": 105,
    "start_time": "2022-11-20T01:24:00.918Z"
   },
   {
    "duration": 210,
    "start_time": "2022-11-20T01:24:01.025Z"
   },
   {
    "duration": 20,
    "start_time": "2022-11-20T01:24:01.237Z"
   },
   {
    "duration": 685,
    "start_time": "2022-11-20T01:24:01.259Z"
   },
   {
    "duration": 5,
    "start_time": "2022-11-20T01:24:01.946Z"
   },
   {
    "duration": 92,
    "start_time": "2022-11-20T01:24:01.952Z"
   },
   {
    "duration": 172,
    "start_time": "2022-11-20T01:24:02.046Z"
   },
   {
    "duration": 16,
    "start_time": "2022-11-20T01:24:02.220Z"
   },
   {
    "duration": 267,
    "start_time": "2022-11-20T01:24:02.238Z"
   },
   {
    "duration": 1411,
    "start_time": "2022-11-20T01:24:02.507Z"
   },
   {
    "duration": 25,
    "start_time": "2022-11-20T01:24:03.919Z"
   },
   {
    "duration": 1342,
    "start_time": "2022-11-20T01:24:03.946Z"
   },
   {
    "duration": 478,
    "start_time": "2022-11-20T01:24:05.290Z"
   },
   {
    "duration": 39,
    "start_time": "2022-11-20T01:24:05.769Z"
   },
   {
    "duration": 1869,
    "start_time": "2022-11-20T01:24:05.810Z"
   },
   {
    "duration": 3,
    "start_time": "2022-11-20T01:24:07.681Z"
   },
   {
    "duration": 18,
    "start_time": "2022-11-20T01:24:07.686Z"
   },
   {
    "duration": 573,
    "start_time": "2022-11-20T01:24:07.705Z"
   },
   {
    "duration": 15,
    "start_time": "2022-11-20T01:24:08.280Z"
   },
   {
    "duration": 1919,
    "start_time": "2022-11-20T01:24:08.296Z"
   },
   {
    "duration": 16,
    "start_time": "2022-11-20T01:24:10.217Z"
   },
   {
    "duration": 360,
    "start_time": "2022-11-20T01:24:10.235Z"
   },
   {
    "duration": 16,
    "start_time": "2022-11-20T01:24:10.597Z"
   },
   {
    "duration": 10,
    "start_time": "2022-11-20T01:24:10.615Z"
   },
   {
    "duration": 12,
    "start_time": "2022-11-20T01:24:10.626Z"
   },
   {
    "duration": 43,
    "start_time": "2022-11-20T01:24:10.640Z"
   },
   {
    "duration": 411,
    "start_time": "2022-11-20T01:42:00.966Z"
   }
  ],
  "kernelspec": {
   "display_name": "Python 3 (ipykernel)",
   "language": "python",
   "name": "python3"
  },
  "language_info": {
   "codemirror_mode": {
    "name": "ipython",
    "version": 3
   },
   "file_extension": ".py",
   "mimetype": "text/x-python",
   "name": "python",
   "nbconvert_exporter": "python",
   "pygments_lexer": "ipython3",
   "version": "3.9.12"
  },
  "toc": {
   "base_numbering": 1,
   "nav_menu": {},
   "number_sections": true,
   "sideBar": true,
   "skip_h1_title": true,
   "title_cell": "Table of Contents",
   "title_sidebar": "Contents",
   "toc_cell": false,
   "toc_position": {
    "height": "calc(100% - 180px)",
    "left": "10px",
    "top": "150px",
    "width": "212.682px"
   },
   "toc_section_display": true,
   "toc_window_display": true
  }
 },
 "nbformat": 4,
 "nbformat_minor": 2
}
