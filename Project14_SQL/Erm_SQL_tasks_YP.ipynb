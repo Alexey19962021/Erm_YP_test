{
 "cells": [
  {
   "cell_type": "markdown",
   "id": "61ba74f4",
   "metadata": {},
   "source": [
    "# Ршение задач PostgresSQL"
   ]
  },
  {
   "cell_type": "markdown",
   "id": "6708d4ca",
   "metadata": {},
   "source": [
    "## Посчитайте, сколько компаний закрылось."
   ]
  },
  {
   "cell_type": "code",
   "execution_count": 29,
   "id": "20e3dd76",
   "metadata": {},
   "outputs": [
    {
     "data": {
      "text/plain": [
       "\"\\nSELECT COUNT(status)\\nFROM company\\nGROUP BY status \\nHAVING status LIKE 'closed';\\n\""
      ]
     },
     "execution_count": 29,
     "metadata": {},
     "output_type": "execute_result"
    }
   ],
   "source": [
    "\"\"\"\n",
    "SELECT COUNT(status)\n",
    "FROM company\n",
    "GROUP BY status \n",
    "HAVING status LIKE 'closed';\n",
    "\"\"\""
   ]
  },
  {
   "cell_type": "markdown",
   "id": "15337e56",
   "metadata": {},
   "source": [
    "## Отобразите количество привлечённых средств для новостных компаний США. Используйте данные из таблицы company. Отсортируйте таблицу по убыванию значений в поле funding_total ."
   ]
  },
  {
   "cell_type": "code",
   "execution_count": 30,
   "id": "bf42dd28",
   "metadata": {},
   "outputs": [
    {
     "data": {
      "text/plain": [
       "\"\\nSELECT funding_total\\nFROM company\\nWHERE country_code='USA'\\n  AND category_code LIKE 'news' \\nORDER BY funding_total DESC\\n\""
      ]
     },
     "execution_count": 30,
     "metadata": {},
     "output_type": "execute_result"
    }
   ],
   "source": [
    "\"\"\"\n",
    "SELECT funding_total\n",
    "FROM company\n",
    "WHERE country_code='USA'\n",
    "  AND category_code LIKE 'news' \n",
    "ORDER BY funding_total DESC\n",
    "\"\"\""
   ]
  },
  {
   "cell_type": "markdown",
   "id": "900f1f09",
   "metadata": {},
   "source": [
    "## Найдите общую сумму сделок по покупке одних компаний другими в долларах. Отберите сделки, которые осуществлялись только за наличные с 2011 по 2013 год включительно."
   ]
  },
  {
   "cell_type": "code",
   "execution_count": 18,
   "id": "813e7ba9",
   "metadata": {},
   "outputs": [
    {
     "data": {
      "text/plain": [
       "\"\\nSELECT SUM(price_amount)\\nFROM acquisition\\nWHERE term_code = 'cash'\\n  AND (CAST(acquired_at as date) BETWEEN '2011-01-01' AND '2013-12-31')\\n\""
      ]
     },
     "execution_count": 18,
     "metadata": {},
     "output_type": "execute_result"
    }
   ],
   "source": [
    "\"\"\"\n",
    "SELECT SUM(price_amount)\n",
    "FROM acquisition\n",
    "WHERE term_code = 'cash'\n",
    "  AND (CAST(acquired_at as date) BETWEEN '2011-01-01' AND '2013-12-31')\n",
    "\"\"\""
   ]
  },
  {
   "cell_type": "markdown",
   "id": "6afdfaa0",
   "metadata": {},
   "source": [
    "## Отобразите имя, фамилию и названия аккаунтов людей в поле network_username, у которых названия аккаунтов начинаются на 'Silver'."
   ]
  },
  {
   "cell_type": "code",
   "execution_count": 19,
   "id": "0dc4cb34",
   "metadata": {},
   "outputs": [
    {
     "data": {
      "text/plain": [
       "\"\\nSELECT first_name,\\n       last_name,\\n       twitter_username\\nFROM people\\nWHERE twitter_username LIKE 'Silver%';\\n\""
      ]
     },
     "execution_count": 19,
     "metadata": {},
     "output_type": "execute_result"
    }
   ],
   "source": [
    "\"\"\"\n",
    "SELECT first_name,\n",
    "       last_name,\n",
    "       twitter_username\n",
    "FROM people\n",
    "WHERE twitter_username LIKE 'Silver%';\n",
    "\"\"\""
   ]
  },
  {
   "cell_type": "markdown",
   "id": "79e9e096",
   "metadata": {},
   "source": [
    "## Выведите на экран всю информацию о людях, у которых названия аккаунтов в поле network_username содержат подстроку 'money', а фамилия начинается на 'K'."
   ]
  },
  {
   "cell_type": "code",
   "execution_count": 20,
   "id": "320e428b",
   "metadata": {},
   "outputs": [
    {
     "data": {
      "text/plain": [
       "\"\\nSELECT *\\nFROM people\\nWHERE twitter_username LIKE '%money%'\\n  AND last_name LIKE 'K%'\\n\""
      ]
     },
     "execution_count": 20,
     "metadata": {},
     "output_type": "execute_result"
    }
   ],
   "source": [
    "\"\"\"\n",
    "SELECT *\n",
    "FROM people\n",
    "WHERE twitter_username LIKE '%money%'\n",
    "  AND last_name LIKE 'K%'\n",
    "\"\"\""
   ]
  },
  {
   "cell_type": "markdown",
   "id": "4dd4a619",
   "metadata": {},
   "source": [
    "## Для каждой страны отобразите общую сумму привлечённых инвестиций, которые получили компании, зарегистрированные в этой стране. Страну, в которой зарегистрирована компания, можно определить по коду страны. Отсортируйте данные по убыванию суммы."
   ]
  },
  {
   "cell_type": "code",
   "execution_count": 21,
   "id": "1401d8c7",
   "metadata": {},
   "outputs": [
    {
     "data": {
      "text/plain": [
       "'\\nSELECT SUM(funding_total),\\n       country_code\\nFROM company\\nGROUP BY country_code\\nORDER BY SUM(funding_total) DESC\\n'"
      ]
     },
     "execution_count": 21,
     "metadata": {},
     "output_type": "execute_result"
    }
   ],
   "source": [
    "\"\"\"\n",
    "SELECT SUM(funding_total),\n",
    "       country_code\n",
    "FROM company\n",
    "GROUP BY country_code\n",
    "ORDER BY SUM(funding_total) DESC\n",
    "\"\"\""
   ]
  },
  {
   "cell_type": "markdown",
   "id": "903da064",
   "metadata": {},
   "source": [
    "##  Составьте таблицу, в которую войдёт дата проведения раунда, а также минимальное и максимальное значения суммы инвестиций, привлечённых в эту дату. Оставьте в итоговой таблице только те записи, в которых минимальное значение суммы инвестиций не равно нулю и не равно максимальному значению."
   ]
  },
  {
   "cell_type": "code",
   "execution_count": 22,
   "id": "847180ef",
   "metadata": {},
   "outputs": [
    {
     "data": {
      "text/plain": [
       "'\\nSELECT CAST(funded_at AS DATE),\\n       MIN(raised_amount),\\n       MAX(raised_amount)\\nFROM funding_round\\nGROUP BY CAST(funded_at AS DATE)\\nHAVING  MIN(raised_amount) > 0 \\n AND MIN(raised_amount) !=  MAX(raised_amount)\\n'"
      ]
     },
     "execution_count": 22,
     "metadata": {},
     "output_type": "execute_result"
    }
   ],
   "source": [
    "\"\"\"\n",
    "SELECT CAST(funded_at AS DATE),\n",
    "       MIN(raised_amount),\n",
    "       MAX(raised_amount)\n",
    "FROM funding_round\n",
    "GROUP BY CAST(funded_at AS DATE)\n",
    "HAVING  MIN(raised_amount) > 0 \n",
    " AND MIN(raised_amount) !=  MAX(raised_amount)\n",
    "\"\"\""
   ]
  },
  {
   "cell_type": "markdown",
   "id": "89445003",
   "metadata": {},
   "source": [
    "## Создайте поле с категориями:\n",
    "\n",
    "- Для фондов, которые инвестируют в 100 и более компаний, назначьте категорию high_activity.\n",
    "- Для фондов, которые инвестируют в 20 и более компаний до 100, назначьте категорию middle_activity.\n",
    "- Если количество инвестируемых компаний фонда не достигает 20, назначьте категорию low_activity.\n",
    "\n",
    "Отобразите все поля таблицы fund и новое поле с категориями."
   ]
  },
  {
   "cell_type": "code",
   "execution_count": 23,
   "id": "6491bb6b",
   "metadata": {},
   "outputs": [
    {
     "data": {
      "text/plain": [
       "\"\\nSELECT *,\\n       CASE \\n           WHEN invested_companies >= 100 THEN 'high_activity'\\n           WHEN invested_companies < 100 AND  invested_companies >= 20 THEN 'middle_activity'\\n           WHEN invested_companies < 20 THEN 'low_activity'\\n       END\\nFROM fund;\\n\""
      ]
     },
     "execution_count": 23,
     "metadata": {},
     "output_type": "execute_result"
    }
   ],
   "source": [
    "\"\"\"\n",
    "SELECT *,\n",
    "       CASE \n",
    "           WHEN invested_companies >= 100 THEN 'high_activity'\n",
    "           WHEN invested_companies < 100 AND  invested_companies >= 20 THEN 'middle_activity'\n",
    "           WHEN invested_companies < 20 THEN 'low_activity'\n",
    "       END\n",
    "FROM fund;\n",
    "\"\"\""
   ]
  },
  {
   "cell_type": "markdown",
   "id": "0f06e89b",
   "metadata": {},
   "source": [
    "## Для каждой из категорий, назначенных в предыдущем задании, посчитайте округлённое до ближайшего целого числа среднее количество инвестиционных раундов, в которых фонд принимал участие. Выведите на экран категории и среднее число инвестиционных раундов. Отсортируйте таблицу по возрастанию среднего."
   ]
  },
  {
   "cell_type": "code",
   "execution_count": 24,
   "id": "a282599a",
   "metadata": {},
   "outputs": [
    {
     "data": {
      "text/plain": [
       "\"\\nWITH\\nres as\\n    (SELECT *,\\n           CASE\\n               WHEN invested_companies>=100 THEN 'high_activity'\\n               WHEN invested_companies>=20 THEN 'middle_activity'\\n               ELSE 'low_activity'\\n           END AS activity\\n    FROM fund)\\nSELECT activity,\\n       ROUND(AVG(investment_rounds))\\nFROM res\\nGROUP BY activity\\nORDER BY AVG(investment_rounds)\\n\""
      ]
     },
     "execution_count": 24,
     "metadata": {},
     "output_type": "execute_result"
    }
   ],
   "source": [
    "\"\"\"\n",
    "WITH\n",
    "res as\n",
    "    (SELECT *,\n",
    "           CASE\n",
    "               WHEN invested_companies>=100 THEN 'high_activity'\n",
    "               WHEN invested_companies>=20 THEN 'middle_activity'\n",
    "               ELSE 'low_activity'\n",
    "           END AS activity\n",
    "    FROM fund)\n",
    "SELECT activity,\n",
    "       ROUND(AVG(investment_rounds))\n",
    "FROM res\n",
    "GROUP BY activity\n",
    "ORDER BY AVG(investment_rounds)\n",
    "\"\"\""
   ]
  },
  {
   "cell_type": "markdown",
   "id": "b0b8632d",
   "metadata": {},
   "source": [
    "## Проанализируйте, в каких странах находятся фонды, которые чаще всего инвестируют в стартапы. \n",
    "\n",
    "Для каждой страны посчитайте минимальное, максимальное и среднее число компаний, в которые инвестировали фонды этой страны, основанные с 2010 по 2012 год включительно. Исключите страны с фондами, у которых минимальное число компаний, получивших инвестиции, равно нулю.\n",
    "\n",
    "Выгрузите десять самых активных стран-инвесторов: отсортируйте таблицу по среднему количеству компаний от большего к меньшему. Затем добавьте сортировку по коду страны в лексикографическом порядке."
   ]
  },
  {
   "cell_type": "code",
   "execution_count": 25,
   "id": "7656be39",
   "metadata": {},
   "outputs": [
    {
     "data": {
      "text/plain": [
       "'\\nSELECT MIN(invested_companies),\\n       MAX(invested_companies),\\n       AVG(invested_companies),\\n       country_code\\nFROM fund\\nWHERE (EXTRACT(YEAR FROM (CAST(founded_at AS DATE))) BETWEEN 2010 AND 2012)\\n\\nGROUP BY country_code\\nHAVING MIN(invested_companies) > 0\\nORDER BY  AVG(invested_companies) DESC, country_code\\nLIMIT 10\\n'"
      ]
     },
     "execution_count": 25,
     "metadata": {},
     "output_type": "execute_result"
    }
   ],
   "source": [
    "\"\"\"\n",
    "SELECT MIN(invested_companies),\n",
    "       MAX(invested_companies),\n",
    "       AVG(invested_companies),\n",
    "       country_code\n",
    "FROM fund\n",
    "WHERE (EXTRACT(YEAR FROM (CAST(founded_at AS DATE))) BETWEEN 2010 AND 2012)\n",
    "\n",
    "GROUP BY country_code\n",
    "HAVING MIN(invested_companies) > 0\n",
    "ORDER BY  AVG(invested_companies) DESC, country_code\n",
    "LIMIT 10\n",
    "\"\"\""
   ]
  },
  {
   "cell_type": "markdown",
   "id": "c6e9cbf5",
   "metadata": {},
   "source": [
    "## Отобразите имя и фамилию всех сотрудников стартапов. Добавьте поле с названием учебного заведения, которое окончил сотрудник, если эта информация известна."
   ]
  },
  {
   "cell_type": "code",
   "execution_count": 26,
   "id": "bb78dbe5",
   "metadata": {},
   "outputs": [
    {
     "data": {
      "text/plain": [
       "'\\nSELECT p.first_name,\\n       p.last_name,\\n       e.instituition\\nFROM people AS p\\nLEFT JOIN education AS e ON p.id = e.person_id\\n'"
      ]
     },
     "execution_count": 26,
     "metadata": {},
     "output_type": "execute_result"
    }
   ],
   "source": [
    "\"\"\"\n",
    "SELECT p.first_name,\n",
    "       p.last_name,\n",
    "       e.instituition\n",
    "FROM people AS p\n",
    "LEFT JOIN education AS e ON p.id = e.person_id\n",
    "\"\"\""
   ]
  },
  {
   "cell_type": "markdown",
   "id": "ab095eb1",
   "metadata": {},
   "source": [
    "## Для каждой компании найдите количество учебных заведений, которые окончили её сотрудники. Выведите название компании и число уникальных названий учебных заведений. Составьте топ-5 компаний по количеству университетов."
   ]
  },
  {
   "cell_type": "code",
   "execution_count": 27,
   "id": "551a3cec",
   "metadata": {},
   "outputs": [
    {
     "data": {
      "text/plain": [
       "'\\nWITH\\nres1 AS \\n    (SELECT e.person_id,\\n            p.company_id,\\n            e.instituition \\n    FROM education AS e\\n    INNER JOIN people AS p ON e.person_id = p.id\\n    WHERE instituition  IS NOT NULL\\n      AND e.person_id IN (SELECT id\\n                          FROM people\\n                          )),\\n\\nres2 AS \\n    (SELECT com.id, com.name\\n    FROM company AS com)\\n\\nSELECT res2.name, COUNT(DISTINCT res1.instituition)\\nFROM res1\\nJOIN res2 ON res1.company_id = res2.id\\nGROUP BY res2.name\\nORDER BY COUNT(DISTINCT res1.instituition) DESC\\nLIMIT 5\\n'"
      ]
     },
     "execution_count": 27,
     "metadata": {},
     "output_type": "execute_result"
    }
   ],
   "source": [
    "\"\"\"\n",
    "WITH\n",
    "res1 AS \n",
    "    (SELECT e.person_id,\n",
    "            p.company_id,\n",
    "            e.instituition \n",
    "    FROM education AS e\n",
    "    INNER JOIN people AS p ON e.person_id = p.id\n",
    "    WHERE instituition  IS NOT NULL\n",
    "      AND e.person_id IN (SELECT id\n",
    "                          FROM people\n",
    "                          )),\n",
    "\n",
    "res2 AS \n",
    "    (SELECT com.id, com.name\n",
    "    FROM company AS com)\n",
    "\n",
    "SELECT res2.name, COUNT(DISTINCT res1.instituition)\n",
    "FROM res1\n",
    "JOIN res2 ON res1.company_id = res2.id\n",
    "GROUP BY res2.name\n",
    "ORDER BY COUNT(DISTINCT res1.instituition) DESC\n",
    "LIMIT 5\n",
    "\"\"\""
   ]
  },
  {
   "cell_type": "markdown",
   "id": "163f34bc",
   "metadata": {},
   "source": [
    "## Составьте список с уникальными названиями закрытых компаний, для которых первый раунд финансирования оказался последним."
   ]
  },
  {
   "cell_type": "code",
   "execution_count": 28,
   "id": "688e2288",
   "metadata": {},
   "outputs": [
    {
     "data": {
      "text/plain": [
       "\"\\nSELECT  DISTINCT name\\nFROM company\\nWHERE status = 'closed'\\n  AND id IN (SELECT company_id\\n             FROM funding_round\\n             WHERE is_first_round = 1\\n               AND is_last_round = 1)\\n\""
      ]
     },
     "execution_count": 28,
     "metadata": {},
     "output_type": "execute_result"
    }
   ],
   "source": [
    "\"\"\"\n",
    "SELECT  DISTINCT name\n",
    "FROM company\n",
    "WHERE status = 'closed'\n",
    "  AND id IN (SELECT company_id\n",
    "             FROM funding_round\n",
    "             WHERE is_first_round = 1\n",
    "               AND is_last_round = 1)\n",
    "\"\"\""
   ]
  },
  {
   "cell_type": "markdown",
   "id": "f8504f20",
   "metadata": {},
   "source": [
    "## Составьте список уникальных номеров сотрудников, которые работают в компаниях, отобранных в предыдущем задании."
   ]
  },
  {
   "cell_type": "code",
   "execution_count": null,
   "id": "1f7f816c",
   "metadata": {},
   "outputs": [],
   "source": [
    "\"\"\"\n",
    "WITH\n",
    "res1 AS\n",
    "(SELECT  DISTINCT name, id\n",
    "FROM company\n",
    "WHERE status = 'closed'\n",
    "  AND id IN (SELECT company_id\n",
    "             FROM funding_round\n",
    "             WHERE is_first_round = 1\n",
    "               AND is_last_round = 1))\n",
    "\n",
    "SELECT p.id\n",
    "FROM people AS p\n",
    "INNER JOIN res1 ON res1.id = p.company_id\n",
    "\n",
    "\"\"\""
   ]
  },
  {
   "cell_type": "markdown",
   "id": "78269c9d",
   "metadata": {},
   "source": [
    "## Составьте таблицу, куда войдут уникальные пары с номерами сотрудников из предыдущей задачи и учебным заведением, которое окончил сотрудник."
   ]
  },
  {
   "cell_type": "code",
   "execution_count": 32,
   "id": "029e7233",
   "metadata": {},
   "outputs": [
    {
     "data": {
      "text/plain": [
       "\"\\nWITH\\nres1 AS\\n(SELECT  DISTINCT name, id\\nFROM company\\nWHERE status = 'closed'\\n  AND id IN (SELECT company_id\\n             FROM funding_round\\n             WHERE is_first_round = 1\\n               AND is_last_round = 1))\\n\\nSELECT DISTINCT p.id, e.instituition\\nFROM people AS p\\nINNER JOIN res1 ON res1.id = p.company_id\\nINNER JOIN education AS e ON p.id = e.person_id\\n\""
      ]
     },
     "execution_count": 32,
     "metadata": {},
     "output_type": "execute_result"
    }
   ],
   "source": [
    "\"\"\"\n",
    "WITH\n",
    "res1 AS\n",
    "(SELECT  DISTINCT name, id\n",
    "FROM company\n",
    "WHERE status = 'closed'\n",
    "  AND id IN (SELECT company_id\n",
    "             FROM funding_round\n",
    "             WHERE is_first_round = 1\n",
    "               AND is_last_round = 1))\n",
    "\n",
    "SELECT DISTINCT p.id, e.instituition\n",
    "FROM people AS p\n",
    "INNER JOIN res1 ON res1.id = p.company_id\n",
    "INNER JOIN education AS e ON p.id = e.person_id\n",
    "\"\"\""
   ]
  },
  {
   "cell_type": "markdown",
   "id": "4d2b08aa",
   "metadata": {},
   "source": [
    "## Посчитайте количество учебных заведений для каждого сотрудника из предыдущего задания. При подсчёте учитывайте, что некоторые сотрудники могли окончить одно и то же заведение дважды."
   ]
  },
  {
   "cell_type": "code",
   "execution_count": 33,
   "id": "88f02897",
   "metadata": {},
   "outputs": [
    {
     "data": {
      "text/plain": [
       "\"\\nWITH\\nres1 AS\\n(SELECT  DISTINCT name, id\\nFROM company\\nWHERE status = 'closed'\\n  AND id IN (SELECT company_id\\n             FROM funding_round\\n             WHERE is_first_round = 1\\n               AND is_last_round = 1))\\n\\nSELECT DISTINCT COUNT(e.instituition) OVER (PARTITION BY p.id),\\n       p.id\\nFROM people AS p\\nINNER JOIN res1 ON res1.id = p.company_id\\nINNER JOIN education AS e ON p.id = e.person_id\\n\""
      ]
     },
     "execution_count": 33,
     "metadata": {},
     "output_type": "execute_result"
    }
   ],
   "source": [
    "\"\"\"\n",
    "WITH\n",
    "res1 AS\n",
    "(SELECT  DISTINCT name, id\n",
    "FROM company\n",
    "WHERE status = 'closed'\n",
    "  AND id IN (SELECT company_id\n",
    "             FROM funding_round\n",
    "             WHERE is_first_round = 1\n",
    "               AND is_last_round = 1))\n",
    "\n",
    "SELECT DISTINCT COUNT(e.instituition) OVER (PARTITION BY p.id),\n",
    "       p.id\n",
    "FROM people AS p\n",
    "INNER JOIN res1 ON res1.id = p.company_id\n",
    "INNER JOIN education AS e ON p.id = e.person_id\n",
    "\"\"\""
   ]
  },
  {
   "cell_type": "markdown",
   "id": "1e3b19e5",
   "metadata": {},
   "source": [
    "## Дополните предыдущий запрос и выведите среднее число учебных заведений (всех, не только уникальных), которые окончили сотрудники разных компаний. Нужно вывести только одну запись, группировка здесь не понадобится."
   ]
  },
  {
   "cell_type": "code",
   "execution_count": 34,
   "id": "b1cc44fd",
   "metadata": {},
   "outputs": [
    {
     "data": {
      "text/plain": [
       "\"\\nWITH\\nres1 AS\\n(SELECT  DISTINCT name, id\\nFROM company\\nWHERE status = 'closed'\\n  AND id IN (SELECT company_id\\n             FROM funding_round\\n             WHERE is_first_round = 1\\n               AND is_last_round = 1))\\n\\nSELECT AVG(res2.cnt) FROM\\n    (SELECT DISTINCT COUNT(e.instituition) OVER (PARTITION BY p.id) AS cnt,\\n           p.id\\n    FROM people AS p\\n    INNER JOIN res1 ON res1.id = p.company_id\\n    INNER JOIN education AS e ON p.id = e.person_id) AS res2\\n\""
      ]
     },
     "execution_count": 34,
     "metadata": {},
     "output_type": "execute_result"
    }
   ],
   "source": [
    "\"\"\"\n",
    "WITH\n",
    "res1 AS\n",
    "(SELECT  DISTINCT name, id\n",
    "FROM company\n",
    "WHERE status = 'closed'\n",
    "  AND id IN (SELECT company_id\n",
    "             FROM funding_round\n",
    "             WHERE is_first_round = 1\n",
    "               AND is_last_round = 1))\n",
    "\n",
    "SELECT AVG(res2.cnt) FROM\n",
    "    (SELECT DISTINCT COUNT(e.instituition) OVER (PARTITION BY p.id) AS cnt,\n",
    "           p.id\n",
    "    FROM people AS p\n",
    "    INNER JOIN res1 ON res1.id = p.company_id\n",
    "    INNER JOIN education AS e ON p.id = e.person_id) AS res2\n",
    "\"\"\""
   ]
  },
  {
   "cell_type": "markdown",
   "id": "9ec88c6e",
   "metadata": {},
   "source": [
    "## Напишите похожий запрос: выведите среднее число учебных заведений (всех, не только уникальных), которые окончили сотрудники Facebook*.\n",
    "\n",
    "*(сервис, запрещённый на территории РФ)"
   ]
  },
  {
   "cell_type": "code",
   "execution_count": 35,
   "id": "a23470ae",
   "metadata": {},
   "outputs": [
    {
     "data": {
      "text/plain": [
       "\"\\nWITH\\nres1 AS\\n(SELECT  DISTINCT name, id\\nFROM company\\nWHERE name = 'Facebook')\\n\\nSELECT AVG(res2.cnt) FROM\\n    (SELECT DISTINCT COUNT(e.instituition) OVER (PARTITION BY p.id) AS cnt,\\n           p.id\\n    FROM people AS p\\n    INNER JOIN res1 ON res1.id = p.company_id\\n    INNER JOIN education AS e ON p.id = e.person_id) AS res2\\n\""
      ]
     },
     "execution_count": 35,
     "metadata": {},
     "output_type": "execute_result"
    }
   ],
   "source": [
    "\"\"\"\n",
    "WITH\n",
    "res1 AS\n",
    "(SELECT  DISTINCT name, id\n",
    "FROM company\n",
    "WHERE name = 'Facebook')\n",
    "\n",
    "SELECT AVG(res2.cnt) FROM\n",
    "    (SELECT DISTINCT COUNT(e.instituition) OVER (PARTITION BY p.id) AS cnt,\n",
    "           p.id\n",
    "    FROM people AS p\n",
    "    INNER JOIN res1 ON res1.id = p.company_id\n",
    "    INNER JOIN education AS e ON p.id = e.person_id) AS res2\n",
    "\"\"\""
   ]
  },
  {
   "cell_type": "markdown",
   "id": "42382ce7",
   "metadata": {},
   "source": [
    "## Составьте таблицу из полей:\n",
    "\n",
    "- name_of_fund — название фонда;\n",
    "\n",
    "- name_of_company — название компании;\n",
    "\n",
    "- amount — сумма инвестиций, которую привлекла компания в раунде.\n",
    "\n",
    "В таблицу войдут данные о компаниях, в истории которых было больше шести важных этапов, а раунды финансирования проходили с 2012 по 2013 год включительно."
   ]
  },
  {
   "cell_type": "code",
   "execution_count": 36,
   "id": "806337ec",
   "metadata": {},
   "outputs": [
    {
     "data": {
      "text/plain": [
       "'\\nWITH \\nres1 AS \\n    (SELECT id,\\n           name AS company_name,\\n           milestones\\n    FROM company\\n    WHERE milestones >=6\\n      AND id IN (SELECT company_id\\n                 FROM funding_round\\n                 WHERE EXTRACT(YEAR FROM (CAST(funded_at AS DATE))) BETWEEN 2012 AND 2013))\\n                 \\nSELECT DISTINCT f.name,\\n       res1.company_name,\\n       fr.raised_amount\\nFROM investment AS i\\nJOIN res1 ON i.company_id=res1.id\\nJOIN fund AS f ON i.fund_id=f.id\\nJOIN funding_round AS fr ON i.funding_round_id = fr.id\\nWHERE EXTRACT(YEAR FROM fr.funded_at) BETWEEN 2012 AND 2013\\n   AND res1.milestones > 6;\\n'"
      ]
     },
     "execution_count": 36,
     "metadata": {},
     "output_type": "execute_result"
    }
   ],
   "source": [
    "\"\"\"\n",
    "WITH \n",
    "res1 AS \n",
    "    (SELECT id,\n",
    "           name AS company_name,\n",
    "           milestones\n",
    "    FROM company\n",
    "    WHERE milestones >=6\n",
    "      AND id IN (SELECT company_id\n",
    "                 FROM funding_round\n",
    "                 WHERE EXTRACT(YEAR FROM (CAST(funded_at AS DATE))) BETWEEN 2012 AND 2013))\n",
    "                 \n",
    "SELECT DISTINCT f.name,\n",
    "       res1.company_name,\n",
    "       fr.raised_amount\n",
    "FROM investment AS i\n",
    "JOIN res1 ON i.company_id=res1.id\n",
    "JOIN fund AS f ON i.fund_id=f.id\n",
    "JOIN funding_round AS fr ON i.funding_round_id = fr.id\n",
    "WHERE EXTRACT(YEAR FROM fr.funded_at) BETWEEN 2012 AND 2013\n",
    "   AND res1.milestones > 6;\n",
    "\"\"\""
   ]
  },
  {
   "cell_type": "markdown",
   "id": "d410b778",
   "metadata": {},
   "source": [
    "## Выгрузите таблицу, в которой будут такие поля:\n",
    "- название компании-покупателя;\n",
    "- сумма сделки;\n",
    "- название компании, которую купили;\n",
    "- сумма инвестиций, вложенных в купленную компанию;\n",
    "- доля, которая отображает, во сколько раз сумма покупки превысила сумму вложенных в компанию инвестиций, округлённая до ближайшего целого числа.\n",
    "\n",
    "Не учитывайте те сделки, в которых сумма покупки равна нулю. Если сумма инвестиций в компанию равна нулю, исключите такую компанию из таблицы. \n",
    "Отсортируйте таблицу по сумме сделки от большей к меньшей, а затем по названию купленной компании в лексикографическом порядке. Ограничьте таблицу первыми десятью записями."
   ]
  },
  {
   "cell_type": "code",
   "execution_count": 37,
   "id": "c46b7396",
   "metadata": {},
   "outputs": [
    {
     "data": {
      "text/plain": [
       "'\\nSELECT c.name AS acquiring_company, cc.name AS acquired_company,\\n       a.price_amount, cc.funding_total,\\n       ROUND(a.price_amount / cc.funding_total)\\nFROM acquisition AS a\\nLEFT JOIN company AS c ON a.acquiring_company_id=c.id\\nLEFT JOIN company AS cc ON a.acquired_company_id=cc.id\\nWHERE a.price_amount !=0 \\n  AND cc.funding_total > 0\\n\\nORDER by a.price_amount DESC, cc.name\\nLIMIT 10\\n\\n'"
      ]
     },
     "execution_count": 37,
     "metadata": {},
     "output_type": "execute_result"
    }
   ],
   "source": [
    "\"\"\"\n",
    "SELECT c.name AS acquiring_company, cc.name AS acquired_company,\n",
    "       a.price_amount, cc.funding_total,\n",
    "       ROUND(a.price_amount / cc.funding_total)\n",
    "FROM acquisition AS a\n",
    "LEFT JOIN company AS c ON a.acquiring_company_id=c.id\n",
    "LEFT JOIN company AS cc ON a.acquired_company_id=cc.id\n",
    "WHERE a.price_amount !=0 \n",
    "  AND cc.funding_total > 0\n",
    "\n",
    "ORDER by a.price_amount DESC, cc.name\n",
    "LIMIT 10\n",
    "\n",
    "\"\"\""
   ]
  },
  {
   "cell_type": "markdown",
   "id": "f94ae1e2",
   "metadata": {},
   "source": [
    "## Выгрузите таблицу, в которую войдут названия компаний из категории social, получившие финансирование с 2010 по 2013 год включительно. Проверьте, что сумма инвестиций не равна нулю. Выведите также номер месяца, в котором проходил раунд финансирования."
   ]
  },
  {
   "cell_type": "code",
   "execution_count": 38,
   "id": "a040145f",
   "metadata": {},
   "outputs": [
    {
     "data": {
      "text/plain": [
       "\"\\nSELECT c.name,\\n       temp_t.month_n\\nFROM company as c\\n    JOIN\\n    (SELECT company_id, EXTRACT(MONTH FROM (CAST(funded_at AS DATE))) AS month_n\\n    FROM funding_round\\n    WHERE (EXTRACT(YEAR FROM (CAST(funded_at AS DATE))) BETWEEN 2010 AND 2013)\\n      AND raised_amount > 0) AS temp_t\\n     ON temp_t.company_id = c.id\\n     WHERE category_code = 'social'\\n\""
      ]
     },
     "execution_count": 38,
     "metadata": {},
     "output_type": "execute_result"
    }
   ],
   "source": [
    "\"\"\"\n",
    "SELECT c.name,\n",
    "       temp_t.month_n\n",
    "FROM company as c\n",
    "    JOIN\n",
    "    (SELECT company_id, EXTRACT(MONTH FROM (CAST(funded_at AS DATE))) AS month_n\n",
    "    FROM funding_round\n",
    "    WHERE (EXTRACT(YEAR FROM (CAST(funded_at AS DATE))) BETWEEN 2010 AND 2013)\n",
    "      AND raised_amount > 0) AS temp_t\n",
    "     ON temp_t.company_id = c.id\n",
    "     WHERE category_code = 'social'\n",
    "\"\"\""
   ]
  },
  {
   "cell_type": "markdown",
   "id": "d07a7465",
   "metadata": {},
   "source": [
    "## Отберите данные по месяцам с 2010 по 2013 год, когда проходили инвестиционные раунды. Сгруппируйте данные по номеру месяца и получите таблицу, в которой будут поля:\n",
    "\n",
    "- номер месяца, в котором проходили раунды;\n",
    "- количество уникальных названий фондов из США, которые инвестировали в этом месяце;\n",
    "- количество компаний, купленных за этот месяц;\n",
    "- общая сумма сделок по покупкам в этом месяце."
   ]
  },
  {
   "cell_type": "code",
   "execution_count": null,
   "id": "acaf2be9",
   "metadata": {},
   "outputs": [],
   "source": [
    "\"\"\"\n",
    "WITH\n",
    "-- выбираем месяц инвестиционных раундов в 2010-2013 гг\n",
    "tab1 AS (SELECT EXTRACT(MONTH FROM funded_at) AS month,\n",
    "                id AS funding_round_id\n",
    "                FROM funding_round\n",
    "         WHERE EXTRACT(YEAR FROM funded_at) BETWEEN 2010 AND 2013\n",
    "         ),\n",
    "\n",
    "-- считаем кол-во купленных и общую сумму по сделкам за 2010-2013 гг в разрезе месяца\n",
    "tab2 AS (SELECT EXTRACT(MONTH FROM acquired_at) AS month,\n",
    "                COUNT(acquired_company_id) AS count_acquired,\n",
    "                SUM(price_amount) AS total_amount\n",
    "         FROM acquisition\n",
    "         WHERE EXTRACT(YEAR FROM acquired_at) BETWEEN 2010 AND 2013\n",
    "         GROUP BY EXTRACT(MONTH FROM acquired_at)\n",
    "        ),\n",
    "\n",
    "-- ищем фонды из США\n",
    "tab3 AS (SELECT i.funding_round_id,\n",
    "                f.name\n",
    "        FROM investment AS i\n",
    "        JOIN fund AS f ON f.id = i.fund_id\n",
    "        WHERE fund_id IN (SELECT id\n",
    "                          FROM fund\n",
    "                          WHERE country_code LIKE 'USA')\n",
    "        ),\n",
    "\n",
    "tab4 AS (SELECT month,\n",
    "                COUNT(DISTINCT name) AS count_USA\n",
    "         FROM tab1 \n",
    "         LEFT JOIN tab3 ON tab1.funding_round_id = tab3.funding_round_id\n",
    "         GROUP BY month)\n",
    "         \n",
    "SELECT tab4.month,\n",
    "       tab4.count_USA,\n",
    "       tab2.count_acquired,\n",
    "       tab2.total_amount\n",
    "FROM tab4 \n",
    "LEFT JOIN tab2 ON tab4.month = tab2.month;\n",
    "\"\"\""
   ]
  },
  {
   "cell_type": "markdown",
   "id": "6a82cc4f",
   "metadata": {},
   "source": [
    "## Составьте сводную таблицу и выведите среднюю сумму инвестиций для стран, в которых есть стартапы, зарегистрированные в 2011, 2012 и 2013 годах. Данные за каждый год должны быть в отдельном поле. Отсортируйте таблицу по среднему значению инвестиций за 2011 год от большего к меньшему."
   ]
  },
  {
   "cell_type": "code",
   "execution_count": null,
   "id": "0a53e79f",
   "metadata": {},
   "outputs": [],
   "source": [
    "\"\"\"\n",
    "WITH\n",
    "y_2011 AS (SELECT country_code,\n",
    "                  AVG(funding_total) AS avg_2011\n",
    "           FROM  company\n",
    "           WHERE EXTRACT(YEAR FROM founded_at) = 2011\n",
    "             --AND funding_total > 0\n",
    "           GROUP BY country_code),\n",
    "          \n",
    "y_2012 AS (SELECT country_code,\n",
    "                  AVG(funding_total) AS avg_2012\n",
    "           FROM  company\n",
    "           WHERE EXTRACT(YEAR FROM founded_at) = 2012\n",
    "             --AND funding_total > 0\n",
    "           GROUP BY country_code),\n",
    "\n",
    "y_2013 AS (SELECT country_code,\n",
    "                  AVG(funding_total) AS avg_2013\n",
    "           FROM  company\n",
    "           WHERE EXTRACT(YEAR FROM founded_at) = 2013\n",
    "             --AND funding_total > 0\n",
    "           GROUP BY country_code)\n",
    "\n",
    "SELECT y_2011.country_code, \n",
    "       y_2011.avg_2011,\n",
    "       y_2012.avg_2012,\n",
    "       y_2013.avg_2013\n",
    "FROM y_2011\n",
    "JOIN y_2012 ON y_2011.country_code = y_2012.country_code\n",
    "JOIN y_2013 ON y_2011.country_code = y_2013.country_code\n",
    "ORDER BY y_2011.avg_2011 DESC\n",
    "\"\"\""
   ]
  }
 ],
 "metadata": {
  "kernelspec": {
   "display_name": "Python 3 (ipykernel)",
   "language": "python",
   "name": "python3"
  },
  "language_info": {
   "codemirror_mode": {
    "name": "ipython",
    "version": 3
   },
   "file_extension": ".py",
   "mimetype": "text/x-python",
   "name": "python",
   "nbconvert_exporter": "python",
   "pygments_lexer": "ipython3",
   "version": "3.9.12"
  },
  "toc": {
   "base_numbering": 1,
   "nav_menu": {},
   "number_sections": true,
   "sideBar": true,
   "skip_h1_title": false,
   "title_cell": "Table of Contents",
   "title_sidebar": "Contents",
   "toc_cell": false,
   "toc_position": {},
   "toc_section_display": true,
   "toc_window_display": false
  }
 },
 "nbformat": 4,
 "nbformat_minor": 5
}
