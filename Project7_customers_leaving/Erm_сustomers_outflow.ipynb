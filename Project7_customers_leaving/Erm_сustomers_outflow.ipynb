{
 "cells": [
  {
   "cell_type": "markdown",
   "metadata": {
    "toc": true
   },
   "source": [
    "<h1>Содержание<span class=\"tocSkip\"></span></h1>\n",
    "<div class=\"toc\"><ul class=\"toc-item\"><li><span><a href=\"#Подготовка-данных\" data-toc-modified-id=\"Подготовка-данных-1\"><span class=\"toc-item-num\">1&nbsp;&nbsp;</span>Подготовка данных</a></span></li><li><span><a href=\"#Исследование-задачи\" data-toc-modified-id=\"Исследование-задачи-2\"><span class=\"toc-item-num\">2&nbsp;&nbsp;</span>Исследование задачи</a></span></li><li><span><a href=\"#Борьба-с-дисбалансом\" data-toc-modified-id=\"Борьба-с-дисбалансом-3\"><span class=\"toc-item-num\">3&nbsp;&nbsp;</span>Борьба с дисбалансом</a></span></li><li><span><a href=\"#Тестирование-модели\" data-toc-modified-id=\"Тестирование-модели-4\"><span class=\"toc-item-num\">4&nbsp;&nbsp;</span>Тестирование модели</a></span></li><li><span><a href=\"#Дополнительные-вычисления\" data-toc-modified-id=\"Дополнительные-вычисления-5\"><span class=\"toc-item-num\">5&nbsp;&nbsp;</span>Дополнительные вычисления</a></span></li><li><span><a href=\"#Общий-вывод\" data-toc-modified-id=\"Общий-вывод-6\"><span class=\"toc-item-num\">6&nbsp;&nbsp;</span><em>Общий вывод</em></a></span></li></ul></div>"
   ]
  },
  {
   "cell_type": "markdown",
   "metadata": {},
   "source": [
    "Из банка стали уходить клиенты. Каждый месяц. Немного, но заметно. Маркетологи посчитали, что продуктивнее сохранить старых, чем искать новых. Откуда вытекает следующая задача: найти причину оттока клиентов. Для этого нужно построить модели, способные прогнозировать, уйдет ли клиент в ближайшее время или нет. Следует учесть дисбаланс классов в выборке и делать основные выводы по f1-метрике."
   ]
  },
  {
   "cell_type": "markdown",
   "metadata": {},
   "source": [
    "# Отток клиентов"
   ]
  },
  {
   "cell_type": "code",
   "execution_count": 1,
   "metadata": {},
   "outputs": [],
   "source": [
    "# imblearn для применения встроенных методов борьбы с дисбалансом\n",
    "#pip install imblearn"
   ]
  },
  {
   "cell_type": "code",
   "execution_count": 2,
   "metadata": {},
   "outputs": [],
   "source": [
    "import pandas as pd\n",
    "import seaborn as sns\n",
    "import matplotlib.pyplot as plt\n",
    "import warnings\n",
    "\n",
    "from sklearn.tree import DecisionTreeClassifier\n",
    "from sklearn.ensemble import RandomForestClassifier\n",
    "from sklearn.linear_model import LogisticRegression\n",
    "from sklearn.metrics import accuracy_score, f1_score, roc_curve, confusion_matrix, roc_auc_score\n",
    "from sklearn.preprocessing import StandardScaler\n",
    "from sklearn.preprocessing import OneHotEncoder\n",
    "from sklearn.model_selection import train_test_split\n",
    "from sklearn.utils import shuffle\n",
    "from imblearn.over_sampling import SMOTE\n",
    "from imblearn.under_sampling import RandomUnderSampler\n"
   ]
  },
  {
   "cell_type": "code",
   "execution_count": 3,
   "metadata": {},
   "outputs": [],
   "source": [
    "warnings.filterwarnings(\"ignore\")\n",
    "pd.options.display.max_columns = None\n",
    "pd.options.mode.chained_assignment = None"
   ]
  },
  {
   "cell_type": "markdown",
   "metadata": {},
   "source": [
    "## Подготовка данных"
   ]
  },
  {
   "cell_type": "code",
   "execution_count": 4,
   "metadata": {},
   "outputs": [],
   "source": [
    "try:\n",
    "    df = pd.read_csv('Churn.csv')\n",
    "except:\n",
    "    df = pd.read_csv('/YP/Churn.csv')"
   ]
  },
  {
   "cell_type": "code",
   "execution_count": 5,
   "metadata": {
    "scrolled": false
   },
   "outputs": [
    {
     "name": "stdout",
     "output_type": "stream",
     "text": [
      "<class 'pandas.core.frame.DataFrame'>\n",
      "RangeIndex: 10000 entries, 0 to 9999\n",
      "Data columns (total 14 columns):\n",
      " #   Column           Non-Null Count  Dtype  \n",
      "---  ------           --------------  -----  \n",
      " 0   RowNumber        10000 non-null  int64  \n",
      " 1   CustomerId       10000 non-null  int64  \n",
      " 2   Surname          10000 non-null  object \n",
      " 3   CreditScore      10000 non-null  int64  \n",
      " 4   Geography        10000 non-null  object \n",
      " 5   Gender           10000 non-null  object \n",
      " 6   Age              10000 non-null  int64  \n",
      " 7   Tenure           9091 non-null   float64\n",
      " 8   Balance          10000 non-null  float64\n",
      " 9   NumOfProducts    10000 non-null  int64  \n",
      " 10  HasCrCard        10000 non-null  int64  \n",
      " 11  IsActiveMember   10000 non-null  int64  \n",
      " 12  EstimatedSalary  10000 non-null  float64\n",
      " 13  Exited           10000 non-null  int64  \n",
      "dtypes: float64(3), int64(8), object(3)\n",
      "memory usage: 1.1+ MB\n"
     ]
    },
    {
     "data": {
      "text/html": [
       "<div>\n",
       "<style scoped>\n",
       "    .dataframe tbody tr th:only-of-type {\n",
       "        vertical-align: middle;\n",
       "    }\n",
       "\n",
       "    .dataframe tbody tr th {\n",
       "        vertical-align: top;\n",
       "    }\n",
       "\n",
       "    .dataframe thead th {\n",
       "        text-align: right;\n",
       "    }\n",
       "</style>\n",
       "<table border=\"1\" class=\"dataframe\">\n",
       "  <thead>\n",
       "    <tr style=\"text-align: right;\">\n",
       "      <th></th>\n",
       "      <th>RowNumber</th>\n",
       "      <th>CustomerId</th>\n",
       "      <th>Surname</th>\n",
       "      <th>CreditScore</th>\n",
       "      <th>Geography</th>\n",
       "      <th>Gender</th>\n",
       "      <th>Age</th>\n",
       "      <th>Tenure</th>\n",
       "      <th>Balance</th>\n",
       "      <th>NumOfProducts</th>\n",
       "      <th>HasCrCard</th>\n",
       "      <th>IsActiveMember</th>\n",
       "      <th>EstimatedSalary</th>\n",
       "      <th>Exited</th>\n",
       "    </tr>\n",
       "  </thead>\n",
       "  <tbody>\n",
       "    <tr>\n",
       "      <th>0</th>\n",
       "      <td>1</td>\n",
       "      <td>15634602</td>\n",
       "      <td>Hargrave</td>\n",
       "      <td>619</td>\n",
       "      <td>France</td>\n",
       "      <td>Female</td>\n",
       "      <td>42</td>\n",
       "      <td>2.0</td>\n",
       "      <td>0.00</td>\n",
       "      <td>1</td>\n",
       "      <td>1</td>\n",
       "      <td>1</td>\n",
       "      <td>101348.88</td>\n",
       "      <td>1</td>\n",
       "    </tr>\n",
       "    <tr>\n",
       "      <th>1</th>\n",
       "      <td>2</td>\n",
       "      <td>15647311</td>\n",
       "      <td>Hill</td>\n",
       "      <td>608</td>\n",
       "      <td>Spain</td>\n",
       "      <td>Female</td>\n",
       "      <td>41</td>\n",
       "      <td>1.0</td>\n",
       "      <td>83807.86</td>\n",
       "      <td>1</td>\n",
       "      <td>0</td>\n",
       "      <td>1</td>\n",
       "      <td>112542.58</td>\n",
       "      <td>0</td>\n",
       "    </tr>\n",
       "    <tr>\n",
       "      <th>2</th>\n",
       "      <td>3</td>\n",
       "      <td>15619304</td>\n",
       "      <td>Onio</td>\n",
       "      <td>502</td>\n",
       "      <td>France</td>\n",
       "      <td>Female</td>\n",
       "      <td>42</td>\n",
       "      <td>8.0</td>\n",
       "      <td>159660.80</td>\n",
       "      <td>3</td>\n",
       "      <td>1</td>\n",
       "      <td>0</td>\n",
       "      <td>113931.57</td>\n",
       "      <td>1</td>\n",
       "    </tr>\n",
       "    <tr>\n",
       "      <th>3</th>\n",
       "      <td>4</td>\n",
       "      <td>15701354</td>\n",
       "      <td>Boni</td>\n",
       "      <td>699</td>\n",
       "      <td>France</td>\n",
       "      <td>Female</td>\n",
       "      <td>39</td>\n",
       "      <td>1.0</td>\n",
       "      <td>0.00</td>\n",
       "      <td>2</td>\n",
       "      <td>0</td>\n",
       "      <td>0</td>\n",
       "      <td>93826.63</td>\n",
       "      <td>0</td>\n",
       "    </tr>\n",
       "    <tr>\n",
       "      <th>4</th>\n",
       "      <td>5</td>\n",
       "      <td>15737888</td>\n",
       "      <td>Mitchell</td>\n",
       "      <td>850</td>\n",
       "      <td>Spain</td>\n",
       "      <td>Female</td>\n",
       "      <td>43</td>\n",
       "      <td>2.0</td>\n",
       "      <td>125510.82</td>\n",
       "      <td>1</td>\n",
       "      <td>1</td>\n",
       "      <td>1</td>\n",
       "      <td>79084.10</td>\n",
       "      <td>0</td>\n",
       "    </tr>\n",
       "    <tr>\n",
       "      <th>...</th>\n",
       "      <td>...</td>\n",
       "      <td>...</td>\n",
       "      <td>...</td>\n",
       "      <td>...</td>\n",
       "      <td>...</td>\n",
       "      <td>...</td>\n",
       "      <td>...</td>\n",
       "      <td>...</td>\n",
       "      <td>...</td>\n",
       "      <td>...</td>\n",
       "      <td>...</td>\n",
       "      <td>...</td>\n",
       "      <td>...</td>\n",
       "      <td>...</td>\n",
       "    </tr>\n",
       "    <tr>\n",
       "      <th>9995</th>\n",
       "      <td>9996</td>\n",
       "      <td>15606229</td>\n",
       "      <td>Obijiaku</td>\n",
       "      <td>771</td>\n",
       "      <td>France</td>\n",
       "      <td>Male</td>\n",
       "      <td>39</td>\n",
       "      <td>5.0</td>\n",
       "      <td>0.00</td>\n",
       "      <td>2</td>\n",
       "      <td>1</td>\n",
       "      <td>0</td>\n",
       "      <td>96270.64</td>\n",
       "      <td>0</td>\n",
       "    </tr>\n",
       "    <tr>\n",
       "      <th>9996</th>\n",
       "      <td>9997</td>\n",
       "      <td>15569892</td>\n",
       "      <td>Johnstone</td>\n",
       "      <td>516</td>\n",
       "      <td>France</td>\n",
       "      <td>Male</td>\n",
       "      <td>35</td>\n",
       "      <td>10.0</td>\n",
       "      <td>57369.61</td>\n",
       "      <td>1</td>\n",
       "      <td>1</td>\n",
       "      <td>1</td>\n",
       "      <td>101699.77</td>\n",
       "      <td>0</td>\n",
       "    </tr>\n",
       "    <tr>\n",
       "      <th>9997</th>\n",
       "      <td>9998</td>\n",
       "      <td>15584532</td>\n",
       "      <td>Liu</td>\n",
       "      <td>709</td>\n",
       "      <td>France</td>\n",
       "      <td>Female</td>\n",
       "      <td>36</td>\n",
       "      <td>7.0</td>\n",
       "      <td>0.00</td>\n",
       "      <td>1</td>\n",
       "      <td>0</td>\n",
       "      <td>1</td>\n",
       "      <td>42085.58</td>\n",
       "      <td>1</td>\n",
       "    </tr>\n",
       "    <tr>\n",
       "      <th>9998</th>\n",
       "      <td>9999</td>\n",
       "      <td>15682355</td>\n",
       "      <td>Sabbatini</td>\n",
       "      <td>772</td>\n",
       "      <td>Germany</td>\n",
       "      <td>Male</td>\n",
       "      <td>42</td>\n",
       "      <td>3.0</td>\n",
       "      <td>75075.31</td>\n",
       "      <td>2</td>\n",
       "      <td>1</td>\n",
       "      <td>0</td>\n",
       "      <td>92888.52</td>\n",
       "      <td>1</td>\n",
       "    </tr>\n",
       "    <tr>\n",
       "      <th>9999</th>\n",
       "      <td>10000</td>\n",
       "      <td>15628319</td>\n",
       "      <td>Walker</td>\n",
       "      <td>792</td>\n",
       "      <td>France</td>\n",
       "      <td>Female</td>\n",
       "      <td>28</td>\n",
       "      <td>NaN</td>\n",
       "      <td>130142.79</td>\n",
       "      <td>1</td>\n",
       "      <td>1</td>\n",
       "      <td>0</td>\n",
       "      <td>38190.78</td>\n",
       "      <td>0</td>\n",
       "    </tr>\n",
       "  </tbody>\n",
       "</table>\n",
       "<p>10000 rows × 14 columns</p>\n",
       "</div>"
      ],
      "text/plain": [
       "      RowNumber  CustomerId    Surname  CreditScore Geography  Gender  Age  \\\n",
       "0             1    15634602   Hargrave          619    France  Female   42   \n",
       "1             2    15647311       Hill          608     Spain  Female   41   \n",
       "2             3    15619304       Onio          502    France  Female   42   \n",
       "3             4    15701354       Boni          699    France  Female   39   \n",
       "4             5    15737888   Mitchell          850     Spain  Female   43   \n",
       "...         ...         ...        ...          ...       ...     ...  ...   \n",
       "9995       9996    15606229   Obijiaku          771    France    Male   39   \n",
       "9996       9997    15569892  Johnstone          516    France    Male   35   \n",
       "9997       9998    15584532        Liu          709    France  Female   36   \n",
       "9998       9999    15682355  Sabbatini          772   Germany    Male   42   \n",
       "9999      10000    15628319     Walker          792    France  Female   28   \n",
       "\n",
       "      Tenure    Balance  NumOfProducts  HasCrCard  IsActiveMember  \\\n",
       "0        2.0       0.00              1          1               1   \n",
       "1        1.0   83807.86              1          0               1   \n",
       "2        8.0  159660.80              3          1               0   \n",
       "3        1.0       0.00              2          0               0   \n",
       "4        2.0  125510.82              1          1               1   \n",
       "...      ...        ...            ...        ...             ...   \n",
       "9995     5.0       0.00              2          1               0   \n",
       "9996    10.0   57369.61              1          1               1   \n",
       "9997     7.0       0.00              1          0               1   \n",
       "9998     3.0   75075.31              2          1               0   \n",
       "9999     NaN  130142.79              1          1               0   \n",
       "\n",
       "      EstimatedSalary  Exited  \n",
       "0           101348.88       1  \n",
       "1           112542.58       0  \n",
       "2           113931.57       1  \n",
       "3            93826.63       0  \n",
       "4            79084.10       0  \n",
       "...               ...     ...  \n",
       "9995         96270.64       0  \n",
       "9996        101699.77       0  \n",
       "9997         42085.58       1  \n",
       "9998         92888.52       1  \n",
       "9999         38190.78       0  \n",
       "\n",
       "[10000 rows x 14 columns]"
      ]
     },
     "execution_count": 5,
     "metadata": {},
     "output_type": "execute_result"
    }
   ],
   "source": [
    "# Посмотрим на данные\n",
    "df.info()\n",
    "df"
   ]
  },
  {
   "cell_type": "markdown",
   "metadata": {},
   "source": [
    "Однозначно нам пригодятся не все столбцы. RowNumber можем смело удалить и нужно понять, что делать с CustomerId и Surname, т.к. по факту это просто те данные, по которым можно идентифицировать пользователя, но как таковые в расчете нам их использовать возможно и не нужно. Для Gender и Geography придется применить прямое кодирование. Избавиться от пропусков в Tenure\t можно заменой медианным значением (можно корреляцию по категориям посмотреть), или просто удалением пропусков, а может и самого признака.\n",
    "\n",
    "В одной колонке есть пропуски, пока чем их заменить непонятно. Для начала проверим каждая ли строка - это новый id или они могут повториться."
   ]
  },
  {
   "cell_type": "code",
   "execution_count": 6,
   "metadata": {},
   "outputs": [
    {
     "data": {
      "text/plain": [
       "10000"
      ]
     },
     "execution_count": 6,
     "metadata": {},
     "output_type": "execute_result"
    }
   ],
   "source": [
    "len(df['CustomerId'].value_counts())"
   ]
  },
  {
   "cell_type": "code",
   "execution_count": 7,
   "metadata": {
    "scrolled": true
   },
   "outputs": [
    {
     "data": {
      "text/html": [
       "<div>\n",
       "<style scoped>\n",
       "    .dataframe tbody tr th:only-of-type {\n",
       "        vertical-align: middle;\n",
       "    }\n",
       "\n",
       "    .dataframe tbody tr th {\n",
       "        vertical-align: top;\n",
       "    }\n",
       "\n",
       "    .dataframe thead th {\n",
       "        text-align: right;\n",
       "    }\n",
       "</style>\n",
       "<table border=\"1\" class=\"dataframe\">\n",
       "  <thead>\n",
       "    <tr style=\"text-align: right;\">\n",
       "      <th></th>\n",
       "      <th>CreditScore</th>\n",
       "      <th>Geography</th>\n",
       "      <th>Gender</th>\n",
       "      <th>Age</th>\n",
       "      <th>Tenure</th>\n",
       "      <th>Balance</th>\n",
       "      <th>NumOfProducts</th>\n",
       "      <th>HasCrCard</th>\n",
       "      <th>IsActiveMember</th>\n",
       "      <th>EstimatedSalary</th>\n",
       "      <th>Exited</th>\n",
       "    </tr>\n",
       "  </thead>\n",
       "  <tbody>\n",
       "    <tr>\n",
       "      <th>0</th>\n",
       "      <td>619</td>\n",
       "      <td>France</td>\n",
       "      <td>Female</td>\n",
       "      <td>42</td>\n",
       "      <td>2.0</td>\n",
       "      <td>0.00</td>\n",
       "      <td>1</td>\n",
       "      <td>1</td>\n",
       "      <td>1</td>\n",
       "      <td>101348.88</td>\n",
       "      <td>1</td>\n",
       "    </tr>\n",
       "    <tr>\n",
       "      <th>1</th>\n",
       "      <td>608</td>\n",
       "      <td>Spain</td>\n",
       "      <td>Female</td>\n",
       "      <td>41</td>\n",
       "      <td>1.0</td>\n",
       "      <td>83807.86</td>\n",
       "      <td>1</td>\n",
       "      <td>0</td>\n",
       "      <td>1</td>\n",
       "      <td>112542.58</td>\n",
       "      <td>0</td>\n",
       "    </tr>\n",
       "    <tr>\n",
       "      <th>2</th>\n",
       "      <td>502</td>\n",
       "      <td>France</td>\n",
       "      <td>Female</td>\n",
       "      <td>42</td>\n",
       "      <td>8.0</td>\n",
       "      <td>159660.80</td>\n",
       "      <td>3</td>\n",
       "      <td>1</td>\n",
       "      <td>0</td>\n",
       "      <td>113931.57</td>\n",
       "      <td>1</td>\n",
       "    </tr>\n",
       "    <tr>\n",
       "      <th>3</th>\n",
       "      <td>699</td>\n",
       "      <td>France</td>\n",
       "      <td>Female</td>\n",
       "      <td>39</td>\n",
       "      <td>1.0</td>\n",
       "      <td>0.00</td>\n",
       "      <td>2</td>\n",
       "      <td>0</td>\n",
       "      <td>0</td>\n",
       "      <td>93826.63</td>\n",
       "      <td>0</td>\n",
       "    </tr>\n",
       "    <tr>\n",
       "      <th>4</th>\n",
       "      <td>850</td>\n",
       "      <td>Spain</td>\n",
       "      <td>Female</td>\n",
       "      <td>43</td>\n",
       "      <td>2.0</td>\n",
       "      <td>125510.82</td>\n",
       "      <td>1</td>\n",
       "      <td>1</td>\n",
       "      <td>1</td>\n",
       "      <td>79084.10</td>\n",
       "      <td>0</td>\n",
       "    </tr>\n",
       "    <tr>\n",
       "      <th>...</th>\n",
       "      <td>...</td>\n",
       "      <td>...</td>\n",
       "      <td>...</td>\n",
       "      <td>...</td>\n",
       "      <td>...</td>\n",
       "      <td>...</td>\n",
       "      <td>...</td>\n",
       "      <td>...</td>\n",
       "      <td>...</td>\n",
       "      <td>...</td>\n",
       "      <td>...</td>\n",
       "    </tr>\n",
       "    <tr>\n",
       "      <th>9995</th>\n",
       "      <td>771</td>\n",
       "      <td>France</td>\n",
       "      <td>Male</td>\n",
       "      <td>39</td>\n",
       "      <td>5.0</td>\n",
       "      <td>0.00</td>\n",
       "      <td>2</td>\n",
       "      <td>1</td>\n",
       "      <td>0</td>\n",
       "      <td>96270.64</td>\n",
       "      <td>0</td>\n",
       "    </tr>\n",
       "    <tr>\n",
       "      <th>9996</th>\n",
       "      <td>516</td>\n",
       "      <td>France</td>\n",
       "      <td>Male</td>\n",
       "      <td>35</td>\n",
       "      <td>10.0</td>\n",
       "      <td>57369.61</td>\n",
       "      <td>1</td>\n",
       "      <td>1</td>\n",
       "      <td>1</td>\n",
       "      <td>101699.77</td>\n",
       "      <td>0</td>\n",
       "    </tr>\n",
       "    <tr>\n",
       "      <th>9997</th>\n",
       "      <td>709</td>\n",
       "      <td>France</td>\n",
       "      <td>Female</td>\n",
       "      <td>36</td>\n",
       "      <td>7.0</td>\n",
       "      <td>0.00</td>\n",
       "      <td>1</td>\n",
       "      <td>0</td>\n",
       "      <td>1</td>\n",
       "      <td>42085.58</td>\n",
       "      <td>1</td>\n",
       "    </tr>\n",
       "    <tr>\n",
       "      <th>9998</th>\n",
       "      <td>772</td>\n",
       "      <td>Germany</td>\n",
       "      <td>Male</td>\n",
       "      <td>42</td>\n",
       "      <td>3.0</td>\n",
       "      <td>75075.31</td>\n",
       "      <td>2</td>\n",
       "      <td>1</td>\n",
       "      <td>0</td>\n",
       "      <td>92888.52</td>\n",
       "      <td>1</td>\n",
       "    </tr>\n",
       "    <tr>\n",
       "      <th>9999</th>\n",
       "      <td>792</td>\n",
       "      <td>France</td>\n",
       "      <td>Female</td>\n",
       "      <td>28</td>\n",
       "      <td>NaN</td>\n",
       "      <td>130142.79</td>\n",
       "      <td>1</td>\n",
       "      <td>1</td>\n",
       "      <td>0</td>\n",
       "      <td>38190.78</td>\n",
       "      <td>0</td>\n",
       "    </tr>\n",
       "  </tbody>\n",
       "</table>\n",
       "<p>10000 rows × 11 columns</p>\n",
       "</div>"
      ],
      "text/plain": [
       "      CreditScore Geography  Gender  Age  Tenure    Balance  NumOfProducts  \\\n",
       "0             619    France  Female   42     2.0       0.00              1   \n",
       "1             608     Spain  Female   41     1.0   83807.86              1   \n",
       "2             502    France  Female   42     8.0  159660.80              3   \n",
       "3             699    France  Female   39     1.0       0.00              2   \n",
       "4             850     Spain  Female   43     2.0  125510.82              1   \n",
       "...           ...       ...     ...  ...     ...        ...            ...   \n",
       "9995          771    France    Male   39     5.0       0.00              2   \n",
       "9996          516    France    Male   35    10.0   57369.61              1   \n",
       "9997          709    France  Female   36     7.0       0.00              1   \n",
       "9998          772   Germany    Male   42     3.0   75075.31              2   \n",
       "9999          792    France  Female   28     NaN  130142.79              1   \n",
       "\n",
       "      HasCrCard  IsActiveMember  EstimatedSalary  Exited  \n",
       "0             1               1        101348.88       1  \n",
       "1             0               1        112542.58       0  \n",
       "2             1               0        113931.57       1  \n",
       "3             0               0         93826.63       0  \n",
       "4             1               1         79084.10       0  \n",
       "...         ...             ...              ...     ...  \n",
       "9995          1               0         96270.64       0  \n",
       "9996          1               1        101699.77       0  \n",
       "9997          0               1         42085.58       1  \n",
       "9998          1               0         92888.52       1  \n",
       "9999          1               0         38190.78       0  \n",
       "\n",
       "[10000 rows x 11 columns]"
      ]
     },
     "execution_count": 7,
     "metadata": {},
     "output_type": "execute_result"
    }
   ],
   "source": [
    "df1 = df.drop(['RowNumber', 'CustomerId', 'Surname'], axis=1)\n",
    "df1"
   ]
  },
  {
   "cell_type": "markdown",
   "metadata": {},
   "source": [
    "Посмотрим наблюдается ли какая-то корреляция по полю Tenure"
   ]
  },
  {
   "cell_type": "code",
   "execution_count": 8,
   "metadata": {},
   "outputs": [
    {
     "data": {
      "text/plain": [
       "Tenure             1.000000\n",
       "HasCrCard          0.027232\n",
       "NumOfProducts      0.011979\n",
       "EstimatedSalary    0.010520\n",
       "CreditScore       -0.000062\n",
       "Balance           -0.007911\n",
       "Age               -0.013134\n",
       "Exited            -0.016761\n",
       "IsActiveMember    -0.032178\n",
       "Name: Tenure, dtype: float64"
      ]
     },
     "execution_count": 8,
     "metadata": {},
     "output_type": "execute_result"
    }
   ],
   "source": [
    "df1_corr = df1.corr()\n",
    "df1_corr['Tenure'].sort_values(ascending=False)"
   ]
  },
  {
   "cell_type": "markdown",
   "metadata": {},
   "source": [
    "Корреляция со всеми осатльными признаками не очень..."
   ]
  },
  {
   "cell_type": "code",
   "execution_count": 9,
   "metadata": {
    "scrolled": true
   },
   "outputs": [
    {
     "data": {
      "text/html": [
       "<div>\n",
       "<style scoped>\n",
       "    .dataframe tbody tr th:only-of-type {\n",
       "        vertical-align: middle;\n",
       "    }\n",
       "\n",
       "    .dataframe tbody tr th {\n",
       "        vertical-align: top;\n",
       "    }\n",
       "\n",
       "    .dataframe thead th {\n",
       "        text-align: right;\n",
       "    }\n",
       "</style>\n",
       "<table border=\"1\" class=\"dataframe\">\n",
       "  <thead>\n",
       "    <tr style=\"text-align: right;\">\n",
       "      <th></th>\n",
       "      <th></th>\n",
       "      <th>Tenure</th>\n",
       "    </tr>\n",
       "    <tr>\n",
       "      <th>Geography</th>\n",
       "      <th>Gender</th>\n",
       "      <th></th>\n",
       "    </tr>\n",
       "  </thead>\n",
       "  <tbody>\n",
       "    <tr>\n",
       "      <th rowspan=\"2\" valign=\"top\">France</th>\n",
       "      <th>Female</th>\n",
       "      <td>5.0</td>\n",
       "    </tr>\n",
       "    <tr>\n",
       "      <th>Male</th>\n",
       "      <td>5.0</td>\n",
       "    </tr>\n",
       "    <tr>\n",
       "      <th rowspan=\"2\" valign=\"top\">Germany</th>\n",
       "      <th>Female</th>\n",
       "      <td>5.0</td>\n",
       "    </tr>\n",
       "    <tr>\n",
       "      <th>Male</th>\n",
       "      <td>5.0</td>\n",
       "    </tr>\n",
       "    <tr>\n",
       "      <th rowspan=\"2\" valign=\"top\">Spain</th>\n",
       "      <th>Female</th>\n",
       "      <td>5.0</td>\n",
       "    </tr>\n",
       "    <tr>\n",
       "      <th>Male</th>\n",
       "      <td>5.0</td>\n",
       "    </tr>\n",
       "  </tbody>\n",
       "</table>\n",
       "</div>"
      ],
      "text/plain": [
       "                  Tenure\n",
       "Geography Gender        \n",
       "France    Female     5.0\n",
       "          Male       5.0\n",
       "Germany   Female     5.0\n",
       "          Male       5.0\n",
       "Spain     Female     5.0\n",
       "          Male       5.0"
      ]
     },
     "execution_count": 9,
     "metadata": {},
     "output_type": "execute_result"
    }
   ],
   "source": [
    "df1.groupby(['Geography', 'Gender']).agg({'Tenure': 'median'})"
   ]
  },
  {
   "cell_type": "markdown",
   "metadata": {},
   "source": [
    "Ну, в соответствии с вышесказанным и медианное значение в разбивке по группам оказалось одинаковым. \n",
    "\n",
    "Тогда им пропуски и заменим. А в итоге вернемся к этому моменту, идентификаторам пользователей и посмотрим как себя поведет моедль, если допустим удалить строки с пропусками в Tenure или все-таки оставить такой столбец как CustomerId"
   ]
  },
  {
   "cell_type": "code",
   "execution_count": 10,
   "metadata": {},
   "outputs": [],
   "source": [
    "df1['Tenure'] = df1['Tenure'].fillna(df1['Tenure'].median())"
   ]
  },
  {
   "cell_type": "markdown",
   "metadata": {},
   "source": [
    "Свиду ненужные признаки убрали, переведем в числовой формат текстовые столбцы."
   ]
  },
  {
   "cell_type": "markdown",
   "metadata": {},
   "source": [
    "Скорее всего, признаки придется еще и масштабировать, так как разброс явно немаленький. В принципе NumOfProducts и Tenure могут быть и категориальными... Но по факту они принимают хначения больше 1 (т.е., к примеру, 2, 4, 6 и т.п.), значит, промасштабируем их тоже, чтобы алгоритм не выбрал какой-то из них наиболее важным. Разделим признаки с целью на соотв-ие выборки и промасштабтруем."
   ]
  },
  {
   "cell_type": "code",
   "execution_count": 11,
   "metadata": {},
   "outputs": [
    {
     "name": "stdout",
     "output_type": "stream",
     "text": [
      "Размеры тренировочной, валидационной и тестоыой выборок: (6000, 10) (2000, 10) (2000, 10)\n",
      "Размеры целевых признаков ааналогичных выборок (6000,) (2000,) (2000,)\n"
     ]
    },
    {
     "data": {
      "text/html": [
       "<div>\n",
       "<style scoped>\n",
       "    .dataframe tbody tr th:only-of-type {\n",
       "        vertical-align: middle;\n",
       "    }\n",
       "\n",
       "    .dataframe tbody tr th {\n",
       "        vertical-align: top;\n",
       "    }\n",
       "\n",
       "    .dataframe thead th {\n",
       "        text-align: right;\n",
       "    }\n",
       "</style>\n",
       "<table border=\"1\" class=\"dataframe\">\n",
       "  <thead>\n",
       "    <tr style=\"text-align: right;\">\n",
       "      <th></th>\n",
       "      <th>CreditScore</th>\n",
       "      <th>Geography</th>\n",
       "      <th>Gender</th>\n",
       "      <th>Age</th>\n",
       "      <th>Tenure</th>\n",
       "      <th>Balance</th>\n",
       "      <th>NumOfProducts</th>\n",
       "      <th>HasCrCard</th>\n",
       "      <th>IsActiveMember</th>\n",
       "      <th>EstimatedSalary</th>\n",
       "    </tr>\n",
       "  </thead>\n",
       "  <tbody>\n",
       "    <tr>\n",
       "      <th>7479</th>\n",
       "      <td>567</td>\n",
       "      <td>Spain</td>\n",
       "      <td>Male</td>\n",
       "      <td>35</td>\n",
       "      <td>8.0</td>\n",
       "      <td>153137.74</td>\n",
       "      <td>1</td>\n",
       "      <td>1</td>\n",
       "      <td>0</td>\n",
       "      <td>88659.07</td>\n",
       "    </tr>\n",
       "    <tr>\n",
       "      <th>3411</th>\n",
       "      <td>711</td>\n",
       "      <td>France</td>\n",
       "      <td>Female</td>\n",
       "      <td>37</td>\n",
       "      <td>8.0</td>\n",
       "      <td>113899.92</td>\n",
       "      <td>1</td>\n",
       "      <td>0</td>\n",
       "      <td>0</td>\n",
       "      <td>80215.20</td>\n",
       "    </tr>\n",
       "    <tr>\n",
       "      <th>6027</th>\n",
       "      <td>850</td>\n",
       "      <td>Germany</td>\n",
       "      <td>Male</td>\n",
       "      <td>44</td>\n",
       "      <td>3.0</td>\n",
       "      <td>140393.65</td>\n",
       "      <td>2</td>\n",
       "      <td>0</td>\n",
       "      <td>1</td>\n",
       "      <td>186285.52</td>\n",
       "    </tr>\n",
       "    <tr>\n",
       "      <th>1247</th>\n",
       "      <td>512</td>\n",
       "      <td>France</td>\n",
       "      <td>Male</td>\n",
       "      <td>24</td>\n",
       "      <td>6.0</td>\n",
       "      <td>0.00</td>\n",
       "      <td>2</td>\n",
       "      <td>1</td>\n",
       "      <td>0</td>\n",
       "      <td>37654.31</td>\n",
       "    </tr>\n",
       "    <tr>\n",
       "      <th>3716</th>\n",
       "      <td>665</td>\n",
       "      <td>Germany</td>\n",
       "      <td>Female</td>\n",
       "      <td>27</td>\n",
       "      <td>2.0</td>\n",
       "      <td>147435.96</td>\n",
       "      <td>1</td>\n",
       "      <td>0</td>\n",
       "      <td>0</td>\n",
       "      <td>187508.06</td>\n",
       "    </tr>\n",
       "  </tbody>\n",
       "</table>\n",
       "</div>"
      ],
      "text/plain": [
       "      CreditScore Geography  Gender  Age  Tenure    Balance  NumOfProducts  \\\n",
       "7479          567     Spain    Male   35     8.0  153137.74              1   \n",
       "3411          711    France  Female   37     8.0  113899.92              1   \n",
       "6027          850   Germany    Male   44     3.0  140393.65              2   \n",
       "1247          512    France    Male   24     6.0       0.00              2   \n",
       "3716          665   Germany  Female   27     2.0  147435.96              1   \n",
       "\n",
       "      HasCrCard  IsActiveMember  EstimatedSalary  \n",
       "7479          1               0         88659.07  \n",
       "3411          0               0         80215.20  \n",
       "6027          0               1        186285.52  \n",
       "1247          1               0         37654.31  \n",
       "3716          0               0        187508.06  "
      ]
     },
     "execution_count": 11,
     "metadata": {},
     "output_type": "execute_result"
    }
   ],
   "source": [
    "\n",
    "features = df1.drop(['Exited'], axis=1)\n",
    "target = df1['Exited']\n",
    "f_train, f_pre, t_train, t_pre = train_test_split(features, target, test_size=0.4, random_state=12345)\n",
    "f_valid, f_test, t_valid, t_test = train_test_split(f_pre, t_pre, test_size=0.5, random_state=12345)\n",
    "print('Размеры тренировочной, валидационной и тестоыой выборок:', f_train.shape, f_valid.shape, f_test.shape)\n",
    "print('Размеры целевых признаков ааналогичных выборок', t_train.shape, t_valid.shape, t_test.shape)\n",
    "f_train.head()"
   ]
  },
  {
   "cell_type": "markdown",
   "metadata": {},
   "source": [
    "Теперь получается, что мы можем поработать с признаками по отдельности. Сначала пприведем категориальные признаки к численным, затем масшттабируем все признаки."
   ]
  },
  {
   "cell_type": "code",
   "execution_count": 12,
   "metadata": {},
   "outputs": [],
   "source": [
    "list_1 = []\n",
    "for sample in [f_train, f_valid, f_test]:\n",
    "    enc_sample = OneHotEncoder(handle_unknown='error', sparse=False, drop='first')\n",
    "    sample_ohe = pd.DataFrame(enc_sample.fit_transform(sample[['Gender', 'Geography']]))\n",
    "    sample_ohe.index = sample.index\n",
    "    sample_num = sample.drop(columns=['Gender', 'Geography'], axis=1)\n",
    "    sample = pd.concat([sample_num, sample_ohe], axis=1)\n",
    "    sample = sample.rename(columns={0: '0', 1: '1', 2: '2'})\n",
    "    sample[[\"0\", \"1\", \"2\"]] = sample[[\"0\", \"1\", \"2\"]].astype('int8')\n",
    "    list_1.append(sample)\n",
    "\n",
    "f_train = list_1[0]\n",
    "f_valid = list_1[1]\n",
    "f_test = list_1[2]"
   ]
  },
  {
   "cell_type": "markdown",
   "metadata": {},
   "source": [
    "Проверка, не ошиблись ли где в плане изменения выборок:"
   ]
  },
  {
   "cell_type": "code",
   "execution_count": 13,
   "metadata": {
    "scrolled": false
   },
   "outputs": [
    {
     "data": {
      "text/html": [
       "<div>\n",
       "<style scoped>\n",
       "    .dataframe tbody tr th:only-of-type {\n",
       "        vertical-align: middle;\n",
       "    }\n",
       "\n",
       "    .dataframe tbody tr th {\n",
       "        vertical-align: top;\n",
       "    }\n",
       "\n",
       "    .dataframe thead th {\n",
       "        text-align: right;\n",
       "    }\n",
       "</style>\n",
       "<table border=\"1\" class=\"dataframe\">\n",
       "  <thead>\n",
       "    <tr style=\"text-align: right;\">\n",
       "      <th></th>\n",
       "      <th>CreditScore</th>\n",
       "      <th>Age</th>\n",
       "      <th>Tenure</th>\n",
       "      <th>Balance</th>\n",
       "      <th>NumOfProducts</th>\n",
       "      <th>HasCrCard</th>\n",
       "      <th>IsActiveMember</th>\n",
       "      <th>EstimatedSalary</th>\n",
       "      <th>0</th>\n",
       "      <th>1</th>\n",
       "      <th>2</th>\n",
       "    </tr>\n",
       "  </thead>\n",
       "  <tbody>\n",
       "    <tr>\n",
       "      <th>7479</th>\n",
       "      <td>567</td>\n",
       "      <td>35</td>\n",
       "      <td>8.0</td>\n",
       "      <td>153137.74</td>\n",
       "      <td>1</td>\n",
       "      <td>1</td>\n",
       "      <td>0</td>\n",
       "      <td>88659.07</td>\n",
       "      <td>1</td>\n",
       "      <td>0</td>\n",
       "      <td>1</td>\n",
       "    </tr>\n",
       "    <tr>\n",
       "      <th>3411</th>\n",
       "      <td>711</td>\n",
       "      <td>37</td>\n",
       "      <td>8.0</td>\n",
       "      <td>113899.92</td>\n",
       "      <td>1</td>\n",
       "      <td>0</td>\n",
       "      <td>0</td>\n",
       "      <td>80215.20</td>\n",
       "      <td>0</td>\n",
       "      <td>0</td>\n",
       "      <td>0</td>\n",
       "    </tr>\n",
       "    <tr>\n",
       "      <th>6027</th>\n",
       "      <td>850</td>\n",
       "      <td>44</td>\n",
       "      <td>3.0</td>\n",
       "      <td>140393.65</td>\n",
       "      <td>2</td>\n",
       "      <td>0</td>\n",
       "      <td>1</td>\n",
       "      <td>186285.52</td>\n",
       "      <td>1</td>\n",
       "      <td>1</td>\n",
       "      <td>0</td>\n",
       "    </tr>\n",
       "    <tr>\n",
       "      <th>1247</th>\n",
       "      <td>512</td>\n",
       "      <td>24</td>\n",
       "      <td>6.0</td>\n",
       "      <td>0.00</td>\n",
       "      <td>2</td>\n",
       "      <td>1</td>\n",
       "      <td>0</td>\n",
       "      <td>37654.31</td>\n",
       "      <td>1</td>\n",
       "      <td>0</td>\n",
       "      <td>0</td>\n",
       "    </tr>\n",
       "    <tr>\n",
       "      <th>3716</th>\n",
       "      <td>665</td>\n",
       "      <td>27</td>\n",
       "      <td>2.0</td>\n",
       "      <td>147435.96</td>\n",
       "      <td>1</td>\n",
       "      <td>0</td>\n",
       "      <td>0</td>\n",
       "      <td>187508.06</td>\n",
       "      <td>0</td>\n",
       "      <td>1</td>\n",
       "      <td>0</td>\n",
       "    </tr>\n",
       "    <tr>\n",
       "      <th>...</th>\n",
       "      <td>...</td>\n",
       "      <td>...</td>\n",
       "      <td>...</td>\n",
       "      <td>...</td>\n",
       "      <td>...</td>\n",
       "      <td>...</td>\n",
       "      <td>...</td>\n",
       "      <td>...</td>\n",
       "      <td>...</td>\n",
       "      <td>...</td>\n",
       "      <td>...</td>\n",
       "    </tr>\n",
       "    <tr>\n",
       "      <th>4478</th>\n",
       "      <td>549</td>\n",
       "      <td>31</td>\n",
       "      <td>4.0</td>\n",
       "      <td>0.00</td>\n",
       "      <td>2</td>\n",
       "      <td>0</td>\n",
       "      <td>1</td>\n",
       "      <td>25684.85</td>\n",
       "      <td>1</td>\n",
       "      <td>0</td>\n",
       "      <td>0</td>\n",
       "    </tr>\n",
       "    <tr>\n",
       "      <th>4094</th>\n",
       "      <td>513</td>\n",
       "      <td>29</td>\n",
       "      <td>10.0</td>\n",
       "      <td>0.00</td>\n",
       "      <td>2</td>\n",
       "      <td>0</td>\n",
       "      <td>1</td>\n",
       "      <td>25514.77</td>\n",
       "      <td>1</td>\n",
       "      <td>0</td>\n",
       "      <td>0</td>\n",
       "    </tr>\n",
       "    <tr>\n",
       "      <th>3492</th>\n",
       "      <td>655</td>\n",
       "      <td>45</td>\n",
       "      <td>5.0</td>\n",
       "      <td>57327.04</td>\n",
       "      <td>1</td>\n",
       "      <td>0</td>\n",
       "      <td>1</td>\n",
       "      <td>47349.00</td>\n",
       "      <td>0</td>\n",
       "      <td>0</td>\n",
       "      <td>0</td>\n",
       "    </tr>\n",
       "    <tr>\n",
       "      <th>2177</th>\n",
       "      <td>667</td>\n",
       "      <td>24</td>\n",
       "      <td>4.0</td>\n",
       "      <td>0.00</td>\n",
       "      <td>2</td>\n",
       "      <td>0</td>\n",
       "      <td>1</td>\n",
       "      <td>34335.55</td>\n",
       "      <td>0</td>\n",
       "      <td>0</td>\n",
       "      <td>0</td>\n",
       "    </tr>\n",
       "    <tr>\n",
       "      <th>4578</th>\n",
       "      <td>691</td>\n",
       "      <td>38</td>\n",
       "      <td>1.0</td>\n",
       "      <td>0.00</td>\n",
       "      <td>2</td>\n",
       "      <td>0</td>\n",
       "      <td>0</td>\n",
       "      <td>44653.50</td>\n",
       "      <td>1</td>\n",
       "      <td>0</td>\n",
       "      <td>0</td>\n",
       "    </tr>\n",
       "  </tbody>\n",
       "</table>\n",
       "<p>6000 rows × 11 columns</p>\n",
       "</div>"
      ],
      "text/plain": [
       "      CreditScore  Age  Tenure    Balance  NumOfProducts  HasCrCard  \\\n",
       "7479          567   35     8.0  153137.74              1          1   \n",
       "3411          711   37     8.0  113899.92              1          0   \n",
       "6027          850   44     3.0  140393.65              2          0   \n",
       "1247          512   24     6.0       0.00              2          1   \n",
       "3716          665   27     2.0  147435.96              1          0   \n",
       "...           ...  ...     ...        ...            ...        ...   \n",
       "4478          549   31     4.0       0.00              2          0   \n",
       "4094          513   29    10.0       0.00              2          0   \n",
       "3492          655   45     5.0   57327.04              1          0   \n",
       "2177          667   24     4.0       0.00              2          0   \n",
       "4578          691   38     1.0       0.00              2          0   \n",
       "\n",
       "      IsActiveMember  EstimatedSalary  0  1  2  \n",
       "7479               0         88659.07  1  0  1  \n",
       "3411               0         80215.20  0  0  0  \n",
       "6027               1        186285.52  1  1  0  \n",
       "1247               0         37654.31  1  0  0  \n",
       "3716               0        187508.06  0  1  0  \n",
       "...              ...              ... .. .. ..  \n",
       "4478               1         25684.85  1  0  0  \n",
       "4094               1         25514.77  1  0  0  \n",
       "3492               1         47349.00  0  0  0  \n",
       "2177               1         34335.55  0  0  0  \n",
       "4578               0         44653.50  1  0  0  \n",
       "\n",
       "[6000 rows x 11 columns]"
      ]
     },
     "metadata": {},
     "output_type": "display_data"
    },
    {
     "data": {
      "text/html": [
       "<div>\n",
       "<style scoped>\n",
       "    .dataframe tbody tr th:only-of-type {\n",
       "        vertical-align: middle;\n",
       "    }\n",
       "\n",
       "    .dataframe tbody tr th {\n",
       "        vertical-align: top;\n",
       "    }\n",
       "\n",
       "    .dataframe thead th {\n",
       "        text-align: right;\n",
       "    }\n",
       "</style>\n",
       "<table border=\"1\" class=\"dataframe\">\n",
       "  <thead>\n",
       "    <tr style=\"text-align: right;\">\n",
       "      <th></th>\n",
       "      <th>CreditScore</th>\n",
       "      <th>Age</th>\n",
       "      <th>Tenure</th>\n",
       "      <th>Balance</th>\n",
       "      <th>NumOfProducts</th>\n",
       "      <th>HasCrCard</th>\n",
       "      <th>IsActiveMember</th>\n",
       "      <th>EstimatedSalary</th>\n",
       "      <th>0</th>\n",
       "      <th>1</th>\n",
       "      <th>2</th>\n",
       "    </tr>\n",
       "  </thead>\n",
       "  <tbody>\n",
       "    <tr>\n",
       "      <th>7041</th>\n",
       "      <td>438</td>\n",
       "      <td>38</td>\n",
       "      <td>2.0</td>\n",
       "      <td>0.00</td>\n",
       "      <td>2</td>\n",
       "      <td>1</td>\n",
       "      <td>0</td>\n",
       "      <td>136859.55</td>\n",
       "      <td>1</td>\n",
       "      <td>0</td>\n",
       "      <td>0</td>\n",
       "    </tr>\n",
       "    <tr>\n",
       "      <th>5709</th>\n",
       "      <td>644</td>\n",
       "      <td>39</td>\n",
       "      <td>9.0</td>\n",
       "      <td>0.00</td>\n",
       "      <td>1</td>\n",
       "      <td>1</td>\n",
       "      <td>0</td>\n",
       "      <td>3740.93</td>\n",
       "      <td>0</td>\n",
       "      <td>0</td>\n",
       "      <td>0</td>\n",
       "    </tr>\n",
       "    <tr>\n",
       "      <th>7117</th>\n",
       "      <td>564</td>\n",
       "      <td>31</td>\n",
       "      <td>5.0</td>\n",
       "      <td>121461.87</td>\n",
       "      <td>1</td>\n",
       "      <td>1</td>\n",
       "      <td>1</td>\n",
       "      <td>20432.09</td>\n",
       "      <td>1</td>\n",
       "      <td>0</td>\n",
       "      <td>1</td>\n",
       "    </tr>\n",
       "    <tr>\n",
       "      <th>7775</th>\n",
       "      <td>628</td>\n",
       "      <td>40</td>\n",
       "      <td>10.0</td>\n",
       "      <td>0.00</td>\n",
       "      <td>2</td>\n",
       "      <td>1</td>\n",
       "      <td>0</td>\n",
       "      <td>103832.58</td>\n",
       "      <td>1</td>\n",
       "      <td>0</td>\n",
       "      <td>1</td>\n",
       "    </tr>\n",
       "    <tr>\n",
       "      <th>8735</th>\n",
       "      <td>728</td>\n",
       "      <td>30</td>\n",
       "      <td>10.0</td>\n",
       "      <td>114835.43</td>\n",
       "      <td>1</td>\n",
       "      <td>0</td>\n",
       "      <td>1</td>\n",
       "      <td>37662.49</td>\n",
       "      <td>1</td>\n",
       "      <td>0</td>\n",
       "      <td>0</td>\n",
       "    </tr>\n",
       "    <tr>\n",
       "      <th>...</th>\n",
       "      <td>...</td>\n",
       "      <td>...</td>\n",
       "      <td>...</td>\n",
       "      <td>...</td>\n",
       "      <td>...</td>\n",
       "      <td>...</td>\n",
       "      <td>...</td>\n",
       "      <td>...</td>\n",
       "      <td>...</td>\n",
       "      <td>...</td>\n",
       "      <td>...</td>\n",
       "    </tr>\n",
       "    <tr>\n",
       "      <th>9335</th>\n",
       "      <td>737</td>\n",
       "      <td>50</td>\n",
       "      <td>4.0</td>\n",
       "      <td>127552.85</td>\n",
       "      <td>2</td>\n",
       "      <td>1</td>\n",
       "      <td>0</td>\n",
       "      <td>4225.11</td>\n",
       "      <td>1</td>\n",
       "      <td>1</td>\n",
       "      <td>0</td>\n",
       "    </tr>\n",
       "    <tr>\n",
       "      <th>7999</th>\n",
       "      <td>826</td>\n",
       "      <td>26</td>\n",
       "      <td>5.0</td>\n",
       "      <td>142662.68</td>\n",
       "      <td>1</td>\n",
       "      <td>0</td>\n",
       "      <td>0</td>\n",
       "      <td>60285.30</td>\n",
       "      <td>1</td>\n",
       "      <td>0</td>\n",
       "      <td>0</td>\n",
       "    </tr>\n",
       "    <tr>\n",
       "      <th>6139</th>\n",
       "      <td>652</td>\n",
       "      <td>37</td>\n",
       "      <td>4.0</td>\n",
       "      <td>0.00</td>\n",
       "      <td>2</td>\n",
       "      <td>1</td>\n",
       "      <td>0</td>\n",
       "      <td>143393.24</td>\n",
       "      <td>0</td>\n",
       "      <td>0</td>\n",
       "      <td>0</td>\n",
       "    </tr>\n",
       "    <tr>\n",
       "      <th>9473</th>\n",
       "      <td>608</td>\n",
       "      <td>45</td>\n",
       "      <td>4.0</td>\n",
       "      <td>0.00</td>\n",
       "      <td>2</td>\n",
       "      <td>0</td>\n",
       "      <td>0</td>\n",
       "      <td>36697.48</td>\n",
       "      <td>1</td>\n",
       "      <td>0</td>\n",
       "      <td>1</td>\n",
       "    </tr>\n",
       "    <tr>\n",
       "      <th>3366</th>\n",
       "      <td>640</td>\n",
       "      <td>74</td>\n",
       "      <td>2.0</td>\n",
       "      <td>116800.25</td>\n",
       "      <td>1</td>\n",
       "      <td>1</td>\n",
       "      <td>1</td>\n",
       "      <td>34130.43</td>\n",
       "      <td>0</td>\n",
       "      <td>1</td>\n",
       "      <td>0</td>\n",
       "    </tr>\n",
       "  </tbody>\n",
       "</table>\n",
       "<p>2000 rows × 11 columns</p>\n",
       "</div>"
      ],
      "text/plain": [
       "      CreditScore  Age  Tenure    Balance  NumOfProducts  HasCrCard  \\\n",
       "7041          438   38     2.0       0.00              2          1   \n",
       "5709          644   39     9.0       0.00              1          1   \n",
       "7117          564   31     5.0  121461.87              1          1   \n",
       "7775          628   40    10.0       0.00              2          1   \n",
       "8735          728   30    10.0  114835.43              1          0   \n",
       "...           ...  ...     ...        ...            ...        ...   \n",
       "9335          737   50     4.0  127552.85              2          1   \n",
       "7999          826   26     5.0  142662.68              1          0   \n",
       "6139          652   37     4.0       0.00              2          1   \n",
       "9473          608   45     4.0       0.00              2          0   \n",
       "3366          640   74     2.0  116800.25              1          1   \n",
       "\n",
       "      IsActiveMember  EstimatedSalary  0  1  2  \n",
       "7041               0        136859.55  1  0  0  \n",
       "5709               0          3740.93  0  0  0  \n",
       "7117               1         20432.09  1  0  1  \n",
       "7775               0        103832.58  1  0  1  \n",
       "8735               1         37662.49  1  0  0  \n",
       "...              ...              ... .. .. ..  \n",
       "9335               0          4225.11  1  1  0  \n",
       "7999               0         60285.30  1  0  0  \n",
       "6139               0        143393.24  0  0  0  \n",
       "9473               0         36697.48  1  0  1  \n",
       "3366               1         34130.43  0  1  0  \n",
       "\n",
       "[2000 rows x 11 columns]"
      ]
     },
     "metadata": {},
     "output_type": "display_data"
    }
   ],
   "source": [
    "#print(f_train.shape, f_test.shape)\n",
    "display(f_train, f_test)"
   ]
  },
  {
   "cell_type": "markdown",
   "metadata": {},
   "source": [
    "Выборки у нас получились с названиями новых столбцов 0, 1, 2. В целом это не очень хорошо для внешнего вида, но модели в целом все равно на название столбца, а мы их в дальнейшем никак не собираемся представлять, поэтому оставили как есть.\n"
   ]
  },
  {
   "cell_type": "code",
   "execution_count": 14,
   "metadata": {},
   "outputs": [
    {
     "data": {
      "text/html": [
       "<div>\n",
       "<style scoped>\n",
       "    .dataframe tbody tr th:only-of-type {\n",
       "        vertical-align: middle;\n",
       "    }\n",
       "\n",
       "    .dataframe tbody tr th {\n",
       "        vertical-align: top;\n",
       "    }\n",
       "\n",
       "    .dataframe thead th {\n",
       "        text-align: right;\n",
       "    }\n",
       "</style>\n",
       "<table border=\"1\" class=\"dataframe\">\n",
       "  <thead>\n",
       "    <tr style=\"text-align: right;\">\n",
       "      <th></th>\n",
       "      <th>CreditScore</th>\n",
       "      <th>Age</th>\n",
       "      <th>Tenure</th>\n",
       "      <th>Balance</th>\n",
       "      <th>NumOfProducts</th>\n",
       "      <th>HasCrCard</th>\n",
       "      <th>IsActiveMember</th>\n",
       "      <th>EstimatedSalary</th>\n",
       "      <th>0</th>\n",
       "      <th>1</th>\n",
       "      <th>2</th>\n",
       "    </tr>\n",
       "  </thead>\n",
       "  <tbody>\n",
       "    <tr>\n",
       "      <th>7479</th>\n",
       "      <td>-0.886751</td>\n",
       "      <td>-0.373192</td>\n",
       "      <td>1.082277</td>\n",
       "      <td>1.232271</td>\n",
       "      <td>-0.891560</td>\n",
       "      <td>1</td>\n",
       "      <td>0</td>\n",
       "      <td>-0.187705</td>\n",
       "      <td>1</td>\n",
       "      <td>0</td>\n",
       "      <td>1</td>\n",
       "    </tr>\n",
       "    <tr>\n",
       "      <th>3411</th>\n",
       "      <td>0.608663</td>\n",
       "      <td>-0.183385</td>\n",
       "      <td>1.082277</td>\n",
       "      <td>0.600563</td>\n",
       "      <td>-0.891560</td>\n",
       "      <td>0</td>\n",
       "      <td>0</td>\n",
       "      <td>-0.333945</td>\n",
       "      <td>0</td>\n",
       "      <td>0</td>\n",
       "      <td>0</td>\n",
       "    </tr>\n",
       "    <tr>\n",
       "      <th>6027</th>\n",
       "      <td>2.052152</td>\n",
       "      <td>0.480939</td>\n",
       "      <td>-0.737696</td>\n",
       "      <td>1.027098</td>\n",
       "      <td>0.830152</td>\n",
       "      <td>0</td>\n",
       "      <td>1</td>\n",
       "      <td>1.503095</td>\n",
       "      <td>1</td>\n",
       "      <td>1</td>\n",
       "      <td>0</td>\n",
       "    </tr>\n",
       "    <tr>\n",
       "      <th>1247</th>\n",
       "      <td>-1.457915</td>\n",
       "      <td>-1.417129</td>\n",
       "      <td>0.354288</td>\n",
       "      <td>-1.233163</td>\n",
       "      <td>0.830152</td>\n",
       "      <td>1</td>\n",
       "      <td>0</td>\n",
       "      <td>-1.071061</td>\n",
       "      <td>1</td>\n",
       "      <td>0</td>\n",
       "      <td>0</td>\n",
       "    </tr>\n",
       "    <tr>\n",
       "      <th>3716</th>\n",
       "      <td>0.130961</td>\n",
       "      <td>-1.132419</td>\n",
       "      <td>-1.101690</td>\n",
       "      <td>1.140475</td>\n",
       "      <td>-0.891560</td>\n",
       "      <td>0</td>\n",
       "      <td>0</td>\n",
       "      <td>1.524268</td>\n",
       "      <td>0</td>\n",
       "      <td>1</td>\n",
       "      <td>0</td>\n",
       "    </tr>\n",
       "    <tr>\n",
       "      <th>...</th>\n",
       "      <td>...</td>\n",
       "      <td>...</td>\n",
       "      <td>...</td>\n",
       "      <td>...</td>\n",
       "      <td>...</td>\n",
       "      <td>...</td>\n",
       "      <td>...</td>\n",
       "      <td>...</td>\n",
       "      <td>...</td>\n",
       "      <td>...</td>\n",
       "      <td>...</td>\n",
       "    </tr>\n",
       "    <tr>\n",
       "      <th>4478</th>\n",
       "      <td>-1.073677</td>\n",
       "      <td>-0.752805</td>\n",
       "      <td>-0.373701</td>\n",
       "      <td>-1.233163</td>\n",
       "      <td>0.830152</td>\n",
       "      <td>0</td>\n",
       "      <td>1</td>\n",
       "      <td>-1.278361</td>\n",
       "      <td>1</td>\n",
       "      <td>0</td>\n",
       "      <td>0</td>\n",
       "    </tr>\n",
       "    <tr>\n",
       "      <th>4094</th>\n",
       "      <td>-1.447531</td>\n",
       "      <td>-0.942612</td>\n",
       "      <td>1.810266</td>\n",
       "      <td>-1.233163</td>\n",
       "      <td>0.830152</td>\n",
       "      <td>0</td>\n",
       "      <td>1</td>\n",
       "      <td>-1.281307</td>\n",
       "      <td>1</td>\n",
       "      <td>0</td>\n",
       "      <td>0</td>\n",
       "    </tr>\n",
       "    <tr>\n",
       "      <th>3492</th>\n",
       "      <td>0.027113</td>\n",
       "      <td>0.575842</td>\n",
       "      <td>-0.009707</td>\n",
       "      <td>-0.310229</td>\n",
       "      <td>-0.891560</td>\n",
       "      <td>0</td>\n",
       "      <td>1</td>\n",
       "      <td>-0.903158</td>\n",
       "      <td>0</td>\n",
       "      <td>0</td>\n",
       "      <td>0</td>\n",
       "    </tr>\n",
       "    <tr>\n",
       "      <th>2177</th>\n",
       "      <td>0.151731</td>\n",
       "      <td>-1.417129</td>\n",
       "      <td>-0.373701</td>\n",
       "      <td>-1.233163</td>\n",
       "      <td>0.830152</td>\n",
       "      <td>0</td>\n",
       "      <td>1</td>\n",
       "      <td>-1.128539</td>\n",
       "      <td>0</td>\n",
       "      <td>0</td>\n",
       "      <td>0</td>\n",
       "    </tr>\n",
       "    <tr>\n",
       "      <th>4578</th>\n",
       "      <td>0.400966</td>\n",
       "      <td>-0.088482</td>\n",
       "      <td>-1.465685</td>\n",
       "      <td>-1.233163</td>\n",
       "      <td>0.830152</td>\n",
       "      <td>0</td>\n",
       "      <td>0</td>\n",
       "      <td>-0.949841</td>\n",
       "      <td>1</td>\n",
       "      <td>0</td>\n",
       "      <td>0</td>\n",
       "    </tr>\n",
       "  </tbody>\n",
       "</table>\n",
       "<p>6000 rows × 11 columns</p>\n",
       "</div>"
      ],
      "text/plain": [
       "      CreditScore       Age    Tenure   Balance  NumOfProducts  HasCrCard  \\\n",
       "7479    -0.886751 -0.373192  1.082277  1.232271      -0.891560          1   \n",
       "3411     0.608663 -0.183385  1.082277  0.600563      -0.891560          0   \n",
       "6027     2.052152  0.480939 -0.737696  1.027098       0.830152          0   \n",
       "1247    -1.457915 -1.417129  0.354288 -1.233163       0.830152          1   \n",
       "3716     0.130961 -1.132419 -1.101690  1.140475      -0.891560          0   \n",
       "...           ...       ...       ...       ...            ...        ...   \n",
       "4478    -1.073677 -0.752805 -0.373701 -1.233163       0.830152          0   \n",
       "4094    -1.447531 -0.942612  1.810266 -1.233163       0.830152          0   \n",
       "3492     0.027113  0.575842 -0.009707 -0.310229      -0.891560          0   \n",
       "2177     0.151731 -1.417129 -0.373701 -1.233163       0.830152          0   \n",
       "4578     0.400966 -0.088482 -1.465685 -1.233163       0.830152          0   \n",
       "\n",
       "      IsActiveMember  EstimatedSalary  0  1  2  \n",
       "7479               0        -0.187705  1  0  1  \n",
       "3411               0        -0.333945  0  0  0  \n",
       "6027               1         1.503095  1  1  0  \n",
       "1247               0        -1.071061  1  0  0  \n",
       "3716               0         1.524268  0  1  0  \n",
       "...              ...              ... .. .. ..  \n",
       "4478               1        -1.278361  1  0  0  \n",
       "4094               1        -1.281307  1  0  0  \n",
       "3492               1        -0.903158  0  0  0  \n",
       "2177               1        -1.128539  0  0  0  \n",
       "4578               0        -0.949841  1  0  0  \n",
       "\n",
       "[6000 rows x 11 columns]"
      ]
     },
     "execution_count": 14,
     "metadata": {},
     "output_type": "execute_result"
    }
   ],
   "source": [
    "# масштабирование кол-ых признаков\n",
    "numeric = ['CreditScore', 'Age', 'Balance', 'EstimatedSalary', 'NumOfProducts', 'Tenure']\n",
    "\n",
    "scaler = StandardScaler()\n",
    "scaler.fit(f_train[numeric])\n",
    "f_train[numeric] = scaler.transform(f_train[numeric])\n",
    "f_valid[numeric] = scaler.transform(f_valid[numeric])\n",
    "f_test[numeric] = scaler.transform(f_test[numeric])\n",
    "f_train\n"
   ]
  },
  {
   "cell_type": "code",
   "execution_count": null,
   "metadata": {},
   "outputs": [],
   "source": []
  },
  {
   "cell_type": "markdown",
   "metadata": {},
   "source": [
    "## Исследование задачи"
   ]
  },
  {
   "cell_type": "markdown",
   "metadata": {},
   "source": [
    "Проверим, как у нас распределен целевой признак"
   ]
  },
  {
   "cell_type": "code",
   "execution_count": 15,
   "metadata": {
    "scrolled": true
   },
   "outputs": [
    {
     "data": {
      "text/plain": [
       "0    0.7963\n",
       "1    0.2037\n",
       "Name: Exited, dtype: float64"
      ]
     },
     "execution_count": 15,
     "metadata": {},
     "output_type": "execute_result"
    }
   ],
   "source": [
    "df1['Exited'].value_counts(normalize=True)"
   ]
  },
  {
   "cell_type": "markdown",
   "metadata": {},
   "source": [
    "Что логично уходов пока явно меньше 50%, поэтому дисбаланс придется учитывать. Однако сначала без него обучим модели.\n",
    "\n",
    "В целом, скорее всего, самый лучший результат будет у RandomForest, но ради чистоты эксперимента попробуем несколько вариантов. Выявлять лучшую модель будем по f1-мере. "
   ]
  },
  {
   "cell_type": "code",
   "execution_count": 16,
   "metadata": {
    "scrolled": true
   },
   "outputs": [
    {
     "name": "stdout",
     "output_type": "stream",
     "text": [
      "Лучшая метрика accuracy равна: 0.8605.\n",
      "А лучшая метрика f1 равна 0.5783132530120483 при этом:\n",
      "глубина дерева: 6; минимальное количество примеров для разделения: 6;  минимальное число объектов в листе: 2.\n"
     ]
    }
   ],
   "source": [
    "# ДЕРЕВО РЕШЕНИЙ\n",
    "result1 = 0\n",
    "result2 = 0\n",
    "best_mod_tree = None\n",
    "best_res1_tree = 0\n",
    "best_res2_tree = 0\n",
    "best_depth_tree = 0\n",
    "best_samples_split = 0\n",
    "best_samples_leaf = 0\n",
    "\n",
    "for depth in range(1, 10):\n",
    "    for samples_split in range(2, 15):\n",
    "        for samples_leaf in range(2, 15):\n",
    "            model_1 = DecisionTreeClassifier(max_depth=depth, min_samples_split=samples_split,\n",
    "                                             min_samples_leaf=samples_leaf, random_state=12345)\n",
    "            model_1.fit(f_train, t_train)\n",
    "            predictions_tree = model_1.predict(f_valid)\n",
    "            result1 = accuracy_score(t_valid, predictions_tree)\n",
    "            result2 = f1_score(t_valid, predictions_tree)\n",
    "            if result1 > best_res1_tree:\n",
    "                best_res1_tree = result1\n",
    "                #best_mod_tree = model_1\n",
    "                #best_depth_tree = depth\n",
    "                #best_samples_split = samples_split\n",
    "                #best_samples_leaf = samples_leaf\n",
    "            if result2 > best_res2_tree:\n",
    "                best_res2_tree = result2\n",
    "                best_mod_tree = model_1\n",
    "                best_depth_tree = depth\n",
    "                best_samples_split = samples_split\n",
    "                best_samples_leaf = samples_leaf\n",
    "                \n",
    "print(f'Лучшая метрика accuracy равна: {best_res1_tree}.')\n",
    "print(f'А лучшая метрика f1 равна {best_res2_tree} при этом:')\n",
    "print(f'глубина дерева: {best_depth_tree}; минимальное количество примеров для разделения: {best_samples_split};  минимальное число объектов в листе: {best_samples_leaf}.')   "
   ]
  },
  {
   "cell_type": "markdown",
   "metadata": {},
   "source": [
    "Правильность явно выше f1, но мы ориентируемся именно на него, поэтому смотрим дальше"
   ]
  },
  {
   "cell_type": "code",
   "execution_count": 17,
   "metadata": {
    "scrolled": true
   },
   "outputs": [
    {
     "name": "stdout",
     "output_type": "stream",
     "text": [
      "Лучшая метрика accuracy равна 0.87.\n",
      "А лучшая метрика f1 равна 0.622093023255814 при этом:\n",
      "глубина дерева: 12; число деревьев: 12; минимальное количество образцов для разделения: 10, число признаков для разделения: 9.\n"
     ]
    }
   ],
   "source": [
    "# РАНДОМНЫЙ ЛЕС\n",
    "result1 = 0\n",
    "result2 = 0\n",
    "best_mod_forest = None\n",
    "best_res1_forest = 0\n",
    "best_res2_forest = 0\n",
    "best_n_estimators = 0\n",
    "best_depth_rtree = 0\n",
    "best_samples_split = 0\n",
    "best_n_features = 0\n",
    "\n",
    "for  est in range(10, 15):\n",
    "    for depth in range(10, 15):\n",
    "        for sample_split in range(5, 12):\n",
    "            for n_feature  in range(5, df1.shape[1]-1):\n",
    "                model_2 = RandomForestClassifier(max_depth=depth, n_estimators=est, min_samples_split=sample_split,\n",
    "                                                 max_features=n_feature, random_state=12345)\n",
    "                model_2.fit(f_train, t_train)\n",
    "                predictions_forest = model_2.predict(f_valid)\n",
    "                result1 = accuracy_score(t_valid, predictions_forest)\n",
    "                result2 = f1_score(t_valid, predictions_forest)\n",
    "                if result1 > best_res1_forest:\n",
    "                        best_res1_forest = result1\n",
    "                        #best_mod_forest = model_2\n",
    "                        #best_n_estimators = est\n",
    "                        #best_depth_rtree = depth\n",
    "                if result2 > best_res2_forest:\n",
    "                        best_res2_forest = result2\n",
    "                        best_mod_forest = model_2\n",
    "                        best_n_estimators = est\n",
    "                        best_depth_rtree = depth\n",
    "                        best_samples_split = sample_split\n",
    "                        best_n_features = n_feature\n",
    "                        \n",
    "print(f'Лучшая метрика accuracy равна {best_res1_forest}.')\n",
    "print(f'А лучшая метрика f1 равна {best_res2_forest} при этом:')\n",
    "print(f'глубина дерева: {best_depth_rtree}; число деревьев: {best_n_estimators}; \\\n",
    "минимальное количество образцов для разделения: {best_samples_split}, число признаков для разделения: {best_n_features}.')"
   ]
  },
  {
   "cell_type": "markdown",
   "metadata": {},
   "source": [
    "Уже f1 явно лучще рекомендованного в задании.\n",
    "\n",
    "*На больших значениях гиперпараметров ничего сильно лучшего не происходит.*"
   ]
  },
  {
   "cell_type": "code",
   "execution_count": 18,
   "metadata": {
    "scrolled": false
   },
   "outputs": [
    {
     "name": "stdout",
     "output_type": "stream",
     "text": [
      "Лучшая метрика accuracy равна:  0.8075\n",
      "а лучшая метрика f1: 0.401840490797546 с решателем: sag и числом итераций: 1\n"
     ]
    }
   ],
   "source": [
    "# ЛОГИСТИЧЕСКАЯ РЕГРЕССИЯ\n",
    "result1 = 0\n",
    "result2 = 0\n",
    "best_mod_log_regr = None\n",
    "best_res1_log_regr = 0\n",
    "best_res2_log_regr = 0\n",
    "best_n_iter = 0\n",
    "best_sol = 0\n",
    "\n",
    "\n",
    "solvers = ['newton-cg', 'lbfgs', 'sag', 'saga', 'liblinear']\n",
    "for sol in solvers:\n",
    "    for n_iteration in range(1, 50, 2):\n",
    "        model_3 = LogisticRegression(solver=sol, max_iter=n_iteration,  random_state=12345,\n",
    "                                    intercept_scaling=3, warm_start=True, multi_class='auto')\n",
    "        model_3.fit(f_train, t_train)\n",
    "        predictions_log_regr = model_3.predict(f_valid)\n",
    "        result1 = accuracy_score(t_valid, predictions_log_regr)\n",
    "        result2 = f1_score(t_valid, predictions_log_regr)\n",
    "        if result1 > best_res1_log_regr:\n",
    "            best_res1_log_regr = result1\n",
    "            #best_mod_log_regr = model_3\n",
    "            #best_sol = sol\n",
    "        if result2 > best_res2_log_regr:\n",
    "            best_res2_log_regr = result2\n",
    "            best_mod_log_regr = model_3\n",
    "            best_sol = sol\n",
    "            best_n_iter = n_iteration\n",
    "            \n",
    "print('Лучшая метрика accuracy равна: ', best_res1_log_regr)\n",
    "print('а лучшая метрика f1:', best_res2_log_regr, 'с решателем:', best_sol, \"и числом итераций:\", best_n_iter)"
   ]
  },
  {
   "cell_type": "markdown",
   "metadata": {},
   "source": [
    "Нелучшие резудльтаты логистической регрессии, но все же зафиксируем их"
   ]
  },
  {
   "cell_type": "markdown",
   "metadata": {},
   "source": [
    "Главный вывод, который сейчас стоит сделать это то, что лучшие прогнозы дает рандомный лес. Для него мы зафиксировали кое-какие параметры, которыми будем пользоваться для обучения модели после того, как исправим дисбалансы. В целом рандомный лес показывает и неплохую правильность, и \"усредненную\" оценку полноты и точности в пределах заданной на валидационной выборке."
   ]
  },
  {
   "cell_type": "markdown",
   "metadata": {},
   "source": [
    "## Борьба с дисбалансом"
   ]
  },
  {
   "cell_type": "markdown",
   "metadata": {},
   "source": [
    "Используем все три способо которые были предложены в курсе. Первый, самый простой в реализации: установить вес класса при создании самой модели. С этого и начнем (далее будем рассматривать только f1 метрику):"
   ]
  },
  {
   "cell_type": "code",
   "execution_count": 19,
   "metadata": {},
   "outputs": [
    {
     "name": "stdout",
     "output_type": "stream",
     "text": [
      "0.5979899497487438\n"
     ]
    }
   ],
   "source": [
    "model_f_bal = RandomForestClassifier(max_depth=12, n_estimators=12, min_samples_split=10,\n",
    "                                 max_features=9, random_state=12345, class_weight='balanced')\n",
    "model_f_bal.fit(f_train, t_train)\n",
    "predictions_forest = model_f_bal.predict(f_valid)\n",
    "print(f1_score(t_valid, predictions_forest))"
   ]
  },
  {
   "cell_type": "markdown",
   "metadata": {},
   "source": [
    "Как и предполагалось, результат изменился. Для нас не в лучшую сторону снижения метрики. Но это объяснимо: выборку то мы поменяли. Значит, в дальнейшем еще раз обучим модель.\n",
    "\n",
    "Проверим техники увеличения и уменьшения выборки. Будем стремиться к тому, чтобы показателей было примерно поровну в обоих случаях."
   ]
  },
  {
   "cell_type": "code",
   "execution_count": 20,
   "metadata": {},
   "outputs": [
    {
     "name": "stdout",
     "output_type": "stream",
     "text": [
      "4784\n",
      "4804\n"
     ]
    }
   ],
   "source": [
    "# повышение числа образцов с ответом 1 в выборке\n",
    "def upsample(features, target, repeat):\n",
    "    features_zeros = features[target == 0]\n",
    "    features_ones = features[target == 1]\n",
    "    target_zeros = target[target == 0]\n",
    "    target_ones = target[target == 1]\n",
    "\n",
    "    features_upsampled = pd.concat([features_zeros] + [features_ones] * repeat)\n",
    "    target_upsampled = pd.concat([target_zeros] + [target_ones] * repeat)\n",
    "    features_upsampled, target_upsampled = shuffle(features_upsampled, target_upsampled, random_state=12345)\n",
    "    \n",
    "    return features_upsampled, target_upsampled\n",
    "\n",
    "features_upsampled, target_upsampled = upsample(f_train, t_train, 4)\n",
    "# проверим длину массивов\n",
    "print(len(target_upsampled[target_upsampled==1]))\n",
    "print(len(target_upsampled[target_upsampled==0]))\n"
   ]
  },
  {
   "cell_type": "code",
   "execution_count": 21,
   "metadata": {},
   "outputs": [
    {
     "name": "stdout",
     "output_type": "stream",
     "text": [
      "0.5802197802197802\n"
     ]
    }
   ],
   "source": [
    "model_f_up = RandomForestClassifier(max_depth=12, n_estimators=12, min_samples_split=10,\n",
    "                                 max_features=9, random_state=12345)\n",
    "model_f_up.fit(features_upsampled, target_upsampled)\n",
    "predictions_forest = model_f_up.predict(f_valid)\n",
    "print(f1_score(t_valid, predictions_forest))"
   ]
  },
  {
   "cell_type": "code",
   "execution_count": 22,
   "metadata": {},
   "outputs": [
    {
     "name": "stdout",
     "output_type": "stream",
     "text": [
      "Общие размеры выборок (тренировочных): 9608 и 9608\n",
      "Единиц в целевой выборке 4804\n",
      "Нолей в целевой выборке 4804\n"
     ]
    }
   ],
   "source": [
    "sm = SMOTE(random_state=12345, k_neighbors=10)\n",
    "# we can make different sample shape: sampling_strategy={0: 5000, 1:2000}\n",
    "# sampling_strategy='not majority'\n",
    "features_upsampled, target_upsampled = sm.fit_resample(f_train, t_train)\n",
    "\n",
    "features_upsampled, target_upsampled = shuffle(features_upsampled, target_upsampled, random_state=12345)\n",
    "print('Общие размеры выборок (тренировочных):',features_upsampled.shape[0], \"и\", target_upsampled.shape[0])\n",
    "print('Единиц в целевой выборке', len(target_upsampled[target_upsampled==1]))\n",
    "print('Нолей в целевой выборке', len(target_upsampled[target_upsampled==0]))"
   ]
  },
  {
   "cell_type": "code",
   "execution_count": 23,
   "metadata": {},
   "outputs": [
    {
     "name": "stdout",
     "output_type": "stream",
     "text": [
      "0.576419213973799\n"
     ]
    }
   ],
   "source": [
    "model_f_up = RandomForestClassifier(max_depth=12, n_estimators=12, min_samples_split=10,\n",
    "                                 max_features=9, random_state=12345)\n",
    "model_f_up.fit(features_upsampled, target_upsampled)\n",
    "predictions_forest = model_f_up.predict(f_valid)\n",
    "print(f1_score(t_valid, predictions_forest))"
   ]
  },
  {
   "cell_type": "markdown",
   "metadata": {},
   "source": [
    "Лучше не стало, но это в целом объяснимо, модель на множестве дубликатов склонна к переобучению. Тут стоит с помощью словаря делать так, чтобы элементов с единичками становилось несколько больше,наверное. Ну, допустим, добиваться отношения  1/0 не 50/50, а, допустим, 40/60 (слегка, сохраняя дисбаланс). Попробуем тогда сделать что-то похожее при уменьшении выборок с помощью RandomUnderSampler."
   ]
  },
  {
   "cell_type": "markdown",
   "metadata": {},
   "source": [
    "В принципе значение даже ниже того, чем хотелось бы (но возможно это исправляется перебором гиперпараметров в цикле)"
   ]
  },
  {
   "cell_type": "code",
   "execution_count": 24,
   "metadata": {},
   "outputs": [
    {
     "name": "stdout",
     "output_type": "stream",
     "text": [
      "1196\n",
      "1201\n"
     ]
    }
   ],
   "source": [
    "# понижение числа образцов с ответом 0 в выборке\n",
    "def downsample(features, target, fraction):\n",
    "    features_zeros = features[target == 0]\n",
    "    features_ones = features[target == 1]\n",
    "    target_zeros = target[target == 0]\n",
    "    target_ones = target[target == 1]\n",
    "\n",
    "    features_downsampled = pd.concat(\n",
    "        [features_zeros.sample(frac=fraction, random_state=12345)] + [features_ones])\n",
    "    target_downsampled = pd.concat(\n",
    "        [target_zeros.sample(frac=fraction, random_state=12345)] + [target_ones])\n",
    "    \n",
    "    features_downsampled, target_downsampled = shuffle(\n",
    "        features_downsampled, target_downsampled, random_state=12345)\n",
    "    \n",
    "    return features_downsampled, target_downsampled\n",
    "\n",
    "features_downsampled, target_downsampled = downsample(f_train, t_train, 0.25)\n",
    "# проверим длину массивов\n",
    "print(len(target_downsampled[target_downsampled==1]))\n",
    "print(len(target_downsampled[target_downsampled==0]))"
   ]
  },
  {
   "cell_type": "code",
   "execution_count": 25,
   "metadata": {},
   "outputs": [
    {
     "name": "stdout",
     "output_type": "stream",
     "text": [
      "0.5662759242560866\n"
     ]
    }
   ],
   "source": [
    "model_f_down = RandomForestClassifier(max_depth=12, n_estimators=12, min_samples_split=10,\n",
    "                                 max_features=9, random_state=12345)\n",
    "model_f_down.fit(features_downsampled, target_downsampled)\n",
    "predictions_forest = model_f_down.predict(f_valid)\n",
    "print(f1_score(t_valid, predictions_forest))"
   ]
  },
  {
   "cell_type": "markdown",
   "metadata": {},
   "source": [
    "Еще несколько меньше, чем при исп-ии техники upsampling (возможно для этих техник не надо стремиться к пропорции 1:1, а лишь, допустим несильно уменьшить число 0 или увеличить число 1 также немного), и явно ниже, чем при простом использовании 'balanced'. Наверное, этими результатами дальше и будем пользоваться."
   ]
  },
  {
   "cell_type": "code",
   "execution_count": 26,
   "metadata": {},
   "outputs": [],
   "source": [
    "pos_shape = len(t_train[t_train == 1])"
   ]
  },
  {
   "cell_type": "markdown",
   "metadata": {},
   "source": [
    "Перейдем к использованию библиотечных методов борьбы с дисбалансом."
   ]
  },
  {
   "cell_type": "code",
   "execution_count": 27,
   "metadata": {
    "scrolled": true
   },
   "outputs": [
    {
     "name": "stdout",
     "output_type": "stream",
     "text": [
      "<class 'pandas.core.frame.DataFrame'>\n",
      "Int64Index: 6000 entries, 7479 to 4578\n",
      "Data columns (total 11 columns):\n",
      " #   Column           Non-Null Count  Dtype  \n",
      "---  ------           --------------  -----  \n",
      " 0   CreditScore      6000 non-null   float64\n",
      " 1   Age              6000 non-null   float64\n",
      " 2   Tenure           6000 non-null   float64\n",
      " 3   Balance          6000 non-null   float64\n",
      " 4   NumOfProducts    6000 non-null   float64\n",
      " 5   HasCrCard        6000 non-null   int64  \n",
      " 6   IsActiveMember   6000 non-null   int64  \n",
      " 7   EstimatedSalary  6000 non-null   float64\n",
      " 8   0                6000 non-null   int8   \n",
      " 9   1                6000 non-null   int8   \n",
      " 10  2                6000 non-null   int8   \n",
      "dtypes: float64(6), int64(2), int8(3)\n",
      "memory usage: 439.5 KB\n",
      "Общие размеры выборок 4196 4196\n",
      "Единиц в целевой выборке 1196\n",
      "Нолей в целевой выборке 3000\n"
     ]
    }
   ],
   "source": [
    "f_train.info()\n",
    "rus = RandomUnderSampler(sampling_strategy={0: 3000, 1: pos_shape}, random_state=12345)\n",
    "# we can make different sample shape: sampling_strategy={0: 5000, 1:2000}\n",
    "# sampling_strategy='not majority'\n",
    "features_downsampled, target_downsampled = rus.fit_resample(f_train, t_train)\n",
    "features_downsampled, target_downsampled = shuffle(features_downsampled, target_downsampled, random_state=12345)\n",
    "print('Общие размеры выборок', features_downsampled.shape[0], target_downsampled.shape[0])\n",
    "print('Единиц в целевой выборке', len(target_downsampled[target_downsampled==1]))\n",
    "print('Нолей в целевой выборке', len(target_downsampled[target_downsampled==0]))"
   ]
  },
  {
   "cell_type": "code",
   "execution_count": 28,
   "metadata": {
    "scrolled": true
   },
   "outputs": [
    {
     "name": "stdout",
     "output_type": "stream",
     "text": [
      "0.6112531969309463\n"
     ]
    }
   ],
   "source": [
    "model_f_down = RandomForestClassifier(max_depth=12, n_estimators=12, min_samples_split=10,\n",
    "                                 max_features=9, random_state=12345)\n",
    "model_f_down.fit(features_downsampled, target_downsampled)\n",
    "predictions_forest = model_f_down.predict(f_valid)\n",
    "print(f1_score(t_valid, predictions_forest))"
   ]
  },
  {
   "cell_type": "markdown",
   "metadata": {},
   "source": [
    "В целом видим, что если подгонять соотношение положительных результатов с отрицательными к какому-то оптимуму прийти можно (можно в цикле реализовать). Но в данном случае с помощью гиперпараметра class_weight при создании рандомного леса мы добились и так неплохого результата, поэтому оставляем нижеприведенные результаты прежними"
   ]
  },
  {
   "cell_type": "markdown",
   "metadata": {},
   "source": [
    "По-хорошему нужно взглянуть на ROC-кривую в сравнении с константной моделью. Сделаем это. Но перед этим еще раз поврьируем гиперпараметрами.\n"
   ]
  },
  {
   "cell_type": "code",
   "execution_count": 29,
   "metadata": {
    "scrolled": true
   },
   "outputs": [
    {
     "name": "stdout",
     "output_type": "stream",
     "text": [
      "Лучшая метрика f1 равна 0.6298200514138818 при этом:\n",
      "глубина дерева: 13; число деревьев: 13; минимальное количество образцов для разделения: 8, число признаков для разделения: 6.\n"
     ]
    }
   ],
   "source": [
    "result2 = 0\n",
    "best_mod_forest = None\n",
    "best_res2_forest = 0\n",
    "best_n_estimators = 0\n",
    "best_depth_rtree = 0\n",
    "best_samples_split = 0\n",
    "best_n_features = 0\n",
    "\n",
    "for  est in range(10, 15):\n",
    "    for depth in range(10, 15):\n",
    "        for sample_split in range(5, 12):\n",
    "            for n_feature  in range(5, df1.shape[1]-1):\n",
    "                model_f_bal = RandomForestClassifier(max_depth=depth, n_estimators=est, min_samples_split=sample_split,\n",
    "                                                 max_features=n_feature, random_state=12345, class_weight='balanced')\n",
    "                model_f_bal.fit(f_train, t_train)\n",
    "                predictions_forest = model_f_bal.predict(f_valid)\n",
    "                result2 = f1_score(t_valid, predictions_forest)\n",
    "\n",
    "                if result2 > best_res2_forest:\n",
    "                        best_res2_forest = result2\n",
    "                        best_mod_forest = model_f_bal\n",
    "                        best_n_estimators = est\n",
    "                        best_depth_rtree = depth\n",
    "                        best_samples_split = sample_split\n",
    "                        best_n_features = n_feature\n",
    "                        \n",
    "print(f'Лучшая метрика f1 равна {best_res2_forest} при этом:')\n",
    "print(f'глубина дерева: {best_depth_rtree}; число деревьев: {best_n_estimators}; \\\n",
    "минимальное количество образцов для разделения: {best_samples_split}, число признаков для разделения: {best_n_features}.')"
   ]
  },
  {
   "cell_type": "markdown",
   "metadata": {},
   "source": [
    "В итоге пришли примерно к тем же цифрам для рандомного леса только со взвешенными выборками и несколько изменившемися гиперпараметрами."
   ]
  },
  {
   "cell_type": "code",
   "execution_count": 30,
   "metadata": {
    "scrolled": true
   },
   "outputs": [
    {
     "data": {
      "image/png": "[encoded data removed]",
      "text/plain": [
       "<Figure size 432x288 with 1 Axes>"
      ]
     },
     "metadata": {
      "needs_background": "light"
     },
     "output_type": "display_data"
    }
   ],
   "source": [
    "probabilities_valid = best_mod_forest.predict_proba(f_valid)\n",
    "probabilities_one_valid = probabilities_valid[:, 1]\n",
    "fpr, tpr, thresholds = roc_curve(t_valid, probabilities_one_valid) \n",
    "\n",
    "plt.figure()\n",
    "plt.plot(fpr, tpr)\n",
    "# ROC-кривая случайной модели (прямая)\n",
    "plt.plot([0, 1], [0, 1], linestyle='--')\n",
    "plt.legend([\"our model\", \"model of means\"], loc=\"center right\")\n",
    "plt.xlabel('False Positive Rate')\n",
    "plt.ylabel('True Positive Rate')\n",
    "plt.ylim([0.0, 1.0])\n",
    "plt.xlim([0.0, 1.0])\n",
    "plt.grid()\n",
    "plt.title('ROC-кривая')\n",
    "plt.show()"
   ]
  },
  {
   "cell_type": "markdown",
   "metadata": {},
   "source": [
    "В каком-то смысле неплохо: кривая несколько устремляется при определенном пороге вероятности к желаемому значению 1 для TPR, \"держась\" на минимуме для FPR. Однако все равно далее достаточно быстро начинает расти и FPR (в любом случае от этого не уйти, т.к. при уменьшении порога число истинноположительных ответов вырастет, как и ложноположительных...)"
   ]
  },
  {
   "cell_type": "markdown",
   "metadata": {},
   "source": [
    "## Тестирование модели"
   ]
  },
  {
   "cell_type": "markdown",
   "metadata": {},
   "source": [
    "Проверим работу лучшей модели на тестовых данных."
   ]
  },
  {
   "cell_type": "code",
   "execution_count": 36,
   "metadata": {},
   "outputs": [
    {
     "name": "stdout",
     "output_type": "stream",
     "text": [
      "Оценка точности и полноты в виде метрики f1 для тестовой выборки: 0.597938144329897\n"
     ]
    }
   ],
   "source": [
    "predictions_forest = best_mod_forest.predict(f_test)\n",
    "print(\"Оценка точности и полноты в виде метрики f1 для тестовой выборки:\", f1_score(t_test, predictions_forest))"
   ]
  },
  {
   "cell_type": "markdown",
   "metadata": {},
   "source": [
    "Так или иначе удалось добиться требуемого результата на тестовой выборке, что в целом неплохо. Переобучения не наблюдается."
   ]
  },
  {
   "cell_type": "code",
   "execution_count": 37,
   "metadata": {},
   "outputs": [
    {
     "name": "stdout",
     "output_type": "stream",
     "text": [
      "Площадь под кривой ROC для валидационной выборки: 0.827733805551691\n",
      "Площадь под кривой ROC для тестовой выборки: 0.8438179743985272\n"
     ]
    }
   ],
   "source": [
    "print('Площадь под кривой ROC для валидационной выборки:', roc_auc_score(t_valid, probabilities_one_valid))\n",
    "probabilities_test = best_mod_forest.predict_proba(f_test)\n",
    "probabilities_one_test = probabilities_test[:, 1]\n",
    "print('Площадь под кривой ROC для тестовой выборки:', roc_auc_score(t_test, probabilities_one_test))"
   ]
  },
  {
   "cell_type": "markdown",
   "metadata": {},
   "source": [
    "Получается, что площадь под тестовой кривой даже чуть выше. По крайней мере, это значение выше чем значений для случайно модели (0,5) и такую предсказательную модель можно считать приемлемой."
   ]
  },
  {
   "cell_type": "code",
   "execution_count": 38,
   "metadata": {
    "scrolled": true
   },
   "outputs": [
    {
     "data": {
      "text/plain": [
       "[Text(33.0, 0.5, 'reality'), Text(0.5, 15.0, 'predicts')]"
      ]
     },
     "execution_count": 38,
     "metadata": {},
     "output_type": "execute_result"
    },
    {
     "data": {
      "image/png": "[encoded data removed]",
      "text/plain": [
       "<Figure size 432x288 with 2 Axes>"
      ]
     },
     "metadata": {
      "needs_background": "light"
     },
     "output_type": "display_data"
    }
   ],
   "source": [
    "\n",
    "n_metric = confusion_matrix(t_test, predictions_forest)\n",
    "ax = sns.heatmap(n_metric, annot=True, fmt='.3g')\n",
    "\n",
    "ax.set(ylabel='reality', xlabel ='predicts')"
   ]
  },
  {
   "cell_type": "markdown",
   "metadata": {},
   "source": [
    "По confusion_matrix видим, что достаточно много ложноположительных ответов (FP) и точность в таком случае равна 0.65, а полнота 0.55. Значение не высокие, однако позволяют добиться вышеуказанной величины f1 метрики."
   ]
  },
  {
   "cell_type": "code",
   "execution_count": 39,
   "metadata": {},
   "outputs": [],
   "source": [
    "# объединяем тренировочную и валидационную выборки\n",
    "f_pre = pd.concat([f_test] + [f_valid])\n",
    "t_pre = pd.concat([t_test] + [t_valid])"
   ]
  },
  {
   "cell_type": "code",
   "execution_count": 40,
   "metadata": {},
   "outputs": [
    {
     "name": "stdout",
     "output_type": "stream",
     "text": [
      "Оценка точности и полноты в виде метрики f1 для тестовой выборки: 0.6138996138996139\n",
      "Площадь под кривой ROC для тестовой выборки: 0.8359408729338706\n"
     ]
    }
   ],
   "source": [
    "# рассчитываем метрики по объединенной выборке \n",
    "predictions_forest = best_mod_forest.predict(f_pre)\n",
    "print(\"Оценка точности и полноты в виде метрики f1 для тестовой выборки:\", f1_score(t_pre, predictions_forest))\n",
    "\n",
    "probabilities_pre = best_mod_forest.predict_proba(f_pre)\n",
    "probabilities_one_pre = probabilities_pre[:, 1]\n",
    "print('Площадь под кривой ROC для тестовой выборки:', roc_auc_score(t_pre, probabilities_one_pre))"
   ]
  },
  {
   "cell_type": "markdown",
   "metadata": {},
   "source": [
    "f-1 метрика в общем улучшилась, что, наверное, логично: часть выборки f-pre использовалась при обучении (не все данные \"незнакомые\")."
   ]
  },
  {
   "cell_type": "code",
   "execution_count": 41,
   "metadata": {
    "scrolled": false
   },
   "outputs": [
    {
     "data": {
      "text/plain": [
       "[Text(33.0, 0.5, 'reality'), Text(0.5, 15.0, 'predicts')]"
      ]
     },
     "execution_count": 41,
     "metadata": {},
     "output_type": "execute_result"
    },
    {
     "data": {
      "image/png": "[encoded data removed]",
      "text/plain": [
       "<Figure size 432x288 with 2 Axes>"
      ]
     },
     "metadata": {
      "needs_background": "light"
     },
     "output_type": "display_data"
    }
   ],
   "source": [
    "\n",
    "n_metric = confusion_matrix(t_pre, predictions_forest)\n",
    "ax = sns.heatmap(n_metric, annot=True, fmt='.3g')\n",
    "\n",
    "ax.set(ylabel='reality', xlabel ='predicts')"
   ]
  },
  {
   "cell_type": "markdown",
   "metadata": {},
   "source": [
    "Естественно, в абсолютных величинах все показатели выросли (как истинные так и ложные). Причем все примерно в 1.9-2.1 раза."
   ]
  },
  {
   "cell_type": "markdown",
   "metadata": {},
   "source": [
    "## Дополнительные вычисления\n",
    "\n",
    "<div class=\"alert alert-info\"> Блок доп. вычислений и поиска оптимальных решений (в выводе к проекту не задействуется, т.к. тесты мы уже провеои) </div>\n"
   ]
  },
  {
   "cell_type": "code",
   "execution_count": 42,
   "metadata": {},
   "outputs": [
    {
     "data": {
      "text/html": [
       "<div>\n",
       "<style scoped>\n",
       "    .dataframe tbody tr th:only-of-type {\n",
       "        vertical-align: middle;\n",
       "    }\n",
       "\n",
       "    .dataframe tbody tr th {\n",
       "        vertical-align: top;\n",
       "    }\n",
       "\n",
       "    .dataframe thead th {\n",
       "        text-align: right;\n",
       "    }\n",
       "</style>\n",
       "<table border=\"1\" class=\"dataframe\">\n",
       "  <thead>\n",
       "    <tr style=\"text-align: right;\">\n",
       "      <th></th>\n",
       "      <th>CustomerId</th>\n",
       "      <th>CreditScore</th>\n",
       "      <th>Age</th>\n",
       "      <th>Tenure</th>\n",
       "      <th>Balance</th>\n",
       "      <th>NumOfProducts</th>\n",
       "      <th>HasCrCard</th>\n",
       "      <th>IsActiveMember</th>\n",
       "      <th>EstimatedSalary</th>\n",
       "      <th>Exited</th>\n",
       "      <th>Gender_Male</th>\n",
       "      <th>Geography_Germany</th>\n",
       "      <th>Geography_Spain</th>\n",
       "    </tr>\n",
       "  </thead>\n",
       "  <tbody>\n",
       "    <tr>\n",
       "      <th>0</th>\n",
       "      <td>15634602</td>\n",
       "      <td>619</td>\n",
       "      <td>42</td>\n",
       "      <td>2.0</td>\n",
       "      <td>0.00</td>\n",
       "      <td>1</td>\n",
       "      <td>1</td>\n",
       "      <td>1</td>\n",
       "      <td>101348.88</td>\n",
       "      <td>1</td>\n",
       "      <td>0</td>\n",
       "      <td>0</td>\n",
       "      <td>0</td>\n",
       "    </tr>\n",
       "    <tr>\n",
       "      <th>1</th>\n",
       "      <td>15647311</td>\n",
       "      <td>608</td>\n",
       "      <td>41</td>\n",
       "      <td>1.0</td>\n",
       "      <td>83807.86</td>\n",
       "      <td>1</td>\n",
       "      <td>0</td>\n",
       "      <td>1</td>\n",
       "      <td>112542.58</td>\n",
       "      <td>0</td>\n",
       "      <td>0</td>\n",
       "      <td>0</td>\n",
       "      <td>1</td>\n",
       "    </tr>\n",
       "    <tr>\n",
       "      <th>2</th>\n",
       "      <td>15619304</td>\n",
       "      <td>502</td>\n",
       "      <td>42</td>\n",
       "      <td>8.0</td>\n",
       "      <td>159660.80</td>\n",
       "      <td>3</td>\n",
       "      <td>1</td>\n",
       "      <td>0</td>\n",
       "      <td>113931.57</td>\n",
       "      <td>1</td>\n",
       "      <td>0</td>\n",
       "      <td>0</td>\n",
       "      <td>0</td>\n",
       "    </tr>\n",
       "    <tr>\n",
       "      <th>3</th>\n",
       "      <td>15701354</td>\n",
       "      <td>699</td>\n",
       "      <td>39</td>\n",
       "      <td>1.0</td>\n",
       "      <td>0.00</td>\n",
       "      <td>2</td>\n",
       "      <td>0</td>\n",
       "      <td>0</td>\n",
       "      <td>93826.63</td>\n",
       "      <td>0</td>\n",
       "      <td>0</td>\n",
       "      <td>0</td>\n",
       "      <td>0</td>\n",
       "    </tr>\n",
       "    <tr>\n",
       "      <th>4</th>\n",
       "      <td>15737888</td>\n",
       "      <td>850</td>\n",
       "      <td>43</td>\n",
       "      <td>2.0</td>\n",
       "      <td>125510.82</td>\n",
       "      <td>1</td>\n",
       "      <td>1</td>\n",
       "      <td>1</td>\n",
       "      <td>79084.10</td>\n",
       "      <td>0</td>\n",
       "      <td>0</td>\n",
       "      <td>0</td>\n",
       "      <td>1</td>\n",
       "    </tr>\n",
       "    <tr>\n",
       "      <th>...</th>\n",
       "      <td>...</td>\n",
       "      <td>...</td>\n",
       "      <td>...</td>\n",
       "      <td>...</td>\n",
       "      <td>...</td>\n",
       "      <td>...</td>\n",
       "      <td>...</td>\n",
       "      <td>...</td>\n",
       "      <td>...</td>\n",
       "      <td>...</td>\n",
       "      <td>...</td>\n",
       "      <td>...</td>\n",
       "      <td>...</td>\n",
       "    </tr>\n",
       "    <tr>\n",
       "      <th>9995</th>\n",
       "      <td>15606229</td>\n",
       "      <td>771</td>\n",
       "      <td>39</td>\n",
       "      <td>5.0</td>\n",
       "      <td>0.00</td>\n",
       "      <td>2</td>\n",
       "      <td>1</td>\n",
       "      <td>0</td>\n",
       "      <td>96270.64</td>\n",
       "      <td>0</td>\n",
       "      <td>1</td>\n",
       "      <td>0</td>\n",
       "      <td>0</td>\n",
       "    </tr>\n",
       "    <tr>\n",
       "      <th>9996</th>\n",
       "      <td>15569892</td>\n",
       "      <td>516</td>\n",
       "      <td>35</td>\n",
       "      <td>10.0</td>\n",
       "      <td>57369.61</td>\n",
       "      <td>1</td>\n",
       "      <td>1</td>\n",
       "      <td>1</td>\n",
       "      <td>101699.77</td>\n",
       "      <td>0</td>\n",
       "      <td>1</td>\n",
       "      <td>0</td>\n",
       "      <td>0</td>\n",
       "    </tr>\n",
       "    <tr>\n",
       "      <th>9997</th>\n",
       "      <td>15584532</td>\n",
       "      <td>709</td>\n",
       "      <td>36</td>\n",
       "      <td>7.0</td>\n",
       "      <td>0.00</td>\n",
       "      <td>1</td>\n",
       "      <td>0</td>\n",
       "      <td>1</td>\n",
       "      <td>42085.58</td>\n",
       "      <td>1</td>\n",
       "      <td>0</td>\n",
       "      <td>0</td>\n",
       "      <td>0</td>\n",
       "    </tr>\n",
       "    <tr>\n",
       "      <th>9998</th>\n",
       "      <td>15682355</td>\n",
       "      <td>772</td>\n",
       "      <td>42</td>\n",
       "      <td>3.0</td>\n",
       "      <td>75075.31</td>\n",
       "      <td>2</td>\n",
       "      <td>1</td>\n",
       "      <td>0</td>\n",
       "      <td>92888.52</td>\n",
       "      <td>1</td>\n",
       "      <td>1</td>\n",
       "      <td>1</td>\n",
       "      <td>0</td>\n",
       "    </tr>\n",
       "    <tr>\n",
       "      <th>9999</th>\n",
       "      <td>15628319</td>\n",
       "      <td>792</td>\n",
       "      <td>28</td>\n",
       "      <td>5.0</td>\n",
       "      <td>130142.79</td>\n",
       "      <td>1</td>\n",
       "      <td>1</td>\n",
       "      <td>0</td>\n",
       "      <td>38190.78</td>\n",
       "      <td>0</td>\n",
       "      <td>0</td>\n",
       "      <td>0</td>\n",
       "      <td>0</td>\n",
       "    </tr>\n",
       "  </tbody>\n",
       "</table>\n",
       "<p>10000 rows × 13 columns</p>\n",
       "</div>"
      ],
      "text/plain": [
       "      CustomerId  CreditScore  Age  Tenure    Balance  NumOfProducts  \\\n",
       "0       15634602          619   42     2.0       0.00              1   \n",
       "1       15647311          608   41     1.0   83807.86              1   \n",
       "2       15619304          502   42     8.0  159660.80              3   \n",
       "3       15701354          699   39     1.0       0.00              2   \n",
       "4       15737888          850   43     2.0  125510.82              1   \n",
       "...          ...          ...  ...     ...        ...            ...   \n",
       "9995    15606229          771   39     5.0       0.00              2   \n",
       "9996    15569892          516   35    10.0   57369.61              1   \n",
       "9997    15584532          709   36     7.0       0.00              1   \n",
       "9998    15682355          772   42     3.0   75075.31              2   \n",
       "9999    15628319          792   28     5.0  130142.79              1   \n",
       "\n",
       "      HasCrCard  IsActiveMember  EstimatedSalary  Exited  Gender_Male  \\\n",
       "0             1               1        101348.88       1            0   \n",
       "1             0               1        112542.58       0            0   \n",
       "2             1               0        113931.57       1            0   \n",
       "3             0               0         93826.63       0            0   \n",
       "4             1               1         79084.10       0            0   \n",
       "...         ...             ...              ...     ...          ...   \n",
       "9995          1               0         96270.64       0            1   \n",
       "9996          1               1        101699.77       0            1   \n",
       "9997          0               1         42085.58       1            0   \n",
       "9998          1               0         92888.52       1            1   \n",
       "9999          1               0         38190.78       0            0   \n",
       "\n",
       "      Geography_Germany  Geography_Spain  \n",
       "0                     0                0  \n",
       "1                     0                1  \n",
       "2                     0                0  \n",
       "3                     0                0  \n",
       "4                     0                1  \n",
       "...                 ...              ...  \n",
       "9995                  0                0  \n",
       "9996                  0                0  \n",
       "9997                  0                0  \n",
       "9998                  1                0  \n",
       "9999                  0                0  \n",
       "\n",
       "[10000 rows x 13 columns]"
      ]
     },
     "execution_count": 42,
     "metadata": {},
     "output_type": "execute_result"
    }
   ],
   "source": [
    "df2 = df.drop(['RowNumber', 'Surname'], axis=1)\n",
    "\n",
    "df2['Tenure'] = df2['Tenure'].fillna(df2['Tenure'].median())\n",
    "\n",
    "df2 = pd.get_dummies(data=df2, columns=['Gender', 'Geography'], drop_first=True)\n",
    "\n",
    "df2"
   ]
  },
  {
   "cell_type": "code",
   "execution_count": 43,
   "metadata": {},
   "outputs": [],
   "source": [
    "numeric = ['CreditScore', 'Age', 'Balance', 'EstimatedSalary', 'NumOfProducts', 'Tenure']\n",
    "\n",
    "features = df2.drop(['Exited'], axis=1)\n",
    "target = df2['Exited']\n",
    "f_train, f_pre, t_train, t_pre = train_test_split(features, target, test_size=0.4, random_state=12345)\n",
    "f_valid, f_test, t_valid, t_test = train_test_split(f_pre, t_pre, test_size=0.5, random_state=12345)\n",
    "\n",
    "scaler = StandardScaler()\n",
    "scaler.fit(f_train[numeric])\n",
    "f_train[numeric] = scaler.transform(f_train[numeric])\n",
    "f_valid[numeric] = scaler.transform(f_valid[numeric])\n",
    "f_test[numeric] = scaler.transform(f_test[numeric])"
   ]
  },
  {
   "cell_type": "code",
   "execution_count": 44,
   "metadata": {},
   "outputs": [
    {
     "name": "stdout",
     "output_type": "stream",
     "text": [
      "Лучшая метрика f1 равна 0.63 при этом:\n",
      "глубина дерева: 11; число деревьев: 11; минимальное количество образцов для разделения: 5, число признаков для разделения: 6.\n"
     ]
    }
   ],
   "source": [
    "result2 = 0\n",
    "best_mod_forest = None\n",
    "best_res2_forest = 0\n",
    "best_n_estimators = 0\n",
    "best_depth_rtree = 0\n",
    "best_samples_split = 0\n",
    "best_n_features = 0\n",
    "\n",
    "for  est in range(10, 15):\n",
    "    for depth in range(10, 15):\n",
    "        for sample_split in range(5, 12):\n",
    "            for n_feature  in range(5, df1.shape[1]-1):\n",
    "                model_f_bal = RandomForestClassifier(max_depth=depth, n_estimators=est, min_samples_split=sample_split,\n",
    "                                                 max_features=n_feature, random_state=12345, class_weight='balanced')\n",
    "                model_f_bal.fit(f_train, t_train)\n",
    "                predictions_forest = model_f_bal.predict(f_valid)\n",
    "                result2 = f1_score(t_valid, predictions_forest)\n",
    "\n",
    "                if result2 > best_res2_forest:\n",
    "                        best_res2_forest = result2\n",
    "                        best_mod_forest = model_f_bal\n",
    "                        best_n_estimators = est\n",
    "                        best_depth_rtree = depth\n",
    "                        best_samples_split = sample_split\n",
    "                        best_n_features = n_feature\n",
    "                        \n",
    "print(f'Лучшая метрика f1 равна {best_res2_forest} при этом:')\n",
    "print(f'глубина дерева: {best_depth_rtree}; число деревьев: {best_n_estimators}; \\\n",
    "минимальное количество образцов для разделения: {best_samples_split}, число признаков для разделения: {best_n_features}.')"
   ]
  },
  {
   "cell_type": "code",
   "execution_count": 45,
   "metadata": {
    "scrolled": true
   },
   "outputs": [
    {
     "name": "stdout",
     "output_type": "stream",
     "text": [
      "0.6014851485148516\n"
     ]
    },
    {
     "data": {
      "image/png": "[encoded data removed]",
      "text/plain": [
       "<Figure size 432x288 with 2 Axes>"
      ]
     },
     "metadata": {
      "needs_background": "light"
     },
     "output_type": "display_data"
    }
   ],
   "source": [
    "predictions_forest = best_mod_forest.predict(f_test)\n",
    "n_metric = confusion_matrix(t_test, predictions_forest)\n",
    "ax = sns.heatmap(n_metric, annot=True, fmt='.3g')\n",
    "\n",
    "ax.set(ylabel='reality', xlabel ='predicts')\n",
    "print(f1_score(t_test, predictions_forest))"
   ]
  },
  {
   "cell_type": "markdown",
   "metadata": {},
   "source": [
    "Результат даже несколько лучше, чем когда не учитывали CustomerId, но у нас ложных 1 стало больше (как и истинных 1), а ложных 0 наоборот немного меньше. \n",
    "\n",
    "Может быть не следовало брать медианное значение для Tenure, а просто удалить эти пропуски?"
   ]
  },
  {
   "cell_type": "code",
   "execution_count": 46,
   "metadata": {
    "scrolled": true
   },
   "outputs": [
    {
     "data": {
      "text/html": [
       "<div>\n",
       "<style scoped>\n",
       "    .dataframe tbody tr th:only-of-type {\n",
       "        vertical-align: middle;\n",
       "    }\n",
       "\n",
       "    .dataframe tbody tr th {\n",
       "        vertical-align: top;\n",
       "    }\n",
       "\n",
       "    .dataframe thead th {\n",
       "        text-align: right;\n",
       "    }\n",
       "</style>\n",
       "<table border=\"1\" class=\"dataframe\">\n",
       "  <thead>\n",
       "    <tr style=\"text-align: right;\">\n",
       "      <th></th>\n",
       "      <th>CreditScore</th>\n",
       "      <th>Age</th>\n",
       "      <th>Tenure</th>\n",
       "      <th>Balance</th>\n",
       "      <th>NumOfProducts</th>\n",
       "      <th>HasCrCard</th>\n",
       "      <th>IsActiveMember</th>\n",
       "      <th>EstimatedSalary</th>\n",
       "      <th>Exited</th>\n",
       "      <th>Gender_Male</th>\n",
       "      <th>Geography_Germany</th>\n",
       "      <th>Geography_Spain</th>\n",
       "    </tr>\n",
       "  </thead>\n",
       "  <tbody>\n",
       "    <tr>\n",
       "      <th>0</th>\n",
       "      <td>619</td>\n",
       "      <td>42</td>\n",
       "      <td>2.0</td>\n",
       "      <td>0.00</td>\n",
       "      <td>1</td>\n",
       "      <td>1</td>\n",
       "      <td>1</td>\n",
       "      <td>101348.88</td>\n",
       "      <td>1</td>\n",
       "      <td>0</td>\n",
       "      <td>0</td>\n",
       "      <td>0</td>\n",
       "    </tr>\n",
       "    <tr>\n",
       "      <th>1</th>\n",
       "      <td>608</td>\n",
       "      <td>41</td>\n",
       "      <td>1.0</td>\n",
       "      <td>83807.86</td>\n",
       "      <td>1</td>\n",
       "      <td>0</td>\n",
       "      <td>1</td>\n",
       "      <td>112542.58</td>\n",
       "      <td>0</td>\n",
       "      <td>0</td>\n",
       "      <td>0</td>\n",
       "      <td>1</td>\n",
       "    </tr>\n",
       "    <tr>\n",
       "      <th>2</th>\n",
       "      <td>502</td>\n",
       "      <td>42</td>\n",
       "      <td>8.0</td>\n",
       "      <td>159660.80</td>\n",
       "      <td>3</td>\n",
       "      <td>1</td>\n",
       "      <td>0</td>\n",
       "      <td>113931.57</td>\n",
       "      <td>1</td>\n",
       "      <td>0</td>\n",
       "      <td>0</td>\n",
       "      <td>0</td>\n",
       "    </tr>\n",
       "    <tr>\n",
       "      <th>3</th>\n",
       "      <td>699</td>\n",
       "      <td>39</td>\n",
       "      <td>1.0</td>\n",
       "      <td>0.00</td>\n",
       "      <td>2</td>\n",
       "      <td>0</td>\n",
       "      <td>0</td>\n",
       "      <td>93826.63</td>\n",
       "      <td>0</td>\n",
       "      <td>0</td>\n",
       "      <td>0</td>\n",
       "      <td>0</td>\n",
       "    </tr>\n",
       "    <tr>\n",
       "      <th>4</th>\n",
       "      <td>850</td>\n",
       "      <td>43</td>\n",
       "      <td>2.0</td>\n",
       "      <td>125510.82</td>\n",
       "      <td>1</td>\n",
       "      <td>1</td>\n",
       "      <td>1</td>\n",
       "      <td>79084.10</td>\n",
       "      <td>0</td>\n",
       "      <td>0</td>\n",
       "      <td>0</td>\n",
       "      <td>1</td>\n",
       "    </tr>\n",
       "    <tr>\n",
       "      <th>...</th>\n",
       "      <td>...</td>\n",
       "      <td>...</td>\n",
       "      <td>...</td>\n",
       "      <td>...</td>\n",
       "      <td>...</td>\n",
       "      <td>...</td>\n",
       "      <td>...</td>\n",
       "      <td>...</td>\n",
       "      <td>...</td>\n",
       "      <td>...</td>\n",
       "      <td>...</td>\n",
       "      <td>...</td>\n",
       "    </tr>\n",
       "    <tr>\n",
       "      <th>9086</th>\n",
       "      <td>800</td>\n",
       "      <td>29</td>\n",
       "      <td>2.0</td>\n",
       "      <td>0.00</td>\n",
       "      <td>2</td>\n",
       "      <td>0</td>\n",
       "      <td>0</td>\n",
       "      <td>167773.55</td>\n",
       "      <td>0</td>\n",
       "      <td>0</td>\n",
       "      <td>0</td>\n",
       "      <td>0</td>\n",
       "    </tr>\n",
       "    <tr>\n",
       "      <th>9087</th>\n",
       "      <td>771</td>\n",
       "      <td>39</td>\n",
       "      <td>5.0</td>\n",
       "      <td>0.00</td>\n",
       "      <td>2</td>\n",
       "      <td>1</td>\n",
       "      <td>0</td>\n",
       "      <td>96270.64</td>\n",
       "      <td>0</td>\n",
       "      <td>1</td>\n",
       "      <td>0</td>\n",
       "      <td>0</td>\n",
       "    </tr>\n",
       "    <tr>\n",
       "      <th>9088</th>\n",
       "      <td>516</td>\n",
       "      <td>35</td>\n",
       "      <td>10.0</td>\n",
       "      <td>57369.61</td>\n",
       "      <td>1</td>\n",
       "      <td>1</td>\n",
       "      <td>1</td>\n",
       "      <td>101699.77</td>\n",
       "      <td>0</td>\n",
       "      <td>1</td>\n",
       "      <td>0</td>\n",
       "      <td>0</td>\n",
       "    </tr>\n",
       "    <tr>\n",
       "      <th>9089</th>\n",
       "      <td>709</td>\n",
       "      <td>36</td>\n",
       "      <td>7.0</td>\n",
       "      <td>0.00</td>\n",
       "      <td>1</td>\n",
       "      <td>0</td>\n",
       "      <td>1</td>\n",
       "      <td>42085.58</td>\n",
       "      <td>1</td>\n",
       "      <td>0</td>\n",
       "      <td>0</td>\n",
       "      <td>0</td>\n",
       "    </tr>\n",
       "    <tr>\n",
       "      <th>9090</th>\n",
       "      <td>772</td>\n",
       "      <td>42</td>\n",
       "      <td>3.0</td>\n",
       "      <td>75075.31</td>\n",
       "      <td>2</td>\n",
       "      <td>1</td>\n",
       "      <td>0</td>\n",
       "      <td>92888.52</td>\n",
       "      <td>1</td>\n",
       "      <td>1</td>\n",
       "      <td>1</td>\n",
       "      <td>0</td>\n",
       "    </tr>\n",
       "  </tbody>\n",
       "</table>\n",
       "<p>9091 rows × 12 columns</p>\n",
       "</div>"
      ],
      "text/plain": [
       "      CreditScore  Age  Tenure    Balance  NumOfProducts  HasCrCard  \\\n",
       "0             619   42     2.0       0.00              1          1   \n",
       "1             608   41     1.0   83807.86              1          0   \n",
       "2             502   42     8.0  159660.80              3          1   \n",
       "3             699   39     1.0       0.00              2          0   \n",
       "4             850   43     2.0  125510.82              1          1   \n",
       "...           ...  ...     ...        ...            ...        ...   \n",
       "9086          800   29     2.0       0.00              2          0   \n",
       "9087          771   39     5.0       0.00              2          1   \n",
       "9088          516   35    10.0   57369.61              1          1   \n",
       "9089          709   36     7.0       0.00              1          0   \n",
       "9090          772   42     3.0   75075.31              2          1   \n",
       "\n",
       "      IsActiveMember  EstimatedSalary  Exited  Gender_Male  Geography_Germany  \\\n",
       "0                  1        101348.88       1            0                  0   \n",
       "1                  1        112542.58       0            0                  0   \n",
       "2                  0        113931.57       1            0                  0   \n",
       "3                  0         93826.63       0            0                  0   \n",
       "4                  1         79084.10       0            0                  0   \n",
       "...              ...              ...     ...          ...                ...   \n",
       "9086               0        167773.55       0            0                  0   \n",
       "9087               0         96270.64       0            1                  0   \n",
       "9088               1        101699.77       0            1                  0   \n",
       "9089               1         42085.58       1            0                  0   \n",
       "9090               0         92888.52       1            1                  1   \n",
       "\n",
       "      Geography_Spain  \n",
       "0                   0  \n",
       "1                   1  \n",
       "2                   0  \n",
       "3                   0  \n",
       "4                   1  \n",
       "...               ...  \n",
       "9086                0  \n",
       "9087                0  \n",
       "9088                0  \n",
       "9089                0  \n",
       "9090                0  \n",
       "\n",
       "[9091 rows x 12 columns]"
      ]
     },
     "metadata": {},
     "output_type": "display_data"
    }
   ],
   "source": [
    "df2 = df.drop(['RowNumber', 'CustomerId' , 'Surname'], axis=1)\n",
    "\n",
    "df2 = df2.dropna(subset=['Tenure'])\n",
    "df2 = df2.reset_index(drop=True)\n",
    "\n",
    "df2 = pd.get_dummies(data=df2, columns=['Gender', 'Geography'], drop_first=True)\n",
    "display(df2)"
   ]
  },
  {
   "cell_type": "code",
   "execution_count": 47,
   "metadata": {},
   "outputs": [],
   "source": [
    "numeric = ['CreditScore', 'Age', 'Balance', 'EstimatedSalary', 'NumOfProducts', 'Tenure']\n",
    "\n",
    "features = df2.drop(['Exited'], axis=1)\n",
    "target = df2['Exited']\n",
    "f_train, f_pre, t_train, t_pre = train_test_split(features, target, test_size=0.4, random_state=12345)\n",
    "f_valid, f_test, t_valid, t_test = train_test_split(f_pre, t_pre, test_size=0.5, random_state=12345)\n",
    "\n",
    "scaler = StandardScaler()\n",
    "scaler.fit(f_train[numeric])\n",
    "f_train[numeric] = scaler.transform(f_train[numeric])\n",
    "f_valid[numeric] = scaler.transform(f_valid[numeric])\n",
    "f_test[numeric] = scaler.transform(f_test[numeric])"
   ]
  },
  {
   "cell_type": "code",
   "execution_count": 48,
   "metadata": {
    "scrolled": false
   },
   "outputs": [
    {
     "name": "stdout",
     "output_type": "stream",
     "text": [
      "Лучшая метрика f1 равна 0.6424870466321243 при этом:\n",
      "глубина дерева: 10; число деревьев: 13; минимальное количество образцов для разделения: 5, число признаков для разделения: 7.\n"
     ]
    }
   ],
   "source": [
    "result2 = 0\n",
    "best_mod_forest = None\n",
    "best_res2_forest = 0\n",
    "best_n_estimators = 0\n",
    "best_depth_rtree = 0\n",
    "best_samples_split = 0\n",
    "best_n_features = 0\n",
    "\n",
    "for  est in range(10, 15):\n",
    "    for depth in range(10, 15):\n",
    "        for sample_split in range(5, 12):\n",
    "            for n_feature  in range(5, df1.shape[1]-1):\n",
    "                model_f_bal = RandomForestClassifier(max_depth=depth, n_estimators=est, min_samples_split=sample_split,\n",
    "                                                 max_features=n_feature, random_state=12345, class_weight='balanced')\n",
    "                model_f_bal.fit(f_train, t_train)\n",
    "                predictions_forest = model_f_bal.predict(f_valid)\n",
    "                result2 = f1_score(t_valid, predictions_forest)\n",
    "\n",
    "                if result2 > best_res2_forest:\n",
    "                        best_res2_forest = result2\n",
    "                        best_mod_forest = model_f_bal\n",
    "                        best_n_estimators = est\n",
    "                        best_depth_rtree = depth\n",
    "                        best_samples_split = sample_split\n",
    "                        best_n_features = n_feature\n",
    "                        \n",
    "print(f'Лучшая метрика f1 равна {best_res2_forest} при этом:')\n",
    "print(f'глубина дерева: {best_depth_rtree}; число деревьев: {best_n_estimators}; \\\n",
    "минимальное количество образцов для разделения: {best_samples_split}, число признаков для разделения: {best_n_features}.')"
   ]
  },
  {
   "cell_type": "code",
   "execution_count": 49,
   "metadata": {
    "scrolled": true
   },
   "outputs": [
    {
     "name": "stdout",
     "output_type": "stream",
     "text": [
      "0.5851063829787234\n"
     ]
    },
    {
     "data": {
      "image/png": "[encoded data removed]",
      "text/plain": [
       "<Figure size 432x288 with 2 Axes>"
      ]
     },
     "metadata": {
      "needs_background": "light"
     },
     "output_type": "display_data"
    }
   ],
   "source": [
    "predictions_forest = best_mod_forest.predict(f_test)\n",
    "n_metric = confusion_matrix(t_test, predictions_forest)\n",
    "ax = sns.heatmap(n_metric, annot=True, fmt='.3g')\n",
    "\n",
    "ax.set(ylabel='reality', xlabel ='predicts')\n",
    "print(f1_score(t_test, predictions_forest))"
   ]
  },
  {
   "cell_type": "markdown",
   "metadata": {},
   "source": [
    "При валидации показатель f1 явно был лучше, чем при тестовой выборке, заметно определенное несильное переобучение. Видимо идея с удалением лишних строк была тоже нелучшей. Но возможно здесь была лучший результат дала техника upsampling или downsampling. На этом приостановим данные изыскания.\n",
    "\n",
    "Тут можно попробовать и сам признак с пустыми значениями удалить и еще что-то скомбинировать.\n",
    "\n"
   ]
  },
  {
   "cell_type": "markdown",
   "metadata": {},
   "source": [
    "## *Общий вывод*\n",
    "\n",
    "(без учета дополнительныз расчетов)\n",
    "\n",
    " конкретно по текущему исследованию можно отметить что мы добились требуемого значения f1, однако если обратиться к общим результатам получается, что модель будет дочтаточно часто ставить 1 (пользователь уйдет) тем, кто этого не самом деле не сделает (121 человеку). Примерно на две \"правильных\" 1 будет одна ложная (TP = 232)... Ложных 0 в абсолютном количестве также немало (даже больше чем ложных 1), однако в отношении истинных 0 это значение не такое большое. В любом случае 191 человеку она спрогнозирует \"не уйдет\" в то время, как этот пользователь уйдет из банка. \n",
    " \n",
    " Отметим, что процесс построения \"удачной\" модели МО явно итерационный и найти превосходную по всем показателем весьма затруднительно, может быть и невозможнно. Так или иначе придется чем-то жертвовать в зависимости от контекста задачи.\n",
    " \n",
    " *Такой результат вряд ли может быть применим на практике*."
   ]
  },
  {
   "cell_type": "code",
   "execution_count": null,
   "metadata": {},
   "outputs": [],
   "source": []
  }
 ],
 "metadata": {
  "ExecuteTimeLog": [
   {
    "duration": 78,
    "start_time": "2022-12-20T19:47:28.534Z"
   },
   {
    "duration": 1610,
    "start_time": "2022-12-21T07:25:04.256Z"
   },
   {
    "duration": 191,
    "start_time": "2022-12-21T07:25:06.147Z"
   },
   {
    "duration": 33,
    "start_time": "2022-12-21T07:25:07.870Z"
   },
   {
    "duration": 5,
    "start_time": "2022-12-21T07:25:10.369Z"
   },
   {
    "duration": 20,
    "start_time": "2022-12-21T07:25:11.650Z"
   },
   {
    "duration": 8,
    "start_time": "2022-12-21T07:25:17.751Z"
   },
   {
    "duration": 12,
    "start_time": "2022-12-21T07:25:25.882Z"
   },
   {
    "duration": 4,
    "start_time": "2022-12-21T07:25:34.665Z"
   },
   {
    "duration": 2,
    "start_time": "2022-12-21T07:25:48.862Z"
   },
   {
    "duration": 4,
    "start_time": "2022-12-21T07:59:35.478Z"
   },
   {
    "duration": 113,
    "start_time": "2022-12-21T08:14:36.207Z"
   },
   {
    "duration": 12,
    "start_time": "2022-12-21T08:14:41.960Z"
   },
   {
    "duration": 9,
    "start_time": "2022-12-21T08:14:46.784Z"
   },
   {
    "duration": 1217,
    "start_time": "2022-12-21T08:14:47.790Z"
   },
   {
    "duration": 1311,
    "start_time": "2022-12-21T08:17:45.419Z"
   },
   {
    "duration": 13,
    "start_time": "2022-12-21T08:18:02.225Z"
   },
   {
    "duration": 12,
    "start_time": "2022-12-21T08:18:21.524Z"
   },
   {
    "duration": 10,
    "start_time": "2022-12-21T08:18:52.444Z"
   },
   {
    "duration": 16,
    "start_time": "2022-12-21T08:19:13.620Z"
   },
   {
    "duration": 10,
    "start_time": "2022-12-21T08:20:05.103Z"
   },
   {
    "duration": 10,
    "start_time": "2022-12-21T08:20:19.116Z"
   },
   {
    "duration": 3,
    "start_time": "2022-12-21T08:20:59.308Z"
   },
   {
    "duration": 9,
    "start_time": "2022-12-21T08:21:19.268Z"
   },
   {
    "duration": 9,
    "start_time": "2022-12-21T08:21:50.479Z"
   },
   {
    "duration": 11,
    "start_time": "2022-12-21T08:22:07.691Z"
   },
   {
    "duration": 11,
    "start_time": "2022-12-21T08:23:58.797Z"
   },
   {
    "duration": 13,
    "start_time": "2022-12-21T08:24:10.791Z"
   },
   {
    "duration": 14,
    "start_time": "2022-12-21T08:24:23.999Z"
   },
   {
    "duration": 13,
    "start_time": "2022-12-21T08:26:54.942Z"
   },
   {
    "duration": 14,
    "start_time": "2022-12-21T08:28:27.015Z"
   },
   {
    "duration": 14,
    "start_time": "2022-12-21T08:29:38.361Z"
   },
   {
    "duration": 23,
    "start_time": "2022-12-21T08:31:44.348Z"
   },
   {
    "duration": 211,
    "start_time": "2022-12-21T08:32:39.342Z"
   },
   {
    "duration": 13,
    "start_time": "2022-12-21T08:33:53.981Z"
   },
   {
    "duration": 12,
    "start_time": "2022-12-21T08:34:15.685Z"
   },
   {
    "duration": 13,
    "start_time": "2022-12-21T08:34:38.683Z"
   },
   {
    "duration": 14,
    "start_time": "2022-12-21T08:38:12.441Z"
   },
   {
    "duration": 14,
    "start_time": "2022-12-21T08:39:25.866Z"
   },
   {
    "duration": 9,
    "start_time": "2022-12-21T08:39:52.525Z"
   },
   {
    "duration": 15,
    "start_time": "2022-12-21T08:39:53.643Z"
   },
   {
    "duration": 9,
    "start_time": "2022-12-21T08:41:44.666Z"
   },
   {
    "duration": 9,
    "start_time": "2022-12-21T08:41:46.189Z"
   },
   {
    "duration": 1161,
    "start_time": "2022-12-21T08:42:12.414Z"
   },
   {
    "duration": 11,
    "start_time": "2022-12-21T08:42:45.898Z"
   },
   {
    "duration": 11,
    "start_time": "2022-12-21T08:42:47.176Z"
   },
   {
    "duration": 3,
    "start_time": "2022-12-21T08:43:21.426Z"
   },
   {
    "duration": 10,
    "start_time": "2022-12-21T08:43:24.210Z"
   },
   {
    "duration": 3,
    "start_time": "2022-12-21T08:43:25.226Z"
   },
   {
    "duration": 9,
    "start_time": "2022-12-21T08:44:15.872Z"
   },
   {
    "duration": 9,
    "start_time": "2022-12-21T08:44:16.712Z"
   },
   {
    "duration": 18,
    "start_time": "2022-12-21T08:45:43.770Z"
   },
   {
    "duration": 237,
    "start_time": "2022-12-21T08:47:35.985Z"
   },
   {
    "duration": 26,
    "start_time": "2022-12-21T08:51:58.466Z"
   },
   {
    "duration": 9,
    "start_time": "2022-12-21T08:51:59.986Z"
   },
   {
    "duration": 13,
    "start_time": "2022-12-21T08:52:00.944Z"
   },
   {
    "duration": 4,
    "start_time": "2022-12-21T08:52:02.162Z"
   },
   {
    "duration": 2,
    "start_time": "2022-12-21T08:52:06.826Z"
   },
   {
    "duration": 11,
    "start_time": "2022-12-21T08:52:08.346Z"
   },
   {
    "duration": 235,
    "start_time": "2022-12-21T08:54:52.727Z"
   },
   {
    "duration": 30,
    "start_time": "2022-12-21T08:56:23.261Z"
   },
   {
    "duration": 15,
    "start_time": "2022-12-21T09:00:12.664Z"
   },
   {
    "duration": 17,
    "start_time": "2022-12-21T09:00:20.061Z"
   },
   {
    "duration": 229,
    "start_time": "2022-12-21T09:01:10.989Z"
   },
   {
    "duration": 218,
    "start_time": "2022-12-21T09:01:44.188Z"
   },
   {
    "duration": 22,
    "start_time": "2022-12-21T09:03:07.986Z"
   },
   {
    "duration": 145,
    "start_time": "2022-12-21T09:03:24.959Z"
   },
   {
    "duration": 141,
    "start_time": "2022-12-21T09:03:47.365Z"
   },
   {
    "duration": 14,
    "start_time": "2022-12-21T09:04:14.685Z"
   },
   {
    "duration": 8,
    "start_time": "2022-12-21T09:05:43.826Z"
   },
   {
    "duration": 207,
    "start_time": "2022-12-21T09:07:01.414Z"
   },
   {
    "duration": 12,
    "start_time": "2022-12-21T09:11:57.029Z"
   },
   {
    "duration": 16,
    "start_time": "2022-12-21T09:13:05.217Z"
   },
   {
    "duration": 14,
    "start_time": "2022-12-21T09:20:41.435Z"
   },
   {
    "duration": 17,
    "start_time": "2022-12-21T09:21:04.731Z"
   },
   {
    "duration": 10,
    "start_time": "2022-12-21T09:21:09.157Z"
   },
   {
    "duration": 13,
    "start_time": "2022-12-21T09:21:12.178Z"
   },
   {
    "duration": 66,
    "start_time": "2022-12-21T09:21:30.946Z"
   },
   {
    "duration": 9,
    "start_time": "2022-12-21T09:21:38.107Z"
   },
   {
    "duration": 1243,
    "start_time": "2022-12-21T09:21:41.216Z"
   },
   {
    "duration": 8,
    "start_time": "2022-12-21T09:22:11.913Z"
   },
   {
    "duration": 1266,
    "start_time": "2022-12-21T09:22:28.314Z"
   },
   {
    "duration": 1129,
    "start_time": "2022-12-21T09:23:14.645Z"
   },
   {
    "duration": 19,
    "start_time": "2022-12-21T09:23:36.244Z"
   },
   {
    "duration": 94,
    "start_time": "2022-12-21T09:23:48.365Z"
   },
   {
    "duration": 29,
    "start_time": "2022-12-21T09:23:48.855Z"
   },
   {
    "duration": 5,
    "start_time": "2022-12-21T09:23:49.826Z"
   },
   {
    "duration": 20,
    "start_time": "2022-12-21T09:23:50.165Z"
   },
   {
    "duration": 9,
    "start_time": "2022-12-21T09:23:52.065Z"
   },
   {
    "duration": 12,
    "start_time": "2022-12-21T09:23:53.704Z"
   },
   {
    "duration": 4,
    "start_time": "2022-12-21T09:23:54.786Z"
   },
   {
    "duration": 3,
    "start_time": "2022-12-21T09:23:58.550Z"
   },
   {
    "duration": 10,
    "start_time": "2022-12-21T09:24:04.557Z"
   },
   {
    "duration": 16,
    "start_time": "2022-12-21T09:24:10.581Z"
   },
   {
    "duration": 10,
    "start_time": "2022-12-21T09:24:28.952Z"
   },
   {
    "duration": 153,
    "start_time": "2022-12-21T09:24:32.006Z"
   },
   {
    "duration": 25,
    "start_time": "2022-12-21T09:25:35.138Z"
   },
   {
    "duration": 144,
    "start_time": "2022-12-21T09:26:10.263Z"
   },
   {
    "duration": 146,
    "start_time": "2022-12-21T09:26:39.189Z"
   },
   {
    "duration": 23,
    "start_time": "2022-12-21T09:26:56.072Z"
   },
   {
    "duration": 156,
    "start_time": "2022-12-21T09:26:59.910Z"
   },
   {
    "duration": 29,
    "start_time": "2022-12-21T09:27:57.515Z"
   },
   {
    "duration": 1285,
    "start_time": "2022-12-21T09:28:02.951Z"
   },
   {
    "duration": 1221,
    "start_time": "2022-12-21T09:28:37.998Z"
   },
   {
    "duration": 22,
    "start_time": "2022-12-21T09:28:46.326Z"
   },
   {
    "duration": 15,
    "start_time": "2022-12-21T09:28:49.158Z"
   },
   {
    "duration": 17,
    "start_time": "2022-12-21T09:29:14.498Z"
   },
   {
    "duration": 40,
    "start_time": "2022-12-21T09:29:22.275Z"
   },
   {
    "duration": 15,
    "start_time": "2022-12-21T09:29:25.600Z"
   },
   {
    "duration": 1135,
    "start_time": "2022-12-21T09:31:48.095Z"
   },
   {
    "duration": 32,
    "start_time": "2022-12-21T09:32:03.754Z"
   },
   {
    "duration": 9,
    "start_time": "2022-12-21T09:32:33.635Z"
   },
   {
    "duration": 25,
    "start_time": "2022-12-21T09:32:37.414Z"
   },
   {
    "duration": 22,
    "start_time": "2022-12-21T09:32:52.957Z"
   },
   {
    "duration": 19,
    "start_time": "2022-12-21T09:32:58.202Z"
   },
   {
    "duration": 19,
    "start_time": "2022-12-21T09:33:23.279Z"
   },
   {
    "duration": 23,
    "start_time": "2022-12-21T09:33:38.018Z"
   },
   {
    "duration": 13,
    "start_time": "2022-12-21T09:33:58.051Z"
   },
   {
    "duration": 26,
    "start_time": "2022-12-21T09:34:15.217Z"
   },
   {
    "duration": 11,
    "start_time": "2022-12-21T09:44:00.241Z"
   },
   {
    "duration": 11,
    "start_time": "2022-12-21T09:45:18.731Z"
   },
   {
    "duration": 11,
    "start_time": "2022-12-21T09:46:05.025Z"
   },
   {
    "duration": 10,
    "start_time": "2022-12-21T09:46:21.691Z"
   },
   {
    "duration": 53,
    "start_time": "2022-12-21T09:50:32.616Z"
   },
   {
    "duration": 14,
    "start_time": "2022-12-21T09:50:59.003Z"
   },
   {
    "duration": 11,
    "start_time": "2022-12-21T09:51:12.309Z"
   },
   {
    "duration": 43,
    "start_time": "2022-12-21T09:51:16.575Z"
   },
   {
    "duration": 15,
    "start_time": "2022-12-21T09:52:46.537Z"
   },
   {
    "duration": 10,
    "start_time": "2022-12-21T09:52:52.702Z"
   },
   {
    "duration": 70,
    "start_time": "2022-12-21T09:52:57.631Z"
   },
   {
    "duration": 20,
    "start_time": "2022-12-21T09:53:19.617Z"
   },
   {
    "duration": 4,
    "start_time": "2022-12-21T09:53:29.731Z"
   },
   {
    "duration": 5,
    "start_time": "2022-12-21T09:53:32.961Z"
   },
   {
    "duration": 13,
    "start_time": "2022-12-21T09:53:40.022Z"
   },
   {
    "duration": 1311,
    "start_time": "2022-12-21T09:54:50.717Z"
   },
   {
    "duration": 12,
    "start_time": "2022-12-21T09:55:24.661Z"
   },
   {
    "duration": 1178,
    "start_time": "2022-12-21T09:55:27.751Z"
   },
   {
    "duration": 10,
    "start_time": "2022-12-21T09:56:03.305Z"
   },
   {
    "duration": 47,
    "start_time": "2022-12-21T09:56:05.314Z"
   },
   {
    "duration": 12,
    "start_time": "2022-12-21T09:57:01.722Z"
   },
   {
    "duration": 39,
    "start_time": "2022-12-21T09:57:04.050Z"
   },
   {
    "duration": 11,
    "start_time": "2022-12-21T09:57:15.358Z"
   },
   {
    "duration": 58,
    "start_time": "2022-12-21T09:57:17.574Z"
   },
   {
    "duration": 10,
    "start_time": "2022-12-21T09:57:45.383Z"
   },
   {
    "duration": 45,
    "start_time": "2022-12-21T09:57:48.284Z"
   },
   {
    "duration": 10,
    "start_time": "2022-12-21T09:58:16.236Z"
   },
   {
    "duration": 51,
    "start_time": "2022-12-21T09:58:18.204Z"
   },
   {
    "duration": 10,
    "start_time": "2022-12-21T09:58:47.695Z"
   },
   {
    "duration": 46,
    "start_time": "2022-12-21T09:58:50.165Z"
   },
   {
    "duration": 11,
    "start_time": "2022-12-21T09:59:16.986Z"
   },
   {
    "duration": 58,
    "start_time": "2022-12-21T09:59:19.109Z"
   },
   {
    "duration": 11,
    "start_time": "2022-12-21T10:00:00.696Z"
   },
   {
    "duration": 56,
    "start_time": "2022-12-21T10:00:03.023Z"
   },
   {
    "duration": 11,
    "start_time": "2022-12-21T10:01:10.802Z"
   },
   {
    "duration": 55,
    "start_time": "2022-12-21T10:01:13.719Z"
   },
   {
    "duration": 11,
    "start_time": "2022-12-21T10:07:04.897Z"
   },
   {
    "duration": 26,
    "start_time": "2022-12-21T10:07:07.839Z"
   },
   {
    "duration": 11,
    "start_time": "2022-12-21T10:07:19.406Z"
   },
   {
    "duration": 49,
    "start_time": "2022-12-21T10:07:22.898Z"
   },
   {
    "duration": 12,
    "start_time": "2022-12-21T10:07:56.049Z"
   },
   {
    "duration": 39,
    "start_time": "2022-12-21T10:08:00.799Z"
   },
   {
    "duration": 10,
    "start_time": "2022-12-21T10:17:57.265Z"
   },
   {
    "duration": 26,
    "start_time": "2022-12-21T10:18:01.613Z"
   },
   {
    "duration": 79,
    "start_time": "2022-12-21T10:18:24.062Z"
   },
   {
    "duration": 28,
    "start_time": "2022-12-21T10:18:29.380Z"
   },
   {
    "duration": 19,
    "start_time": "2022-12-21T10:18:35.916Z"
   },
   {
    "duration": 4,
    "start_time": "2022-12-21T10:18:41.738Z"
   },
   {
    "duration": 15,
    "start_time": "2022-12-21T10:18:47.453Z"
   },
   {
    "duration": 26,
    "start_time": "2022-12-21T10:18:51.238Z"
   },
   {
    "duration": 11,
    "start_time": "2022-12-21T10:19:34.385Z"
   },
   {
    "duration": 23,
    "start_time": "2022-12-21T10:19:49.469Z"
   },
   {
    "duration": 11,
    "start_time": "2022-12-21T10:21:11.760Z"
   },
   {
    "duration": 356,
    "start_time": "2022-12-21T10:21:15.133Z"
   },
   {
    "duration": 12,
    "start_time": "2022-12-21T10:21:44.051Z"
   },
   {
    "duration": 24,
    "start_time": "2022-12-21T10:21:47.310Z"
   },
   {
    "duration": 11,
    "start_time": "2022-12-21T10:22:30.692Z"
   },
   {
    "duration": 325,
    "start_time": "2022-12-21T10:22:46.654Z"
   },
   {
    "duration": 12,
    "start_time": "2022-12-21T10:23:48.330Z"
   },
   {
    "duration": 28,
    "start_time": "2022-12-21T10:23:52.167Z"
   },
   {
    "duration": 10,
    "start_time": "2022-12-21T10:25:56.253Z"
   },
   {
    "duration": 38,
    "start_time": "2022-12-21T10:26:06.779Z"
   },
   {
    "duration": 12,
    "start_time": "2022-12-21T10:26:29.374Z"
   },
   {
    "duration": 44,
    "start_time": "2022-12-21T10:26:33.048Z"
   },
   {
    "duration": 15,
    "start_time": "2022-12-21T10:28:54.948Z"
   },
   {
    "duration": 26,
    "start_time": "2022-12-21T10:28:58.196Z"
   },
   {
    "duration": 11,
    "start_time": "2022-12-21T10:31:49.020Z"
   },
   {
    "duration": 2236,
    "start_time": "2022-12-21T10:31:52.744Z"
   },
   {
    "duration": 11,
    "start_time": "2022-12-21T10:37:49.185Z"
   },
   {
    "duration": 23,
    "start_time": "2022-12-21T10:38:03.631Z"
   },
   {
    "duration": 11,
    "start_time": "2022-12-21T10:38:23.256Z"
   },
   {
    "duration": 29,
    "start_time": "2022-12-21T10:38:33.757Z"
   },
   {
    "duration": 36,
    "start_time": "2022-12-21T10:39:11.030Z"
   },
   {
    "duration": 24,
    "start_time": "2022-12-21T10:42:03.451Z"
   },
   {
    "duration": 25,
    "start_time": "2022-12-21T10:42:08.192Z"
   },
   {
    "duration": 24,
    "start_time": "2022-12-21T10:43:23.656Z"
   },
   {
    "duration": 22,
    "start_time": "2022-12-21T10:43:32.078Z"
   },
   {
    "duration": 24,
    "start_time": "2022-12-21T10:46:56.946Z"
   },
   {
    "duration": 866,
    "start_time": "2022-12-21T10:47:02.614Z"
   },
   {
    "duration": 854,
    "start_time": "2022-12-21T10:48:32.625Z"
   },
   {
    "duration": 25,
    "start_time": "2022-12-21T10:50:59.428Z"
   },
   {
    "duration": 41,
    "start_time": "2022-12-21T10:51:33.591Z"
   },
   {
    "duration": 25,
    "start_time": "2022-12-21T10:55:24.672Z"
   },
   {
    "duration": 32,
    "start_time": "2022-12-21T10:55:29.157Z"
   },
   {
    "duration": 25,
    "start_time": "2022-12-21T10:55:43.976Z"
   },
   {
    "duration": 39,
    "start_time": "2022-12-21T10:55:48.960Z"
   },
   {
    "duration": 18,
    "start_time": "2022-12-21T10:56:37.405Z"
   },
   {
    "duration": 24,
    "start_time": "2022-12-21T10:56:40.975Z"
   },
   {
    "duration": 25,
    "start_time": "2022-12-21T10:56:43.642Z"
   },
   {
    "duration": 3,
    "start_time": "2022-12-21T10:57:46.300Z"
   },
   {
    "duration": 31,
    "start_time": "2022-12-21T10:58:16.578Z"
   },
   {
    "duration": 27,
    "start_time": "2022-12-21T11:00:26.767Z"
   },
   {
    "duration": 24,
    "start_time": "2022-12-21T11:00:33.894Z"
   },
   {
    "duration": 1533,
    "start_time": "2022-12-21T13:13:30.271Z"
   },
   {
    "duration": 178,
    "start_time": "2022-12-21T13:13:31.809Z"
   },
   {
    "duration": 41,
    "start_time": "2022-12-21T13:13:31.988Z"
   },
   {
    "duration": 5,
    "start_time": "2022-12-21T13:13:32.031Z"
   },
   {
    "duration": 18,
    "start_time": "2022-12-21T13:13:32.037Z"
   },
   {
    "duration": 10,
    "start_time": "2022-12-21T13:13:32.056Z"
   },
   {
    "duration": 40,
    "start_time": "2022-12-21T13:13:32.068Z"
   },
   {
    "duration": 4,
    "start_time": "2022-12-21T13:13:32.113Z"
   },
   {
    "duration": 5,
    "start_time": "2022-12-21T13:13:32.118Z"
   },
   {
    "duration": 26,
    "start_time": "2022-12-21T13:13:32.124Z"
   },
   {
    "duration": 26,
    "start_time": "2022-12-21T13:13:46.430Z"
   },
   {
    "duration": 2,
    "start_time": "2022-12-21T13:13:47.588Z"
   },
   {
    "duration": 24,
    "start_time": "2022-12-21T13:13:48.749Z"
   },
   {
    "duration": 29,
    "start_time": "2022-12-21T13:14:02.960Z"
   },
   {
    "duration": 162,
    "start_time": "2022-12-21T13:16:33.608Z"
   },
   {
    "duration": 106,
    "start_time": "2022-12-21T13:18:53.464Z"
   },
   {
    "duration": 6455,
    "start_time": "2022-12-21T13:20:57.471Z"
   },
   {
    "duration": 24,
    "start_time": "2022-12-21T13:21:03.928Z"
   },
   {
    "duration": 3,
    "start_time": "2022-12-21T13:21:13.307Z"
   },
   {
    "duration": 13,
    "start_time": "2022-12-21T13:21:35.844Z"
   },
   {
    "duration": 1268,
    "start_time": "2022-12-21T13:21:49.126Z"
   },
   {
    "duration": 53,
    "start_time": "2022-12-21T13:21:57.384Z"
   },
   {
    "duration": 122,
    "start_time": "2022-12-21T13:25:18.314Z"
   },
   {
    "duration": 74,
    "start_time": "2022-12-21T13:25:30.973Z"
   },
   {
    "duration": 32,
    "start_time": "2022-12-21T13:25:32.243Z"
   },
   {
    "duration": 7,
    "start_time": "2022-12-21T13:25:33.009Z"
   },
   {
    "duration": 19,
    "start_time": "2022-12-21T13:25:33.316Z"
   },
   {
    "duration": 9,
    "start_time": "2022-12-21T13:25:43.275Z"
   },
   {
    "duration": 16,
    "start_time": "2022-12-21T13:25:43.286Z"
   },
   {
    "duration": 5,
    "start_time": "2022-12-21T13:25:43.304Z"
   },
   {
    "duration": 2,
    "start_time": "2022-12-21T13:25:43.342Z"
   },
   {
    "duration": 26,
    "start_time": "2022-12-21T13:25:43.346Z"
   },
   {
    "duration": 31,
    "start_time": "2022-12-21T13:25:47.915Z"
   },
   {
    "duration": 2,
    "start_time": "2022-12-21T13:25:58.715Z"
   },
   {
    "duration": 39,
    "start_time": "2022-12-21T13:26:00.987Z"
   },
   {
    "duration": 6,
    "start_time": "2022-12-21T13:26:06.947Z"
   },
   {
    "duration": 22,
    "start_time": "2022-12-21T13:26:08.783Z"
   },
   {
    "duration": 16,
    "start_time": "2022-12-21T13:27:05.318Z"
   },
   {
    "duration": 24,
    "start_time": "2022-12-21T13:31:07.389Z"
   },
   {
    "duration": 27,
    "start_time": "2022-12-21T13:31:15.286Z"
   },
   {
    "duration": 4,
    "start_time": "2022-12-21T13:31:19.646Z"
   },
   {
    "duration": 23,
    "start_time": "2022-12-21T13:31:23.954Z"
   },
   {
    "duration": 41,
    "start_time": "2022-12-21T13:31:26.548Z"
   },
   {
    "duration": 32,
    "start_time": "2022-12-21T13:31:29.858Z"
   },
   {
    "duration": 6,
    "start_time": "2022-12-21T13:31:35.246Z"
   },
   {
    "duration": 22997,
    "start_time": "2022-12-21T13:31:37.863Z"
   },
   {
    "duration": 173,
    "start_time": "2022-12-21T13:32:25.778Z"
   },
   {
    "duration": 33,
    "start_time": "2022-12-21T13:32:50.234Z"
   },
   {
    "duration": 11,
    "start_time": "2022-12-21T13:33:28.624Z"
   },
   {
    "duration": 18,
    "start_time": "2022-12-21T13:34:25.376Z"
   },
   {
    "duration": 27,
    "start_time": "2022-12-21T13:34:35.045Z"
   },
   {
    "duration": 31,
    "start_time": "2022-12-21T13:34:50.315Z"
   },
   {
    "duration": 50,
    "start_time": "2022-12-21T13:35:41.074Z"
   },
   {
    "duration": 24,
    "start_time": "2022-12-21T13:37:40.428Z"
   },
   {
    "duration": 21,
    "start_time": "2022-12-21T13:37:59.851Z"
   },
   {
    "duration": 22,
    "start_time": "2022-12-21T13:38:31.279Z"
   },
   {
    "duration": 40,
    "start_time": "2022-12-21T13:44:09.396Z"
   },
   {
    "duration": 21,
    "start_time": "2022-12-21T13:44:30.814Z"
   },
   {
    "duration": 27,
    "start_time": "2022-12-21T13:44:39.765Z"
   },
   {
    "duration": 32,
    "start_time": "2022-12-21T13:44:43.323Z"
   },
   {
    "duration": 69,
    "start_time": "2022-12-21T13:44:54.936Z"
   },
   {
    "duration": 26,
    "start_time": "2022-12-21T13:55:22.467Z"
   },
   {
    "duration": 24,
    "start_time": "2022-12-21T13:56:37.324Z"
   },
   {
    "duration": 23,
    "start_time": "2022-12-21T13:57:01.611Z"
   },
   {
    "duration": 22,
    "start_time": "2022-12-21T13:57:15.883Z"
   },
   {
    "duration": 23,
    "start_time": "2022-12-21T13:57:38.833Z"
   },
   {
    "duration": 23,
    "start_time": "2022-12-21T13:57:48.463Z"
   },
   {
    "duration": 19,
    "start_time": "2022-12-21T13:58:03.574Z"
   },
   {
    "duration": 23,
    "start_time": "2022-12-21T13:59:36.164Z"
   },
   {
    "duration": 31,
    "start_time": "2022-12-21T14:00:05.104Z"
   },
   {
    "duration": 17,
    "start_time": "2022-12-21T14:00:43.122Z"
   },
   {
    "duration": 4,
    "start_time": "2022-12-21T14:00:47.002Z"
   },
   {
    "duration": 17,
    "start_time": "2022-12-21T14:00:49.779Z"
   },
   {
    "duration": 28,
    "start_time": "2022-12-21T14:00:53.373Z"
   },
   {
    "duration": 32,
    "start_time": "2022-12-21T14:00:55.405Z"
   },
   {
    "duration": 226,
    "start_time": "2022-12-21T14:01:08.783Z"
   },
   {
    "duration": 22,
    "start_time": "2022-12-21T14:06:25.167Z"
   },
   {
    "duration": 19,
    "start_time": "2022-12-21T14:06:58.576Z"
   },
   {
    "duration": 31,
    "start_time": "2022-12-21T14:07:02.047Z"
   },
   {
    "duration": 31,
    "start_time": "2022-12-21T14:07:05.942Z"
   },
   {
    "duration": 1491,
    "start_time": "2022-12-21T19:39:37.718Z"
   },
   {
    "duration": 99,
    "start_time": "2022-12-21T19:39:41.488Z"
   },
   {
    "duration": 3,
    "start_time": "2022-12-21T19:39:55.164Z"
   },
   {
    "duration": 23202,
    "start_time": "2022-12-21T19:39:55.690Z"
   },
   {
    "duration": 1265,
    "start_time": "2022-12-21T19:40:56.945Z"
   },
   {
    "duration": 1778,
    "start_time": "2022-12-21T19:40:58.338Z"
   },
   {
    "duration": 45,
    "start_time": "2022-12-21T19:41:04.598Z"
   },
   {
    "duration": 197,
    "start_time": "2022-12-21T19:41:09.229Z"
   },
   {
    "duration": 32,
    "start_time": "2022-12-21T19:41:10.798Z"
   },
   {
    "duration": 5,
    "start_time": "2022-12-21T19:41:15.640Z"
   },
   {
    "duration": 18,
    "start_time": "2022-12-21T19:41:20.953Z"
   },
   {
    "duration": 9,
    "start_time": "2022-12-21T19:41:23.032Z"
   },
   {
    "duration": 12,
    "start_time": "2022-12-21T19:41:24.860Z"
   },
   {
    "duration": 4,
    "start_time": "2022-12-21T19:41:26.500Z"
   },
   {
    "duration": 2,
    "start_time": "2022-12-21T19:41:30.042Z"
   },
   {
    "duration": 21,
    "start_time": "2022-12-21T19:41:32.459Z"
   },
   {
    "duration": 29,
    "start_time": "2022-12-21T19:41:38.411Z"
   },
   {
    "duration": 27,
    "start_time": "2022-12-21T19:41:47.728Z"
   },
   {
    "duration": 32,
    "start_time": "2022-12-21T19:42:22.800Z"
   },
   {
    "duration": 30,
    "start_time": "2022-12-21T19:42:43.930Z"
   },
   {
    "duration": 7,
    "start_time": "2022-12-21T19:42:48.528Z"
   },
   {
    "duration": 54,
    "start_time": "2022-12-21T19:43:05.371Z"
   },
   {
    "duration": 1218,
    "start_time": "2022-12-21T19:47:34.605Z"
   },
   {
    "duration": 1874,
    "start_time": "2022-12-21T19:47:35.825Z"
   },
   {
    "duration": 38,
    "start_time": "2022-12-21T19:47:37.701Z"
   },
   {
    "duration": 75,
    "start_time": "2022-12-21T19:47:37.741Z"
   },
   {
    "duration": 34,
    "start_time": "2022-12-21T19:47:37.818Z"
   },
   {
    "duration": 5,
    "start_time": "2022-12-21T19:47:37.854Z"
   },
   {
    "duration": 21,
    "start_time": "2022-12-21T19:47:37.860Z"
   },
   {
    "duration": 31,
    "start_time": "2022-12-21T19:47:37.883Z"
   },
   {
    "duration": 13,
    "start_time": "2022-12-21T19:47:37.916Z"
   },
   {
    "duration": 5,
    "start_time": "2022-12-21T19:47:37.932Z"
   },
   {
    "duration": 4,
    "start_time": "2022-12-21T19:47:37.938Z"
   },
   {
    "duration": 21,
    "start_time": "2022-12-21T19:47:37.944Z"
   },
   {
    "duration": 59,
    "start_time": "2022-12-21T19:47:37.967Z"
   },
   {
    "duration": 28,
    "start_time": "2022-12-21T19:47:38.028Z"
   },
   {
    "duration": 55,
    "start_time": "2022-12-21T19:47:38.058Z"
   },
   {
    "duration": 53,
    "start_time": "2022-12-21T19:48:07.976Z"
   },
   {
    "duration": 25,
    "start_time": "2022-12-21T19:49:39.016Z"
   },
   {
    "duration": 265,
    "start_time": "2022-12-21T19:50:13.047Z"
   },
   {
    "duration": 85,
    "start_time": "2022-12-21T19:54:12.290Z"
   },
   {
    "duration": 2,
    "start_time": "2022-12-21T19:54:25.014Z"
   },
   {
    "duration": 21,
    "start_time": "2022-12-21T19:56:41.435Z"
   },
   {
    "duration": 33,
    "start_time": "2022-12-21T19:56:45.456Z"
   },
   {
    "duration": 43,
    "start_time": "2022-12-21T19:56:48.533Z"
   },
   {
    "duration": 38,
    "start_time": "2022-12-21T19:56:54.907Z"
   },
   {
    "duration": 54,
    "start_time": "2022-12-21T20:02:25.865Z"
   },
   {
    "duration": 51,
    "start_time": "2022-12-21T20:03:10.767Z"
   },
   {
    "duration": 24,
    "start_time": "2022-12-21T20:03:36.626Z"
   },
   {
    "duration": 23,
    "start_time": "2022-12-21T20:04:20.594Z"
   },
   {
    "duration": 18,
    "start_time": "2022-12-21T20:05:12.656Z"
   },
   {
    "duration": 129,
    "start_time": "2022-12-21T20:06:51.855Z"
   },
   {
    "duration": 25,
    "start_time": "2022-12-21T20:08:15.625Z"
   },
   {
    "duration": 25,
    "start_time": "2022-12-21T20:09:21.495Z"
   },
   {
    "duration": 20,
    "start_time": "2022-12-21T20:09:31.266Z"
   },
   {
    "duration": 23,
    "start_time": "2022-12-21T20:10:27.775Z"
   },
   {
    "duration": 18,
    "start_time": "2022-12-21T20:11:02.335Z"
   },
   {
    "duration": 26,
    "start_time": "2022-12-21T20:11:31.297Z"
   },
   {
    "duration": 71,
    "start_time": "2022-12-21T20:12:10.823Z"
   },
   {
    "duration": 18,
    "start_time": "2022-12-21T20:12:26.977Z"
   },
   {
    "duration": 30,
    "start_time": "2022-12-21T20:12:35.387Z"
   },
   {
    "duration": 24,
    "start_time": "2022-12-21T20:13:18.069Z"
   },
   {
    "duration": 84,
    "start_time": "2022-12-21T20:13:45.277Z"
   },
   {
    "duration": 4,
    "start_time": "2022-12-21T20:13:51.505Z"
   },
   {
    "duration": 8,
    "start_time": "2022-12-21T20:16:08.683Z"
   },
   {
    "duration": 70,
    "start_time": "2022-12-21T20:16:43.347Z"
   },
   {
    "duration": 3,
    "start_time": "2022-12-21T20:17:23.930Z"
   },
   {
    "duration": 20,
    "start_time": "2022-12-21T20:17:38.455Z"
   },
   {
    "duration": 6,
    "start_time": "2022-12-21T20:18:23.225Z"
   },
   {
    "duration": 28,
    "start_time": "2022-12-21T20:19:33.030Z"
   },
   {
    "duration": 19,
    "start_time": "2022-12-21T20:20:24.640Z"
   },
   {
    "duration": 55,
    "start_time": "2022-12-21T20:20:29.341Z"
   },
   {
    "duration": 28,
    "start_time": "2022-12-21T20:20:42.509Z"
   },
   {
    "duration": 28,
    "start_time": "2022-12-21T20:20:43.352Z"
   },
   {
    "duration": 22,
    "start_time": "2022-12-21T20:21:02.825Z"
   },
   {
    "duration": 19,
    "start_time": "2022-12-21T20:21:09.471Z"
   },
   {
    "duration": 17,
    "start_time": "2022-12-21T20:21:28.395Z"
   },
   {
    "duration": 97,
    "start_time": "2022-12-21T20:21:30.552Z"
   },
   {
    "duration": 26,
    "start_time": "2022-12-21T20:22:42.953Z"
   },
   {
    "duration": 19,
    "start_time": "2022-12-21T20:23:15.570Z"
   },
   {
    "duration": 48,
    "start_time": "2022-12-21T20:23:35.510Z"
   },
   {
    "duration": 17,
    "start_time": "2022-12-21T20:24:11.171Z"
   },
   {
    "duration": 28,
    "start_time": "2022-12-21T20:24:21.062Z"
   },
   {
    "duration": 23,
    "start_time": "2022-12-21T20:24:48.083Z"
   },
   {
    "duration": 73,
    "start_time": "2022-12-21T20:24:51.141Z"
   },
   {
    "duration": 30,
    "start_time": "2022-12-21T20:25:47.878Z"
   },
   {
    "duration": 33,
    "start_time": "2022-12-21T20:26:58.450Z"
   },
   {
    "duration": 23,
    "start_time": "2022-12-21T20:29:55.784Z"
   },
   {
    "duration": 30,
    "start_time": "2022-12-21T20:30:09.580Z"
   },
   {
    "duration": 28,
    "start_time": "2022-12-21T20:30:29.142Z"
   },
   {
    "duration": 32,
    "start_time": "2022-12-21T20:31:06.371Z"
   },
   {
    "duration": 56,
    "start_time": "2022-12-21T20:31:07.321Z"
   },
   {
    "duration": 26,
    "start_time": "2022-12-21T20:31:42.422Z"
   },
   {
    "duration": 29,
    "start_time": "2022-12-21T20:31:57.322Z"
   },
   {
    "duration": 39,
    "start_time": "2022-12-21T20:32:06.233Z"
   },
   {
    "duration": 22,
    "start_time": "2022-12-21T20:32:19.752Z"
   },
   {
    "duration": 29,
    "start_time": "2022-12-21T20:34:23.983Z"
   },
   {
    "duration": 82,
    "start_time": "2022-12-21T20:35:49.473Z"
   },
   {
    "duration": 48,
    "start_time": "2022-12-21T20:36:05.086Z"
   },
   {
    "duration": 47,
    "start_time": "2022-12-21T20:37:16.235Z"
   },
   {
    "duration": 27,
    "start_time": "2022-12-21T20:38:03.890Z"
   },
   {
    "duration": 18,
    "start_time": "2022-12-21T20:38:29.441Z"
   },
   {
    "duration": 24,
    "start_time": "2022-12-21T20:39:18.541Z"
   },
   {
    "duration": 22,
    "start_time": "2022-12-21T20:39:53.462Z"
   },
   {
    "duration": 21,
    "start_time": "2022-12-21T20:40:16.291Z"
   },
   {
    "duration": 113,
    "start_time": "2022-12-21T20:40:25.624Z"
   },
   {
    "duration": 1738,
    "start_time": "2022-12-22T04:34:34.869Z"
   },
   {
    "duration": 7366,
    "start_time": "2022-12-22T04:34:37.036Z"
   },
   {
    "duration": 5,
    "start_time": "2022-12-22T04:40:17.487Z"
   },
   {
    "duration": 2142,
    "start_time": "2022-12-22T04:40:17.494Z"
   },
   {
    "duration": 141,
    "start_time": "2022-12-22T04:40:19.639Z"
   },
   {
    "duration": 0,
    "start_time": "2022-12-22T04:40:19.783Z"
   },
   {
    "duration": 0,
    "start_time": "2022-12-22T04:40:19.784Z"
   },
   {
    "duration": 0,
    "start_time": "2022-12-22T04:40:19.785Z"
   },
   {
    "duration": 0,
    "start_time": "2022-12-22T04:40:19.786Z"
   },
   {
    "duration": 0,
    "start_time": "2022-12-22T04:40:19.788Z"
   },
   {
    "duration": 0,
    "start_time": "2022-12-22T04:40:19.789Z"
   },
   {
    "duration": 0,
    "start_time": "2022-12-22T04:40:19.790Z"
   },
   {
    "duration": 0,
    "start_time": "2022-12-22T04:40:19.791Z"
   },
   {
    "duration": 0,
    "start_time": "2022-12-22T04:40:19.792Z"
   },
   {
    "duration": 0,
    "start_time": "2022-12-22T04:40:19.793Z"
   },
   {
    "duration": 0,
    "start_time": "2022-12-22T04:40:19.794Z"
   },
   {
    "duration": 0,
    "start_time": "2022-12-22T04:40:19.795Z"
   },
   {
    "duration": 0,
    "start_time": "2022-12-22T04:40:19.795Z"
   },
   {
    "duration": 0,
    "start_time": "2022-12-22T04:40:19.796Z"
   },
   {
    "duration": 0,
    "start_time": "2022-12-22T04:40:19.796Z"
   },
   {
    "duration": 0,
    "start_time": "2022-12-22T04:40:19.797Z"
   },
   {
    "duration": 0,
    "start_time": "2022-12-22T04:40:19.797Z"
   },
   {
    "duration": 0,
    "start_time": "2022-12-22T04:40:19.811Z"
   },
   {
    "duration": 0,
    "start_time": "2022-12-22T04:40:19.812Z"
   },
   {
    "duration": 0,
    "start_time": "2022-12-22T04:40:19.813Z"
   },
   {
    "duration": 0,
    "start_time": "2022-12-22T04:40:19.813Z"
   },
   {
    "duration": 0,
    "start_time": "2022-12-22T04:40:19.817Z"
   },
   {
    "duration": 0,
    "start_time": "2022-12-22T04:40:19.820Z"
   },
   {
    "duration": 0,
    "start_time": "2022-12-22T04:40:19.824Z"
   },
   {
    "duration": 0,
    "start_time": "2022-12-22T04:40:19.825Z"
   },
   {
    "duration": 0,
    "start_time": "2022-12-22T04:40:19.826Z"
   },
   {
    "duration": 0,
    "start_time": "2022-12-22T04:40:19.833Z"
   },
   {
    "duration": 0,
    "start_time": "2022-12-22T04:40:19.835Z"
   },
   {
    "duration": 0,
    "start_time": "2022-12-22T04:40:19.836Z"
   },
   {
    "duration": 0,
    "start_time": "2022-12-22T04:40:19.837Z"
   },
   {
    "duration": 0,
    "start_time": "2022-12-22T04:40:19.837Z"
   },
   {
    "duration": 0,
    "start_time": "2022-12-22T04:40:19.839Z"
   },
   {
    "duration": 0,
    "start_time": "2022-12-22T04:40:19.840Z"
   },
   {
    "duration": 0,
    "start_time": "2022-12-22T04:40:19.840Z"
   },
   {
    "duration": 0,
    "start_time": "2022-12-22T04:40:19.842Z"
   },
   {
    "duration": 0,
    "start_time": "2022-12-22T04:40:19.843Z"
   },
   {
    "duration": 0,
    "start_time": "2022-12-22T04:40:19.844Z"
   },
   {
    "duration": 0,
    "start_time": "2022-12-22T04:40:19.845Z"
   },
   {
    "duration": 0,
    "start_time": "2022-12-22T04:40:19.846Z"
   },
   {
    "duration": 1315,
    "start_time": "2022-12-22T04:40:53.038Z"
   },
   {
    "duration": 2220,
    "start_time": "2022-12-22T04:40:54.355Z"
   },
   {
    "duration": 58,
    "start_time": "2022-12-22T04:40:56.577Z"
   },
   {
    "duration": 112,
    "start_time": "2022-12-22T04:40:56.637Z"
   },
   {
    "duration": 38,
    "start_time": "2022-12-22T04:40:56.751Z"
   },
   {
    "duration": 5,
    "start_time": "2022-12-22T04:40:56.791Z"
   },
   {
    "duration": 59,
    "start_time": "2022-12-22T04:40:56.797Z"
   },
   {
    "duration": 25,
    "start_time": "2022-12-22T04:40:56.858Z"
   },
   {
    "duration": 23,
    "start_time": "2022-12-22T04:40:56.885Z"
   },
   {
    "duration": 22,
    "start_time": "2022-12-22T04:40:56.911Z"
   },
   {
    "duration": 15,
    "start_time": "2022-12-22T04:40:56.934Z"
   },
   {
    "duration": 32,
    "start_time": "2022-12-22T04:40:56.951Z"
   },
   {
    "duration": 42,
    "start_time": "2022-12-22T04:40:56.984Z"
   },
   {
    "duration": 31,
    "start_time": "2022-12-22T04:40:57.028Z"
   },
   {
    "duration": 73,
    "start_time": "2022-12-22T04:40:57.061Z"
   },
   {
    "duration": 14,
    "start_time": "2022-12-22T04:40:57.136Z"
   },
   {
    "duration": 24484,
    "start_time": "2022-12-22T04:40:57.152Z"
   },
   {
    "duration": 125699,
    "start_time": "2022-12-22T04:41:21.638Z"
   },
   {
    "duration": 53292,
    "start_time": "2022-12-22T04:43:27.339Z"
   },
   {
    "duration": 343,
    "start_time": "2022-12-22T04:44:20.632Z"
   },
   {
    "duration": 14,
    "start_time": "2022-12-22T04:44:20.977Z"
   },
   {
    "duration": 265,
    "start_time": "2022-12-22T04:44:20.992Z"
   },
   {
    "duration": 67,
    "start_time": "2022-12-22T04:44:21.259Z"
   },
   {
    "duration": 312,
    "start_time": "2022-12-22T04:44:21.328Z"
   },
   {
    "duration": 15,
    "start_time": "2022-12-22T04:44:21.642Z"
   },
   {
    "duration": 117,
    "start_time": "2022-12-22T04:44:21.659Z"
   },
   {
    "duration": 13,
    "start_time": "2022-12-22T04:44:21.778Z"
   },
   {
    "duration": 39,
    "start_time": "2022-12-22T04:44:21.797Z"
   },
   {
    "duration": 144,
    "start_time": "2022-12-22T04:44:21.837Z"
   },
   {
    "duration": 126295,
    "start_time": "2022-12-22T04:44:21.983Z"
   },
   {
    "duration": 205,
    "start_time": "2022-12-22T04:46:28.281Z"
   },
   {
    "duration": 15,
    "start_time": "2022-12-22T04:46:28.488Z"
   },
   {
    "duration": 23,
    "start_time": "2022-12-22T04:46:28.505Z"
   },
   {
    "duration": 359,
    "start_time": "2022-12-22T04:46:28.530Z"
   },
   {
    "duration": 49,
    "start_time": "2022-12-22T04:46:28.891Z"
   },
   {
    "duration": 34,
    "start_time": "2022-12-22T04:46:28.942Z"
   },
   {
    "duration": 142862,
    "start_time": "2022-12-22T04:46:28.977Z"
   },
   {
    "duration": 256,
    "start_time": "2022-12-22T04:48:51.841Z"
   },
   {
    "duration": 49,
    "start_time": "2022-12-22T04:48:52.099Z"
   },
   {
    "duration": 31,
    "start_time": "2022-12-22T04:48:52.149Z"
   },
   {
    "duration": 123096,
    "start_time": "2022-12-22T04:48:52.182Z"
   },
   {
    "duration": 290,
    "start_time": "2022-12-22T04:50:55.280Z"
   },
   {
    "duration": 1557,
    "start_time": "2022-12-22T06:40:37.815Z"
   },
   {
    "duration": 7770,
    "start_time": "2022-12-22T06:40:40.613Z"
   },
   {
    "duration": 1200,
    "start_time": "2022-12-22T06:41:01.142Z"
   },
   {
    "duration": 2040,
    "start_time": "2022-12-22T06:41:02.344Z"
   },
   {
    "duration": 45,
    "start_time": "2022-12-22T06:41:04.469Z"
   },
   {
    "duration": 113,
    "start_time": "2022-12-22T06:41:08.364Z"
   },
   {
    "duration": 34,
    "start_time": "2022-12-22T06:41:10.803Z"
   },
   {
    "duration": 5,
    "start_time": "2022-12-22T06:41:16.620Z"
   },
   {
    "duration": 136,
    "start_time": "2022-12-22T06:41:19.863Z"
   },
   {
    "duration": 18,
    "start_time": "2022-12-22T06:41:24.283Z"
   },
   {
    "duration": 9,
    "start_time": "2022-12-22T06:41:27.478Z"
   },
   {
    "duration": 12,
    "start_time": "2022-12-22T06:41:31.494Z"
   },
   {
    "duration": 7,
    "start_time": "2022-12-22T06:41:34.615Z"
   },
   {
    "duration": 20,
    "start_time": "2022-12-22T06:41:46.758Z"
   },
   {
    "duration": 36,
    "start_time": "2022-12-22T06:41:51.534Z"
   },
   {
    "duration": 27,
    "start_time": "2022-12-22T06:41:55.193Z"
   },
   {
    "duration": 37,
    "start_time": "2022-12-22T06:42:01.414Z"
   },
   {
    "duration": 7,
    "start_time": "2022-12-22T06:42:06.333Z"
   },
   {
    "duration": 183,
    "start_time": "2022-12-22T06:42:34.421Z"
   },
   {
    "duration": 13,
    "start_time": "2022-12-22T06:42:37.607Z"
   },
   {
    "duration": 219,
    "start_time": "2022-12-22T06:42:38.766Z"
   },
   {
    "duration": 46,
    "start_time": "2022-12-22T06:42:39.909Z"
   },
   {
    "duration": 279,
    "start_time": "2022-12-22T06:42:41.183Z"
   },
   {
    "duration": 14,
    "start_time": "2022-12-22T06:42:43.932Z"
   },
   {
    "duration": 81,
    "start_time": "2022-12-22T06:42:44.814Z"
   },
   {
    "duration": 3,
    "start_time": "2022-12-22T06:42:46.114Z"
   },
   {
    "duration": 20,
    "start_time": "2022-12-22T06:42:47.053Z"
   },
   {
    "duration": 116,
    "start_time": "2022-12-22T06:42:52.005Z"
   },
   {
    "duration": 110008,
    "start_time": "2022-12-22T06:42:55.721Z"
   },
   {
    "duration": 123,
    "start_time": "2022-12-22T06:45:02.309Z"
   },
   {
    "duration": 14,
    "start_time": "2022-12-22T06:45:08.607Z"
   },
   {
    "duration": 18,
    "start_time": "2022-12-22T06:45:10.709Z"
   },
   {
    "duration": 351,
    "start_time": "2022-12-22T06:45:15.928Z"
   },
   {
    "duration": 43,
    "start_time": "2022-12-22T06:45:46.062Z"
   },
   {
    "duration": 19,
    "start_time": "2022-12-22T06:46:13.729Z"
   },
   {
    "duration": 11,
    "start_time": "2022-12-22T06:46:35.484Z"
   },
   {
    "duration": 16,
    "start_time": "2022-12-22T06:53:12.463Z"
   },
   {
    "duration": 19,
    "start_time": "2022-12-22T06:53:27.907Z"
   },
   {
    "duration": 16,
    "start_time": "2022-12-22T06:55:04.466Z"
   },
   {
    "duration": 6,
    "start_time": "2022-12-22T06:56:11.561Z"
   },
   {
    "duration": 16,
    "start_time": "2022-12-22T06:56:20.241Z"
   },
   {
    "duration": 40,
    "start_time": "2022-12-22T07:00:26.984Z"
   },
   {
    "duration": 38,
    "start_time": "2022-12-22T07:00:39.391Z"
   },
   {
    "duration": 30,
    "start_time": "2022-12-22T07:01:05.004Z"
   },
   {
    "duration": 234,
    "start_time": "2022-12-22T07:11:43.209Z"
   },
   {
    "duration": 5,
    "start_time": "2022-12-22T07:17:44.978Z"
   },
   {
    "duration": 4,
    "start_time": "2022-12-22T07:36:49.752Z"
   },
   {
    "duration": 2024,
    "start_time": "2022-12-22T07:36:49.757Z"
   },
   {
    "duration": 3,
    "start_time": "2022-12-22T07:36:51.783Z"
   },
   {
    "duration": 67,
    "start_time": "2022-12-22T07:36:51.787Z"
   },
   {
    "duration": 26,
    "start_time": "2022-12-22T07:36:51.857Z"
   },
   {
    "duration": 4,
    "start_time": "2022-12-22T07:36:51.885Z"
   },
   {
    "duration": 18,
    "start_time": "2022-12-22T07:36:51.890Z"
   },
   {
    "duration": 10,
    "start_time": "2022-12-22T07:36:51.910Z"
   },
   {
    "duration": 10,
    "start_time": "2022-12-22T07:36:51.922Z"
   },
   {
    "duration": 3,
    "start_time": "2022-12-22T07:36:51.933Z"
   },
   {
    "duration": 11,
    "start_time": "2022-12-22T07:36:51.938Z"
   },
   {
    "duration": 38,
    "start_time": "2022-12-22T07:36:51.951Z"
   },
   {
    "duration": 29,
    "start_time": "2022-12-22T07:36:51.991Z"
   },
   {
    "duration": 26,
    "start_time": "2022-12-22T07:36:52.021Z"
   },
   {
    "duration": 51,
    "start_time": "2022-12-22T07:36:52.049Z"
   },
   {
    "duration": 5,
    "start_time": "2022-12-22T07:36:52.101Z"
   },
   {
    "duration": 21660,
    "start_time": "2022-12-22T07:36:52.107Z"
   },
   {
    "duration": 111391,
    "start_time": "2022-12-22T07:37:13.769Z"
   },
   {
    "duration": 27242,
    "start_time": "2022-12-22T07:39:05.161Z"
   },
   {
    "duration": 337,
    "start_time": "2022-12-22T07:39:32.405Z"
   },
   {
    "duration": 12,
    "start_time": "2022-12-22T07:39:32.743Z"
   },
   {
    "duration": 228,
    "start_time": "2022-12-22T07:39:32.757Z"
   },
   {
    "duration": 46,
    "start_time": "2022-12-22T07:39:32.987Z"
   },
   {
    "duration": 281,
    "start_time": "2022-12-22T07:39:33.034Z"
   },
   {
    "duration": 11,
    "start_time": "2022-12-22T07:39:33.317Z"
   },
   {
    "duration": 90,
    "start_time": "2022-12-22T07:39:33.329Z"
   },
   {
    "duration": 3,
    "start_time": "2022-12-22T07:39:33.421Z"
   },
   {
    "duration": 20,
    "start_time": "2022-12-22T07:39:33.426Z"
   },
   {
    "duration": 127,
    "start_time": "2022-12-22T07:39:33.449Z"
   },
   {
    "duration": 110108,
    "start_time": "2022-12-22T07:39:33.578Z"
   },
   {
    "duration": 136,
    "start_time": "2022-12-22T07:41:23.688Z"
   },
   {
    "duration": 16,
    "start_time": "2022-12-22T07:41:23.826Z"
   },
   {
    "duration": 28,
    "start_time": "2022-12-22T07:41:23.845Z"
   },
   {
    "duration": 272,
    "start_time": "2022-12-22T07:41:23.875Z"
   },
   {
    "duration": 5,
    "start_time": "2022-12-22T07:41:24.148Z"
   },
   {
    "duration": 44,
    "start_time": "2022-12-22T07:41:24.155Z"
   },
   {
    "duration": 239,
    "start_time": "2022-12-22T07:41:24.201Z"
   },
   {
    "duration": 25,
    "start_time": "2022-12-22T07:41:24.442Z"
   },
   {
    "duration": 44,
    "start_time": "2022-12-22T07:41:24.469Z"
   },
   {
    "duration": 126636,
    "start_time": "2022-12-22T07:41:24.515Z"
   },
   {
    "duration": 288,
    "start_time": "2022-12-22T07:43:31.153Z"
   },
   {
    "duration": 27,
    "start_time": "2022-12-22T07:43:31.444Z"
   },
   {
    "duration": 45,
    "start_time": "2022-12-22T07:43:31.473Z"
   },
   {
    "duration": 103318,
    "start_time": "2022-12-22T07:43:31.520Z"
   },
   {
    "duration": 272,
    "start_time": "2022-12-22T07:45:14.840Z"
   }
  ],
  "kernelspec": {
   "display_name": "Python 3 (ipykernel)",
   "language": "python",
   "name": "python3"
  },
  "language_info": {
   "codemirror_mode": {
    "name": "ipython",
    "version": 3
   },
   "file_extension": ".py",
   "mimetype": "text/x-python",
   "name": "python",
   "nbconvert_exporter": "python",
   "pygments_lexer": "ipython3",
   "version": "3.9.12"
  },
  "toc": {
   "base_numbering": 1,
   "nav_menu": {},
   "number_sections": true,
   "sideBar": true,
   "skip_h1_title": true,
   "title_cell": "Содержание",
   "title_sidebar": "Contents",
   "toc_cell": true,
   "toc_position": {},
   "toc_section_display": true,
   "toc_window_display": true
  }
 },
 "nbformat": 4,
 "nbformat_minor": 2
}
